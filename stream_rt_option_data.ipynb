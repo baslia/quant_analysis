{
 "cells": [
  {
   "cell_type": "code",
   "execution_count": null,
   "id": "initial_id",
   "metadata": {
    "collapsed": true
   },
   "outputs": [],
   "source": [
    "# Import and set up\n",
    "from datetime import date\n",
    "import thetadata.client\n",
    "from thetadata import (\n",
    "    Quote,\n",
    "    StreamMsg,\n",
    "    ThetaClient,\n",
    "    OptionRight,\n",
    "    StreamMsgType\n",
    ")\n",
    "from thetadata import StreamResponseType as ResponseType"
   ]
  }
 ],
 "metadata": {
  "kernelspec": {
   "display_name": "Python 3",
   "language": "python",
   "name": "python3"
  },
  "language_info": {
   "codemirror_mode": {
    "name": "ipython",
    "version": 2
   },
   "file_extension": ".py",
   "mimetype": "text/x-python",
   "name": "python",
   "nbconvert_exporter": "python",
   "pygments_lexer": "ipython2",
   "version": "2.7.6"
  }
 },
 "nbformat": 4,
 "nbformat_minor": 5
}
