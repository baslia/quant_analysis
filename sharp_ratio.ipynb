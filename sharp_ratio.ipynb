{
 "cells": [
  {
   "cell_type": "markdown",
   "source": [
    "## How to use the Sharpe ratio for risk-adjusted returns\n",
    "\n",
    "In today’s issue, I’m going to show you how to use the most popular performance metric in investing: the Sharpe ratio.\n",
    "\n",
    "The Sharpe ratio tells you the “risk-adjusted” return of an investment. In other words, “how much return do you get for every unit of risk you take.” It’s a great way to compare strategies because it normalizes their returns by risk.\n",
    "\n",
    "If you’re investing or trading, you might want to consider the Sharpe ratio as one of your performance metrics.\n",
    "\n",
    "## Without considering the Sharpe ratio, you miss important information about the performance.\n",
    "\n",
    "Here’s an example:\n",
    "\n",
    "Stock A returned 20%\n",
    "Stock B returned 25%\n",
    "Which is the better investment?\n",
    "\n",
    "You’re going to say Stock B because it returned more. What if I told you Stock A has 10% volatility and Stock B has 70% volatility? Then it’s not so clear. The Sharpe ratio takes this into account. A Sharpe ratio over 1 is generally considered “good.”\n",
    "\n",
    "By the end of this newsletter, you’ll know:\n",
    "\n",
    "How to get stock price data\n",
    "How to compute the Sharpe ratio\n",
    "How to compare two investment options\n",
    "All using Python."
   ],
   "metadata": {
    "collapsed": false
   }
  },
  {
   "cell_type": "code",
   "execution_count": 4,
   "outputs": [
    {
     "name": "stdout",
     "output_type": "stream",
     "text": [
      "[*********************100%***********************]  2 of 2 completed\n"
     ]
    }
   ],
   "source": [
    "# Get the data\n",
    "import yfinance as yf\n",
    "import numpy as np\n",
    "\n",
    "data = yf.download([\"AAPL\", \"SPY\"], start=\"2017-01-01\", end=\"2022-06-30\")\n",
    "closes = data['Adj Close']\n",
    "spy_returns = closes.SPY.pct_change().dropna()\n",
    "aapl_returns = closes.AAPL.pct_change().dropna()"
   ],
   "metadata": {
    "collapsed": false,
    "ExecuteTime": {
     "start_time": "2023-04-12T08:04:12.358671Z",
     "end_time": "2023-04-12T08:04:13.143652Z"
    }
   }
  },
  {
   "cell_type": "markdown",
   "source": [
    "With yfinance, you can download data for more than one stock at a time. Grab data for both SPY and AAPL. With yfinance, you can download data for more than one stock at a time. Grab data for both SPY and AAPL.\n",
    "\n",
    "This gives you a MultiIndex DataFrame. There’s one extra line of code we need to build the returns.\n",
    "\n",
    "closes = data['Adj Close']\n",
    "spy_returns = closes.SPY.pct_change().dropna()\n",
    "aapl_returns = closes.AAPL.pct_change().dropna()"
   ],
   "metadata": {
    "collapsed": false
   }
  },
  {
   "cell_type": "code",
   "execution_count": 5,
   "outputs": [],
   "source": [
    "# Compute the Sharpe ratio\n",
    "\n",
    "def sharpe_ratio(returns, adjustment_factor=0.0):\n",
    "    \"\"\"\n",
    "    Determines the Sharpe ratio of a strategy.\n",
    "\n",
    "    Parameters\n",
    "    ----------\n",
    "    returns : pd.Series or np.ndarray\n",
    "        Daily returns of the strategy, noncumulative.\n",
    "    adjustment_factor : int, float\n",
    "        Constant daily benchmark return throughout the period.\n",
    "\n",
    "    Returns\n",
    "    -------\n",
    "    sharpe_ratio : float\n",
    "\n",
    "    Note\n",
    "    -----\n",
    "    See https://en.wikipedia.org/wiki/Sharpe_ratio for more details.\n",
    "    \"\"\"\n",
    "    returns_risk_adj = returns - adjustment_factor\n",
    "    return (\n",
    "        returns_risk_adj.mean() / returns_risk_adj.std()\n",
    "    ) * np.sqrt(252)"
   ],
   "metadata": {
    "collapsed": false,
    "ExecuteTime": {
     "start_time": "2023-04-12T08:04:15.973562Z",
     "end_time": "2023-04-12T08:04:15.976559Z"
    }
   }
  },
  {
   "cell_type": "markdown",
   "source": [
    "The function takes a series of daily returns and subtracts an adjustment factor. In the original work by William Sharpe, the adjustment factor was the risk-free rate. (Since the risk-free rate has been near 0 for almost a decade, I don’t consider it in the analysis.)\n",
    "\n",
    "Then, the function divides the mean return by the standard deviation of return. Since the function accepts daily returns, you can annualize it by multiplying by the square root of the number of trading days in the year."
   ],
   "metadata": {
    "collapsed": false
   }
  },
  {
   "cell_type": "code",
   "execution_count": 7,
   "outputs": [
    {
     "name": "stdout",
     "output_type": "stream",
     "text": [
      "0.6773011874814024\n",
      "1.115688061390821\n"
     ]
    }
   ],
   "source": [
    "# Compare investment options\n",
    "# sharpe ratio for SPY\n",
    "print(sharpe_ratio(spy_returns))\n",
    "\n",
    "# sharpe ratio for AAPL\n",
    "print(sharpe_ratio(aapl_returns))"
   ],
   "metadata": {
    "collapsed": false,
    "ExecuteTime": {
     "start_time": "2023-04-12T08:04:43.305468Z",
     "end_time": "2023-04-12T08:04:43.308818Z"
    }
   }
  },
  {
   "cell_type": "markdown",
   "source": [
    "The Sharpe ratio for AAPL is higher than for SPY. That means you got more return for every unit of risk and might be considered “better.”\n",
    "\n",
    "It’s always useful to look at performance metrics through time because they are never static. It’s easy with Python.\n",
    "\n"
   ],
   "metadata": {
    "collapsed": false
   }
  },
  {
   "cell_type": "code",
   "execution_count": 8,
   "outputs": [
    {
     "data": {
      "text/plain": "<AxesSubplot:xlabel='Date'>"
     },
     "execution_count": 8,
     "metadata": {},
     "output_type": "execute_result"
    },
    {
     "data": {
      "text/plain": "<Figure size 432x288 with 1 Axes>",
      "image/png": "[encoded data removed]"
     },
     "metadata": {
      "needs_background": "light"
     },
     "output_type": "display_data"
    }
   ],
   "source": [
    "aapl_returns.rolling(30).apply(sharpe_ratio).plot()"
   ],
   "metadata": {
    "collapsed": false,
    "ExecuteTime": {
     "start_time": "2023-04-12T08:05:14.369809Z",
     "end_time": "2023-04-12T08:05:15.113643Z"
    }
   }
  },
  {
   "cell_type": "code",
   "execution_count": 9,
   "outputs": [
    {
     "data": {
      "text/plain": "<AxesSubplot:>"
     },
     "execution_count": 9,
     "metadata": {},
     "output_type": "execute_result"
    },
    {
     "data": {
      "text/plain": "<Figure size 432x288 with 1 Axes>",
      "image/png": "[encoded data removed]"
     },
     "metadata": {
      "needs_background": "light"
     },
     "output_type": "display_data"
    }
   ],
   "source": [
    "# Get the distribution of the sharp ratio\n",
    "aapl_returns.rolling(30).apply(sharpe_ratio).hist(bins=50)"
   ],
   "metadata": {
    "collapsed": false,
    "ExecuteTime": {
     "start_time": "2023-04-12T08:06:04.384106Z",
     "end_time": "2023-04-12T08:06:04.554332Z"
    }
   }
  },
  {
   "cell_type": "code",
   "execution_count": 10,
   "outputs": [
    {
     "data": {
      "text/plain": "<AxesSubplot:>"
     },
     "execution_count": 10,
     "metadata": {},
     "output_type": "execute_result"
    },
    {
     "data": {
      "text/plain": "<Figure size 432x288 with 1 Axes>",
      "image/png": "[encoded data removed]"
     },
     "metadata": {
      "needs_background": "light"
     },
     "output_type": "display_data"
    }
   ],
   "source": [
    "# Subtract the SPY Sharpe ratio from the AAPL Sharpe ratio and plot the result as a histogram.\n",
    "\n",
    "(\n",
    "    aapl_returns.rolling(30).apply(sharpe_ratio)\n",
    "    - spy_returns.rolling(30).apply(sharpe_ratio)\n",
    ").hist(bins=50)"
   ],
   "metadata": {
    "collapsed": false,
    "ExecuteTime": {
     "start_time": "2023-04-12T08:06:26.158331Z",
     "end_time": "2023-04-12T08:06:26.214739Z"
    }
   }
  },
  {
   "cell_type": "code",
   "execution_count": null,
   "outputs": [],
   "source": [],
   "metadata": {
    "collapsed": false
   }
  }
 ],
 "metadata": {
  "kernelspec": {
   "display_name": "Python 3",
   "language": "python",
   "name": "python3"
  },
  "language_info": {
   "codemirror_mode": {
    "name": "ipython",
    "version": 2
   },
   "file_extension": ".py",
   "mimetype": "text/x-python",
   "name": "python",
   "nbconvert_exporter": "python",
   "pygments_lexer": "ipython2",
   "version": "2.7.6"
  }
 },
 "nbformat": 4,
 "nbformat_minor": 0
}
