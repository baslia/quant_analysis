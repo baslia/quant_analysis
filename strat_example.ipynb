{
 "cells": [
  {
   "cell_type": "markdown",
   "source": [
    "# How to establish a strategy with really strong 57% returns\n",
    "\n",
    "Asset class trend-following is a strategy that takes uses momentum and moving averages. It identifies periods of potential outperformance to minimize volatility and drawdowns.\n",
    "\n",
    "It was first introduced by Meb Faber and widely accepted in academia.\n",
    "\n",
    "Professionals apply asset class trend-following by incorporating momentum filters for different asset classes. They use it to stay invested in asset classes that are performing well while avoiding those with higher risk.\n",
    "\n",
    "By understanding and implementing this strategy, you can manage risk-adjusted returns. It helps achieve a balance of equity-like returns with bond-like volatility and drawdowns."
   ],
   "metadata": {
    "collapsed": false
   },
   "id": "6d3b7f1246d96bf3"
  },
  {
   "cell_type": "code",
   "execution_count": 1,
   "outputs": [],
   "source": [
    "# We’ll use the Zipline backtesting framework to assess the strategy. PyFolio is great for risk and performance analysis.\n",
    "\n",
    "import warnings\n",
    "warnings.filterwarnings(\"ignore\")\n",
    "\n",
    "import pandas as pd\n",
    "\n",
    "from zipline import run_algorithm\n",
    "from zipline.api import (\n",
    "    attach_pipeline,\n",
    "    date_rules,\n",
    "    order_target_percent,\n",
    "    pipeline_output,\n",
    "    record,\n",
    "    schedule_function,\n",
    "    symbol,\n",
    "    time_rules,\n",
    "    get_open_orders,\n",
    ")\n",
    "from zipline.finance import commission, slippage\n",
    "from zipline.pipeline import Pipeline\n",
    "from zipline.pipeline.factors import SimpleMovingAverage\n",
    "from zipline.pipeline.data import USEquityPricing\n",
    "\n",
    "import pyfolio as pf"
   ],
   "metadata": {
    "collapsed": false,
    "ExecuteTime": {
     "end_time": "2023-07-29T13:37:15.768937Z",
     "start_time": "2023-07-29T13:37:13.803296Z"
    }
   },
   "id": "ff0d9330a6891322"
  },
  {
   "cell_type": "markdown",
   "source": [
    "## Set up the strategy code\n",
    "\n",
    "Start with building the function that’s called at the beginning of the backtest. The strategy logic happens in the next function."
   ],
   "metadata": {
    "collapsed": false
   },
   "id": "214d94c431440b16"
  },
  {
   "cell_type": "code",
   "execution_count": 2,
   "outputs": [],
   "source": [
    "def initialize(context):\n",
    "    context.symbols = [\n",
    "        symbol(\"SPY\"),\n",
    "        symbol(\"EFA\"),\n",
    "        symbol(\"IEF\"),\n",
    "        symbol(\"VNQ\"),\n",
    "        symbol(\"GSG\"),\n",
    "    ]\n",
    "    context.sma = {}\n",
    "    context.period = 10 * 21\n",
    "\n",
    "    for asset in context.symbols: \n",
    "        context.sma[asset] = SimpleMovingAverage(\n",
    "            inputs=[USEquityPricing.close],\n",
    "            window_length=context.period\n",
    "        )\n",
    "\n",
    "    schedule_function(\n",
    "        func=rebalance,\n",
    "        date_rule=date_rules.month_start(),\n",
    "        time_rule=time_rules.market_open(minutes=1),\n",
    "    )\n",
    "\n",
    "    context.set_commission(\n",
    "        commission.PerShare(cost=0.01, min_trade_cost=1.00)\n",
    "    )\n",
    "    context.set_slippage(slippage.VolumeShareSlippage())\n",
    "# The logic is straightforward: For each ETF representing an asset class, calculate the 10-month simple moving average using the closing price.\n",
    "\n",
    "# This is a long-term strategy that rebalances at the market open on the first day of the month. Zipline’s schedule function makes it simple to set this up. Note we schedule a function called rebalance to run on this schedule. You’ll create it next.\n",
    "\n",
    "# Finally, include realistic commission and slippage models."
   ],
   "metadata": {
    "collapsed": false,
    "ExecuteTime": {
     "end_time": "2023-07-29T13:38:22.770528Z",
     "start_time": "2023-07-29T13:38:22.762667Z"
    }
   },
   "id": "841f8e56d0d77ad"
  },
  {
   "cell_type": "code",
   "execution_count": null,
   "outputs": [],
   "source": [],
   "metadata": {
    "collapsed": false
   },
   "id": "6cb95fadd7258d0a"
  }
 ],
 "metadata": {
  "kernelspec": {
   "display_name": "Python 3",
   "language": "python",
   "name": "python3"
  },
  "language_info": {
   "codemirror_mode": {
    "name": "ipython",
    "version": 2
   },
   "file_extension": ".py",
   "mimetype": "text/x-python",
   "name": "python",
   "nbconvert_exporter": "python",
   "pygments_lexer": "ipython2",
   "version": "2.7.6"
  }
 },
 "nbformat": 4,
 "nbformat_minor": 5
}
