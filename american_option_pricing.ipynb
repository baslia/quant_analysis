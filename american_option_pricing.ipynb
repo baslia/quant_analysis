{
 "cells": [
  {
   "cell_type": "code",
   "execution_count": 3,
   "metadata": {
    "collapsed": true,
    "ExecuteTime": {
     "start_time": "2023-04-01T18:23:10.543310Z",
     "end_time": "2023-04-01T18:23:10.961729Z"
    }
   },
   "outputs": [],
   "source": [
    "import numpy as np"
   ]
  },
  {
   "cell_type": "markdown",
   "source": [
    "These are the steps:\n",
    "\n",
    "1. Calculate the time interval (dt) and the up (u) and down (d) factors based on the volatility and time interval.\n",
    "\n",
    "2. Compute the risk-neutral probability p using the interest rate, up, and down factors.\n",
    "\n",
    "3. Create the binomial price tree, filling it with the possible prices of the underlying asset at each time step.\n",
    "\n",
    "4. Calculate the option value at the last time step (the expiration date) using the price tree.\n",
    "\n",
    "5. Traverse the tree backward, comparing the value of exercising the option with the value of holding it (update the option tree with the maximum of these two values).\n",
    "\n",
    "6. The estimated option price is the value at the root of the option tree (i.e., option_tree[0, 0])."
   ],
   "metadata": {
    "collapsed": false
   }
  },
  {
   "cell_type": "code",
   "execution_count": 1,
   "outputs": [],
   "source": [
    "def american_option_pricer(spot, strike, rate, vol, expiry, steps, option_type):\n",
    "    # Calculate the time interval and the up and down factors\n",
    "    dt = expiry / steps\n",
    "    u = np.exp(vol * np.sqrt(dt))\n",
    "    d = 1 / u\n",
    "\n",
    "    # Calculate the risk-neutral probability\n",
    "    p = (np.exp(rate * dt) - d) / (u - d)\n",
    "\n",
    "    # Create the binomial price tree\n",
    "    price_tree = np.zeros((steps + 1, steps + 1))\n",
    "    for i in range(steps + 1):\n",
    "        price_tree[i, -1] = spot * (u ** (steps - i)) * (d**i)\n",
    "\n",
    "    # Calculate the option value at each node\n",
    "    option_tree = np.zeros_like(price_tree)\n",
    "    if option_type.lower() == \"call\":\n",
    "        option_tree[:, -1] = np.maximum(price_tree[:, -1] - strike, 0)\n",
    "    elif option_type.lower() == \"put\":\n",
    "        option_tree[:, -1] = np.maximum(strike - price_tree[:, -1], 0)\n",
    "    else:\n",
    "        raise ValueError(\"Option type must be either 'call' or 'put'.\")\n",
    "\n",
    "    # Traverse the tree backward to find the option price today\n",
    "    for t in range(steps - 1, -1, -1):\n",
    "        for i in range(t + 1):\n",
    "            exercise = 0\n",
    "            if option_type.lower() == \"call\":\n",
    "                exercise = price_tree[i, t] - strike\n",
    "            elif option_type.lower() == \"put\":\n",
    "                exercise = strike - price_tree[i, t]\n",
    "\n",
    "            hold = np.exp(-rate * dt) * (\n",
    "                p * option_tree[i, t + 1] + (1 - p) * option_tree[i + 1, t + 1]\n",
    "            )\n",
    "            option_tree[i, t] = np.maximum(exercise, hold)\n",
    "\n",
    "    return option_tree[0, 0]"
   ],
   "metadata": {
    "collapsed": false,
    "ExecuteTime": {
     "start_time": "2023-04-01T18:22:06.937041Z",
     "end_time": "2023-04-01T18:22:06.940075Z"
    }
   }
  },
  {
   "cell_type": "code",
   "execution_count": 6,
   "outputs": [
    {
     "data": {
      "text/plain": "10.542838907149742"
     },
     "execution_count": 6,
     "metadata": {},
     "output_type": "execute_result"
    }
   ],
   "source": [
    "option_price = american_option_pricer(\n",
    "    spot=55.0,\n",
    "    strike=50.0,\n",
    "    rate=0.05,\n",
    "    vol=0.3,\n",
    "    expiry=1.0,\n",
    "    steps=100,\n",
    "    option_type=\"call\",\n",
    ")\n",
    "option_price\n"
   ],
   "metadata": {
    "collapsed": false,
    "ExecuteTime": {
     "start_time": "2023-04-01T18:24:22.530289Z",
     "end_time": "2023-04-01T18:24:22.537060Z"
    }
   }
  }
 ],
 "metadata": {
  "kernelspec": {
   "display_name": "Python 3",
   "language": "python",
   "name": "python3"
  },
  "language_info": {
   "codemirror_mode": {
    "name": "ipython",
    "version": 2
   },
   "file_extension": ".py",
   "mimetype": "text/x-python",
   "name": "python",
   "nbconvert_exporter": "python",
   "pygments_lexer": "ipython2",
   "version": "2.7.6"
  }
 },
 "nbformat": 4,
 "nbformat_minor": 0
}
