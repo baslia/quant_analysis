{
 "cells": [
  {
   "cell_type": "code",
   "execution_count": 1,
   "metadata": {
    "collapsed": true,
    "ExecuteTime": {
     "start_time": "2023-04-08T07:40:02.273582Z",
     "end_time": "2023-04-08T07:40:04.548439Z"
    }
   },
   "outputs": [],
   "source": [
    "%matplotlib inline\n",
    "\n",
    "import pandas as pd\n",
    "import numpy as np\n",
    "from scipy.stats import norm\n",
    "import matplotlib.pyplot as plt\n",
    "\n",
    "import yfinance as yf"
   ]
  },
  {
   "cell_type": "code",
   "execution_count": 6,
   "outputs": [
    {
     "name": "stdout",
     "output_type": "stream",
     "text": [
      "[*********************100%***********************]  4 of 4 completed\n"
     ]
    },
    {
     "data": {
      "text/plain": "                 AAPL          C         DIS        META\nDate                                                    \n2018-01-02  43.064999  74.360001  111.800003  181.419998\n2018-01-03  43.057499  74.589996  112.279999  184.669998\n2018-01-04  43.257500  75.510002  112.230003  184.330002\n2018-01-05  43.750000  75.410004  111.620003  186.850006\n2018-01-08  43.587502  74.529999  110.019997  188.279999",
      "text/html": "<div>\n<style scoped>\n    .dataframe tbody tr th:only-of-type {\n        vertical-align: middle;\n    }\n\n    .dataframe tbody tr th {\n        vertical-align: top;\n    }\n\n    .dataframe thead th {\n        text-align: right;\n    }\n</style>\n<table border=\"1\" class=\"dataframe\">\n  <thead>\n    <tr style=\"text-align: right;\">\n      <th></th>\n      <th>AAPL</th>\n      <th>C</th>\n      <th>DIS</th>\n      <th>META</th>\n    </tr>\n    <tr>\n      <th>Date</th>\n      <th></th>\n      <th></th>\n      <th></th>\n      <th></th>\n    </tr>\n  </thead>\n  <tbody>\n    <tr>\n      <th>2018-01-02</th>\n      <td>43.064999</td>\n      <td>74.360001</td>\n      <td>111.800003</td>\n      <td>181.419998</td>\n    </tr>\n    <tr>\n      <th>2018-01-03</th>\n      <td>43.057499</td>\n      <td>74.589996</td>\n      <td>112.279999</td>\n      <td>184.669998</td>\n    </tr>\n    <tr>\n      <th>2018-01-04</th>\n      <td>43.257500</td>\n      <td>75.510002</td>\n      <td>112.230003</td>\n      <td>184.330002</td>\n    </tr>\n    <tr>\n      <th>2018-01-05</th>\n      <td>43.750000</td>\n      <td>75.410004</td>\n      <td>111.620003</td>\n      <td>186.850006</td>\n    </tr>\n    <tr>\n      <th>2018-01-08</th>\n      <td>43.587502</td>\n      <td>74.529999</td>\n      <td>110.019997</td>\n      <td>188.279999</td>\n    </tr>\n  </tbody>\n</table>\n</div>"
     },
     "execution_count": 6,
     "metadata": {},
     "output_type": "execute_result"
    }
   ],
   "source": [
    "# Define the variables\n",
    "\n",
    "# We’ll simulate a portfolio of stocks. To do this, we need to define the symbols, the weights, and the investment amount.\n",
    "\n",
    "# We also define the confidence level which we’ll use later.\n",
    "\n",
    "# create your portfolio of stocks\n",
    "tickers = [\"AAPL\", \"META\", \"C\", \"DIS\"]\n",
    "\n",
    "# pick the weights of each stock (must add to 1)\n",
    "weights = np.array([0.25, 0.3, 0.15, 0.3])\n",
    "\n",
    "# the size of the portfolio\n",
    "portfolio_value = 1_000\n",
    "\n",
    "# the confidence interval (95%)\n",
    "confidence = 0.05\n",
    "# Now we can get the stock data for all the symbols in one line of code.\n",
    "\n",
    "data = yf.download(tickers, start=\"2018-01-01\", end=\"2021-12-31\")[\"Close\"]\n",
    "\n",
    "data.head()"
   ],
   "metadata": {
    "collapsed": false,
    "ExecuteTime": {
     "start_time": "2023-04-08T07:43:04.100773Z",
     "end_time": "2023-04-08T07:43:04.463983Z"
    }
   }
  },
  {
   "cell_type": "code",
   "execution_count": 7,
   "outputs": [
    {
     "data": {
      "text/plain": "                AAPL         C       DIS      META\nDate                                              \n2018-01-02       NaN       NaN       NaN       NaN\n2018-01-03 -0.000174  0.003093  0.004293  0.017914\n2018-01-04  0.004645  0.012334 -0.000445 -0.001841\n2018-01-05  0.011385 -0.001324 -0.005435  0.013671\n2018-01-08 -0.003714 -0.011670 -0.014334  0.007653\n...              ...       ...       ...       ...\n2021-12-23  0.003644  0.010235  0.011522  0.014495\n2021-12-27  0.022975  0.007308 -0.005403  0.032633\n2021-12-28 -0.005767 -0.000495  0.015707  0.000116\n2021-12-29  0.000502 -0.001320 -0.002126 -0.009474\n2021-12-30 -0.006578 -0.001817  0.006844  0.004141\n\n[1007 rows x 4 columns]",
      "text/html": "<div>\n<style scoped>\n    .dataframe tbody tr th:only-of-type {\n        vertical-align: middle;\n    }\n\n    .dataframe tbody tr th {\n        vertical-align: top;\n    }\n\n    .dataframe thead th {\n        text-align: right;\n    }\n</style>\n<table border=\"1\" class=\"dataframe\">\n  <thead>\n    <tr style=\"text-align: right;\">\n      <th></th>\n      <th>AAPL</th>\n      <th>C</th>\n      <th>DIS</th>\n      <th>META</th>\n    </tr>\n    <tr>\n      <th>Date</th>\n      <th></th>\n      <th></th>\n      <th></th>\n      <th></th>\n    </tr>\n  </thead>\n  <tbody>\n    <tr>\n      <th>2018-01-02</th>\n      <td>NaN</td>\n      <td>NaN</td>\n      <td>NaN</td>\n      <td>NaN</td>\n    </tr>\n    <tr>\n      <th>2018-01-03</th>\n      <td>-0.000174</td>\n      <td>0.003093</td>\n      <td>0.004293</td>\n      <td>0.017914</td>\n    </tr>\n    <tr>\n      <th>2018-01-04</th>\n      <td>0.004645</td>\n      <td>0.012334</td>\n      <td>-0.000445</td>\n      <td>-0.001841</td>\n    </tr>\n    <tr>\n      <th>2018-01-05</th>\n      <td>0.011385</td>\n      <td>-0.001324</td>\n      <td>-0.005435</td>\n      <td>0.013671</td>\n    </tr>\n    <tr>\n      <th>2018-01-08</th>\n      <td>-0.003714</td>\n      <td>-0.011670</td>\n      <td>-0.014334</td>\n      <td>0.007653</td>\n    </tr>\n    <tr>\n      <th>...</th>\n      <td>...</td>\n      <td>...</td>\n      <td>...</td>\n      <td>...</td>\n    </tr>\n    <tr>\n      <th>2021-12-23</th>\n      <td>0.003644</td>\n      <td>0.010235</td>\n      <td>0.011522</td>\n      <td>0.014495</td>\n    </tr>\n    <tr>\n      <th>2021-12-27</th>\n      <td>0.022975</td>\n      <td>0.007308</td>\n      <td>-0.005403</td>\n      <td>0.032633</td>\n    </tr>\n    <tr>\n      <th>2021-12-28</th>\n      <td>-0.005767</td>\n      <td>-0.000495</td>\n      <td>0.015707</td>\n      <td>0.000116</td>\n    </tr>\n    <tr>\n      <th>2021-12-29</th>\n      <td>0.000502</td>\n      <td>-0.001320</td>\n      <td>-0.002126</td>\n      <td>-0.009474</td>\n    </tr>\n    <tr>\n      <th>2021-12-30</th>\n      <td>-0.006578</td>\n      <td>-0.001817</td>\n      <td>0.006844</td>\n      <td>0.004141</td>\n    </tr>\n  </tbody>\n</table>\n<p>1007 rows × 4 columns</p>\n</div>"
     },
     "execution_count": 7,
     "metadata": {},
     "output_type": "execute_result"
    }
   ],
   "source": [
    "# Compute portfolio statistics\n",
    "\n",
    "# compute daily returns of each stock\n",
    "returns = data.pct_change()\n",
    "\n",
    "# compute the daily mean returns of each stock\n",
    "mean_returns = returns.mean()\n",
    "\n",
    "# compute portfolio mean return\n",
    "port_mean = mean_returns.dot(weights)\n",
    "\n",
    "# mean of investment returns\n",
    "investment_mean = (1 + port_mean) * portfolio_value\n",
    "\n",
    "# compute the portfolio covariance matrix\n",
    "cov_matrix = returns.cov()\n",
    "\n",
    "# compute portfolio standard deviation\n",
    "port_stdev = np.sqrt(weights.T.dot(cov_matrix).dot(weights))\n",
    "\n",
    "# standard deviation of investment returns\n",
    "investment_stdev = portfolio_value * port_stdev\n",
    "\n",
    "returns.head()\n"
   ],
   "metadata": {
    "collapsed": false,
    "ExecuteTime": {
     "start_time": "2023-04-08T07:43:15.663851Z",
     "end_time": "2023-04-08T07:43:15.674795Z"
    }
   }
  },
  {
   "cell_type": "code",
   "execution_count": 8,
   "outputs": [
    {
     "data": {
      "text/plain": "'Portfolio VaR: 28.335597603904944'"
     },
     "execution_count": 8,
     "metadata": {},
     "output_type": "execute_result"
    }
   ],
   "source": [
    "# Compute VaR\n",
    "# ppf takes a percentage and returns a standard deviation\n",
    "# multiplier for what value that percentage occurs at.\n",
    "# It is equivalent to a one-tail test on the density plot.\n",
    "percent_point = norm.ppf(confidence, investment_mean, investment_stdev)\n",
    "\n",
    "# calculate the VaR at the confidence interval\n",
    "value_at_risk = portfolio_value - percent_point\n",
    "\n",
    "# print it out\n",
    "f\"Portfolio VaR: {value_at_risk}\""
   ],
   "metadata": {
    "collapsed": false,
    "ExecuteTime": {
     "start_time": "2023-04-08T07:43:41.290243Z",
     "end_time": "2023-04-08T07:43:41.300885Z"
    }
   }
  },
  {
   "cell_type": "markdown",
   "source": [
    "### Bonus: Scaling VaR to different time frames\n",
    "\n",
    "What about over one week? Or one month?\n",
    "\n",
    "Stock returns increase with the square root of time. Therefore to scale the value at risk, we multiply it by the square root of time. This sounds scary but it’s simple in Python.\n",
    "\n",
    "Multiply the one-day VaR by the square root of one (day) through the square root of 30 (days)."
   ],
   "metadata": {
    "collapsed": false
   }
  },
  {
   "cell_type": "code",
   "execution_count": 9,
   "outputs": [
    {
     "data": {
      "text/plain": "[<matplotlib.lines.Line2D at 0x15b411b80>]"
     },
     "execution_count": 9,
     "metadata": {},
     "output_type": "execute_result"
    },
    {
     "data": {
      "text/plain": "<Figure size 432x288 with 1 Axes>",
      "image/png": "[encoded data removed]"
     },
     "metadata": {
      "needs_background": "light"
     },
     "output_type": "display_data"
    }
   ],
   "source": [
    "value_at_risks = value_at_risk * np.sqrt(range(1, 31))\n",
    "# Then we plot it.\n",
    "\n",
    "# build plot of VaR over time\n",
    "plt.xlabel(\"Day\")\n",
    "plt.ylabel(\"Max loss\")\n",
    "plt.title(\"Portfolio VaR\")\n",
    "plt.plot(value_at_risks, \"r\")"
   ],
   "metadata": {
    "collapsed": false,
    "ExecuteTime": {
     "start_time": "2023-04-08T07:46:56.820461Z",
     "end_time": "2023-04-08T07:46:56.941182Z"
    }
   }
  },
  {
   "cell_type": "markdown",
   "source": [
    "VaR is a simple measure that comes with various assumptions, caveats, and criticisms. It should be used as one of many risk management techniques. Despite its simplicity, it is a useful tool in the trader’s tool belt."
   ],
   "metadata": {
    "collapsed": false
   }
  },
  {
   "cell_type": "code",
   "execution_count": null,
   "outputs": [],
   "source": [],
   "metadata": {
    "collapsed": false
   }
  }
 ],
 "metadata": {
  "kernelspec": {
   "display_name": "Python 3",
   "language": "python",
   "name": "python3"
  },
  "language_info": {
   "codemirror_mode": {
    "name": "ipython",
    "version": 2
   },
   "file_extension": ".py",
   "mimetype": "text/x-python",
   "name": "python",
   "nbconvert_exporter": "python",
   "pygments_lexer": "ipython2",
   "version": "2.7.6"
  }
 },
 "nbformat": 4,
 "nbformat_minor": 0
}
