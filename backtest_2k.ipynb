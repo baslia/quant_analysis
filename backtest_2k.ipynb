{
 "cells": [
  {
   "cell_type": "markdown",
   "source": [
    "# How to backtest 2,000,000 simulations for the best exits\n",
    "\n",
    "A backtest is a simulation of market dynamics that are used to test how trading strategies might perform.\n",
    "\n",
    "The problem is that the markets are noisy and difficult to model.\n",
    "\n",
    "So when running backtests, optimized models often fit to noise, instead of market inefficiencies. When applying the optimized parameters to previously unseen data, the model falls apart (along with your portfolio).\n",
    "\n",
    "All parameters of a strategy affect the result but only a few determine entry and exit dependent on the market price. These are the parameters that should be optimized.\n",
    "\n",
    "For example, is a 1% trailing stop better than a $1 stop loss?\n",
    "\n",
    "We’ll use the cutting-edge backtesting framework vectorbt to optimize the entry and exit type for a momentum strategy."
   ],
   "metadata": {
    "collapsed": false
   },
   "id": "f74ed8c9428594eb"
  },
  {
   "cell_type": "code",
   "execution_count": null,
   "outputs": [],
   "source": [],
   "metadata": {
    "collapsed": false
   },
   "id": "f0f4b57b7cccaa70"
  }
 ],
 "metadata": {
  "kernelspec": {
   "display_name": "Python 3",
   "language": "python",
   "name": "python3"
  },
  "language_info": {
   "codemirror_mode": {
    "name": "ipython",
    "version": 2
   },
   "file_extension": ".py",
   "mimetype": "text/x-python",
   "name": "python",
   "nbconvert_exporter": "python",
   "pygments_lexer": "ipython2",
   "version": "2.7.6"
  }
 },
 "nbformat": 4,
 "nbformat_minor": 5
}
