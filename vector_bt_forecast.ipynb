{
 "cells": [
  {
   "cell_type": "code",
   "execution_count": 7,
   "id": "initial_id",
   "metadata": {
    "collapsed": true,
    "ExecuteTime": {
     "end_time": "2023-11-12T08:23:45.770135Z",
     "start_time": "2023-11-12T08:23:45.688552Z"
    }
   },
   "outputs": [],
   "source": [
    "# Imports and set up\n",
    "\n",
    "# Given the self-contained design of VBT, a single import is enough for the analysis.\n",
    "import vectorbt as vbt\n",
    "import yfinance as yahooFinance\n",
    "vbt.settings.set_theme(\"dark\")"
   ]
  },
  {
   "cell_type": "code",
   "execution_count": 12,
   "outputs": [
    {
     "name": "stdout",
     "output_type": "stream",
     "text": [
      "[*********************100%%**********************]  1 of 1 completed\n"
     ]
    },
    {
     "data": {
      "text/plain": "                             Open          High           Low         Close  \\\nDatetime                                                                      \n2023-01-01 00:00:00  16547.914062  16553.699219  16529.074219  16539.396484   \n2023-01-01 01:00:00  16538.013672  16556.140625  16536.416016  16556.140625   \n2023-01-01 02:00:00  16556.494141  16564.591797  16549.503906  16557.580078   \n2023-01-01 03:00:00  16557.521484  16557.912109  16540.302734  16548.863281   \n2023-01-01 04:00:00  16546.429688  16548.511719  16528.251953  16530.708984   \n...                           ...           ...           ...           ...   \n2023-11-12 04:00:00  36988.152344  37027.531250  36938.621094  37005.789062   \n2023-11-12 05:00:00  37007.386719  37123.867188  36960.800781  37123.867188   \n2023-11-12 06:00:00  37120.875000  37170.582031  37096.476562  37165.968750   \n2023-11-12 07:00:00  37160.367188  37179.878906  37118.683594  37141.917969   \n2023-11-12 08:00:00  37137.136719  37137.300781  37070.414062  37070.414062   \n\n                        Adj Close    Volume  \nDatetime                                     \n2023-01-01 00:00:00  16539.396484         0  \n2023-01-01 01:00:00  16556.140625         0  \n2023-01-01 02:00:00  16557.580078         0  \n2023-01-01 03:00:00  16548.863281         0  \n2023-01-01 04:00:00  16530.708984  16758784  \n...                           ...       ...  \n2023-11-12 04:00:00  37005.789062         0  \n2023-11-12 05:00:00  37123.867188         0  \n2023-11-12 06:00:00  37165.968750  33020928  \n2023-11-12 07:00:00  37141.917969  79544320  \n2023-11-12 08:00:00  37070.414062  15552512  \n\n[7485 rows x 6 columns]",
      "text/html": "<div>\n<style scoped>\n    .dataframe tbody tr th:only-of-type {\n        vertical-align: middle;\n    }\n\n    .dataframe tbody tr th {\n        vertical-align: top;\n    }\n\n    .dataframe thead th {\n        text-align: right;\n    }\n</style>\n<table border=\"1\" class=\"dataframe\">\n  <thead>\n    <tr style=\"text-align: right;\">\n      <th></th>\n      <th>Open</th>\n      <th>High</th>\n      <th>Low</th>\n      <th>Close</th>\n      <th>Adj Close</th>\n      <th>Volume</th>\n    </tr>\n    <tr>\n      <th>Datetime</th>\n      <th></th>\n      <th></th>\n      <th></th>\n      <th></th>\n      <th></th>\n      <th></th>\n    </tr>\n  </thead>\n  <tbody>\n    <tr>\n      <th>2023-01-01 00:00:00</th>\n      <td>16547.914062</td>\n      <td>16553.699219</td>\n      <td>16529.074219</td>\n      <td>16539.396484</td>\n      <td>16539.396484</td>\n      <td>0</td>\n    </tr>\n    <tr>\n      <th>2023-01-01 01:00:00</th>\n      <td>16538.013672</td>\n      <td>16556.140625</td>\n      <td>16536.416016</td>\n      <td>16556.140625</td>\n      <td>16556.140625</td>\n      <td>0</td>\n    </tr>\n    <tr>\n      <th>2023-01-01 02:00:00</th>\n      <td>16556.494141</td>\n      <td>16564.591797</td>\n      <td>16549.503906</td>\n      <td>16557.580078</td>\n      <td>16557.580078</td>\n      <td>0</td>\n    </tr>\n    <tr>\n      <th>2023-01-01 03:00:00</th>\n      <td>16557.521484</td>\n      <td>16557.912109</td>\n      <td>16540.302734</td>\n      <td>16548.863281</td>\n      <td>16548.863281</td>\n      <td>0</td>\n    </tr>\n    <tr>\n      <th>2023-01-01 04:00:00</th>\n      <td>16546.429688</td>\n      <td>16548.511719</td>\n      <td>16528.251953</td>\n      <td>16530.708984</td>\n      <td>16530.708984</td>\n      <td>16758784</td>\n    </tr>\n    <tr>\n      <th>...</th>\n      <td>...</td>\n      <td>...</td>\n      <td>...</td>\n      <td>...</td>\n      <td>...</td>\n      <td>...</td>\n    </tr>\n    <tr>\n      <th>2023-11-12 04:00:00</th>\n      <td>36988.152344</td>\n      <td>37027.531250</td>\n      <td>36938.621094</td>\n      <td>37005.789062</td>\n      <td>37005.789062</td>\n      <td>0</td>\n    </tr>\n    <tr>\n      <th>2023-11-12 05:00:00</th>\n      <td>37007.386719</td>\n      <td>37123.867188</td>\n      <td>36960.800781</td>\n      <td>37123.867188</td>\n      <td>37123.867188</td>\n      <td>0</td>\n    </tr>\n    <tr>\n      <th>2023-11-12 06:00:00</th>\n      <td>37120.875000</td>\n      <td>37170.582031</td>\n      <td>37096.476562</td>\n      <td>37165.968750</td>\n      <td>37165.968750</td>\n      <td>33020928</td>\n    </tr>\n    <tr>\n      <th>2023-11-12 07:00:00</th>\n      <td>37160.367188</td>\n      <td>37179.878906</td>\n      <td>37118.683594</td>\n      <td>37141.917969</td>\n      <td>37141.917969</td>\n      <td>79544320</td>\n    </tr>\n    <tr>\n      <th>2023-11-12 08:00:00</th>\n      <td>37137.136719</td>\n      <td>37137.300781</td>\n      <td>37070.414062</td>\n      <td>37070.414062</td>\n      <td>37070.414062</td>\n      <td>15552512</td>\n    </tr>\n  </tbody>\n</table>\n<p>7485 rows × 6 columns</p>\n</div>"
     },
     "execution_count": 12,
     "metadata": {},
     "output_type": "execute_result"
    }
   ],
   "source": [
    "SYMBOL = \"BTC-USD\"\n",
    "TIMEFRAME = \"60m\"\n",
    "START = \"2023-01-01\"\n",
    "END = \"2023-11-11\"\n",
    "\n",
    "LAST_N_BARS = 66\n",
    "PRED_N_BARS = 12\n",
    "\n",
    "GIF_FNAME = \"projections.gif\"\n",
    "GIF_N_BARS = 72\n",
    "GIF_FPS = 4\n",
    "GIF_PAD = 0.01\n",
    "\n",
    "# print(vbt.YFData.get_available_symbols())\n",
    "\n",
    "data = yahooFinance.download(SYMBOL, start=START, interval=TIMEFRAME)\n",
    "data\n",
    "\n",
    "# data = vbt.YFData.pull(SYMBOL, timeframe=TIMEFRAME, start=START)"
   ],
   "metadata": {
    "collapsed": false,
    "ExecuteTime": {
     "end_time": "2023-11-12T08:26:11.075719Z",
     "start_time": "2023-11-12T08:26:10.783666Z"
    }
   },
   "id": "e80750f4c1b509e5"
  },
  {
   "cell_type": "code",
   "execution_count": 14,
   "outputs": [
    {
     "ename": "AttributeError",
     "evalue": "'Vbt_SRAccessor' object has no attribute 'find_pattern'",
     "output_type": "error",
     "traceback": [
      "\u001B[0;31m---------------------------------------------------------------------------\u001B[0m",
      "\u001B[0;31mAttributeError\u001B[0m                            Traceback (most recent call last)",
      "Cell \u001B[0;32mIn[14], line 13\u001B[0m\n\u001B[1;32m     10\u001B[0m     pattern_ranges \u001B[38;5;241m=\u001B[39m pattern_ranges\u001B[38;5;241m.\u001B[39mstatus_closed\n\u001B[1;32m     11\u001B[0m     \u001B[38;5;28;01mreturn\u001B[39;00m pattern_ranges\n\u001B[0;32m---> 13\u001B[0m pattern_ranges \u001B[38;5;241m=\u001B[39m \u001B[43mfind_patterns\u001B[49m\u001B[43m(\u001B[49m\u001B[43mdata\u001B[49m\u001B[43m)\u001B[49m\n",
      "Cell \u001B[0;32mIn[14], line 4\u001B[0m, in \u001B[0;36mfind_patterns\u001B[0;34m(data)\u001B[0m\n\u001B[1;32m      2\u001B[0m price \u001B[38;5;241m=\u001B[39m data\u001B[38;5;241m.\u001B[39mClose\n\u001B[1;32m      3\u001B[0m pattern \u001B[38;5;241m=\u001B[39m price\u001B[38;5;241m.\u001B[39mvalues[\u001B[38;5;241m-\u001B[39mLAST_N_BARS:]\n\u001B[0;32m----> 4\u001B[0m pattern_ranges \u001B[38;5;241m=\u001B[39m \u001B[43mprice\u001B[49m\u001B[38;5;241;43m.\u001B[39;49m\u001B[43mvbt\u001B[49m\u001B[38;5;241;43m.\u001B[39;49m\u001B[43mfind_pattern\u001B[49m(\n\u001B[1;32m      5\u001B[0m     pattern\u001B[38;5;241m=\u001B[39mpattern,\n\u001B[1;32m      6\u001B[0m     rescale_mode\u001B[38;5;241m=\u001B[39m\u001B[38;5;124m\"\u001B[39m\u001B[38;5;124mrebase\u001B[39m\u001B[38;5;124m\"\u001B[39m,\n\u001B[1;32m      7\u001B[0m     overlap_mode\u001B[38;5;241m=\u001B[39m\u001B[38;5;124m\"\u001B[39m\u001B[38;5;124mallow\u001B[39m\u001B[38;5;124m\"\u001B[39m,\n\u001B[1;32m      8\u001B[0m     wrapper_kwargs\u001B[38;5;241m=\u001B[39m\u001B[38;5;28mdict\u001B[39m(freq\u001B[38;5;241m=\u001B[39mTIMEFRAME)\n\u001B[1;32m      9\u001B[0m )\n\u001B[1;32m     10\u001B[0m pattern_ranges \u001B[38;5;241m=\u001B[39m pattern_ranges\u001B[38;5;241m.\u001B[39mstatus_closed\n\u001B[1;32m     11\u001B[0m \u001B[38;5;28;01mreturn\u001B[39;00m pattern_ranges\n",
      "\u001B[0;31mAttributeError\u001B[0m: 'Vbt_SRAccessor' object has no attribute 'find_pattern'"
     ]
    }
   ],
   "source": [
    "def find_patterns(data):\n",
    "    price = data.Close\n",
    "    pattern = price.values[-LAST_N_BARS:]\n",
    "    pattern_ranges = price.vbt.find_pattern(\n",
    "        pattern=pattern,\n",
    "        rescale_mode=\"rebase\",\n",
    "        overlap_mode=\"allow\",\n",
    "        wrapper_kwargs=dict(freq=TIMEFRAME)\n",
    "    )\n",
    "    pattern_ranges = pattern_ranges.status_closed\n",
    "    return pattern_ranges\n",
    "\n",
    "pattern_ranges = find_patterns(data)"
   ],
   "metadata": {
    "collapsed": false,
    "ExecuteTime": {
     "end_time": "2023-11-12T08:28:06.051704Z",
     "start_time": "2023-11-12T08:28:06.034664Z"
    }
   },
   "id": "a3e32dc63c6e3a44"
  },
  {
   "cell_type": "code",
   "execution_count": null,
   "outputs": [],
   "source": [
    "def plot_projections(data, pattern_ranges, **kwargs):\n",
    "    projection_ranges = pattern_ranges.with_delta(\n",
    "        PRED_N_BARS,\n",
    "        open=data.open,\n",
    "        high=data.high,\n",
    "        low=data.low,\n",
    "        close=data.close,\n",
    "    )\n",
    "    projection_ranges = projection_ranges.status_closed\n",
    "    return projection_ranges.plot_projections(\n",
    "        plot_past_period=LAST_N_BARS, \n",
    "        **kwargs,\n",
    "    )\n",
    "\n",
    "plot_projections(data, pattern_ranges, plot_bands=True).show_png()"
   ],
   "metadata": {
    "collapsed": false
   },
   "id": "1e2cd7da89f55dd9"
  },
  {
   "cell_type": "code",
   "execution_count": null,
   "outputs": [],
   "source": [
    "\n",
    "def plot_frame(frame_index, **kwargs):\n",
    "    sub_data = data.loc[:frame_index[-1]]\n",
    "    pattern_ranges = find_patterns(sub_data)\n",
    "    if pattern_ranges.count() < 3:\n",
    "        return None\n",
    "    return plot_projections(sub_data, pattern_ranges, **kwargs)\n",
    "\n",
    "vbt.save_animation(\n",
    "    GIF_FNAME,\n",
    "    data.index[-GIF_N_BARS:],\n",
    "    plot_frame,\n",
    "    plot_projections=False,\n",
    "    delta=1,\n",
    "    fps=GIF_FPS,\n",
    "    writer_kwargs=dict(loop=0),\n",
    "    yaxis_range=[\n",
    "        data.low.iloc[-GIF_N_BARS:].min() * (1 - GIF_PAD), \n",
    "        data.high.iloc[-GIF_N_BARS:].max() * (1 + GIF_PAD)\n",
    "    ],\n",
    ")"
   ],
   "metadata": {
    "collapsed": false
   },
   "id": "e3ff9cce01f6d477"
  }
 ],
 "metadata": {
  "kernelspec": {
   "display_name": "Python 3",
   "language": "python",
   "name": "python3"
  },
  "language_info": {
   "codemirror_mode": {
    "name": "ipython",
    "version": 2
   },
   "file_extension": ".py",
   "mimetype": "text/x-python",
   "name": "python",
   "nbconvert_exporter": "python",
   "pygments_lexer": "ipython2",
   "version": "2.7.6"
  }
 },
 "nbformat": 4,
 "nbformat_minor": 5
}
