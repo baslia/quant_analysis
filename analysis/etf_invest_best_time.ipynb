{
 "cells": [
  {
   "cell_type": "code",
   "id": "initial_id",
   "metadata": {
    "collapsed": true,
    "ExecuteTime": {
     "end_time": "2024-11-10T06:28:44.406526Z",
     "start_time": "2024-11-10T06:28:41.504511Z"
    }
   },
   "source": [
    "import pandas as pd\n",
    "import yfinance as yf\n",
    "\n",
    "# Define the ETF ticker symbol\n",
    "etf_symbol = 'SPY'\n",
    "# Define the time frame for data (e.g., last 5 years)\n",
    "data = yf.download(etf_symbol, start='2018-01-01', end='2023-10-01', progress=False)\n",
    "# Reset index to access 'Date' as a column\n",
    "data.reset_index(inplace=True)\n",
    "# Display the first few rows\n",
    "print(data.head())"
   ],
   "outputs": [
    {
     "name": "stdout",
     "output_type": "stream",
     "text": [
      "Price                       Date   Adj Close       Close        High  \\\n",
      "Ticker                                   SPY         SPY         SPY   \n",
      "0      2018-01-02 00:00:00+00:00  240.801514  268.769989  268.809998   \n",
      "1      2018-01-03 00:00:00+00:00  242.324615  270.470001  270.640015   \n",
      "2      2018-01-04 00:00:00+00:00  243.345963  271.609985  272.160004   \n",
      "3      2018-01-05 00:00:00+00:00  244.967636  273.420013  273.559998   \n",
      "4      2018-01-08 00:00:00+00:00  245.415665  273.920013  274.100006   \n",
      "\n",
      "Price          Low        Open    Volume  \n",
      "Ticker         SPY         SPY       SPY  \n",
      "0       267.399994  267.839996  86655700  \n",
      "1       268.959991  268.959991  90070400  \n",
      "2       270.540009  271.200012  80636400  \n",
      "3       271.950012  272.510010  83524000  \n",
      "4       272.980011  273.309998  57319200  \n"
     ]
    }
   ],
   "execution_count": 1
  },
  {
   "metadata": {
    "ExecuteTime": {
     "end_time": "2024-11-10T06:28:54.952336Z",
     "start_time": "2024-11-10T06:28:54.942213Z"
    }
   },
   "cell_type": "code",
   "source": [
    "import numpy as np\n",
    "\n",
    "# Calculate daily returns\n",
    "data['Daily Return'] = data['Adj Close'].pct_change()\n",
    "\n",
    "# Extract weekday name\n",
    "data['Weekday'] = data['Date'].dt.day_name()\n",
    "\n",
    "# Drop the first row with NaN return\n",
    "data.dropna(inplace=True)\n",
    "\n",
    "# Group by weekday and calculate average return\n",
    "weekday_returns = data.groupby('Weekday')['Daily Return'].mean()\n",
    "\n",
    "# To ensure the weekdays are in order\n",
    "weekday_order = ['Monday', 'Tuesday', 'Wednesday', 'Thursday', 'Friday']\n",
    "weekday_returns = weekday_returns.reindex(weekday_order)\n",
    "\n",
    "print(\"Average Daily Returns by Weekday:\")\n",
    "print(weekday_returns)"
   ],
   "id": "89376d20517345c4",
   "outputs": [
    {
     "name": "stdout",
     "output_type": "stream",
     "text": [
      "Average Daily Returns by Weekday:\n",
      "Weekday\n",
      "Monday       0.000304\n",
      "Tuesday      0.000686\n",
      "Wednesday    0.000585\n",
      "Thursday     0.000194\n",
      "Friday       0.000581\n",
      "Name: Daily Return, dtype: float64\n"
     ]
    }
   ],
   "execution_count": 2
  },
  {
   "metadata": {
    "ExecuteTime": {
     "end_time": "2024-11-10T06:29:15.982411Z",
     "start_time": "2024-11-10T06:29:15.963666Z"
    }
   },
   "cell_type": "code",
   "source": [
    "# Extract day of the month\n",
    "data['Day'] = data['Date'].dt.day\n",
    "\n",
    "# Group by day and calculate average return\n",
    "day_returns = data.groupby('Day')['Daily Return'].mean()\n",
    "# Sort by average return in descending order\n",
    "day_returns_sorted = day_returns.sort_values(ascending=False)\n",
    "print(\"\\nAverage Daily Returns by Day of the Month:\")\n",
    "print(day_returns_sorted)"
   ],
   "id": "ef84a354149353d6",
   "outputs": [
    {
     "name": "stdout",
     "output_type": "stream",
     "text": [
      "\n",
      "Average Daily Returns by Day of the Month:\n",
      "Day\n",
      "4     0.004928\n",
      "15    0.003160\n",
      "25    0.002260\n",
      "6     0.002070\n",
      "28    0.002001\n",
      "2     0.001990\n",
      "26    0.001920\n",
      "29    0.001736\n",
      "10    0.001684\n",
      "13    0.001674\n",
      "24    0.001648\n",
      "17    0.001574\n",
      "1     0.001067\n",
      "8     0.000857\n",
      "7     0.000640\n",
      "12    0.000517\n",
      "5     0.000414\n",
      "30    0.000225\n",
      "14    0.000048\n",
      "21   -0.000091\n",
      "31   -0.000513\n",
      "23   -0.000554\n",
      "27   -0.000618\n",
      "3    -0.000744\n",
      "9    -0.000946\n",
      "16   -0.001493\n",
      "22   -0.001530\n",
      "19   -0.001678\n",
      "20   -0.001996\n",
      "18   -0.002466\n",
      "11   -0.002800\n",
      "Name: Daily Return, dtype: float64\n"
     ]
    }
   ],
   "execution_count": 3
  },
  {
   "metadata": {
    "ExecuteTime": {
     "end_time": "2024-11-10T06:29:32.825654Z",
     "start_time": "2024-11-10T06:29:32.654368Z"
    }
   },
   "cell_type": "code",
   "source": [
    "import matplotlib.pyplot as plt\n",
    "import seaborn as sns\n",
    "\n",
    "# Set the style\n",
    "sns.set(style=\"whitegrid\")\n",
    "\n",
    "# Plot average returns by weekday\n",
    "plt.figure(figsize=(10, 5))\n",
    "sns.barplot(x=weekday_returns.index, y=weekday_returns.values, palette='Blues_d')\n",
    "plt.title('Average Daily Returns by Weekday for SPY')\n",
    "plt.xlabel('Weekday')\n",
    "plt.ylabel('Average Daily Return')\n",
    "plt.show()\n",
    "\n",
    "# Plot top 10 days of the month\n",
    "plt.figure(figsize=(12, 6))\n",
    "sns.barplot(x=day_returns_sorted.index[:10], y=day_returns_sorted.values[:10], palette='Greens_d')\n",
    "plt.title('Top 10 Days of the Month by Average Daily Return for SPY')\n",
    "plt.xlabel('Day of the Month')\n",
    "plt.ylabel('Average Daily Return')\n",
    "plt.show()"
   ],
   "id": "1647173cb2a31897",
   "outputs": [
    {
     "ename": "ModuleNotFoundError",
     "evalue": "No module named 'matplotlib'",
     "output_type": "error",
     "traceback": [
      "\u001B[0;31m---------------------------------------------------------------------------\u001B[0m",
      "\u001B[0;31mModuleNotFoundError\u001B[0m                       Traceback (most recent call last)",
      "Cell \u001B[0;32mIn[4], line 1\u001B[0m\n\u001B[0;32m----> 1\u001B[0m \u001B[38;5;28;01mimport\u001B[39;00m \u001B[38;5;21;01mmatplotlib\u001B[39;00m\u001B[38;5;21;01m.\u001B[39;00m\u001B[38;5;21;01mpyplot\u001B[39;00m \u001B[38;5;28;01mas\u001B[39;00m \u001B[38;5;21;01mplt\u001B[39;00m\n\u001B[1;32m      2\u001B[0m \u001B[38;5;28;01mimport\u001B[39;00m \u001B[38;5;21;01mseaborn\u001B[39;00m \u001B[38;5;28;01mas\u001B[39;00m \u001B[38;5;21;01msns\u001B[39;00m\n\u001B[1;32m      4\u001B[0m \u001B[38;5;66;03m# Set the style\u001B[39;00m\n",
      "\u001B[0;31mModuleNotFoundError\u001B[0m: No module named 'matplotlib'"
     ]
    }
   ],
   "execution_count": 4
  },
  {
   "metadata": {},
   "cell_type": "code",
   "outputs": [],
   "execution_count": null,
   "source": "",
   "id": "c24c41d10d359ce5"
  }
 ],
 "metadata": {
  "kernelspec": {
   "display_name": "Python 3",
   "language": "python",
   "name": "python3"
  },
  "language_info": {
   "codemirror_mode": {
    "name": "ipython",
    "version": 2
   },
   "file_extension": ".py",
   "mimetype": "text/x-python",
   "name": "python",
   "nbconvert_exporter": "python",
   "pygments_lexer": "ipython2",
   "version": "2.7.6"
  }
 },
 "nbformat": 4,
 "nbformat_minor": 5
}
