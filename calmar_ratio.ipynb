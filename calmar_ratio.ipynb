{
 "cells": [
  {
   "cell_type": "markdown",
   "source": [
    "# Trading futures by considering the Calmar ratio for performance analysis\n",
    "\n",
    "The Calmar ratio is a performance metric used to evaluate the risk-adjusted return of an investment strategy.\n",
    "\n",
    "It was developed by Terry W. Young in 1991 and named after California Managed Accounts Research Inc. (Calmar), where Young was a principal.\n",
    "\n",
    "The ratio is calculated by dividing the annualized return of an investment strategy by its maximum drawdown.\n",
    "\n",
    "Professionals in the finance industry use the Calmar ratio to compare the performance of different investment strategies and to assess the risk-adjusted return of a single strategy.\n",
    "\n",
    "By understanding the Calmar ratio, investors can make more informed decisions about which investment strategies to pursue and how to allocate their capital."
   ],
   "metadata": {
    "collapsed": false
   }
  },
  {
   "cell_type": "code",
   "execution_count": 1,
   "outputs": [
    {
     "data": {
      "text/plain": "\u001B[33mForecasting Toolkit is disabled. To use the Forecasting features please install the toolkit following the instructions here: https://docs.openbb.co/sdk/quickstart/installation/\u001B[0m\n\n",
      "text/html": "<pre style=\"white-space:pre;overflow-x:auto;line-height:normal;font-family:Menlo,'DejaVu Sans Mono',consolas,'Courier New',monospace\"><span style=\"color: #808000; text-decoration-color: #808000\">Forecasting Toolkit is disabled. To use the Forecasting features please install the toolkit following the instructions here: https://docs.openbb.co/sdk/quickstart/installation/</span>\n\n</pre>\n"
     },
     "metadata": {},
     "output_type": "display_data"
    },
    {
     "data": {
      "text/plain": "\u001B[33mPortfolio Optimization Toolkit is disabled. To use the Optimization features please install the toolkit following the instructions here: https://docs.openbb.co/sdk/quickstart/installation/\u001B[0m\n\n",
      "text/html": "<pre style=\"white-space:pre;overflow-x:auto;line-height:normal;font-family:Menlo,'DejaVu Sans Mono',consolas,'Courier New',monospace\"><span style=\"color: #808000; text-decoration-color: #808000\">Portfolio Optimization Toolkit is disabled. To use the Optimization features please install the toolkit following the instructions here: https://docs.openbb.co/sdk/quickstart/installation/</span>\n\n</pre>\n"
     },
     "metadata": {},
     "output_type": "display_data"
    }
   ],
   "source": [
    "# Imports and set up\n",
    "\n",
    "# First, import the libraries you’ll use. You can get continuous futures data from the OpenBB SDK. We’ll use Numpy for the math.\n",
    "\n",
    "from openbb_terminal.sdk import openbb\n",
    "\n",
    "import numpy as np\n",
    "# From there, set up a few mock portfolios. For this example, I’ll build an under leveraged futures portfolio and a leveraged futures portfolio. This will demonstrate the effect leverage has on risk.\n",
    "\n",
    "data = openbb.futures.historical(\n",
    "    [\"ES\", \"YM\", \"NQ\"],\n",
    "    start_date=\"2020-01-01\",\n",
    "    end_date=\"2022-12-31\"\n",
    ")\n",
    "\n",
    "futs = data['Adj Close'].pct_change().dropna()"
   ],
   "metadata": {
    "collapsed": false,
    "ExecuteTime": {
     "end_time": "2023-07-17T12:36:29.705245Z",
     "start_time": "2023-07-17T12:36:22.349761Z"
    }
   }
  },
  {
   "cell_type": "code",
   "execution_count": 2,
   "outputs": [],
   "source": [
    "# This code get continuous futures data for the E-Mini S&P 500 Index, E-Mini Dow Jones Industrial Average, and E-Mini Nasdaq 100. The settlement price is returned in the “Adj Close” column. Use it to compute the daily returns.\n",
    "\n",
    "# Let’s create two mock portfolios.\n",
    "\n",
    "port_1 = futs.ES * 0.60 + futs.YM * 0.10 + futs.NQ * 0.10\n",
    "\n",
    "port_2 = futs.ES * 0.90 + futs.YM * 0.15 + futs.NQ * 0.15\n",
    "# Apply a weighting to each of the symbols. Note the weights add up to less that 1 for port_1 and greater than 1 for port_2. This is an easy way to replicate an under- and over-leveraged portfolio. Also note that the weights for port_2 are 1.5x that of port_1."
   ],
   "metadata": {
    "collapsed": false,
    "ExecuteTime": {
     "end_time": "2023-07-17T12:36:36.730128Z",
     "start_time": "2023-07-17T12:36:36.719536Z"
    }
   }
  },
  {
   "cell_type": "code",
   "execution_count": 3,
   "outputs": [],
   "source": [
    "# Compute the Calmar ratio\n",
    "\n",
    "# Next, write a function that computes the Calmar ratio.\n",
    "\n",
    "def ann_return(returns):\n",
    "    ending_value = (returns + 1).prod()\n",
    "    num_years = len(returns) / 252  # daily returns\n",
    "    ann_return = ending_value ** (1/num_years) - 1\n",
    "    return ann_return\n",
    "\n",
    "\n",
    "def calmar_ratio(returns):\n",
    "\n",
    "    # cumulative returns\n",
    "    cumulative_returns = (returns + 1).cumprod() * 100\n",
    "\n",
    "    # max drawdown\n",
    "    max_return = np.fmax.accumulate(cumulative_returns)\n",
    "    max_dd = ((cumulative_returns - max_return) / max_return).min()\n",
    "\n",
    "    # annualized return\n",
    "    ann_ret = ann_return(returns)\n",
    "\n",
    "    return ann_ret / abs(max_dd)"
   ],
   "metadata": {
    "collapsed": false,
    "ExecuteTime": {
     "end_time": "2023-07-17T12:36:52.066198Z",
     "start_time": "2023-07-17T12:36:52.062279Z"
    }
   }
  },
  {
   "cell_type": "code",
   "execution_count": 5,
   "outputs": [
    {
     "name": "stdout",
     "output_type": "stream",
     "text": [
      "Portfolio 1: 0.19\n",
      "Portfolio 2: 0.16\n"
     ]
    }
   ],
   "source": [
    "# Compare portfolio performance\n",
    "\n",
    "# Check out the results.\n",
    "\n",
    "# port1\n",
    "ret = ann_return(port_1)\n",
    "p1 = calmar_ratio(port_1)\n",
    "\n",
    "# port2\n",
    "ret = ann_return(port_2)\n",
    "p2 = calmar_ratio(port_2)\n",
    "\n",
    "print(f\"Portfolio 1: {p1:.2f}\")\n",
    "print(f\"Portfolio 2: {p2:.2f}\")\n"
   ],
   "metadata": {
    "collapsed": false,
    "ExecuteTime": {
     "end_time": "2023-07-17T12:38:01.630945Z",
     "start_time": "2023-07-17T12:38:01.627675Z"
    }
   }
  },
  {
   "cell_type": "code",
   "execution_count": null,
   "outputs": [],
   "source": [],
   "metadata": {
    "collapsed": false
   }
  }
 ],
 "metadata": {
  "kernelspec": {
   "display_name": "Python 3",
   "language": "python",
   "name": "python3"
  },
  "language_info": {
   "codemirror_mode": {
    "name": "ipython",
    "version": 2
   },
   "file_extension": ".py",
   "mimetype": "text/x-python",
   "name": "python",
   "nbconvert_exporter": "python",
   "pygments_lexer": "ipython2",
   "version": "2.7.6"
  }
 },
 "nbformat": 4,
 "nbformat_minor": 0
}
