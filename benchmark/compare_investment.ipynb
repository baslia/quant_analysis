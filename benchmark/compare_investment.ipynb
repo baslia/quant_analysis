{
 "cells": [
  {
   "cell_type": "code",
   "execution_count": 3,
   "id": "initial_id",
   "metadata": {
    "collapsed": true,
    "ExecuteTime": {
     "end_time": "2024-01-21T07:20:42.823033Z",
     "start_time": "2024-01-21T07:20:36.351300Z"
    }
   },
   "outputs": [
    {
     "name": "stdout",
     "output_type": "stream",
     "text": [
      "(CVXPY) Jan 21 08:20:37 AM: Encountered unexpected exception importing solver SCS:\n",
      "ImportError(\"dlopen(/opt/homebrew/Caskroom/miniforge/base/envs/py311/lib/python3.11/site-packages/_scs_direct.cpython-311-darwin.so, 0x0002): tried: '/opt/homebrew/Caskroom/miniforge/base/envs/py311/lib/python3.11/site-packages/_scs_direct.cpython-311-darwin.so' (mach-o file, but is an incompatible architecture (have 'x86_64', need 'arm64')), '/System/Volumes/Preboot/Cryptexes/OS/opt/homebrew/Caskroom/miniforge/base/envs/py311/lib/python3.11/site-packages/_scs_direct.cpython-311-darwin.so' (no such file), '/opt/homebrew/Caskroom/miniforge/base/envs/py311/lib/python3.11/site-packages/_scs_direct.cpython-311-darwin.so' (mach-o file, but is an incompatible architecture (have 'x86_64', need 'arm64'))\")\n",
      "(CVXPY) Jan 21 08:20:38 AM: Encountered unexpected exception importing solver SCS:\n",
      "ImportError(\"dlopen(/opt/homebrew/Caskroom/miniforge/base/envs/py311/lib/python3.11/site-packages/_scs_direct.cpython-311-darwin.so, 0x0002): tried: '/opt/homebrew/Caskroom/miniforge/base/envs/py311/lib/python3.11/site-packages/_scs_direct.cpython-311-darwin.so' (mach-o file, but is an incompatible architecture (have 'x86_64', need 'arm64')), '/System/Volumes/Preboot/Cryptexes/OS/opt/homebrew/Caskroom/miniforge/base/envs/py311/lib/python3.11/site-packages/_scs_direct.cpython-311-darwin.so' (no such file), '/opt/homebrew/Caskroom/miniforge/base/envs/py311/lib/python3.11/site-packages/_scs_direct.cpython-311-darwin.so' (mach-o file, but is an incompatible architecture (have 'x86_64', need 'arm64'))\")\n"
     ]
    }
   ],
   "source": [
    "# Import and set up\n",
    "from plotly.io import show\n",
    "from sklearn.model_selection import train_test_split\n",
    "from skfolio import Population\n",
    "from skfolio.optimization import (\n",
    "    EqualWeighted, \n",
    "    MaximumDiversification,\n",
    "    Random\n",
    ")\n",
    "from skfolio.preprocessing import prices_to_returns\n",
    "from openbb import obb\n",
    "\n",
    "\n",
    "sectors = [\n",
    "    \"XLE\", \n",
    "    \"XLF\", \n",
    "    \"XLU\", \n",
    "    \"XLI\", \n",
    "    \"GDX\", \n",
    "    \"XLK\", \n",
    "    \"XLV\", \n",
    "    \"XLY\", \n",
    "    \"XLP\", \n",
    "    \"XLB\", \n",
    "    \"XOP\", \n",
    "    \"IYR\", \n",
    "    \"XHB\", \n",
    "    \"ITB\", \n",
    "    \"VNQ\", \n",
    "    \"GDXJ\", \n",
    "    \"IYE\", \n",
    "    \"OIH\", \n",
    "    \"XME\", \n",
    "    \"XRT\", \n",
    "    \"SMH\", \n",
    "    \"IBB\", \n",
    "    \"KBE\", \n",
    "    \"KRE\", \n",
    "    \"XTL\", \n",
    "]"
   ]
  },
  {
   "cell_type": "code",
   "outputs": [
    {
     "ename": "ValidationError",
     "evalue": "1 validation error for historical\nprovider\n  Input should be 'fmp', 'intrinio', 'polygon' or 'tiingo' [type=literal_error, input_value='yfinance', input_type=str]\n    For further information visit https://errors.pydantic.dev/2.5/v/literal_error",
     "output_type": "error",
     "traceback": [
      "\u001B[0;31m---------------------------------------------------------------------------\u001B[0m",
      "\u001B[0;31mValidationError\u001B[0m                           Traceback (most recent call last)",
      "Cell \u001B[0;32mIn[4], line 1\u001B[0m\n\u001B[0;32m----> 1\u001B[0m df \u001B[38;5;241m=\u001B[39m \u001B[43mobb\u001B[49m\u001B[38;5;241;43m.\u001B[39;49m\u001B[43mequity\u001B[49m\u001B[38;5;241;43m.\u001B[39;49m\u001B[43mprice\u001B[49m\u001B[38;5;241;43m.\u001B[39;49m\u001B[43mhistorical\u001B[49m\u001B[43m(\u001B[49m\n\u001B[1;32m      2\u001B[0m \u001B[43m    \u001B[49m\u001B[43msectors\u001B[49m\u001B[43m,\u001B[49m\u001B[43m \u001B[49m\n\u001B[1;32m      3\u001B[0m \u001B[43m    \u001B[49m\u001B[43mstart_date\u001B[49m\u001B[38;5;241;43m=\u001B[39;49m\u001B[38;5;124;43m\"\u001B[39;49m\u001B[38;5;124;43m2010-01-01\u001B[39;49m\u001B[38;5;124;43m\"\u001B[39;49m\u001B[43m,\u001B[49m\u001B[43m \u001B[49m\n\u001B[1;32m      4\u001B[0m \u001B[43m    \u001B[49m\u001B[43mprovider\u001B[49m\u001B[38;5;241;43m=\u001B[39;49m\u001B[38;5;124;43m\"\u001B[39;49m\u001B[38;5;124;43myfinance\u001B[39;49m\u001B[38;5;124;43m\"\u001B[39;49m\n\u001B[1;32m      5\u001B[0m \u001B[43m)\u001B[49m\u001B[38;5;241m.\u001B[39mto_df()\n\u001B[1;32m      7\u001B[0m pivoted \u001B[38;5;241m=\u001B[39m df\u001B[38;5;241m.\u001B[39mpivot(\n\u001B[1;32m      8\u001B[0m     columns\u001B[38;5;241m=\u001B[39m\u001B[38;5;124m\"\u001B[39m\u001B[38;5;124msymbol\u001B[39m\u001B[38;5;124m\"\u001B[39m, \n\u001B[1;32m      9\u001B[0m     values\u001B[38;5;241m=\u001B[39m\u001B[38;5;124m\"\u001B[39m\u001B[38;5;124mclose\u001B[39m\u001B[38;5;124m\"\u001B[39m\n\u001B[1;32m     10\u001B[0m )\u001B[38;5;241m.\u001B[39mdropna()\n\u001B[1;32m     12\u001B[0m X \u001B[38;5;241m=\u001B[39m prices_to_returns(pivoted)\n",
      "File \u001B[0;32m/opt/homebrew/Caskroom/miniforge/base/envs/py311/lib/python3.11/site-packages/openbb_core/app/static/decorators.py:33\u001B[0m, in \u001B[0;36mvalidate.<locals>.decorated.<locals>.wrapper\u001B[0;34m(*f_args, **f_kwargs)\u001B[0m\n\u001B[1;32m     31\u001B[0m \u001B[38;5;129m@wraps\u001B[39m(f)\n\u001B[1;32m     32\u001B[0m \u001B[38;5;28;01mdef\u001B[39;00m \u001B[38;5;21mwrapper\u001B[39m(\u001B[38;5;241m*\u001B[39mf_args, \u001B[38;5;241m*\u001B[39m\u001B[38;5;241m*\u001B[39mf_kwargs):\n\u001B[0;32m---> 33\u001B[0m     \u001B[38;5;28;01mreturn\u001B[39;00m \u001B[43mvalidate_call\u001B[49m\u001B[43m(\u001B[49m\u001B[43mf\u001B[49m\u001B[43m,\u001B[49m\u001B[43m \u001B[49m\u001B[38;5;241;43m*\u001B[39;49m\u001B[38;5;241;43m*\u001B[39;49m\u001B[43mdec_kwargs\u001B[49m\u001B[43m)\u001B[49m\u001B[43m(\u001B[49m\u001B[38;5;241;43m*\u001B[39;49m\u001B[43mf_args\u001B[49m\u001B[43m,\u001B[49m\u001B[43m \u001B[49m\u001B[38;5;241;43m*\u001B[39;49m\u001B[38;5;241;43m*\u001B[39;49m\u001B[43mf_kwargs\u001B[49m\u001B[43m)\u001B[49m\n",
      "File \u001B[0;32m/opt/homebrew/Caskroom/miniforge/base/envs/py311/lib/python3.11/site-packages/pydantic/_internal/_validate_call.py:113\u001B[0m, in \u001B[0;36mValidateCallWrapper.__call__\u001B[0;34m(self, *args, **kwargs)\u001B[0m\n\u001B[1;32m    112\u001B[0m \u001B[38;5;28;01mdef\u001B[39;00m \u001B[38;5;21m__call__\u001B[39m(\u001B[38;5;28mself\u001B[39m, \u001B[38;5;241m*\u001B[39margs: Any, \u001B[38;5;241m*\u001B[39m\u001B[38;5;241m*\u001B[39mkwargs: Any) \u001B[38;5;241m-\u001B[39m\u001B[38;5;241m>\u001B[39m Any:\n\u001B[0;32m--> 113\u001B[0m     res \u001B[38;5;241m=\u001B[39m \u001B[38;5;28;43mself\u001B[39;49m\u001B[38;5;241;43m.\u001B[39;49m\u001B[43m__pydantic_validator__\u001B[49m\u001B[38;5;241;43m.\u001B[39;49m\u001B[43mvalidate_python\u001B[49m\u001B[43m(\u001B[49m\u001B[43mpydantic_core\u001B[49m\u001B[38;5;241;43m.\u001B[39;49m\u001B[43mArgsKwargs\u001B[49m\u001B[43m(\u001B[49m\u001B[43margs\u001B[49m\u001B[43m,\u001B[49m\u001B[43m \u001B[49m\u001B[43mkwargs\u001B[49m\u001B[43m)\u001B[49m\u001B[43m)\u001B[49m\n\u001B[1;32m    114\u001B[0m     \u001B[38;5;28;01mif\u001B[39;00m \u001B[38;5;28mself\u001B[39m\u001B[38;5;241m.\u001B[39m__return_pydantic_validator__:\n\u001B[1;32m    115\u001B[0m         \u001B[38;5;28;01mreturn\u001B[39;00m \u001B[38;5;28mself\u001B[39m\u001B[38;5;241m.\u001B[39m__return_pydantic_validator__(res)\n",
      "\u001B[0;31mValidationError\u001B[0m: 1 validation error for historical\nprovider\n  Input should be 'fmp', 'intrinio', 'polygon' or 'tiingo' [type=literal_error, input_value='yfinance', input_type=str]\n    For further information visit https://errors.pydantic.dev/2.5/v/literal_error"
     ]
    }
   ],
   "source": [
    "df = obb.equity.price.historical(\n",
    "    sectors, \n",
    "    start_date=\"2010-01-01\", \n",
    "    provider=\"yfinance\"\n",
    ").to_df()\n",
    "\n",
    "pivoted = df.pivot(\n",
    "    columns=\"symbol\", \n",
    "    values=\"close\"\n",
    ").dropna()\n",
    "\n",
    "X = prices_to_returns(pivoted)\n",
    "\n",
    "X_train, X_test = train_test_split(\n",
    "    X, \n",
    "    test_size=0.33, \n",
    "    shuffle=False\n",
    ")"
   ],
   "metadata": {
    "collapsed": false,
    "ExecuteTime": {
     "end_time": "2024-01-21T07:21:00.697365Z",
     "start_time": "2024-01-21T07:21:00.572184Z"
    }
   },
   "id": "497b4d3bed6fa632",
   "execution_count": 4
  },
  {
   "cell_type": "code",
   "outputs": [],
   "source": [
    "# Build the model\n",
    "model = MaximumDiversification()\n",
    "model.fit(X_train)\n",
    "ptf_model_train = model.predict(X_train)\n",
    "\n",
    "bench = EqualWeighted()\n",
    "bench.fit(X_train)\n",
    "ptf_bench_train = bench.predict(X_train)\n",
    "\n",
    "random = Random()\n",
    "random.fit(X_train)\n",
    "ptf_random_train = random.predict(X_train)\n",
    "\n",
    "print(f\"Maximum Diversification: {ptf_model_train.diversification:0.2f}\")\n",
    "print(f\"Equal Weighted model: {ptf_bench_train.diversification:0.2f}\")\n",
    "print(f\"Random Weighted model: {ptf_random_train.diversification:0.2f}\")"
   ],
   "metadata": {
    "collapsed": false
   },
   "id": "c0f462896f109b9e"
  },
  {
   "cell_type": "code",
   "outputs": [],
   "source": [
    "# Predict portfolio weight\n",
    "ptf_model_test = model.predict(X_test)\n",
    "ptf_bench_test = bench.predict(X_test)\n",
    "ptf_random_test = random.predict(X_test)\n",
    "\n",
    "population = Population([\n",
    "    ptf_model_test, \n",
    "    ptf_bench_test, \n",
    "    ptf_random_test\n",
    "])\n",
    "\n",
    "population.plot_composition()"
   ],
   "metadata": {
    "collapsed": false
   },
   "id": "d99befffebe926e4"
  },
  {
   "cell_type": "code",
   "outputs": [],
   "source": [
    "population.plot_cumulative_returns()"
   ],
   "metadata": {
    "collapsed": false
   },
   "id": "4f59702a94d1df52"
  }
 ],
 "metadata": {
  "kernelspec": {
   "display_name": "Python 3",
   "language": "python",
   "name": "python3"
  },
  "language_info": {
   "codemirror_mode": {
    "name": "ipython",
    "version": 2
   },
   "file_extension": ".py",
   "mimetype": "text/x-python",
   "name": "python",
   "nbconvert_exporter": "python",
   "pygments_lexer": "ipython2",
   "version": "2.7.6"
  }
 },
 "nbformat": 4,
 "nbformat_minor": 5
}
