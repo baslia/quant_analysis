{
 "cells": [
  {
   "cell_type": "markdown",
   "source": [
    "# How to exploit the month-end flow effect\n",
    "Fund managers report their holdings every month. They don’t want to tell investors that they lost money the latest meme stock. So they will sell the meme stocks and buy higher quality assets, like bonds.\n",
    "\n",
    "We might be able to take advantage of this effect by buying bonds toward the end of the month and selling them at the beginning."
   ],
   "metadata": {
    "collapsed": false
   },
   "id": "70405f0269a624d9"
  },
  {
   "cell_type": "code",
   "outputs": [],
   "source": [
    "# import the libraries\n",
    "import pandas as pd\n",
    "import numpy as np\n",
    "import matplotlib.pyplot as plt\n",
    "import vectorbt as vbt"
   ],
   "metadata": {
    "collapsed": false,
    "is_executing": true
   },
   "id": "225511cca6aa05ff"
  },
  {
   "cell_type": "code",
   "outputs": [],
   "source": [
    "# Load the data\n",
    "tlt = vbt.YFData.download(\n",
    "    \"TLT\", \n",
    "    start=\"2004-01-01\"\n",
    ").get(\"Close\").to_frame()\n",
    "close = tlt.Close"
   ],
   "metadata": {
    "collapsed": false
   },
   "id": "4de7a5f86042a9dd"
  }
 ],
 "metadata": {
  "kernelspec": {
   "display_name": "Python 3",
   "language": "python",
   "name": "python3"
  },
  "language_info": {
   "codemirror_mode": {
    "name": "ipython",
    "version": 2
   },
   "file_extension": ".py",
   "mimetype": "text/x-python",
   "name": "python",
   "nbconvert_exporter": "python",
   "pygments_lexer": "ipython2",
   "version": "2.7.6"
  }
 },
 "nbformat": 4,
 "nbformat_minor": 5
}
