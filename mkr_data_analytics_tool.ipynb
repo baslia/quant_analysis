{
 "cells": [
  {
   "cell_type": "markdown",
   "source": [
    "# Build your own market data analytics app in 5 minutes\n",
    "\n",
    "Building Streamlit web apps lets you showcase your skills to employers by Building in Public.\n",
    "\n",
    "Startups, bootstrappers, indie software developers, and of course Python developers Build in Public to showcase their skills, get help, and establish their networks.\n",
    "\n",
    "You can also quickly build reusable analytics in a web browser. This makes it easy to include analytics in your investment workflow.\n"
   ],
   "metadata": {
    "collapsed": false
   }
  },
  {
   "cell_type": "code",
   "execution_count": 1,
   "outputs": [],
   "source": [
    "# Imports and set up\n",
    "\n",
    "# Streamlit is a Python library that lets you create web apps easily. Today, you will use pandas and yfinance to download and process the stock data, and the talib library for technical analysis.\n",
    "\n",
    "# Create a new Python script called stock_data_analysis.py, and import the necessary libraries.\n",
    "\n",
    "import streamlit as st\n",
    "import pandas as pd\n",
    "import yfinance as yf\n",
    "import talib"
   ],
   "metadata": {
    "collapsed": false,
    "ExecuteTime": {
     "end_time": "2023-06-18T16:10:24.930273Z",
     "start_time": "2023-06-18T16:10:23.847141Z"
    }
   }
  },
  {
   "cell_type": "code",
   "execution_count": 2,
   "outputs": [],
   "source": [
    "# Create the app\n",
    "\n",
    "# Your app will let people choose a ticker from the S&P 500 index. Create a function to download the symbols from Wikipedia.\n",
    "\n",
    "def get_sp500_components():\n",
    "    df = pd.read_html('<a href=\"https://en.wikipedia.org/wiki/List_of_S%26P_500_companies\" target=\"_blank\" rel=\"noreferrer noopener\">https://en.wikipedia.org/wiki/List_of_S%26P_500_companies</a>')\n",
    "    df = df[0]\n",
    "    tickers = df[\"Symbol\"].to_list()\n",
    "    tickers_companies_dict = dict(zip(df[\"Symbol\"], df[\"Security\"]))\n",
    "    return tickers, tickers_companies_dict"
   ],
   "metadata": {
    "collapsed": false,
    "ExecuteTime": {
     "end_time": "2023-06-18T16:11:31.996276Z",
     "start_time": "2023-06-18T16:11:31.991015Z"
    }
   }
  },
  {
   "cell_type": "code",
   "execution_count": 3,
   "outputs": [
    {
     "name": "stderr",
     "output_type": "stream",
     "text": [
      "2023-06-18 11:11:48.098 \n",
      "  \u001B[33m\u001B[1mWarning:\u001B[0m to view this Streamlit app on a browser, run it with the following\n",
      "  command:\n",
      "\n",
      "    streamlit run /opt/homebrew/Caskroom/miniforge/base/envs/env_tf/lib/python3.9/site-packages/ipykernel_launcher.py [ARGUMENTS]\n"
     ]
    },
    {
     "ename": "ValueError",
     "evalue": "No tables found",
     "output_type": "error",
     "traceback": [
      "\u001B[0;31m---------------------------------------------------------------------------\u001B[0m",
      "\u001B[0;31mValueError\u001B[0m                                Traceback (most recent call last)",
      "Cell \u001B[0;32mIn[3], line 8\u001B[0m\n\u001B[1;32m      4\u001B[0m st\u001B[38;5;241m.\u001B[39mwrite(\u001B[38;5;124m\"\u001B[39m\u001B[38;5;124mA simple app to download stock data and apply technical analysis indicators.\u001B[39m\u001B[38;5;124m\"\u001B[39m)\n\u001B[1;32m      6\u001B[0m st\u001B[38;5;241m.\u001B[39msidebar\u001B[38;5;241m.\u001B[39mheader(\u001B[38;5;124m\"\u001B[39m\u001B[38;5;124mStock Parameters\u001B[39m\u001B[38;5;124m\"\u001B[39m)\n\u001B[0;32m----> 8\u001B[0m available_tickers, tickers_companies_dict \u001B[38;5;241m=\u001B[39m \u001B[43mget_sp500_components\u001B[49m\u001B[43m(\u001B[49m\u001B[43m)\u001B[49m\n\u001B[1;32m     10\u001B[0m ticker \u001B[38;5;241m=\u001B[39m st\u001B[38;5;241m.\u001B[39msidebar\u001B[38;5;241m.\u001B[39mselectbox(\n\u001B[1;32m     11\u001B[0m     \u001B[38;5;124m\"\u001B[39m\u001B[38;5;124mTicker\u001B[39m\u001B[38;5;124m\"\u001B[39m, available_tickers, format_func\u001B[38;5;241m=\u001B[39mtickers_companies_dict\u001B[38;5;241m.\u001B[39mget\n\u001B[1;32m     12\u001B[0m )\n\u001B[1;32m     14\u001B[0m start \u001B[38;5;241m=\u001B[39m st\u001B[38;5;241m.\u001B[39msidebar\u001B[38;5;241m.\u001B[39mdate_input(\u001B[38;5;124m\"\u001B[39m\u001B[38;5;124mStart date:\u001B[39m\u001B[38;5;124m\"\u001B[39m, pd\u001B[38;5;241m.\u001B[39mTimestamp(\u001B[38;5;124m\"\u001B[39m\u001B[38;5;124m2020-01-01\u001B[39m\u001B[38;5;124m\"\u001B[39m))\n",
      "Cell \u001B[0;32mIn[2], line 6\u001B[0m, in \u001B[0;36mget_sp500_components\u001B[0;34m()\u001B[0m\n\u001B[1;32m      5\u001B[0m \u001B[38;5;28;01mdef\u001B[39;00m \u001B[38;5;21mget_sp500_components\u001B[39m():\n\u001B[0;32m----> 6\u001B[0m     df \u001B[38;5;241m=\u001B[39m \u001B[43mpd\u001B[49m\u001B[38;5;241;43m.\u001B[39;49m\u001B[43mread_html\u001B[49m\u001B[43m(\u001B[49m\u001B[38;5;124;43m'\u001B[39;49m\u001B[38;5;124;43m<a href=\u001B[39;49m\u001B[38;5;124;43m\"\u001B[39;49m\u001B[38;5;124;43mhttps://en.wikipedia.org/wiki/List_of_S\u001B[39;49m\u001B[38;5;124;43m%\u001B[39;49m\u001B[38;5;124;43m26P_500_companies\u001B[39;49m\u001B[38;5;124;43m\"\u001B[39;49m\u001B[38;5;124;43m target=\u001B[39;49m\u001B[38;5;124;43m\"\u001B[39;49m\u001B[38;5;124;43m_blank\u001B[39;49m\u001B[38;5;124;43m\"\u001B[39;49m\u001B[38;5;124;43m rel=\u001B[39;49m\u001B[38;5;124;43m\"\u001B[39;49m\u001B[38;5;124;43mnoreferrer noopener\u001B[39;49m\u001B[38;5;124;43m\"\u001B[39;49m\u001B[38;5;124;43m>https://en.wikipedia.org/wiki/List_of_S\u001B[39;49m\u001B[38;5;124;43m%\u001B[39;49m\u001B[38;5;124;43m26P_500_companies</a>\u001B[39;49m\u001B[38;5;124;43m'\u001B[39;49m\u001B[43m)\u001B[49m\n\u001B[1;32m      7\u001B[0m     df \u001B[38;5;241m=\u001B[39m df[\u001B[38;5;241m0\u001B[39m]\n\u001B[1;32m      8\u001B[0m     tickers \u001B[38;5;241m=\u001B[39m df[\u001B[38;5;124m\"\u001B[39m\u001B[38;5;124mSymbol\u001B[39m\u001B[38;5;124m\"\u001B[39m]\u001B[38;5;241m.\u001B[39mto_list()\n",
      "File \u001B[0;32m/opt/homebrew/Caskroom/miniforge/base/envs/env_tf/lib/python3.9/site-packages/pandas/util/_decorators.py:331\u001B[0m, in \u001B[0;36mdeprecate_nonkeyword_arguments.<locals>.decorate.<locals>.wrapper\u001B[0;34m(*args, **kwargs)\u001B[0m\n\u001B[1;32m    325\u001B[0m \u001B[38;5;28;01mif\u001B[39;00m \u001B[38;5;28mlen\u001B[39m(args) \u001B[38;5;241m>\u001B[39m num_allow_args:\n\u001B[1;32m    326\u001B[0m     warnings\u001B[38;5;241m.\u001B[39mwarn(\n\u001B[1;32m    327\u001B[0m         msg\u001B[38;5;241m.\u001B[39mformat(arguments\u001B[38;5;241m=\u001B[39m_format_argument_list(allow_args)),\n\u001B[1;32m    328\u001B[0m         \u001B[38;5;167;01mFutureWarning\u001B[39;00m,\n\u001B[1;32m    329\u001B[0m         stacklevel\u001B[38;5;241m=\u001B[39mfind_stack_level(),\n\u001B[1;32m    330\u001B[0m     )\n\u001B[0;32m--> 331\u001B[0m \u001B[38;5;28;01mreturn\u001B[39;00m \u001B[43mfunc\u001B[49m\u001B[43m(\u001B[49m\u001B[38;5;241;43m*\u001B[39;49m\u001B[43margs\u001B[49m\u001B[43m,\u001B[49m\u001B[43m \u001B[49m\u001B[38;5;241;43m*\u001B[39;49m\u001B[38;5;241;43m*\u001B[39;49m\u001B[43mkwargs\u001B[49m\u001B[43m)\u001B[49m\n",
      "File \u001B[0;32m/opt/homebrew/Caskroom/miniforge/base/envs/env_tf/lib/python3.9/site-packages/pandas/io/html.py:1205\u001B[0m, in \u001B[0;36mread_html\u001B[0;34m(io, match, flavor, header, index_col, skiprows, attrs, parse_dates, thousands, encoding, decimal, converters, na_values, keep_default_na, displayed_only, extract_links)\u001B[0m\n\u001B[1;32m   1201\u001B[0m validate_header_arg(header)\n\u001B[1;32m   1203\u001B[0m io \u001B[38;5;241m=\u001B[39m stringify_path(io)\n\u001B[0;32m-> 1205\u001B[0m \u001B[38;5;28;01mreturn\u001B[39;00m \u001B[43m_parse\u001B[49m\u001B[43m(\u001B[49m\n\u001B[1;32m   1206\u001B[0m \u001B[43m    \u001B[49m\u001B[43mflavor\u001B[49m\u001B[38;5;241;43m=\u001B[39;49m\u001B[43mflavor\u001B[49m\u001B[43m,\u001B[49m\n\u001B[1;32m   1207\u001B[0m \u001B[43m    \u001B[49m\u001B[43mio\u001B[49m\u001B[38;5;241;43m=\u001B[39;49m\u001B[43mio\u001B[49m\u001B[43m,\u001B[49m\n\u001B[1;32m   1208\u001B[0m \u001B[43m    \u001B[49m\u001B[43mmatch\u001B[49m\u001B[38;5;241;43m=\u001B[39;49m\u001B[43mmatch\u001B[49m\u001B[43m,\u001B[49m\n\u001B[1;32m   1209\u001B[0m \u001B[43m    \u001B[49m\u001B[43mheader\u001B[49m\u001B[38;5;241;43m=\u001B[39;49m\u001B[43mheader\u001B[49m\u001B[43m,\u001B[49m\n\u001B[1;32m   1210\u001B[0m \u001B[43m    \u001B[49m\u001B[43mindex_col\u001B[49m\u001B[38;5;241;43m=\u001B[39;49m\u001B[43mindex_col\u001B[49m\u001B[43m,\u001B[49m\n\u001B[1;32m   1211\u001B[0m \u001B[43m    \u001B[49m\u001B[43mskiprows\u001B[49m\u001B[38;5;241;43m=\u001B[39;49m\u001B[43mskiprows\u001B[49m\u001B[43m,\u001B[49m\n\u001B[1;32m   1212\u001B[0m \u001B[43m    \u001B[49m\u001B[43mparse_dates\u001B[49m\u001B[38;5;241;43m=\u001B[39;49m\u001B[43mparse_dates\u001B[49m\u001B[43m,\u001B[49m\n\u001B[1;32m   1213\u001B[0m \u001B[43m    \u001B[49m\u001B[43mthousands\u001B[49m\u001B[38;5;241;43m=\u001B[39;49m\u001B[43mthousands\u001B[49m\u001B[43m,\u001B[49m\n\u001B[1;32m   1214\u001B[0m \u001B[43m    \u001B[49m\u001B[43mattrs\u001B[49m\u001B[38;5;241;43m=\u001B[39;49m\u001B[43mattrs\u001B[49m\u001B[43m,\u001B[49m\n\u001B[1;32m   1215\u001B[0m \u001B[43m    \u001B[49m\u001B[43mencoding\u001B[49m\u001B[38;5;241;43m=\u001B[39;49m\u001B[43mencoding\u001B[49m\u001B[43m,\u001B[49m\n\u001B[1;32m   1216\u001B[0m \u001B[43m    \u001B[49m\u001B[43mdecimal\u001B[49m\u001B[38;5;241;43m=\u001B[39;49m\u001B[43mdecimal\u001B[49m\u001B[43m,\u001B[49m\n\u001B[1;32m   1217\u001B[0m \u001B[43m    \u001B[49m\u001B[43mconverters\u001B[49m\u001B[38;5;241;43m=\u001B[39;49m\u001B[43mconverters\u001B[49m\u001B[43m,\u001B[49m\n\u001B[1;32m   1218\u001B[0m \u001B[43m    \u001B[49m\u001B[43mna_values\u001B[49m\u001B[38;5;241;43m=\u001B[39;49m\u001B[43mna_values\u001B[49m\u001B[43m,\u001B[49m\n\u001B[1;32m   1219\u001B[0m \u001B[43m    \u001B[49m\u001B[43mkeep_default_na\u001B[49m\u001B[38;5;241;43m=\u001B[39;49m\u001B[43mkeep_default_na\u001B[49m\u001B[43m,\u001B[49m\n\u001B[1;32m   1220\u001B[0m \u001B[43m    \u001B[49m\u001B[43mdisplayed_only\u001B[49m\u001B[38;5;241;43m=\u001B[39;49m\u001B[43mdisplayed_only\u001B[49m\u001B[43m,\u001B[49m\n\u001B[1;32m   1221\u001B[0m \u001B[43m    \u001B[49m\u001B[43mextract_links\u001B[49m\u001B[38;5;241;43m=\u001B[39;49m\u001B[43mextract_links\u001B[49m\u001B[43m,\u001B[49m\n\u001B[1;32m   1222\u001B[0m \u001B[43m\u001B[49m\u001B[43m)\u001B[49m\n",
      "File \u001B[0;32m/opt/homebrew/Caskroom/miniforge/base/envs/env_tf/lib/python3.9/site-packages/pandas/io/html.py:1006\u001B[0m, in \u001B[0;36m_parse\u001B[0;34m(flavor, io, match, attrs, encoding, displayed_only, extract_links, **kwargs)\u001B[0m\n\u001B[1;32m   1004\u001B[0m \u001B[38;5;28;01melse\u001B[39;00m:\n\u001B[1;32m   1005\u001B[0m     \u001B[38;5;28;01massert\u001B[39;00m retained \u001B[38;5;129;01mis\u001B[39;00m \u001B[38;5;129;01mnot\u001B[39;00m \u001B[38;5;28;01mNone\u001B[39;00m  \u001B[38;5;66;03m# for mypy\u001B[39;00m\n\u001B[0;32m-> 1006\u001B[0m     \u001B[38;5;28;01mraise\u001B[39;00m retained\n\u001B[1;32m   1008\u001B[0m ret \u001B[38;5;241m=\u001B[39m []\n\u001B[1;32m   1009\u001B[0m \u001B[38;5;28;01mfor\u001B[39;00m table \u001B[38;5;129;01min\u001B[39;00m tables:\n",
      "File \u001B[0;32m/opt/homebrew/Caskroom/miniforge/base/envs/env_tf/lib/python3.9/site-packages/pandas/io/html.py:986\u001B[0m, in \u001B[0;36m_parse\u001B[0;34m(flavor, io, match, attrs, encoding, displayed_only, extract_links, **kwargs)\u001B[0m\n\u001B[1;32m    983\u001B[0m p \u001B[38;5;241m=\u001B[39m parser(io, compiled_match, attrs, encoding, displayed_only, extract_links)\n\u001B[1;32m    985\u001B[0m \u001B[38;5;28;01mtry\u001B[39;00m:\n\u001B[0;32m--> 986\u001B[0m     tables \u001B[38;5;241m=\u001B[39m \u001B[43mp\u001B[49m\u001B[38;5;241;43m.\u001B[39;49m\u001B[43mparse_tables\u001B[49m\u001B[43m(\u001B[49m\u001B[43m)\u001B[49m\n\u001B[1;32m    987\u001B[0m \u001B[38;5;28;01mexcept\u001B[39;00m \u001B[38;5;167;01mValueError\u001B[39;00m \u001B[38;5;28;01mas\u001B[39;00m caught:\n\u001B[1;32m    988\u001B[0m     \u001B[38;5;66;03m# if `io` is an io-like object, check if it's seekable\u001B[39;00m\n\u001B[1;32m    989\u001B[0m     \u001B[38;5;66;03m# and try to rewind it before trying the next parser\u001B[39;00m\n\u001B[1;32m    990\u001B[0m     \u001B[38;5;28;01mif\u001B[39;00m \u001B[38;5;28mhasattr\u001B[39m(io, \u001B[38;5;124m\"\u001B[39m\u001B[38;5;124mseekable\u001B[39m\u001B[38;5;124m\"\u001B[39m) \u001B[38;5;129;01mand\u001B[39;00m io\u001B[38;5;241m.\u001B[39mseekable():\n",
      "File \u001B[0;32m/opt/homebrew/Caskroom/miniforge/base/envs/env_tf/lib/python3.9/site-packages/pandas/io/html.py:262\u001B[0m, in \u001B[0;36m_HtmlFrameParser.parse_tables\u001B[0;34m(self)\u001B[0m\n\u001B[1;32m    254\u001B[0m \u001B[38;5;28;01mdef\u001B[39;00m \u001B[38;5;21mparse_tables\u001B[39m(\u001B[38;5;28mself\u001B[39m):\n\u001B[1;32m    255\u001B[0m     \u001B[38;5;124;03m\"\"\"\u001B[39;00m\n\u001B[1;32m    256\u001B[0m \u001B[38;5;124;03m    Parse and return all tables from the DOM.\u001B[39;00m\n\u001B[1;32m    257\u001B[0m \n\u001B[0;32m   (...)\u001B[0m\n\u001B[1;32m    260\u001B[0m \u001B[38;5;124;03m    list of parsed (header, body, footer) tuples from tables.\u001B[39;00m\n\u001B[1;32m    261\u001B[0m \u001B[38;5;124;03m    \"\"\"\u001B[39;00m\n\u001B[0;32m--> 262\u001B[0m     tables \u001B[38;5;241m=\u001B[39m \u001B[38;5;28;43mself\u001B[39;49m\u001B[38;5;241;43m.\u001B[39;49m\u001B[43m_parse_tables\u001B[49m\u001B[43m(\u001B[49m\u001B[38;5;28;43mself\u001B[39;49m\u001B[38;5;241;43m.\u001B[39;49m\u001B[43m_build_doc\u001B[49m\u001B[43m(\u001B[49m\u001B[43m)\u001B[49m\u001B[43m,\u001B[49m\u001B[43m \u001B[49m\u001B[38;5;28;43mself\u001B[39;49m\u001B[38;5;241;43m.\u001B[39;49m\u001B[43mmatch\u001B[49m\u001B[43m,\u001B[49m\u001B[43m \u001B[49m\u001B[38;5;28;43mself\u001B[39;49m\u001B[38;5;241;43m.\u001B[39;49m\u001B[43mattrs\u001B[49m\u001B[43m)\u001B[49m\n\u001B[1;32m    263\u001B[0m     \u001B[38;5;28;01mreturn\u001B[39;00m (\u001B[38;5;28mself\u001B[39m\u001B[38;5;241m.\u001B[39m_parse_thead_tbody_tfoot(table) \u001B[38;5;28;01mfor\u001B[39;00m table \u001B[38;5;129;01min\u001B[39;00m tables)\n",
      "File \u001B[0;32m/opt/homebrew/Caskroom/miniforge/base/envs/env_tf/lib/python3.9/site-packages/pandas/io/html.py:618\u001B[0m, in \u001B[0;36m_BeautifulSoupHtml5LibFrameParser._parse_tables\u001B[0;34m(self, doc, match, attrs)\u001B[0m\n\u001B[1;32m    615\u001B[0m tables \u001B[38;5;241m=\u001B[39m doc\u001B[38;5;241m.\u001B[39mfind_all(element_name, attrs\u001B[38;5;241m=\u001B[39mattrs)\n\u001B[1;32m    617\u001B[0m \u001B[38;5;28;01mif\u001B[39;00m \u001B[38;5;129;01mnot\u001B[39;00m tables:\n\u001B[0;32m--> 618\u001B[0m     \u001B[38;5;28;01mraise\u001B[39;00m \u001B[38;5;167;01mValueError\u001B[39;00m(\u001B[38;5;124m\"\u001B[39m\u001B[38;5;124mNo tables found\u001B[39m\u001B[38;5;124m\"\u001B[39m)\n\u001B[1;32m    620\u001B[0m result \u001B[38;5;241m=\u001B[39m []\n\u001B[1;32m    621\u001B[0m unique_tables \u001B[38;5;241m=\u001B[39m \u001B[38;5;28mset\u001B[39m()\n",
      "\u001B[0;31mValueError\u001B[0m: No tables found"
     ]
    }
   ],
   "source": [
    "# Set the title of the app, add a brief description, and set up the select boxes.\n",
    "\n",
    "indicators = [\"Simple Moving Average\", \"Exponential Moving Average\",\"Relative Strength Index\",]\n",
    "def apply_indicator(indicator, data): if indicator == \"Simple Moving Average\":  sma = talib.SMA(data[\"Close\"])return pd.DataFrame({\"Close\": data[\"Close\"], \"SMA\": sma})<br>    elif indicator == \"Exponential Moving Average\":<br>        ema = talib.EMA(data[\"Close\"])<br>        return pd.DataFrame({\"Close\": data[\"Close\"], \"EMA\": ema})<br>    elif indicator == \"Relative Strength Index\":<br>        rsi = talib.RSI(data[\"Close\"])<br>        return pd.DataFrame({\"Close\": data[\"Close\"], \"RSI\": rsi})\n",
    "\n",
    "\n",
    "st.title(\"Stock Data Analysis\")\n",
    "st.write(\"A simple app to download stock data and apply technical analysis indicators.\")\n",
    "\n",
    "st.sidebar.header(\"Stock Parameters\")\n",
    "\n",
    "available_tickers, tickers_companies_dict = get_sp500_components()\n",
    "\n",
    "ticker = st.sidebar.selectbox(\n",
    "    \"Ticker\", available_tickers, format_func=tickers_companies_dict.get\n",
    ")\n",
    "\n",
    "start = st.sidebar.date_input(\"Start date:\", pd.Timestamp(\"2020-01-01\"))\n",
    "end = st.sidebar.date_input(\"End date:\", pd.Timestamp(\"2021-12-31\"))\n",
    "# Finally, download the data, apply the selected indicator, and create the chart and data table.\n",
    "\n",
    "data = yf.download(ticker, start, end)\n",
    "\n",
    "selected_indicator = st.selectbox(\"Select a technical analysis indicator:\", indicators)\n",
    "\n",
    "indicator_data = apply_indicator(selected_indicator, data)\n",
    "\n",
    "st.write(f\"{selected_indicator} for {ticker}\")\n",
    "st.line_chart(indicator_data)\n",
    "\n",
    "st.write(\"Stock data for\", ticker)\n",
    "st.dataframe(data)\n"
   ],
   "metadata": {
    "collapsed": false,
    "ExecuteTime": {
     "end_time": "2023-06-18T16:11:48.520877Z",
     "start_time": "2023-06-18T16:11:47.951303Z"
    }
   }
  },
  {
   "cell_type": "code",
   "execution_count": null,
   "outputs": [],
   "source": [
    "# That’s it! Now to run the app, enter the command at your terminal window in the same directory as the script you created.\n",
    "\n",
    "streamlit run stock_data_analysis.py"
   ],
   "metadata": {
    "collapsed": false
   }
  }
 ],
 "metadata": {
  "kernelspec": {
   "display_name": "Python 3",
   "language": "python",
   "name": "python3"
  },
  "language_info": {
   "codemirror_mode": {
    "name": "ipython",
    "version": 2
   },
   "file_extension": ".py",
   "mimetype": "text/x-python",
   "name": "python",
   "nbconvert_exporter": "python",
   "pygments_lexer": "ipython2",
   "version": "2.7.6"
  }
 },
 "nbformat": 4,
 "nbformat_minor": 0
}
