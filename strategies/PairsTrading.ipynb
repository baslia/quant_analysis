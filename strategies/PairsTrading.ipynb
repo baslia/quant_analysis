{
 "cells": [
  {
   "cell_type": "markdown",
   "source": [
    "This is an illustrative example of a Pairs Trading involving Coca-Cola (KO) and PepsiCo (PEP), despite being fundamentaly different companies, for example, KO has half the sales of PEP but has a higher Net Income however they both manufacture, distribute and sell soft beverages.\n",
    "\n",
    "But the market already knows past information if any new information is released, specially if affects both companies like for example new regulations affecting the beverage market, its expected that it will affect both companies in the same way therefore the price of each should move in the same direction.\n",
    "\n",
    "This strategy falls under the expectation that when prices depart from their historic equilibrium (quantified here as rolling correlation), the company that valued less in the last week will catchup during the trade session, being the positions open at open price (slippage & transaction costs can be factored in but aren't accounted for) and sold at close"
   ],
   "metadata": {
    "collapsed": false
   },
   "id": "75a24850bec4de8"
  },
  {
   "cell_type": "code",
   "outputs": [],
   "source": [
    "# For yahoo finance\n",
    "import io\n",
    "import re\n",
    "import requests\n",
    "\n",
    "# The usual suspects\n",
    "import numpy as np\n",
    "import pandas as pd\n",
    "import matplotlib.pyplot as plt\n",
    "\n",
    "# Fancy graphics\n",
    "# plt.style.use('seaborn')\n",
    "\n",
    "# Getting Yahoo finance data\n",
    "def getdata(tickers,start,end,frequency):\n",
    "    OHLC = {}\n",
    "    cookie = ''\n",
    "    crumb = ''\n",
    "    res = requests.get('https://finance.yahoo.com/quote/SPY/history')\n",
    "    cookie = res.cookies['B']\n",
    "    pattern = re.compile('.*\"CrumbStore\":\\{\"crumb\":\"(?P<crumb>[^\"]+)\"\\}')\n",
    "    for line in res.text.splitlines():\n",
    "        m = pattern.match(line)\n",
    "        if m is not None:\n",
    "            crumb = m.groupdict()['crumb']\n",
    "    for ticker in tickers:\n",
    "        url_str = \"https://query1.finance.yahoo.com/v7/finance/download/%s\"\n",
    "        url_str += \"?period1=%s&period2=%s&interval=%s&events=history&crumb=%s\"\n",
    "        url = url_str % (ticker, start, end, frequency, crumb)\n",
    "        res = requests.get(url, cookies={'B': cookie}).text\n",
    "        OHLC[ticker] = pd.read_csv(io.StringIO(res), index_col=0, error_bad_lines=False).replace('null', np.nan).dropna()\n",
    "        OHLC[ticker].index = pd.to_datetime(OHLC[ticker].index)\n",
    "        OHLC[ticker] = OHLC[ticker].apply(pd.to_numeric)\n",
    "    return OHLC\n",
    "\n",
    "# Assets under consideration\n",
    "tickers = ['PEP','KO']\n",
    "\n",
    "data = None\n",
    "while data is None:\n",
    "    try:\n",
    "        data = getdata(tickers,'946685000','1687427200','1d')\n",
    "    except:\n",
    "         pass\n",
    "\n",
    "KO = data['KO']\n",
    "PEP = data['PEP']"
   ],
   "metadata": {
    "collapsed": false,
    "is_executing": true,
    "ExecuteTime": {
     "start_time": "2023-12-25T16:39:43.109758Z"
    }
   },
   "id": "61f311ff936577d2",
   "execution_count": null
  },
  {
   "cell_type": "code",
   "outputs": [],
   "source": [
    "#tc = -0.0005 # Transaction costs\n",
    "\n",
    "pairs = pd.DataFrame({'TPEP':PEP['Close'].shift(1)/PEP['Close'].shift(2)-1,\n",
    "                      'TKO':KO['Close'].shift(1)/KO['Close'].shift(2)-1})\n",
    "\n",
    "# Criteria to select which asset we're going to buy, in this case, the one that had the lowest return yesterday\n",
    "pairs['Target'] = pairs.min(axis=1)\n",
    "\n",
    "# Signal that triggers the purchase of the asset\n",
    "pairs['Correlation'] = ((PEP['Close'].shift(1)/PEP['Close'].shift(20)-1).rolling(window=9)\n",
    "                        .corr((KO['Close'].shift(1)/KO['Close'].shift(20)-1)))\n",
    "\n",
    "Signal = pairs['Correlation'] < 0.9\n",
    "\n",
    "# We're holding positions that weren't profitable yesterday\n",
    "HoldingYesterdayPosition = ((pairs['Target'].shift(1).isin(pairs['TPEP']) &\n",
    "                             (PEP['Close'].shift(1)/PEP['Open'].shift(1)-1 < 0)) |\n",
    "                            (pairs['Target'].shift(1).isin(pairs['TKO']) &\n",
    "                             (KO['Close'].shift(1)/KO['Open'].shift(1)-1 < 0))) # if tc, add here\n",
    "\n",
    "# Since we aren't using leverage, we can't enter on a new position if\n",
    "# we entered on a position yesterday (and if it wasn't profitable)\n",
    "NoMoney = Signal.shift(1) & HoldingYesterdayPosition\n",
    "\n",
    "pairs['PEP'] = np.where(NoMoney,\n",
    "                        np.nan,\n",
    "                        np.where(PEP['Close']/PEP['Open']-1 < 0,\n",
    "                                 PEP['Close'].shift(-1)/PEP['Open']-1,\n",
    "                                 PEP['Close']/PEP['Open']-1))\n",
    "\n",
    "pairs['KO'] = np.where(NoMoney,\n",
    "                       np.nan,\n",
    "                       np.where(KO['Close']/KO['Open']-1 < 0,\n",
    "                                KO['Close'].shift(-1)/KO['Open']-1,\n",
    "                                KO['Close']/KO['Open']-1))\n",
    "\n",
    "pairs['Returns'] = np.where(Signal,\n",
    "                            np.where(pairs['Target'].isin(pairs['TPEP']),\n",
    "                                      pairs['PEP'],\n",
    "                                      pairs['KO']),\n",
    "                             np.nan) # if tc, add here\n",
    "\n",
    "pairs['CumulativeReturn'] = pairs['Returns'].dropna().cumsum()\n"
   ],
   "metadata": {
    "collapsed": false
   },
   "id": "177fea0793f3ac29"
  },
  {
   "cell_type": "code",
   "outputs": [],
   "source": [
    "# Pepsi returns\n",
    "ReturnPEP = PEP['Close']/PEP['Open']-1\n",
    "BuyHoldPEP = PEP['Adj Close']/float(PEP['Adj Close'][:1])-1\n",
    "\n",
    "# Coca Cola returns\n",
    "ReturnKO = KO['Close']/KO['Open']-1\n",
    "BuyHoldKO = KO['Adj Close']/float(KO['Adj Close'][:1])-1\n",
    "\n",
    "# Benchmark\n",
    "ReturnBoth = (ReturnPEP+ReturnKO)/2\n",
    "BuyHoldBoth = ((BuyHoldPEP+BuyHoldKO)/2).fillna(method='ffill')"
   ],
   "metadata": {
    "collapsed": false
   },
   "id": "44555ac13acc7f03"
  },
  {
   "cell_type": "code",
   "outputs": [],
   "source": [
    "returns = pairs['Returns'].dropna()\n",
    "cumulret = pairs['CumulativeReturn'].dropna()\n",
    "\n",
    "fig, ax = plt.subplots(figsize=(16,6))\n",
    "\n",
    "hist1, bins1 = np.histogram(ReturnBoth.dropna(), bins=50)\n",
    "width = 0.7 * (bins1[1] - bins1[0])\n",
    "center = (bins1[:-1] + bins1[1:]) / 2\n",
    "\n",
    "ax.bar(center, hist1, align='center', width=width, label='50/50 Returns')\n",
    "\n",
    "hist2, bins2 = np.histogram(returns, bins=50)\n",
    "ax.bar(center, hist2, align='center', width=width, label='Pairs Trading')\n",
    "\n",
    "plt.legend()\n",
    "plt.show()\n",
    "\n",
    "print('=====Strategy Returns=====')\n",
    "print('Mean return =',round((returns.mean())*100,2),\"%\")\n",
    "print('Standard deviaton =',round((returns.std())*100,2),\"%\")\n",
    "print(\"==========================\")\n",
    "print('Worst return =',round((min(returns))*100,2),\"%\")\n",
    "print('Best return =',round((max(returns))*100,2),\"%\")\n",
    "print(\"=========================\")\n",
    "print('Lower quantile =',round((returns.quantile(q=0.25))*100,2),\"%\")\n",
    "print('Median return =',round((returns.quantile(q=0.5))*100,2),\"%\")\n",
    "print('Upper quantile =',round((returns.quantile(q=0.75))*100,2),\"%\")"
   ],
   "metadata": {
    "collapsed": false
   },
   "id": "841a4817befd4658"
  },
  {
   "cell_type": "code",
   "outputs": [],
   "source": [
    "# Some stats, this could be improved by trying to estimate a yearly sharpe, among many others\n",
    "executionrate = len(returns)/len(ReturnBoth)\n",
    "\n",
    "maxdd = round(max(np.maximum.accumulate(cumulret)-cumulret)*100,2)\n",
    "\n",
    "mask = returns<0\n",
    "diffs = np.diff(mask.astype(int))\n",
    "start_mask = np.append(True,diffs==1) \n",
    "mask1 = mask & ~(start_mask & np.append(diffs==-1,True))\n",
    "id = (start_mask & mask1).cumsum()\n",
    "out = np.bincount(id[mask1]-1,returns[mask1])\n",
    "badd = round(max(-out)*100,2)\n",
    "\n",
    "spositive = returns[returns > 0]\n",
    "snegative = -returns[returns < 0]\n",
    "winrate = round((len(spositive)/(len(spositive)+len(snegative)))*100,2)\n",
    "\n",
    "beta = round(returns.corr(ReturnBoth),2)\n",
    "\n",
    "sharpe = round((float(cumulret[-1:]))/cumulret.std(),2)\n",
    "\n",
    "tret = round((float(cumulret[-1:]))*100,2)"
   ],
   "metadata": {
    "collapsed": false
   },
   "id": "c1747f6c4d3794ca"
  },
  {
   "cell_type": "code",
   "outputs": [],
   "source": [
    "plt.figure(figsize=(16,6))\n",
    "plt.plot(BuyHoldBoth*100, label='Buy & Hold 50/50')\n",
    "plt.plot(cumulret*100, label='Pairs Trading', color='coral')\n",
    "plt.xlabel('Time')\n",
    "plt.ylabel('Returns (in %)')\n",
    "plt.margins(x=0.005,y=0.02)\n",
    "plt.axhline(y=0, xmin=0, xmax=1, linestyle='--', color='k')\n",
    "plt.legend()\n",
    "plt.show()\n",
    "\n",
    "print(\"Cumulative Return = \",tret,\"%\")\n",
    "print(\"=========================\")\n",
    "print(\"Execution Rate = \",round(executionrate*100,2),\"%\")\n",
    "print(\"Win Rate = \",winrate,\"%\")\n",
    "print(\"=========================\")\n",
    "print(\"Maximum Loss = \",maxdd,\"%\")\n",
    "print(\"Maximum Consecutive Loss = \",badd,\"%\")\n",
    "print(\"=========================\")\n",
    "print(\"Beta = \",beta)\n",
    "print(\"Sharpe = \",sharpe)"
   ],
   "metadata": {
    "collapsed": false
   },
   "id": "fe544acf35697e0"
  },
  {
   "cell_type": "code",
   "outputs": [],
   "source": [
    "BuyHoldBothYTD = (((PEP['Adj Close'][-252:]/float(PEP['Adj Close'][-252])-1)+(KO['Adj Close'][-252:]/float(KO['Adj Close'][-252])-1))/2).fillna(method='ffill')\n",
    "StrategyYTD = returns[-92:].cumsum()\n",
    "\n",
    "plt.figure(figsize=(16,6))\n",
    "plt.plot(BuyHoldBothYTD*100, label='Buy & Hold 50/50')\n",
    "plt.plot(StrategyYTD*100, label='Pairs Trading', color='coral')\n",
    "plt.xlabel('Time')\n",
    "plt.ylabel('Returns (in %)')\n",
    "plt.margins(x=0.005,y=0.02)\n",
    "plt.axhline(y=0, xmin=0, xmax=1, linestyle='--', color='k')\n",
    "plt.legend()\n",
    "plt.show()\n",
    "\n",
    "print('Buy & Hold 50/50 YTD Performance (at 1 July 2020) =',round(float(BuyHoldBothYTD[-1:]*100),1),'%')\n",
    "print('Strategy YTD Performance =',round(float(StrategyYTD[-1:]*100),1),'%')"
   ],
   "metadata": {
    "collapsed": false
   },
   "id": "5aa006fef3234a30"
  }
 ],
 "metadata": {
  "kernelspec": {
   "display_name": "Python 3",
   "language": "python",
   "name": "python3"
  },
  "language_info": {
   "codemirror_mode": {
    "name": "ipython",
    "version": 2
   },
   "file_extension": ".py",
   "mimetype": "text/x-python",
   "name": "python",
   "nbconvert_exporter": "python",
   "pygments_lexer": "ipython2",
   "version": "2.7.6"
  }
 },
 "nbformat": 4,
 "nbformat_minor": 5
}
