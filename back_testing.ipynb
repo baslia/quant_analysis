{
 "cells": [
  {
   "cell_type": "code",
   "execution_count": 1,
   "metadata": {
    "collapsed": true,
    "ExecuteTime": {
     "start_time": "2023-04-04T14:33:07.957431Z",
     "end_time": "2023-04-04T14:33:10.228043Z"
    }
   },
   "outputs": [],
   "source": [
    "# Imports and setup\n",
    "\n",
    "import pandas as pd\n",
    "import pandas_datareader.data as web\n",
    "\n",
    "import matplotlib.pyplot as plt\n",
    "\n",
    "from zipline import run_algorithm\n",
    "from zipline.api import order_target, record, symbol\n",
    "from zipline.finance import commission, slippage\n",
    "\n",
    "import pyfolio as pf\n",
    "\n",
    "import warnings\n",
    "warnings.filterwarnings('ignore')"
   ]
  },
  {
   "cell_type": "code",
   "execution_count": 2,
   "outputs": [],
   "source": [
    "%load_ext zipline"
   ],
   "metadata": {
    "collapsed": false,
    "ExecuteTime": {
     "start_time": "2023-04-04T14:33:22.587412Z",
     "end_time": "2023-04-04T14:33:22.590226Z"
    }
   }
  },
  {
   "cell_type": "code",
   "execution_count": 3,
   "outputs": [
    {
     "name": "stdout",
     "output_type": "stream",
     "text": [
      "[2023-04-04T14:33:36+0200-INFO][zipline.data.bundles.core]\r\n",
      " Ingesting quandl\r\n",
      "Traceback (most recent call last):\r\n",
      "  File \"/opt/homebrew/Caskroom/miniforge/base/envs/env_tf/bin/zipline\", line 8, in <module>\r\n",
      "    sys.exit(main())\r\n",
      "  File \"/opt/homebrew/Caskroom/miniforge/base/envs/env_tf/lib/python3.9/site-packages/click/core.py\", line 1130, in __call__\r\n",
      "    return self.main(*args, **kwargs)\r\n",
      "  File \"/opt/homebrew/Caskroom/miniforge/base/envs/env_tf/lib/python3.9/site-packages/click/core.py\", line 1055, in main\r\n",
      "    rv = self.invoke(ctx)\r\n",
      "  File \"/opt/homebrew/Caskroom/miniforge/base/envs/env_tf/lib/python3.9/site-packages/click/core.py\", line 1657, in invoke\r\n",
      "    return _process_result(sub_ctx.command.invoke(sub_ctx))\r\n",
      "  File \"/opt/homebrew/Caskroom/miniforge/base/envs/env_tf/lib/python3.9/site-packages/click/core.py\", line 1404, in invoke\r\n",
      "    return ctx.invoke(self.callback, **ctx.params)\r\n",
      "  File \"/opt/homebrew/Caskroom/miniforge/base/envs/env_tf/lib/python3.9/site-packages/click/core.py\", line 760, in invoke\r\n",
      "    return __callback(*args, **kwargs)\r\n",
      "  File \"/opt/homebrew/Caskroom/miniforge/base/envs/env_tf/lib/python3.9/site-packages/zipline/__main__.py\", line 397, in ingest\r\n",
      "    bundles_module.ingest(\r\n",
      "  File \"/opt/homebrew/Caskroom/miniforge/base/envs/env_tf/lib/python3.9/site-packages/zipline/data/bundles/core.py\", line 445, in ingest\r\n",
      "    bundle.ingest(\r\n",
      "  File \"/opt/homebrew/Caskroom/miniforge/base/envs/env_tf/lib/python3.9/site-packages/zipline/data/bundles/quandl.py\", line 180, in quandl_bundle\r\n",
      "    raise ValueError(\r\n",
      "ValueError: Please set your QUANDL_API_KEY environment variable and retry.\r\n"
     ]
    }
   ],
   "source": [
    "# Ingesting free data price\n",
    "! zipline ingest -b quandl"
   ],
   "metadata": {
    "collapsed": false,
    "ExecuteTime": {
     "start_time": "2023-04-04T14:33:33.503934Z",
     "end_time": "2023-04-04T14:33:36.675725Z"
    }
   }
  },
  {
   "cell_type": "code",
   "execution_count": null,
   "outputs": [],
   "source": [
    "def initialize(context):\n",
    "    context.i = 0\n",
    "    context.asset = symbol(\"AAPL\")\n",
    "\n",
    "    context.set_commission(commission.PerShare(cost=0.01))\n",
    "    context.set_slippage(slippage.FixedSlippage(spread=0.01))"
   ],
   "metadata": {
    "collapsed": false
   }
  },
  {
   "cell_type": "code",
   "execution_count": null,
   "outputs": [],
   "source": [
    "def handle_data(context, data):\n",
    "    # Skip first 50 days to get full windows\n",
    "    context.i += 1\n",
    "    if context.i < 50:\n",
    "        return\n",
    "\n",
    "    # Compute averages\n",
    "    # data.history() has to be called with the same params\n",
    "    # from above and returns a pandas dataframe.\n",
    "    short_mavg = data.history(\n",
    "        context.asset,\n",
    "        \"price\",\n",
    "        bar_count=14,\n",
    "        frequency=\"1d\"\n",
    "    ).mean()\n",
    "\n",
    "    long_mavg = data.history(\n",
    "        context.asset,\n",
    "        \"price\",\n",
    "        bar_count=50,\n",
    "        frequency=\"1d\"\n",
    "    ).mean()\n",
    "\n",
    "    # Trading logic\n",
    "    if short_mavg > long_mavg:\n",
    "        # order_target orders as many shares as needed to\n",
    "        # achieve the desired number of shares.\n",
    "        order_target(context.asset, 100)\n",
    "    elif short_mavg < long_mavg:\n",
    "        order_target(context.asset, 0)"
   ],
   "metadata": {
    "collapsed": false
   }
  },
  {
   "cell_type": "code",
   "execution_count": null,
   "outputs": [],
   "source": [
    "start = pd.Timestamp('2000')\n",
    "end = pd.Timestamp('2018')\n",
    "\n",
    "sp500 = web.DataReader('SP500', 'fred', start, end).SP500\n",
    "benchmark_returns = sp500.pct_change()\n",
    "\n",
    "perf = run_algorithm(\n",
    "    start=start,\n",
    "    end=end,\n",
    "    initialize=initialize,\n",
    "    handle_data=handle_data,\n",
    "    analyze=analyze,\n",
    "    capital_base=100000,\n",
    "    benchmark_returns=benchmark_returns,\n",
    "    bundle=\"quandl\",\n",
    "    data_frequency=\"daily\",\n",
    ")"
   ],
   "metadata": {
    "collapsed": false
   }
  },
  {
   "cell_type": "code",
   "execution_count": null,
   "outputs": [],
   "source": [
    "returns, positions, transactions = \\\n",
    "    pf.utils.extract_rets_pos_txn_from_zipline(perf)\n",
    "\n",
    "pf.create_full_tear_sheet(\n",
    "    returns,\n",
    "    positions=positions,\n",
    "    transactions=transactions,\n",
    "    live_start_date=\"2016-01-01\",\n",
    "    round_trips=True,\n",
    ")"
   ],
   "metadata": {
    "collapsed": false
   }
  }
 ],
 "metadata": {
  "kernelspec": {
   "display_name": "Python 3",
   "language": "python",
   "name": "python3"
  },
  "language_info": {
   "codemirror_mode": {
    "name": "ipython",
    "version": 2
   },
   "file_extension": ".py",
   "mimetype": "text/x-python",
   "name": "python",
   "nbconvert_exporter": "python",
   "pygments_lexer": "ipython2",
   "version": "2.7.6"
  }
 },
 "nbformat": 4,
 "nbformat_minor": 0
}
