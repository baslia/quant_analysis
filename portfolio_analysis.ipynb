{
 "cells": [
  {
   "cell_type": "markdown",
   "source": [
    "# How an old Nintendo baddie boosts portfolio analysis\n",
    "\n",
    "K-medoids is similar to k-means except k-means clusters data by assigning points to the nearest mean of a cluster, while k-medoids assigns points to the nearest actual data point. The data point is designated as the \"medoid\" of a cluster.\n",
    "\n",
    "In the context of clustering portfolio returns and volatility, k-medoids is more robust to outliers, since it uses actual portfolio feature values as cluster centers, whereas k-means can be influenced by extreme returns or volatilities. In the case of a portfolio of high-volatility tech stocks, this can be a problem.\n",
    "\n",
    "By understanding k-medoids and how it's used in practice, you can make more informed decisions about your investments."
   ],
   "metadata": {
    "collapsed": false
   },
   "id": "b49cf2b6c4a62e2f"
  },
  {
   "cell_type": "markdown",
   "source": [
    "## Imports and set up\n",
    "\n",
    "We’ll use the scikit-learn-extra module to run the k-medoids analysis. scikit-learn-extra is a module for machine learning that extends scikit-learn. It includes algorithms that are useful but do not satisfy the scikit-learn inclusion criteria."
   ],
   "metadata": {
    "collapsed": false
   },
   "id": "ffcadb112522c5ac"
  },
  {
   "cell_type": "code",
   "execution_count": null,
   "outputs": [],
   "source": [
    "import numpy as np\n",
    "import pandas as pd\n",
    "from sklearn_extra.cluster import KMedoids\n",
    "import matplotlib.pyplot as plt\n",
    "from openbb_terminal.sdk import openbb"
   ],
   "metadata": {
    "collapsed": false,
    "is_executing": true
   },
   "id": "7130a09a409f4415"
  },
  {
   "cell_type": "code",
   "execution_count": null,
   "outputs": [],
   "source": [
    "nq = pd.read_html(\"https://en.wikipedia.org/wiki/Nasdaq-100\")[4]\n",
    "symbols = nq.Ticker.tolist()\n",
    "data = openbb.stocks.ca.hist(\n",
    "    symbols, \n",
    "    start_date=\"2020-01-01\", \n",
    "    end_date=\"2022-12-31\"\n",
    ")"
   ],
   "metadata": {
    "collapsed": false
   },
   "id": "de444c215b89442d"
  },
  {
   "cell_type": "code",
   "execution_count": null,
   "outputs": [],
   "source": [
    "moments = (\n",
    "    data\n",
    "    .pct_change()\n",
    "    .describe()\n",
    "    .T[[\"mean\", \"std\"]]\n",
    "    .rename(columns={\"mean\": \"returns\", \"std\": \"vol\"})\n",
    ") * [252, np.sqrt(252)]"
   ],
   "metadata": {
    "collapsed": false
   },
   "id": "cff13b6ae648fcd5"
  },
  {
   "cell_type": "markdown",
   "source": [
    "# Running the k-medoid analysis\n",
    "\n",
    "Getting the medoids is only one line of code. The remaining code creates colors for the points in each cluster."
   ],
   "metadata": {
    "collapsed": false
   },
   "id": "d4bc60828042f12b"
  },
  {
   "cell_type": "code",
   "execution_count": null,
   "outputs": [],
   "source": [
    "km = KMedoids(n_clusters=5).fit(moments)\n",
    "labels = km.labels_\n",
    "unique_labels = set(labels)\n",
    "colors = [\n",
    "    plt.cm.Spectral(each) for each in np.linspace(0, 1, len(unique_labels))\n",
    "]"
   ],
   "metadata": {
    "collapsed": false
   },
   "id": "bd4b269c55b28718"
  },
  {
   "cell_type": "code",
   "execution_count": null,
   "outputs": [],
   "source": [
    "for k, col in zip(unique_labels, colors):\n",
    "    class_member_mask = labels == k\n",
    "\n",
    "    xy = moments[class_member_mask]\n",
    "    plt.plot(\n",
    "        xy.iloc[:, 0],\n",
    "        xy.iloc[:, 1],\n",
    "        \"o\",\n",
    "        markerfacecolor=tuple(col),\n",
    "        markeredgecolor=\"k\",\n",
    "    )\n",
    "\n",
    "plt.plot(\n",
    "    km.cluster_centers_[:, 0],\n",
    "    km.cluster_centers_[:, 1],\n",
    "    \"o\",\n",
    "    markerfacecolor=\"cyan\",\n",
    "    markeredgecolor=\"k\",\n",
    ")\n",
    "plt.xlabel(\"Return\")\n",
    "plt.ylabel(\"Ann. Vol.\")"
   ],
   "metadata": {
    "collapsed": false
   },
   "id": "de279b617cd07e98"
  },
  {
   "cell_type": "markdown",
   "source": [
    "Each cluster represents a set of stocks with similar risk-return characteristics. By examining these clusters, we can identify stocks that are statistically similar in terms of their performance metrics.\n",
    "\n",
    "This information is valuable for asset allocation strategies when seeking specific risk and return objectives. For instance, a cluster with high returns and low volatility would be particularly appealing for risk-averse investors seeking stable growth.\n",
    "\n",
    "Conversely, a cluster with high returns and high volatility might be more suitable for investors with a higher risk tolerance."
   ],
   "metadata": {
    "collapsed": false
   },
   "id": "eb82c1173a2edda6"
  },
  {
   "cell_type": "code",
   "execution_count": null,
   "outputs": [],
   "source": [],
   "metadata": {
    "collapsed": false
   },
   "id": "113ab4094b6c12d6"
  }
 ],
 "metadata": {
  "kernelspec": {
   "display_name": "Python 3",
   "language": "python",
   "name": "python3"
  },
  "language_info": {
   "codemirror_mode": {
    "name": "ipython",
    "version": 2
   },
   "file_extension": ".py",
   "mimetype": "text/x-python",
   "name": "python",
   "nbconvert_exporter": "python",
   "pygments_lexer": "ipython2",
   "version": "2.7.6"
  }
 },
 "nbformat": 4,
 "nbformat_minor": 5
}
