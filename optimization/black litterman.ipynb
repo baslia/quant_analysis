{
 "cells": [
  {
   "cell_type": "code",
   "id": "initial_id",
   "metadata": {
    "collapsed": true,
    "ExecuteTime": {
     "end_time": "2024-12-09T08:21:42.421846Z",
     "start_time": "2024-12-09T08:21:42.407668Z"
    }
   },
   "source": [
    "import pandas as pd\n",
    "import yfinance as yf\n",
    "\n",
    "from pypfopt import expected_returns, risk_models, black_litterman\n",
    "from pypfopt.black_litterman import BlackLittermanModel\n",
    "from pypfopt.efficient_frontier import EfficientFrontier\n",
    "\n",
    "import warnings\n",
    "warnings.filterwarnings(\"ignore\")"
   ],
   "outputs": [
    {
     "ename": "ModuleNotFoundError",
     "evalue": "No module named 'pypfopt'",
     "output_type": "error",
     "traceback": [
      "\u001B[0;31m---------------------------------------------------------------------------\u001B[0m",
      "\u001B[0;31mModuleNotFoundError\u001B[0m                       Traceback (most recent call last)",
      "Cell \u001B[0;32mIn[2], line 4\u001B[0m\n\u001B[1;32m      1\u001B[0m \u001B[38;5;28;01mimport\u001B[39;00m \u001B[38;5;21;01mpandas\u001B[39;00m \u001B[38;5;28;01mas\u001B[39;00m \u001B[38;5;21;01mpd\u001B[39;00m\n\u001B[1;32m      2\u001B[0m \u001B[38;5;28;01mimport\u001B[39;00m \u001B[38;5;21;01myfinance\u001B[39;00m \u001B[38;5;28;01mas\u001B[39;00m \u001B[38;5;21;01myf\u001B[39;00m\n\u001B[0;32m----> 4\u001B[0m \u001B[38;5;28;01mfrom\u001B[39;00m \u001B[38;5;21;01mpypfopt\u001B[39;00m \u001B[38;5;28;01mimport\u001B[39;00m expected_returns, risk_models, black_litterman\n\u001B[1;32m      5\u001B[0m \u001B[38;5;28;01mfrom\u001B[39;00m \u001B[38;5;21;01mpypfopt\u001B[39;00m\u001B[38;5;21;01m.\u001B[39;00m\u001B[38;5;21;01mblack_litterman\u001B[39;00m \u001B[38;5;28;01mimport\u001B[39;00m BlackLittermanModel\n\u001B[1;32m      6\u001B[0m \u001B[38;5;28;01mfrom\u001B[39;00m \u001B[38;5;21;01mpypfopt\u001B[39;00m\u001B[38;5;21;01m.\u001B[39;00m\u001B[38;5;21;01mefficient_frontier\u001B[39;00m \u001B[38;5;28;01mimport\u001B[39;00m EfficientFrontier\n",
      "\u001B[0;31mModuleNotFoundError\u001B[0m: No module named 'pypfopt'"
     ]
    }
   ],
   "execution_count": 2
  },
  {
   "metadata": {},
   "cell_type": "code",
   "outputs": [],
   "execution_count": null,
   "source": [
    "mag_7 = [\n",
    "    \"AAPL\",\n",
    "    \"AMZN\",\n",
    "    \"NVDA\",\n",
    "    \"TLSA\",\n",
    "    \"GOOGL\",\n",
    "    \"META\",\n",
    "    \"MSFT\",\n",
    "]\n",
    "\n",
    "prices = yf.download(mag_7, start=\"2018-01-01\")[\"Adj Close\"]"
   ],
   "id": "a63c04c5f7f5994e"
  },
  {
   "metadata": {},
   "cell_type": "code",
   "outputs": [],
   "execution_count": null,
   "source": [
    "views = {\n",
    "    \"AAPL\": 0.05,\n",
    "    \"AMZN\": 0.15,\n",
    "    \"NVDA\": 0.25,\n",
    "    \"TLSA\": -0.05,\n",
    "    \"GOOGL\": -0.15,\n",
    "    \"META\": 0.07,\n",
    "    \"MSFT\": 0.12\n",
    "}\n",
    "\n",
    "mcaps = {\n",
    "    \"AAPL\": 2.5e12,\n",
    "    \"AMZN\": 1.3e12,\n",
    "    \"NVDA\": 1.0e12,\n",
    "    \"TLSA\": 0.9e12,\n",
    "    \"GOOGL\": 1.4e12,\n",
    "    \"META\": 0.7e12,\n",
    "    \"MSFT\": 2.0e12,\n",
    "}"
   ],
   "id": "884486131480807f"
  },
  {
   "metadata": {},
   "cell_type": "code",
   "outputs": [],
   "execution_count": null,
   "source": [
    "expected_returns_mean = expected_returns.mean_historical_return(prices)\n",
    "cov_matrix = risk_models.sample_cov(prices)\n",
    "delta = black_litterman.market_implied_risk_aversion(prices)\n",
    "market_prior = black_litterman.market_implied_prior_returns(mcaps, delta, cov_matrix)"
   ],
   "id": "37a7dbf1be0479ac"
  },
  {
   "metadata": {},
   "cell_type": "code",
   "outputs": [],
   "execution_count": null,
   "source": [
    "bl = BlackLittermanModel(\n",
    "    cov_matrix,\n",
    "    absolute_views=views,\n",
    "    pi=market_prior\n",
    ")\n",
    "\n",
    "bl_returns = bl.bl_returns()\n",
    "ef = EfficientFrontier(bl_returns, cov_matrix)\n",
    "weights = ef.max_sharpe()\n",
    "\n",
    "bl_weights = pd.DataFrame(\n",
    "    list(weights.items()),\n",
    "    columns=[\"symbol\", \"weight\"]\n",
    ").set_index(\"symbol\")\n",
    "\n",
    "performance = ef.portfolio_performance(verbose=True)"
   ],
   "id": "2e70277d9ea2d5d4"
  }
 ],
 "metadata": {
  "kernelspec": {
   "display_name": "Python 3",
   "language": "python",
   "name": "python3"
  },
  "language_info": {
   "codemirror_mode": {
    "name": "ipython",
    "version": 2
   },
   "file_extension": ".py",
   "mimetype": "text/x-python",
   "name": "python",
   "nbconvert_exporter": "python",
   "pygments_lexer": "ipython2",
   "version": "2.7.6"
  }
 },
 "nbformat": 4,
 "nbformat_minor": 5
}
