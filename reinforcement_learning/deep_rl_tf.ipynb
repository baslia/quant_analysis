{
 "cells": [
  {
   "cell_type": "markdown",
   "source": [
    "This guide is based on notes from this TensorFlow 2.0 course and is organized as follows\n",
    "\n",
    "- Building a Deep Q-Learning Trading Network\n",
    "- Stock Market Data Preprocessing\n",
    "- Training our Deep Q-Learning Trading Agent\n",
    "- Summary: Deep Reinforcement Learning for Trading with TensorFlow 2.0"
   ],
   "metadata": {
    "collapsed": false
   },
   "id": "dbd414f7fcf0df42"
  },
  {
   "cell_type": "markdown",
   "source": [
    "# 1. Building a Deep Q-Learning Trading Network"
   ],
   "metadata": {
    "collapsed": false
   },
   "id": "1033c151de7f008b"
  },
  {
   "cell_type": "code",
   "outputs": [],
   "source": [
    "# Importing the libraries\n",
    "import math\n",
    "import random\n",
    "import numpy as np\n",
    "import pandas as pd\n",
    "import tensorflow as tf\n",
    "import matplotlib.pyplot as plt\n",
    "import pandas_datareader as data_reader\n",
    "import yfinance as yf\n",
    "from tensorflow.keras.models import Sequential\n",
    "from tensorflow.keras.layers import Dense, Dropout, LSTM\n",
    "from tensorflow.keras.optimizers import Adam\n",
    "\n",
    "from tqdm import tqdm_notebook, tqdm\n",
    "from collections import deque"
   ],
   "metadata": {
    "collapsed": false,
    "ExecuteTime": {
     "end_time": "2024-02-24T16:53:21.266814Z",
     "start_time": "2024-02-24T16:53:16.100946Z"
    }
   },
   "id": "806a576fa484e949",
   "execution_count": 1
  },
  {
   "cell_type": "markdown",
   "source": [
    "## Defining our Deep Q-Learning Trader\n",
    "\n",
    "Now we need to define the algorithm itself with the AI_Trader class, below are a few important points:\n",
    "\n",
    "- In trading we have an action space of 3: Buy, Sell, and Sit\n",
    "- We set the experience replay memory to `deque` with 2000 elements inside it\n",
    "- We create an empty list with `inventory` which contains the stocks we've already bought\n",
    "- We need to set a `gamma` parameter to `0.95`, which helps to maximize the current reward over the long-term\n",
    "- The epsilon parameter is used to determine whether we should use a random action or to use the model for the action. We start by setting it to 1.0 so that it takes random actions in the beginning when the model is not trained.\n",
    "- Over time we want to decrease the random actions and instead we can mostly use the trained model, so we set epsilon_final to 0.01\n",
    "- We're then set the speed of decreasing epsilon in the `epsilon_decay` parameter"
   ],
   "metadata": {
    "collapsed": false
   },
   "id": "d94a49df831fa474"
  },
  {
   "cell_type": "code",
   "outputs": [],
   "source": [
    "class AI_Trader():\n",
    "  \n",
    "  def __init__(self, state_size, action_space=3, model_name=\"AITrader\"):\n",
    "    \n",
    "    self.state_size = state_size\n",
    "    self.action_space = action_space\n",
    "    self.memory = deque(maxlen=2000)\n",
    "    self.inventory = []\n",
    "    self.model_name = model_name\n",
    "    \n",
    "    self.gammsa = 0.95\n",
    "    self.epsilon = 1.0\n",
    "    self.epsilon_final = 0.01\n",
    "    self.epsilon_decay = 0.995"
   ],
   "metadata": {
    "collapsed": false,
    "ExecuteTime": {
     "end_time": "2024-02-24T16:53:21.271459Z",
     "start_time": "2024-02-24T16:53:21.267325Z"
    }
   },
   "id": "37690641019fb9f1",
   "execution_count": 2
  },
  {
   "cell_type": "markdown",
   "source": [
    "## Defining the Neural Network\n",
    "\n",
    "Next we need to start defining our neural network.\n",
    "\n",
    "The first step to define our neural network is to define a function called `model_builder` which doesn't take any arguments, just the keyword `self`.\n",
    "\n",
    "We then define the model with `tf.keras.models.Sequential()`.\n",
    "\n",
    "To define with model's states, which are the previous `n` days and stock prices of the days.\n",
    "\n",
    "A state is just a vector of numbers and we can use a fully connected network, or a dense network.\n",
    "\n",
    "Next, we add the first dense layer with `tf.keras.layers.Dense()` and specify the number of neurons in the layer to 32 and set the activation to `relu`. We also need to define the input shape in the first layer with `input_dim=self.state_size`\n",
    "\n",
    "We're going to use 3 hidden layers in this network, so we add 2 more and change the architecture of to 64 neurons in the second and 128 for the last layer.\n",
    "\n",
    "We then need to define the output layer and compile the network.\n",
    "\n",
    "To define the output layer we need to set the number of neurons to the number of actions we can take, 3 in this case. We're also going to change the activation function to `relu` because we're using mean-squared error for the loss:"
   ],
   "metadata": {
    "collapsed": false
   },
   "id": "6cec95351c2c2a37"
  },
  {
   "cell_type": "code",
   "outputs": [],
   "source": [
    "def model_builder(self):\n",
    "      \n",
    "      model = Sequential()\n",
    "      \n",
    "      model.add(Dense(units=32, activation='relu', input_dim=self.state_size))\n",
    "      model.add(Dense(units=64, activation='relu'))\n",
    "      model.add(Dense(units=128, activation='relu'))\n",
    "      model.add(Dense(units=self.action_space, activation='linear'))"
   ],
   "metadata": {
    "collapsed": false,
    "ExecuteTime": {
     "end_time": "2024-02-24T16:53:21.275291Z",
     "start_time": "2024-02-24T16:53:21.270769Z"
    }
   },
   "id": "14ca0d0d8ab08d30",
   "execution_count": 3
  },
  {
   "cell_type": "markdown",
   "source": [
    "Finally, we need to compile the model. Since this is a regression task we can't use accuracy as our loss, so we use `mse`. We then use the `Adam` optimizer and set the learning rate to 0.001 and return the model:"
   ],
   "metadata": {
    "collapsed": false
   },
   "id": "16eb2c6f63920f13"
  },
  {
   "cell_type": "code",
   "outputs": [],
   "source": [
    "# model.compile(loss='mse', optimizer=tf.keras.optimizer.Adam(lr=0.001))\n",
    "# return model"
   ],
   "metadata": {
    "collapsed": false,
    "ExecuteTime": {
     "end_time": "2024-02-24T16:53:21.276568Z",
     "start_time": "2024-02-24T16:53:21.274247Z"
    }
   },
   "id": "67edd37973a4791f",
   "execution_count": 4
  },
  {
   "cell_type": "markdown",
   "source": [
    "## Building a Trading Function\n",
    "\n",
    "Now that we've defined the neural network, we need to build a function to trade that takes the state as input and returns an action to perform in that state.\n",
    "\n",
    "To do this we're going to create a function called `trade` that takes in one argument: `state`.\n",
    "\n",
    "For each state, we need to determine if we should use a randomly generated action or the neural network.\n",
    "\n",
    "To do this, we use the `random` library, and if it is less than our `epsilon` we return a random action with `random.randrange()` and pass in `self.action_space`.\n",
    "\n",
    "If the number is greater than `epsilon` we use our model to choose the action. To do this, we define actions equal to `self.model.predict` and pass in the state as the argument.\n",
    "\n",
    "We then return a single number with np.argmax to return only the action with the highest probability.\n",
    "\n",
    "To summarize:\n",
    "\n",
    "- The function takes as input the shape and generates a random number\n",
    "- If the number is less than or equal to epsilon it will generate a random action (this will always be the case in the beginning)\n",
    "- If it is greater than epsilon it will use the model to perform a prediction on the input state and return the action that has the highest probability"
   ],
   "metadata": {
    "collapsed": false
   },
   "id": "b2b4cc1affddc76a"
  },
  {
   "cell_type": "code",
   "outputs": [],
   "source": [
    "def trade(self, state):\n",
    "      if random.random() <= self.epsilon:\n",
    "          return random.randrange(self.action_space)\n",
    "      \n",
    "      actions = self.model.predict(actions[0])"
   ],
   "metadata": {
    "collapsed": false,
    "ExecuteTime": {
     "end_time": "2024-02-24T16:53:21.280096Z",
     "start_time": "2024-02-24T16:53:21.277221Z"
    }
   },
   "id": "54da10b16a3ce1fb",
   "execution_count": 5
  },
  {
   "cell_type": "markdown",
   "source": [
    "## Training the Model\n",
    "\n",
    "Now that we've implemented the `trade` function let's build a custom training function.\n",
    "\n",
    "This function will take a batch of saved data and train the model on that, below is a step-by-step process to do this:\n",
    "\n",
    "- We define this function `batch_trade` and it will take `batch_size` as an argument\n",
    "- We select data from the experience replay memory by first setting `batch` to an empty list\n",
    "- We then iterate through the memory with a for loop\n",
    "- Since we're dealing with time series data we need to sample from the end of the memory instead of randomly sampling from it\n",
    "- Now that we have a batch of data we need to iterate through each batch—`state`, `reward`, `next_state`, and `done`—and train the model with this\n",
    "- If the agent is not in a terminal state we calculate the discounted total reward as the current `reward`\n",
    "- Next we define the `target` variable which is also predicted by the model\n",
    "- Next we fit the model with `self.model.fit()`\n",
    "- At the end of this function we want to decrease the epsilon parameter so that we slowly stop performing random actions"
   ],
   "metadata": {
    "collapsed": false
   },
   "id": "1494ee94b0eb5f5c"
  },
  {
   "cell_type": "code",
   "outputs": [],
   "source": [
    "def batch_train(self, batch_size):\n",
    "\n",
    "    batch = []\n",
    "    for i in range(len(self.memory) - batch_size + 1, len(self.memory)):\n",
    "      batch.append(self.memory[i])\n",
    "\n",
    "    for state, action, reward, next_state, done in batch:\n",
    "      reward = reward\n",
    "      if not done:\n",
    "        reward = reward + self.gamma * np.amax(self.model.predict(next_state)[0])\n",
    "\n",
    "      target = self.model.predict(state)\n",
    "      target[0][action] = reward\n",
    "\n",
    "      self.model.fit(state, target, epochs=1, verbose=0)\n",
    "\n",
    "    if self.epsilon > self.epsilon_final:\n",
    "      self.epsilon *= self.epsilon_decay"
   ],
   "metadata": {
    "collapsed": false,
    "ExecuteTime": {
     "end_time": "2024-02-24T16:53:21.283792Z",
     "start_time": "2024-02-24T16:53:21.281196Z"
    }
   },
   "id": "1ef9e3a50de590ef",
   "execution_count": 6
  },
  {
   "cell_type": "markdown",
   "source": [
    "# 2. Stock Market Data Preprocessing\n",
    "\n",
    "Now that we've built our `AI_Trader` class we now need to create a few helper functions that will be used in the learning process.\n",
    "\n",
    "In particular, we need to define the following 3 functions:\n",
    "\n",
    "1. sigmoid - sigmoid is an activation function, generally used at the end of a network for binary classification as it scales a number to a range from 0 to 1. This will be used to normalize stock price data."
   ],
   "metadata": {
    "collapsed": false
   },
   "id": "5b6a624fcbf419c"
  },
  {
   "cell_type": "code",
   "outputs": [],
   "source": [
    "def sigmoid(x):\n",
    "  return 1 / (1 + math.exp(-x))"
   ],
   "metadata": {
    "collapsed": false,
    "ExecuteTime": {
     "end_time": "2024-02-24T16:53:21.287579Z",
     "start_time": "2024-02-24T16:53:21.283767Z"
    }
   },
   "id": "4f064699059bead",
   "execution_count": 7
  },
  {
   "cell_type": "markdown",
   "source": [
    "2. stocks_price_format - this is a formatting function to print out the prices of the stocks we bought or sold."
   ],
   "metadata": {
    "collapsed": false
   },
   "id": "3de77cfe5ff6d71f"
  },
  {
   "cell_type": "code",
   "outputs": [],
   "source": [
    "def stocks_price_format(n):\n",
    "  if n < 0:\n",
    "    return \"- $ {0:2f}\".format(abs(n))\n",
    "  else:\n",
    "    return \"$ {0:2f}\".format(abs(n))"
   ],
   "metadata": {
    "collapsed": false,
    "ExecuteTime": {
     "end_time": "2024-02-24T16:53:21.305161Z",
     "start_time": "2024-02-24T16:53:21.287045Z"
    }
   },
   "id": "200ed199ea90bf4c",
   "execution_count": 8
  },
  {
   "cell_type": "markdown",
   "source": [
    "3. dataset_loader - this function connects with a data source and pulls the stock data from it, in this case we're loading data from Yahoo Finance:"
   ],
   "metadata": {
    "collapsed": false
   },
   "id": "64442e08f1b3e91e"
  },
  {
   "cell_type": "code",
   "outputs": [],
   "source": [
    "def dataset_loader(stock_name, start_date=None, end_date=None):\n",
    "  # dataset = data_reader.DataReader(stock_name, start=\"2010-01-01\", end=\"2020-01-01\", data_source=\"yahoo\")\n",
    "  # dataset = data_reader.DataReader(stock_name, data_source=\"yahoo\")\n",
    "  # start_date = str(dataset.index[0]).split()[0]\n",
    "  # end_date = str(dataset.index[-1]).split()[0]\n",
    "  dataset = yf.download(stock_name, start_date, end_date)\n",
    "  close = dataset['Close']\n",
    "  return close"
   ],
   "metadata": {
    "collapsed": false,
    "ExecuteTime": {
     "end_time": "2024-02-24T18:13:39.837825Z",
     "start_time": "2024-02-24T18:13:39.823085Z"
    }
   },
   "id": "5106ddc678c8b50b",
   "execution_count": 37
  },
  {
   "cell_type": "markdown",
   "source": [
    "Below we can take a look at the AAPL dataset. With this information we are going to build states for our network."
   ],
   "metadata": {
    "collapsed": false
   },
   "id": "ca928ccaaeef2426"
  },
  {
   "cell_type": "code",
   "outputs": [
    {
     "name": "stdout",
     "output_type": "stream",
     "text": [
      "[*********************100%%**********************]  1 of 1 completed\n"
     ]
    },
    {
     "name": "stderr",
     "output_type": "stream",
     "text": [
      "/opt/homebrew/Caskroom/miniforge/base/envs/py310/lib/python3.10/site-packages/yfinance/utils.py:788: FutureWarning: The 'unit' keyword in TimedeltaIndex construction is deprecated and will be removed in a future version. Use pd.to_timedelta instead.\n",
      "  df.index += _pd.TimedeltaIndex(dst_error_hours, 'h')\n"
     ]
    },
    {
     "data": {
      "text/plain": "Date\n1980-12-12    0.128348\n1980-12-15    0.121652\n1980-12-16    0.112723\n1980-12-17    0.115513\n1980-12-18    0.118862\nName: Close, dtype: float64"
     },
     "execution_count": 10,
     "metadata": {},
     "output_type": "execute_result"
    }
   ],
   "source": [
    "stock_name = \"AAPL\"\n",
    "data = dataset_loader(stock_name)\n",
    "data.head()"
   ],
   "metadata": {
    "collapsed": false,
    "ExecuteTime": {
     "end_time": "2024-02-24T16:53:22.257708Z",
     "start_time": "2024-02-24T16:53:21.294693Z"
    }
   },
   "id": "b09a596824034f60",
   "execution_count": 10
  },
  {
   "cell_type": "markdown",
   "source": [
    "## State Creator\n",
    "\n",
    "Now that we have our dataset_loader function we need to create a function that takes this data and generates states from it.\n",
    "\n",
    "Let's first look at how we can translate the problem of stock market trading to a reinforcement learning environment.\n",
    "\n",
    "- Each point on a stock graph is just a floating number that represents a stock price at a given time.\n",
    "- Our task is to predict what is going to happen in the next period, and as mentioned there are 3 possible actions: buy, sell, or sit.\n",
    "This is regression problem - let's say we have a `window_size = 5` so we use 5 states to predict our target, which is a continuous number.\n",
    "\n",
    "Instead of predicting real numbers for our target we instead want to predict one of our 3 actions.\n",
    "\n",
    "Next we're going change our input states to be differences in stock prices, which will represent price changes over time.\n",
    "\n",
    "To implement this in Python we're going to create a function `state_creator` which takes 3 arguments: `data`, `timestep`, and `window_size`:\n",
    "\n",
    "- We first need to calculate the starting_id\n",
    "- When the starting_id is positive we create a state and if it is negative we append the info until we get to the window_size\n",
    "- Next we define an empty list called state and iterate through the window_data list.\n",
    "- As we append the state we need to normalize the price data with the sigmoid function\n",
    "- To complete the function we return a NumPy array of the state"
   ],
   "metadata": {
    "collapsed": false
   },
   "id": "98ef92470a2104d6"
  },
  {
   "cell_type": "code",
   "outputs": [],
   "source": [
    "def state_creator(data, timestep, window_size):\n",
    "  starting_id = timestep - window_size + 1\n",
    "  \n",
    "  if starting_id >= 0:\n",
    "    window_data = data[starting_id:timestep+1]\n",
    "  else:\n",
    "    window_data = - starting_id * [data[0]] + list(data[0:timestep+1])\n",
    "  \n",
    "  state = []\n",
    "  for i in range(window_size - 1):\n",
    "    state.append(sigmoid(window_data[i+1] - window_data[i]))\n",
    "  \n",
    "  return np.array([state])"
   ],
   "metadata": {
    "collapsed": false,
    "ExecuteTime": {
     "end_time": "2024-02-24T16:53:22.261803Z",
     "start_time": "2024-02-24T16:53:22.257868Z"
    }
   },
   "id": "39fd453633768827",
   "execution_count": 11
  },
  {
   "cell_type": "markdown",
   "source": [
    "## Loading a Dataset\n",
    "\n",
    "Now that we have our `state_creator` function we can load our dataset.\n",
    "\n",
    "First we need to define a new variable called `stock_name`, and for this example we'll use `AAPL`.\n",
    "\n",
    "Then we define a variable called `data` with our `dataset_loader` function:"
   ],
   "metadata": {
    "collapsed": false
   },
   "id": "94690b2bbb65c4b2"
  },
  {
   "cell_type": "code",
   "outputs": [
    {
     "name": "stdout",
     "output_type": "stream",
     "text": [
      "[*********************100%%**********************]  1 of 1 completed\n"
     ]
    },
    {
     "name": "stderr",
     "output_type": "stream",
     "text": [
      "/opt/homebrew/Caskroom/miniforge/base/envs/py310/lib/python3.10/site-packages/yfinance/utils.py:788: FutureWarning: The 'unit' keyword in TimedeltaIndex construction is deprecated and will be removed in a future version. Use pd.to_timedelta instead.\n",
      "  df.index += _pd.TimedeltaIndex(dst_error_hours, 'h')\n"
     ]
    },
    {
     "data": {
      "text/plain": "Date\n2023-01-03    125.070000\n2023-01-04    126.360001\n2023-01-05    125.019997\n2023-01-06    129.619995\n2023-01-09    130.149994\nName: Close, dtype: float64"
     },
     "execution_count": 38,
     "metadata": {},
     "output_type": "execute_result"
    }
   ],
   "source": [
    "stock_name = \"AAPL\"\n",
    "data = dataset_loader(stock_name, start_date='2023-01-01', end_date='2024-01-01')\n",
    "data.head()"
   ],
   "metadata": {
    "collapsed": false,
    "ExecuteTime": {
     "end_time": "2024-02-24T18:13:46.850309Z",
     "start_time": "2024-02-24T18:13:46.565403Z"
    }
   },
   "id": "c245e79975bcb556",
   "execution_count": 38
  },
  {
   "cell_type": "markdown",
   "source": [
    "# 3. Training the Q-Learning Trading Agent\n",
    "\n",
    "Before we proceed to training our model, let's define a few hyperparameters, including:"
   ],
   "metadata": {
    "collapsed": false
   },
   "id": "f8b40d53c6616453"
  },
  {
   "cell_type": "code",
   "outputs": [],
   "source": [
    "window_size = 10\n",
    "episodes = 1000\n",
    "\n",
    "batch_size = 32\n",
    "data_samples = len(data) - 1"
   ],
   "metadata": {
    "collapsed": false,
    "ExecuteTime": {
     "end_time": "2024-02-24T16:53:22.640944Z",
     "start_time": "2024-02-24T16:53:22.638295Z"
    }
   },
   "id": "c2669a1ef7b46129",
   "execution_count": 13
  },
  {
   "cell_type": "markdown",
   "source": [
    "Now it's time to define our trading agent, and let's take a look at a summary of the model:"
   ],
   "metadata": {
    "collapsed": false
   },
   "id": "60fc5bdf862495d8"
  },
  {
   "cell_type": "code",
   "outputs": [],
   "source": [
    "class AI_Trader():\n",
    "    def __init__(self, state_size, action_space=3, model_name=\"AITrader\"):\n",
    "      self.state_size = state_size\n",
    "      self.action_space = action_space\n",
    "      self.memory = deque(maxlen=2000)\n",
    "      self.inventory = []\n",
    "      self.model_name = model_name\n",
    "      \n",
    "      self.gamma = 0.95\n",
    "      self.epsilon = 1.0\n",
    "      self.epsilon_final = 0.01\n",
    "      self.epsilon_decay = 0.995\n",
    "      self.model = self.model_builder()\n",
    "        \n",
    "    def model_builder(self):\n",
    "        model = Sequential()\n",
    "      \n",
    "        model.add(Dense(units=32, activation='relu', input_dim=self.state_size))\n",
    "        model.add(Dense(units=64, activation='relu'))\n",
    "        model.add(Dense(units=128, activation='relu'))\n",
    "        model.add(Dense(units=self.action_space, activation='linear'))\n",
    "        model.compile(loss='mse', optimizer=Adam(learning_rate=0.001))\n",
    "        \n",
    "        return model\n",
    "    \n",
    "  \n",
    "    def trade(self, state):\n",
    "        if random.random() <= self.epsilon:\n",
    "            return random.randrange(self.action_space)\n",
    "      \n",
    "        actions = self.model.predict(state, verbose=0)\n",
    "        return np.argmax(actions[0])\n",
    "    \n",
    "    def batch_train(self, batch_size):\n",
    "        batch = []\n",
    "        for i in range(len(self.memory) - batch_size + 1, len(self.memory)):\n",
    "            batch.append(self.memory[i])\n",
    "            \n",
    "        for state, action, reward, next_state, done in batch:\n",
    "            reward = reward\n",
    "            if not done:\n",
    "                reward = reward + self.gamma * np.amax(self.model.predict(next_state, verbose=0)[0])\n",
    "            target = self.model.predict(state, verbose=0)\n",
    "            target[0][action] = reward\n",
    "            \n",
    "            self.model.fit(state, target, epochs=1, verbose=0)\n",
    "        if self.epsilon > self.epsilon_final:\n",
    "            self.epsilon *= self.epsilon_decay"
   ],
   "metadata": {
    "collapsed": false,
    "ExecuteTime": {
     "end_time": "2024-02-24T17:16:05.178479Z",
     "start_time": "2024-02-24T17:16:05.171296Z"
    }
   },
   "id": "58c23c8e7d02a1a8",
   "execution_count": 32
  },
  {
   "cell_type": "markdown",
   "source": [
    "Now it's time to define our trading agent, and let's take a look at a summary of the model:"
   ],
   "metadata": {
    "collapsed": false
   },
   "id": "b2beb2c26d3c77d1"
  },
  {
   "cell_type": "code",
   "outputs": [
    {
     "name": "stderr",
     "output_type": "stream",
     "text": [
      "WARNING:absl:At this time, the v2.11+ optimizer `tf.keras.optimizers.Adam` runs slowly on M1/M2 Macs, please use the legacy Keras optimizer instead, located at `tf.keras.optimizers.legacy.Adam`.\n"
     ]
    },
    {
     "name": "stdout",
     "output_type": "stream",
     "text": [
      "Model: \"sequential_7\"\n",
      "_________________________________________________________________\n",
      " Layer (type)                Output Shape              Param #   \n",
      "=================================================================\n",
      " dense_28 (Dense)            (None, 32)                352       \n",
      "                                                                 \n",
      " dense_29 (Dense)            (None, 64)                2112      \n",
      "                                                                 \n",
      " dense_30 (Dense)            (None, 128)               8320      \n",
      "                                                                 \n",
      " dense_31 (Dense)            (None, 3)                 387       \n",
      "                                                                 \n",
      "=================================================================\n",
      "Total params: 11171 (43.64 KB)\n",
      "Trainable params: 11171 (43.64 KB)\n",
      "Non-trainable params: 0 (0.00 Byte)\n",
      "_________________________________________________________________\n"
     ]
    }
   ],
   "source": [
    "trader = AI_Trader(window_size)\n",
    "model = trader.model\n",
    "model.summary()"
   ],
   "metadata": {
    "collapsed": false,
    "ExecuteTime": {
     "end_time": "2024-02-24T17:16:06.386215Z",
     "start_time": "2024-02-24T17:16:06.353614Z"
    }
   },
   "id": "a8a9684fd1e5589a",
   "execution_count": 33
  },
  {
   "cell_type": "markdown",
   "source": [
    "## Defining a Training Loop\n",
    "\n",
    "Now we need to train our model, which we're going to do with a `for` loop that will iterate through all of the `episodes`.\n",
    "\n",
    "- Next we want to print out the current episode\n",
    "- We then need to define our initial state with `state_creator`\n",
    "- Then we define 2 variables so that we can keep track of `total_profit` and we set our inventory to 0 at the beginning of an episode with `trader.inventory = []`\n",
    "- Next we define our timestep (1 timestep is 1 day) with a for loop, which represents how many samples we have. To do this we need to define our `action`, `next_state`, and `reward`.\n",
    "- Then we want to update our `inventory` based on the given `action`\n",
    "- Based on the actions we can calculate our `reward` and update the `total_profit`\n",
    "- We then need to check if this is the last sample in our dataset\n",
    "- Next we need to append all of the data to our trader's experience replay buffer with `trader.memory.append()`\n",
    "- We then change the state to the `next_state` so we can iterate through the whole `episode`\n",
    "- Finally, we want to print out the `total_profit` if `done = True` and add print statements to when we buy or sell and how what the profit is\n",
    "There are two more things to do before starting the training process:\n",
    "\n",
    "- We need to check if we have more information in our `memory` than our `batch_size`. If that is true we call `trader.batch_train` and pass in the `batch_size` argument\n",
    "- We're then going to check if the number of episodes is divisible by 10, and if that is the case we're going to save the model with `trader.model.save()` in an H5 file"
   ],
   "metadata": {
    "collapsed": false
   },
   "id": "ca0d503581304a4a"
  },
  {
   "cell_type": "code",
   "outputs": [
    {
     "name": "stdout",
     "output_type": "stream",
     "text": [
      "[*********************100%%**********************]  1 of 1 completed"
     ]
    },
    {
     "name": "stderr",
     "output_type": "stream",
     "text": [
      "/opt/homebrew/Caskroom/miniforge/base/envs/py310/lib/python3.10/site-packages/yfinance/utils.py:788: FutureWarning: The 'unit' keyword in TimedeltaIndex construction is deprecated and will be removed in a future version. Use pd.to_timedelta instead.\n",
      "  df.index += _pd.TimedeltaIndex(dst_error_hours, 'h')\n",
      "/var/folders/_n/nybmwjg90rxfzcynss3bqkr80000gp/T/ipykernel_52505/2141800173.py:7: FutureWarning: Series.__getitem__ treating keys as positions is deprecated. In a future version, integer keys will always be treated as labels (consistent with DataFrame behavior). To access a value by position, use `ser.iloc[pos]`\n",
      "  window_data = - starting_id * [data[0]] + list(data[0:timestep+1])\n"
     ]
    },
    {
     "name": "stdout",
     "output_type": "stream",
     "text": [
      "\n",
      "Episode: 1/1000\n"
     ]
    },
    {
     "name": "stderr",
     "output_type": "stream",
     "text": [
      "  0%|          | 2/10889 [00:04<6:12:05,  2.05s/it]/var/folders/_n/nybmwjg90rxfzcynss3bqkr80000gp/T/ipykernel_52505/2209862911.py:21: FutureWarning: Series.__getitem__ treating keys as positions is deprecated. In a future version, integer keys will always be treated as labels (consistent with DataFrame behavior). To access a value by position, use `ser.iloc[pos]`\n",
      "  trader.inventory.append(data[t])\n",
      "/var/folders/_n/nybmwjg90rxfzcynss3bqkr80000gp/T/ipykernel_52505/2209862911.py:22: FutureWarning: Series.__getitem__ treating keys as positions is deprecated. In a future version, integer keys will always be treated as labels (consistent with DataFrame behavior). To access a value by position, use `ser.iloc[pos]`\n",
      "  print(\"AI Trader bought: \", stocks_price_format(data[t]))\n"
     ]
    },
    {
     "name": "stdout",
     "output_type": "stream",
     "text": [
      "AI Trader bought:  $ 125.019997\n"
     ]
    },
    {
     "name": "stderr",
     "output_type": "stream",
     "text": [
      "  0%|          | 5/10889 [00:10<5:58:13,  1.97s/it]"
     ]
    },
    {
     "name": "stdout",
     "output_type": "stream",
     "text": [
      "AI Trader bought:  $ 130.729996\n"
     ]
    },
    {
     "name": "stderr",
     "output_type": "stream",
     "text": [
      "  0%|          | 6/10889 [00:11<5:58:12,  1.97s/it]"
     ]
    },
    {
     "name": "stdout",
     "output_type": "stream",
     "text": [
      "AI Trader bought:  $ 133.490005\n"
     ]
    },
    {
     "name": "stderr",
     "output_type": "stream",
     "text": [
      "  0%|          | 7/10889 [00:13<5:59:44,  1.98s/it]/var/folders/_n/nybmwjg90rxfzcynss3bqkr80000gp/T/ipykernel_52505/2209862911.py:27: FutureWarning: Series.__getitem__ treating keys as positions is deprecated. In a future version, integer keys will always be treated as labels (consistent with DataFrame behavior). To access a value by position, use `ser.iloc[pos]`\n",
      "  reward = max(data[t] - buy_price, 0)\n",
      "/var/folders/_n/nybmwjg90rxfzcynss3bqkr80000gp/T/ipykernel_52505/2209862911.py:28: FutureWarning: Series.__getitem__ treating keys as positions is deprecated. In a future version, integer keys will always be treated as labels (consistent with DataFrame behavior). To access a value by position, use `ser.iloc[pos]`\n",
      "  total_profit += data[t] - buy_price\n",
      "/var/folders/_n/nybmwjg90rxfzcynss3bqkr80000gp/T/ipykernel_52505/2209862911.py:29: FutureWarning: Series.__getitem__ treating keys as positions is deprecated. In a future version, integer keys will always be treated as labels (consistent with DataFrame behavior). To access a value by position, use `ser.iloc[pos]`\n",
      "  print(\"AI Trader sold: \", stocks_price_format(data[t]), \" Profit: \" + stocks_price_format(data[t] - buy_price) )\n"
     ]
    },
    {
     "name": "stdout",
     "output_type": "stream",
     "text": [
      "AI Trader sold:  $ 133.410004  Profit: $ 8.390007\n"
     ]
    },
    {
     "name": "stderr",
     "output_type": "stream",
     "text": [
      "  0%|          | 8/10889 [00:15<5:58:40,  1.98s/it]"
     ]
    },
    {
     "name": "stdout",
     "output_type": "stream",
     "text": [
      "AI Trader sold:  $ 134.759995  Profit: $ 4.029999\n"
     ]
    },
    {
     "name": "stderr",
     "output_type": "stream",
     "text": [
      "  0%|          | 9/10889 [00:17<5:56:44,  1.97s/it]/var/folders/_n/nybmwjg90rxfzcynss3bqkr80000gp/T/ipykernel_52505/2141800173.py:11: FutureWarning: Series.__getitem__ treating keys as positions is deprecated. In a future version, integer keys will always be treated as labels (consistent with DataFrame behavior). To access a value by position, use `ser.iloc[pos]`\n",
      "  state.append(sigmoid(window_data[i+1] - window_data[i]))\n"
     ]
    },
    {
     "name": "stdout",
     "output_type": "stream",
     "text": [
      "AI Trader sold:  $ 135.940002  Profit: $ 2.449997\n"
     ]
    },
    {
     "name": "stderr",
     "output_type": "stream",
     "text": [
      "  0%|          | 23/10889 [00:44<5:47:06,  1.92s/it]"
     ]
    },
    {
     "name": "stdout",
     "output_type": "stream",
     "text": [
      "AI Trader bought:  $ 151.729996\n"
     ]
    },
    {
     "name": "stderr",
     "output_type": "stream",
     "text": [
      "  0%|          | 24/10889 [00:46<5:46:40,  1.91s/it]"
     ]
    },
    {
     "name": "stdout",
     "output_type": "stream",
     "text": [
      "AI Trader bought:  $ 154.649994\n"
     ]
    },
    {
     "name": "stderr",
     "output_type": "stream",
     "text": [
      "  0%|          | 25/10889 [00:48<5:46:49,  1.92s/it]"
     ]
    },
    {
     "name": "stdout",
     "output_type": "stream",
     "text": [
      "AI Trader bought:  $ 151.919998\n"
     ]
    },
    {
     "name": "stderr",
     "output_type": "stream",
     "text": [
      "  0%|          | 26/10889 [00:50<5:46:22,  1.91s/it]"
     ]
    },
    {
     "name": "stdout",
     "output_type": "stream",
     "text": [
      "AI Trader sold:  $ 150.869995  Profit: - $ 0.860001\n"
     ]
    },
    {
     "name": "stderr",
     "output_type": "stream",
     "text": [
      "  0%|          | 27/10889 [00:52<5:46:13,  1.91s/it]"
     ]
    },
    {
     "name": "stdout",
     "output_type": "stream",
     "text": [
      "AI Trader sold:  $ 151.009995  Profit: - $ 3.639999\n"
     ]
    },
    {
     "name": "stderr",
     "output_type": "stream",
     "text": [
      "  0%|          | 28/10889 [00:54<5:46:47,  1.92s/it]"
     ]
    },
    {
     "name": "stdout",
     "output_type": "stream",
     "text": [
      "AI Trader sold:  $ 153.850006  Profit: $ 1.930008\n"
     ]
    },
    {
     "name": "stderr",
     "output_type": "stream",
     "text": [
      "  0%|          | 50/10889 [01:36<5:53:23,  1.96s/it]"
     ]
    },
    {
     "name": "stdout",
     "output_type": "stream",
     "text": [
      "AI Trader bought:  $ 155.850006\n"
     ]
    },
    {
     "name": "stderr",
     "output_type": "stream",
     "text": [
      "  0%|          | 51/10889 [01:38<5:56:47,  1.98s/it]"
     ]
    },
    {
     "name": "stdout",
     "output_type": "stream",
     "text": [
      "AI Trader bought:  $ 155.000000\n"
     ]
    },
    {
     "name": "stderr",
     "output_type": "stream",
     "text": [
      "  0%|          | 52/10889 [01:40<5:56:45,  1.98s/it]"
     ]
    },
    {
     "name": "stdout",
     "output_type": "stream",
     "text": [
      "AI Trader sold:  $ 157.399994  Profit: $ 1.549988\n"
     ]
    },
    {
     "name": "stderr",
     "output_type": "stream",
     "text": [
      "  0%|          | 53/10889 [01:42<5:58:16,  1.98s/it]"
     ]
    },
    {
     "name": "stdout",
     "output_type": "stream",
     "text": [
      "AI Trader bought:  $ 159.279999\n"
     ]
    },
    {
     "name": "stderr",
     "output_type": "stream",
     "text": [
      "  0%|          | 54/10889 [01:44<5:58:34,  1.99s/it]"
     ]
    },
    {
     "name": "stdout",
     "output_type": "stream",
     "text": [
      "AI Trader sold:  $ 157.830002  Profit: $ 2.830002\n"
     ]
    },
    {
     "name": "stderr",
     "output_type": "stream",
     "text": [
      "  1%|          | 55/10889 [01:46<5:58:50,  1.99s/it]"
     ]
    },
    {
     "name": "stdout",
     "output_type": "stream",
     "text": [
      "AI Trader sold:  $ 158.929993  Profit: - $ 0.350006\n"
     ]
    },
    {
     "name": "stderr",
     "output_type": "stream",
     "text": [
      "  1%|          | 58/10889 [01:52<5:55:43,  1.97s/it]"
     ]
    },
    {
     "name": "stdout",
     "output_type": "stream",
     "text": [
      "AI Trader bought:  $ 157.649994\n"
     ]
    },
    {
     "name": "stderr",
     "output_type": "stream",
     "text": [
      "  1%|          | 59/10889 [01:54<5:55:30,  1.97s/it]"
     ]
    },
    {
     "name": "stdout",
     "output_type": "stream",
     "text": [
      "AI Trader bought:  $ 160.770004\n"
     ]
    },
    {
     "name": "stderr",
     "output_type": "stream",
     "text": [
      "  1%|          | 60/10889 [01:56<5:58:21,  1.99s/it]"
     ]
    },
    {
     "name": "stdout",
     "output_type": "stream",
     "text": [
      "AI Trader bought:  $ 162.360001\n"
     ]
    },
    {
     "name": "stderr",
     "output_type": "stream",
     "text": [
      "  1%|          | 61/10889 [01:58<5:59:03,  1.99s/it]"
     ]
    },
    {
     "name": "stdout",
     "output_type": "stream",
     "text": [
      "AI Trader bought:  $ 164.899994\n"
     ]
    },
    {
     "name": "stderr",
     "output_type": "stream",
     "text": [
      "  1%|          | 62/10889 [02:00<5:58:29,  1.99s/it]"
     ]
    },
    {
     "name": "stdout",
     "output_type": "stream",
     "text": [
      "AI Trader bought:  $ 166.169998\n"
     ]
    },
    {
     "name": "stderr",
     "output_type": "stream",
     "text": [
      "  1%|          | 63/10889 [02:02<5:59:00,  1.99s/it]"
     ]
    },
    {
     "name": "stdout",
     "output_type": "stream",
     "text": [
      "AI Trader bought:  $ 165.630005\n"
     ]
    },
    {
     "name": "stderr",
     "output_type": "stream",
     "text": [
      "  1%|          | 64/10889 [02:04<6:03:14,  2.01s/it]"
     ]
    },
    {
     "name": "stdout",
     "output_type": "stream",
     "text": [
      "AI Trader bought:  $ 163.759995\n"
     ]
    },
    {
     "name": "stderr",
     "output_type": "stream",
     "text": [
      "  1%|          | 65/10889 [02:06<6:00:07,  2.00s/it]"
     ]
    },
    {
     "name": "stdout",
     "output_type": "stream",
     "text": [
      "AI Trader bought:  $ 164.660004\n"
     ]
    },
    {
     "name": "stderr",
     "output_type": "stream",
     "text": [
      "  1%|          | 66/10889 [02:08<5:54:46,  1.97s/it]"
     ]
    },
    {
     "name": "stdout",
     "output_type": "stream",
     "text": [
      "AI Trader bought:  $ 162.029999\n"
     ]
    },
    {
     "name": "stderr",
     "output_type": "stream",
     "text": [
      "  1%|          | 69/10889 [02:14<5:53:02,  1.96s/it]"
     ]
    },
    {
     "name": "stdout",
     "output_type": "stream",
     "text": [
      "AI Trader sold:  $ 165.559998  Profit: $ 7.910004\n"
     ]
    },
    {
     "name": "stderr",
     "output_type": "stream",
     "text": [
      "  1%|          | 71/10889 [02:18<5:58:36,  1.99s/it]"
     ]
    },
    {
     "name": "stdout",
     "output_type": "stream",
     "text": [
      "AI Trader sold:  $ 165.229996  Profit: $ 4.459991\n"
     ]
    },
    {
     "name": "stderr",
     "output_type": "stream",
     "text": [
      "  1%|          | 72/10889 [02:20<6:00:14,  2.00s/it]"
     ]
    },
    {
     "name": "stdout",
     "output_type": "stream",
     "text": [
      "AI Trader sold:  $ 166.470001  Profit: $ 4.110001\n"
     ]
    },
    {
     "name": "stderr",
     "output_type": "stream",
     "text": [
      "  1%|          | 73/10889 [02:22<5:59:23,  1.99s/it]"
     ]
    },
    {
     "name": "stdout",
     "output_type": "stream",
     "text": [
      "AI Trader sold:  $ 167.630005  Profit: $ 2.730011\n"
     ]
    },
    {
     "name": "stderr",
     "output_type": "stream",
     "text": [
      "  1%|          | 74/10889 [02:24<5:57:38,  1.98s/it]"
     ]
    },
    {
     "name": "stdout",
     "output_type": "stream",
     "text": [
      "AI Trader sold:  $ 166.649994  Profit: $ 0.479996\n"
     ]
    },
    {
     "name": "stderr",
     "output_type": "stream",
     "text": [
      "  1%|          | 75/10889 [02:26<5:59:54,  2.00s/it]"
     ]
    },
    {
     "name": "stdout",
     "output_type": "stream",
     "text": [
      "AI Trader sold:  $ 165.020004  Profit: - $ 0.610001\n"
     ]
    },
    {
     "name": "stderr",
     "output_type": "stream",
     "text": [
      "  1%|          | 79/10889 [02:34<5:52:21,  1.96s/it]"
     ]
    },
    {
     "name": "stdout",
     "output_type": "stream",
     "text": [
      "AI Trader sold:  $ 168.410004  Profit: $ 4.650009\n"
     ]
    },
    {
     "name": "stderr",
     "output_type": "stream",
     "text": [
      "  1%|          | 81/10889 [02:38<5:52:07,  1.95s/it]"
     ]
    },
    {
     "name": "stdout",
     "output_type": "stream",
     "text": [
      "AI Trader sold:  $ 169.589996  Profit: $ 4.929993\n"
     ]
    },
    {
     "name": "stderr",
     "output_type": "stream",
     "text": [
      "  1%|          | 82/10889 [02:40<5:51:35,  1.95s/it]"
     ]
    },
    {
     "name": "stdout",
     "output_type": "stream",
     "text": [
      "AI Trader sold:  $ 168.539993  Profit: $ 6.509995\n"
     ]
    },
    {
     "name": "stderr",
     "output_type": "stream",
     "text": [
      "  1%|          | 104/10889 [03:22<5:47:50,  1.94s/it]"
     ]
    },
    {
     "name": "stdout",
     "output_type": "stream",
     "text": [
      "AI Trader bought:  $ 180.949997\n"
     ]
    },
    {
     "name": "stderr",
     "output_type": "stream",
     "text": [
      "  1%|          | 105/10889 [03:23<5:47:55,  1.94s/it]"
     ]
    },
    {
     "name": "stdout",
     "output_type": "stream",
     "text": [
      "AI Trader bought:  $ 179.580002\n"
     ]
    },
    {
     "name": "stderr",
     "output_type": "stream",
     "text": [
      "  1%|          | 106/10889 [03:25<5:48:57,  1.94s/it]"
     ]
    },
    {
     "name": "stdout",
     "output_type": "stream",
     "text": [
      "AI Trader bought:  $ 179.210007\n"
     ]
    },
    {
     "name": "stderr",
     "output_type": "stream",
     "text": [
      "  1%|          | 110/10889 [03:33<5:48:04,  1.94s/it]"
     ]
    },
    {
     "name": "stdout",
     "output_type": "stream",
     "text": [
      "AI Trader sold:  $ 183.789993  Profit: $ 2.839996\n"
     ]
    },
    {
     "name": "stderr",
     "output_type": "stream",
     "text": [
      "  1%|          | 111/10889 [03:35<5:51:26,  1.96s/it]"
     ]
    },
    {
     "name": "stdout",
     "output_type": "stream",
     "text": [
      "AI Trader bought:  $ 183.309998\n"
     ]
    },
    {
     "name": "stderr",
     "output_type": "stream",
     "text": [
      "  1%|          | 112/10889 [03:37<5:51:38,  1.96s/it]"
     ]
    },
    {
     "name": "stdout",
     "output_type": "stream",
     "text": [
      "AI Trader sold:  $ 183.949997  Profit: $ 4.369995\n"
     ]
    },
    {
     "name": "stderr",
     "output_type": "stream",
     "text": [
      "  1%|          | 115/10889 [03:43<5:53:47,  1.97s/it]"
     ]
    },
    {
     "name": "stdout",
     "output_type": "stream",
     "text": [
      "AI Trader bought:  $ 185.009995\n"
     ]
    },
    {
     "name": "stderr",
     "output_type": "stream",
     "text": [
      "  1%|          | 119/10889 [03:51<6:03:44,  2.03s/it]"
     ]
    },
    {
     "name": "stdout",
     "output_type": "stream",
     "text": [
      "AI Trader bought:  $ 185.270004\n"
     ]
    },
    {
     "name": "stderr",
     "output_type": "stream",
     "text": [
      "  1%|          | 120/10889 [03:53<6:01:25,  2.01s/it]"
     ]
    },
    {
     "name": "stdout",
     "output_type": "stream",
     "text": [
      "AI Trader bought:  $ 188.059998\n"
     ]
    },
    {
     "name": "stderr",
     "output_type": "stream",
     "text": [
      "  1%|          | 123/10889 [03:59<5:58:37,  2.00s/it]"
     ]
    },
    {
     "name": "stdout",
     "output_type": "stream",
     "text": [
      "AI Trader bought:  $ 193.970001\n"
     ]
    },
    {
     "name": "stderr",
     "output_type": "stream",
     "text": [
      "  1%|          | 124/10889 [04:01<6:01:24,  2.01s/it]"
     ]
    },
    {
     "name": "stdout",
     "output_type": "stream",
     "text": [
      "AI Trader bought:  $ 192.460007\n"
     ]
    },
    {
     "name": "stderr",
     "output_type": "stream",
     "text": [
      "  1%|          | 129/10889 [04:11<5:56:34,  1.99s/it]"
     ]
    },
    {
     "name": "stdout",
     "output_type": "stream",
     "text": [
      "AI Trader sold:  $ 188.080002  Profit: $ 8.869995\n"
     ]
    },
    {
     "name": "stderr",
     "output_type": "stream",
     "text": [
      "  1%|          | 130/10889 [04:13<5:52:40,  1.97s/it]"
     ]
    },
    {
     "name": "stdout",
     "output_type": "stream",
     "text": [
      "AI Trader bought:  $ 189.770004\n"
     ]
    },
    {
     "name": "stderr",
     "output_type": "stream",
     "text": [
      "  1%|          | 132/10889 [04:17<5:49:24,  1.95s/it]"
     ]
    },
    {
     "name": "stdout",
     "output_type": "stream",
     "text": [
      "AI Trader sold:  $ 190.690002  Profit: $ 7.380005\n"
     ]
    },
    {
     "name": "stderr",
     "output_type": "stream",
     "text": [
      "  1%|          | 133/10889 [04:19<5:50:39,  1.96s/it]"
     ]
    },
    {
     "name": "stdout",
     "output_type": "stream",
     "text": [
      "AI Trader sold:  $ 193.990005  Profit: $ 8.980011\n"
     ]
    },
    {
     "name": "stderr",
     "output_type": "stream",
     "text": [
      "  1%|          | 134/10889 [04:21<5:48:06,  1.94s/it]"
     ]
    },
    {
     "name": "stdout",
     "output_type": "stream",
     "text": [
      "AI Trader sold:  $ 193.729996  Profit: $ 8.459991\n"
     ]
    },
    {
     "name": "stderr",
     "output_type": "stream",
     "text": [
      "  1%|          | 135/10889 [04:23<5:53:03,  1.97s/it]"
     ]
    },
    {
     "name": "stdout",
     "output_type": "stream",
     "text": [
      "AI Trader sold:  $ 195.100006  Profit: $ 7.040009\n"
     ]
    },
    {
     "name": "stderr",
     "output_type": "stream",
     "text": [
      "  1%|          | 136/10889 [04:25<5:49:31,  1.95s/it]"
     ]
    },
    {
     "name": "stdout",
     "output_type": "stream",
     "text": [
      "AI Trader sold:  $ 193.130005  Profit: - $ 0.839996\n"
     ]
    },
    {
     "name": "stderr",
     "output_type": "stream",
     "text": [
      "  1%|▏         | 137/10889 [04:27<5:50:43,  1.96s/it]"
     ]
    },
    {
     "name": "stdout",
     "output_type": "stream",
     "text": [
      "AI Trader sold:  $ 191.940002  Profit: - $ 0.520004\n"
     ]
    },
    {
     "name": "stderr",
     "output_type": "stream",
     "text": [
      "  1%|▏         | 138/10889 [04:29<5:47:33,  1.94s/it]"
     ]
    },
    {
     "name": "stdout",
     "output_type": "stream",
     "text": [
      "AI Trader sold:  $ 192.750000  Profit: $ 2.979996\n"
     ]
    },
    {
     "name": "stderr",
     "output_type": "stream",
     "text": [
      "  2%|▏         | 167/10889 [05:26<5:43:05,  1.92s/it]"
     ]
    },
    {
     "name": "stdout",
     "output_type": "stream",
     "text": [
      "AI Trader bought:  $ 189.460007\n"
     ]
    },
    {
     "name": "stderr",
     "output_type": "stream",
     "text": [
      "  2%|▏         | 169/10889 [05:30<5:47:21,  1.94s/it]"
     ]
    },
    {
     "name": "stdout",
     "output_type": "stream",
     "text": [
      "AI Trader bought:  $ 182.910004\n"
     ]
    },
    {
     "name": "stderr",
     "output_type": "stream",
     "text": [
      "  2%|▏         | 170/10889 [05:31<5:46:32,  1.94s/it]"
     ]
    },
    {
     "name": "stdout",
     "output_type": "stream",
     "text": [
      "AI Trader bought:  $ 177.559998\n"
     ]
    },
    {
     "name": "stderr",
     "output_type": "stream",
     "text": [
      "  2%|▏         | 171/10889 [05:33<5:48:38,  1.95s/it]"
     ]
    },
    {
     "name": "stdout",
     "output_type": "stream",
     "text": [
      "AI Trader bought:  $ 178.179993\n"
     ]
    },
    {
     "name": "stderr",
     "output_type": "stream",
     "text": [
      "  2%|▏         | 172/10889 [05:35<5:51:09,  1.97s/it]"
     ]
    },
    {
     "name": "stdout",
     "output_type": "stream",
     "text": [
      "AI Trader bought:  $ 179.360001\n"
     ]
    },
    {
     "name": "stderr",
     "output_type": "stream",
     "text": [
      "  2%|▏         | 173/10889 [05:37<5:51:22,  1.97s/it]"
     ]
    },
    {
     "name": "stdout",
     "output_type": "stream",
     "text": [
      "AI Trader bought:  $ 176.300003\n"
     ]
    },
    {
     "name": "stderr",
     "output_type": "stream",
     "text": [
      "  2%|▏         | 174/10889 [05:39<5:49:09,  1.96s/it]"
     ]
    },
    {
     "name": "stdout",
     "output_type": "stream",
     "text": [
      "AI Trader bought:  $ 174.210007\n"
     ]
    },
    {
     "name": "stderr",
     "output_type": "stream",
     "text": [
      "  2%|▏         | 175/10889 [05:41<5:49:22,  1.96s/it]"
     ]
    },
    {
     "name": "stdout",
     "output_type": "stream",
     "text": [
      "AI Trader bought:  $ 175.740005\n"
     ]
    },
    {
     "name": "stderr",
     "output_type": "stream",
     "text": [
      "  2%|▏         | 177/10889 [05:45<5:54:50,  1.99s/it]"
     ]
    },
    {
     "name": "stdout",
     "output_type": "stream",
     "text": [
      "AI Trader bought:  $ 177.970001\n"
     ]
    },
    {
     "name": "stderr",
     "output_type": "stream",
     "text": [
      "  2%|▏         | 178/10889 [05:47<5:53:57,  1.98s/it]"
     ]
    },
    {
     "name": "stdout",
     "output_type": "stream",
     "text": [
      "AI Trader sold:  $ 179.070007  Profit: - $ 10.389999\n"
     ]
    },
    {
     "name": "stderr",
     "output_type": "stream",
     "text": [
      "  2%|▏         | 179/10889 [05:49<5:52:18,  1.97s/it]"
     ]
    },
    {
     "name": "stdout",
     "output_type": "stream",
     "text": [
      "AI Trader bought:  $ 175.490005\n"
     ]
    },
    {
     "name": "stderr",
     "output_type": "stream",
     "text": [
      "  2%|▏         | 180/10889 [05:51<6:02:30,  2.03s/it]"
     ]
    },
    {
     "name": "stdout",
     "output_type": "stream",
     "text": [
      "AI Trader bought:  $ 173.929993\n"
     ]
    },
    {
     "name": "stderr",
     "output_type": "stream",
     "text": [
      "  2%|▏         | 181/10889 [05:53<5:56:25,  2.00s/it]"
     ]
    },
    {
     "name": "stdout",
     "output_type": "stream",
     "text": [
      "AI Trader bought:  $ 174.789993\n"
     ]
    },
    {
     "name": "stderr",
     "output_type": "stream",
     "text": [
      "  2%|▏         | 183/10889 [05:57<5:45:49,  1.94s/it]"
     ]
    },
    {
     "name": "stdout",
     "output_type": "stream",
     "text": [
      "AI Trader sold:  $ 171.960007  Profit: - $ 10.949997\n"
     ]
    },
    {
     "name": "stderr",
     "output_type": "stream",
     "text": [
      "  2%|▏         | 185/10889 [06:01<5:42:10,  1.92s/it]"
     ]
    },
    {
     "name": "stdout",
     "output_type": "stream",
     "text": [
      "AI Trader bought:  $ 170.690002\n"
     ]
    },
    {
     "name": "stderr",
     "output_type": "stream",
     "text": [
      "  2%|▏         | 187/10889 [06:05<5:51:04,  1.97s/it]"
     ]
    },
    {
     "name": "stdout",
     "output_type": "stream",
     "text": [
      "AI Trader bought:  $ 173.750000\n"
     ]
    },
    {
     "name": "stderr",
     "output_type": "stream",
     "text": [
      "  2%|▏         | 188/10889 [06:07<5:50:59,  1.97s/it]"
     ]
    },
    {
     "name": "stdout",
     "output_type": "stream",
     "text": [
      "AI Trader sold:  $ 172.399994  Profit: - $ 5.160004\n"
     ]
    },
    {
     "name": "stderr",
     "output_type": "stream",
     "text": [
      "  2%|▏         | 189/10889 [06:09<5:51:57,  1.97s/it]"
     ]
    },
    {
     "name": "stdout",
     "output_type": "stream",
     "text": [
      "AI Trader bought:  $ 173.660004\n"
     ]
    },
    {
     "name": "stderr",
     "output_type": "stream",
     "text": [
      "  2%|▏         | 190/10889 [06:11<5:52:07,  1.97s/it]"
     ]
    },
    {
     "name": "stdout",
     "output_type": "stream",
     "text": [
      "AI Trader sold:  $ 174.910004  Profit: - $ 3.269989\n"
     ]
    },
    {
     "name": "stderr",
     "output_type": "stream",
     "text": [
      "  2%|▏         | 191/10889 [06:13<5:54:02,  1.99s/it]"
     ]
    },
    {
     "name": "stdout",
     "output_type": "stream",
     "text": [
      "AI Trader bought:  $ 177.490005\n"
     ]
    },
    {
     "name": "stderr",
     "output_type": "stream",
     "text": [
      "  2%|▏         | 192/10889 [06:15<5:55:35,  1.99s/it]"
     ]
    },
    {
     "name": "stdout",
     "output_type": "stream",
     "text": [
      "AI Trader bought:  $ 178.990005\n"
     ]
    },
    {
     "name": "stderr",
     "output_type": "stream",
     "text": [
      "  2%|▏         | 193/10889 [06:17<5:57:41,  2.01s/it]"
     ]
    },
    {
     "name": "stdout",
     "output_type": "stream",
     "text": [
      "AI Trader sold:  $ 178.389999  Profit: - $ 0.970001\n"
     ]
    },
    {
     "name": "stderr",
     "output_type": "stream",
     "text": [
      "  2%|▏         | 194/10889 [06:19<6:00:20,  2.02s/it]"
     ]
    },
    {
     "name": "stdout",
     "output_type": "stream",
     "text": [
      "AI Trader bought:  $ 179.800003\n"
     ]
    },
    {
     "name": "stderr",
     "output_type": "stream",
     "text": [
      "  2%|▏         | 195/10889 [06:21<6:02:32,  2.03s/it]"
     ]
    },
    {
     "name": "stdout",
     "output_type": "stream",
     "text": [
      "AI Trader sold:  $ 180.710007  Profit: $ 4.410004\n"
     ]
    },
    {
     "name": "stderr",
     "output_type": "stream",
     "text": [
      "  2%|▏         | 196/10889 [06:23<6:03:44,  2.04s/it]"
     ]
    },
    {
     "name": "stdout",
     "output_type": "stream",
     "text": [
      "AI Trader bought:  $ 178.850006\n"
     ]
    },
    {
     "name": "stderr",
     "output_type": "stream",
     "text": [
      "  2%|▏         | 197/10889 [06:25<6:03:02,  2.04s/it]"
     ]
    },
    {
     "name": "stdout",
     "output_type": "stream",
     "text": [
      "AI Trader bought:  $ 178.720001\n"
     ]
    },
    {
     "name": "stderr",
     "output_type": "stream",
     "text": [
      "  2%|▏         | 198/10889 [06:27<6:05:54,  2.05s/it]"
     ]
    },
    {
     "name": "stdout",
     "output_type": "stream",
     "text": [
      "AI Trader bought:  $ 177.149994\n"
     ]
    },
    {
     "name": "stderr",
     "output_type": "stream",
     "text": [
      "  2%|▏         | 199/10889 [06:29<6:03:31,  2.04s/it]"
     ]
    },
    {
     "name": "stdout",
     "output_type": "stream",
     "text": [
      "AI Trader bought:  $ 175.839996\n"
     ]
    },
    {
     "name": "stderr",
     "output_type": "stream",
     "text": [
      "  2%|▏         | 200/10889 [06:31<5:58:11,  2.01s/it]"
     ]
    },
    {
     "name": "stdout",
     "output_type": "stream",
     "text": [
      "AI Trader sold:  $ 175.460007  Profit: $ 1.250000\n"
     ]
    },
    {
     "name": "stderr",
     "output_type": "stream",
     "text": [
      "  2%|▏         | 201/10889 [06:33<5:54:36,  1.99s/it]"
     ]
    },
    {
     "name": "stdout",
     "output_type": "stream",
     "text": [
      "AI Trader bought:  $ 172.880005\n"
     ]
    },
    {
     "name": "stderr",
     "output_type": "stream",
     "text": [
      "  2%|▏         | 202/10889 [06:35<5:54:25,  1.99s/it]"
     ]
    },
    {
     "name": "stdout",
     "output_type": "stream",
     "text": [
      "AI Trader bought:  $ 173.000000\n"
     ]
    },
    {
     "name": "stderr",
     "output_type": "stream",
     "text": [
      "  2%|▏         | 203/10889 [06:37<6:01:46,  2.03s/it]"
     ]
    },
    {
     "name": "stdout",
     "output_type": "stream",
     "text": [
      "AI Trader sold:  $ 173.440002  Profit: - $ 2.300003\n"
     ]
    },
    {
     "name": "stderr",
     "output_type": "stream",
     "text": [
      "  2%|▏         | 204/10889 [06:39<5:57:17,  2.01s/it]"
     ]
    },
    {
     "name": "stdout",
     "output_type": "stream",
     "text": [
      "AI Trader bought:  $ 171.100006\n"
     ]
    },
    {
     "name": "stderr",
     "output_type": "stream",
     "text": [
      "  2%|▏         | 205/10889 [06:41<5:50:53,  1.97s/it]"
     ]
    },
    {
     "name": "stdout",
     "output_type": "stream",
     "text": [
      "AI Trader bought:  $ 166.889999\n"
     ]
    },
    {
     "name": "stderr",
     "output_type": "stream",
     "text": [
      "  2%|▏         | 206/10889 [06:43<5:47:06,  1.95s/it]"
     ]
    },
    {
     "name": "stdout",
     "output_type": "stream",
     "text": [
      "AI Trader sold:  $ 168.220001  Profit: - $ 9.750000\n"
     ]
    },
    {
     "name": "stderr",
     "output_type": "stream",
     "text": [
      "  2%|▏         | 207/10889 [06:45<5:45:07,  1.94s/it]"
     ]
    },
    {
     "name": "stdout",
     "output_type": "stream",
     "text": [
      "AI Trader bought:  $ 170.289993\n"
     ]
    },
    {
     "name": "stderr",
     "output_type": "stream",
     "text": [
      "  2%|▏         | 208/10889 [06:47<5:42:50,  1.93s/it]"
     ]
    },
    {
     "name": "stdout",
     "output_type": "stream",
     "text": [
      "AI Trader sold:  $ 170.770004  Profit: - $ 4.720001\n"
     ]
    },
    {
     "name": "stderr",
     "output_type": "stream",
     "text": [
      "  2%|▏         | 209/10889 [06:49<5:45:13,  1.94s/it]"
     ]
    },
    {
     "name": "stdout",
     "output_type": "stream",
     "text": [
      "AI Trader sold:  $ 173.970001  Profit: $ 0.040009\n"
     ]
    },
    {
     "name": "stderr",
     "output_type": "stream",
     "text": [
      "  2%|▏         | 210/10889 [06:51<5:45:01,  1.94s/it]"
     ]
    },
    {
     "name": "stdout",
     "output_type": "stream",
     "text": [
      "AI Trader sold:  $ 177.570007  Profit: $ 2.780014\n"
     ]
    },
    {
     "name": "stderr",
     "output_type": "stream",
     "text": [
      "  2%|▏         | 211/10889 [06:53<5:44:35,  1.94s/it]"
     ]
    },
    {
     "name": "stdout",
     "output_type": "stream",
     "text": [
      "AI Trader sold:  $ 176.649994  Profit: $ 5.959991\n"
     ]
    },
    {
     "name": "stderr",
     "output_type": "stream",
     "text": [
      "  2%|▏         | 212/10889 [06:55<5:42:44,  1.93s/it]"
     ]
    },
    {
     "name": "stdout",
     "output_type": "stream",
     "text": [
      "AI Trader sold:  $ 179.229996  Profit: $ 5.479996\n"
     ]
    },
    {
     "name": "stderr",
     "output_type": "stream",
     "text": [
      "  2%|▏         | 213/10889 [06:56<5:40:47,  1.92s/it]"
     ]
    },
    {
     "name": "stdout",
     "output_type": "stream",
     "text": [
      "AI Trader sold:  $ 181.820007  Profit: $ 8.160004\n"
     ]
    },
    {
     "name": "stderr",
     "output_type": "stream",
     "text": [
      "  2%|▏         | 214/10889 [06:58<5:38:31,  1.90s/it]"
     ]
    },
    {
     "name": "stdout",
     "output_type": "stream",
     "text": [
      "AI Trader sold:  $ 182.889999  Profit: $ 5.399994\n"
     ]
    },
    {
     "name": "stderr",
     "output_type": "stream",
     "text": [
      "  2%|▏         | 215/10889 [07:00<5:37:03,  1.89s/it]"
     ]
    },
    {
     "name": "stdout",
     "output_type": "stream",
     "text": [
      "AI Trader sold:  $ 182.410004  Profit: $ 3.419998\n"
     ]
    },
    {
     "name": "stderr",
     "output_type": "stream",
     "text": [
      "  2%|▏         | 216/10889 [07:02<5:36:30,  1.89s/it]"
     ]
    },
    {
     "name": "stdout",
     "output_type": "stream",
     "text": [
      "AI Trader sold:  $ 186.399994  Profit: $ 6.599991\n"
     ]
    },
    {
     "name": "stderr",
     "output_type": "stream",
     "text": [
      "  2%|▏         | 217/10889 [07:04<5:35:57,  1.89s/it]"
     ]
    },
    {
     "name": "stdout",
     "output_type": "stream",
     "text": [
      "AI Trader sold:  $ 184.800003  Profit: $ 5.949997\n"
     ]
    },
    {
     "name": "stderr",
     "output_type": "stream",
     "text": [
      "  2%|▏         | 218/10889 [07:06<5:36:45,  1.89s/it]"
     ]
    },
    {
     "name": "stdout",
     "output_type": "stream",
     "text": [
      "AI Trader sold:  $ 187.440002  Profit: $ 8.720001\n"
     ]
    },
    {
     "name": "stderr",
     "output_type": "stream",
     "text": [
      "  2%|▏         | 219/10889 [07:08<5:37:50,  1.90s/it]"
     ]
    },
    {
     "name": "stdout",
     "output_type": "stream",
     "text": [
      "AI Trader sold:  $ 188.009995  Profit: $ 10.860001\n"
     ]
    },
    {
     "name": "stderr",
     "output_type": "stream",
     "text": [
      "  2%|▏         | 220/10889 [07:10<5:37:40,  1.90s/it]"
     ]
    },
    {
     "name": "stdout",
     "output_type": "stream",
     "text": [
      "AI Trader sold:  $ 189.710007  Profit: $ 13.870010\n"
     ]
    },
    {
     "name": "stderr",
     "output_type": "stream",
     "text": [
      "  2%|▏         | 221/10889 [07:12<5:52:01,  1.98s/it]"
     ]
    },
    {
     "name": "stdout",
     "output_type": "stream",
     "text": [
      "AI Trader sold:  $ 189.690002  Profit: $ 16.809998\n"
     ]
    },
    {
     "name": "stderr",
     "output_type": "stream",
     "text": [
      "  2%|▏         | 222/10889 [07:14<5:52:38,  1.98s/it]"
     ]
    },
    {
     "name": "stdout",
     "output_type": "stream",
     "text": [
      "AI Trader sold:  $ 191.449997  Profit: $ 18.449997\n"
     ]
    },
    {
     "name": "stderr",
     "output_type": "stream",
     "text": [
      "  2%|▏         | 223/10889 [07:16<5:52:59,  1.99s/it]"
     ]
    },
    {
     "name": "stdout",
     "output_type": "stream",
     "text": [
      "AI Trader sold:  $ 190.639999  Profit: $ 19.539993\n"
     ]
    },
    {
     "name": "stderr",
     "output_type": "stream",
     "text": [
      "  2%|▏         | 224/10889 [07:18<5:53:14,  1.99s/it]"
     ]
    },
    {
     "name": "stdout",
     "output_type": "stream",
     "text": [
      "AI Trader sold:  $ 191.309998  Profit: $ 24.419998\n"
     ]
    },
    {
     "name": "stderr",
     "output_type": "stream",
     "text": [
      "  2%|▏         | 225/10889 [07:20<5:50:16,  1.97s/it]"
     ]
    },
    {
     "name": "stdout",
     "output_type": "stream",
     "text": [
      "AI Trader sold:  $ 189.970001  Profit: $ 19.680008\n"
     ]
    },
    {
     "name": "stderr",
     "output_type": "stream",
     "text": [
      "  2%|▏         | 236/10889 [07:41<5:48:43,  1.96s/it]"
     ]
    },
    {
     "name": "stdout",
     "output_type": "stream",
     "text": [
      "AI Trader bought:  $ 193.179993\n"
     ]
    },
    {
     "name": "stderr",
     "output_type": "stream",
     "text": [
      "  2%|▏         | 237/10889 [07:43<5:49:04,  1.97s/it]"
     ]
    },
    {
     "name": "stdout",
     "output_type": "stream",
     "text": [
      "AI Trader bought:  $ 194.710007\n"
     ]
    },
    {
     "name": "stderr",
     "output_type": "stream",
     "text": [
      "  2%|▏         | 238/10889 [07:45<5:50:20,  1.97s/it]"
     ]
    },
    {
     "name": "stdout",
     "output_type": "stream",
     "text": [
      "AI Trader bought:  $ 197.960007\n"
     ]
    },
    {
     "name": "stderr",
     "output_type": "stream",
     "text": [
      "  2%|▏         | 239/10889 [07:48<5:58:49,  2.02s/it]"
     ]
    },
    {
     "name": "stdout",
     "output_type": "stream",
     "text": [
      "AI Trader bought:  $ 198.110001\n"
     ]
    },
    {
     "name": "stderr",
     "output_type": "stream",
     "text": [
      "  2%|▏         | 240/10889 [07:49<5:55:10,  2.00s/it]"
     ]
    },
    {
     "name": "stdout",
     "output_type": "stream",
     "text": [
      "AI Trader sold:  $ 197.570007  Profit: $ 4.390015\n"
     ]
    },
    {
     "name": "stderr",
     "output_type": "stream",
     "text": [
      "  2%|▏         | 241/10889 [07:51<5:54:30,  2.00s/it]"
     ]
    },
    {
     "name": "stdout",
     "output_type": "stream",
     "text": [
      "AI Trader sold:  $ 195.889999  Profit: $ 1.179993\n"
     ]
    },
    {
     "name": "stderr",
     "output_type": "stream",
     "text": [
      "  2%|▏         | 242/10889 [07:53<5:55:03,  2.00s/it]"
     ]
    },
    {
     "name": "stdout",
     "output_type": "stream",
     "text": [
      "AI Trader sold:  $ 196.940002  Profit: - $ 1.020004\n"
     ]
    },
    {
     "name": "stderr",
     "output_type": "stream",
     "text": [
      "  2%|▏         | 243/10889 [07:56<5:55:52,  2.01s/it]"
     ]
    },
    {
     "name": "stdout",
     "output_type": "stream",
     "text": [
      "AI Trader sold:  $ 194.830002  Profit: - $ 3.279999\n"
     ]
    },
    {
     "name": "stderr",
     "output_type": "stream",
     "text": [
      "  2%|▏         | 249/10889 [08:08<5:47:33,  1.96s/it]\n"
     ]
    },
    {
     "ename": "IndexError",
     "evalue": "index 10 is out of bounds for axis 0 with size 10",
     "output_type": "error",
     "traceback": [
      "\u001B[0;31m---------------------------------------------------------------------------\u001B[0m",
      "\u001B[0;31mIndexError\u001B[0m                                Traceback (most recent call last)",
      "Cell \u001B[0;32mIn[39], line 17\u001B[0m\n\u001B[1;32m     13\u001B[0m \u001B[38;5;28;01mfor\u001B[39;00m t \u001B[38;5;129;01min\u001B[39;00m tqdm(\u001B[38;5;28mrange\u001B[39m(data_samples)):\n\u001B[1;32m     15\u001B[0m   action \u001B[38;5;241m=\u001B[39m trader\u001B[38;5;241m.\u001B[39mtrade(state)\n\u001B[0;32m---> 17\u001B[0m   next_state \u001B[38;5;241m=\u001B[39m \u001B[43mstate_creator\u001B[49m\u001B[43m(\u001B[49m\u001B[43mdata\u001B[49m\u001B[43m,\u001B[49m\u001B[43m \u001B[49m\u001B[43mt\u001B[49m\u001B[38;5;241;43m+\u001B[39;49m\u001B[38;5;241;43m1\u001B[39;49m\u001B[43m,\u001B[49m\u001B[43m \u001B[49m\u001B[43mwindow_size\u001B[49m\u001B[43m \u001B[49m\u001B[38;5;241;43m+\u001B[39;49m\u001B[43m \u001B[49m\u001B[38;5;241;43m1\u001B[39;49m\u001B[43m)\u001B[49m\n\u001B[1;32m     18\u001B[0m   reward \u001B[38;5;241m=\u001B[39m \u001B[38;5;241m0\u001B[39m\n\u001B[1;32m     20\u001B[0m   \u001B[38;5;28;01mif\u001B[39;00m action \u001B[38;5;241m==\u001B[39m \u001B[38;5;241m1\u001B[39m: \u001B[38;5;66;03m#Buying\u001B[39;00m\n",
      "Cell \u001B[0;32mIn[11], line 11\u001B[0m, in \u001B[0;36mstate_creator\u001B[0;34m(data, timestep, window_size)\u001B[0m\n\u001B[1;32m      9\u001B[0m state \u001B[38;5;241m=\u001B[39m []\n\u001B[1;32m     10\u001B[0m \u001B[38;5;28;01mfor\u001B[39;00m i \u001B[38;5;129;01min\u001B[39;00m \u001B[38;5;28mrange\u001B[39m(window_size \u001B[38;5;241m-\u001B[39m \u001B[38;5;241m1\u001B[39m):\n\u001B[0;32m---> 11\u001B[0m   state\u001B[38;5;241m.\u001B[39mappend(sigmoid(\u001B[43mwindow_data\u001B[49m\u001B[43m[\u001B[49m\u001B[43mi\u001B[49m\u001B[38;5;241;43m+\u001B[39;49m\u001B[38;5;241;43m1\u001B[39;49m\u001B[43m]\u001B[49m \u001B[38;5;241m-\u001B[39m window_data[i]))\n\u001B[1;32m     13\u001B[0m \u001B[38;5;28;01mreturn\u001B[39;00m np\u001B[38;5;241m.\u001B[39marray([state])\n",
      "File \u001B[0;32m/opt/homebrew/Caskroom/miniforge/base/envs/py310/lib/python3.10/site-packages/pandas/core/series.py:1108\u001B[0m, in \u001B[0;36mSeries.__getitem__\u001B[0;34m(self, key)\u001B[0m\n\u001B[1;32m   1098\u001B[0m \u001B[38;5;28;01mif\u001B[39;00m is_integer(key) \u001B[38;5;129;01mand\u001B[39;00m \u001B[38;5;28mself\u001B[39m\u001B[38;5;241m.\u001B[39mindex\u001B[38;5;241m.\u001B[39m_should_fallback_to_positional:\n\u001B[1;32m   1099\u001B[0m     warnings\u001B[38;5;241m.\u001B[39mwarn(\n\u001B[1;32m   1100\u001B[0m         \u001B[38;5;66;03m# GH#50617\u001B[39;00m\n\u001B[1;32m   1101\u001B[0m         \u001B[38;5;124m\"\u001B[39m\u001B[38;5;124mSeries.__getitem__ treating keys as positions is deprecated. \u001B[39m\u001B[38;5;124m\"\u001B[39m\n\u001B[0;32m   (...)\u001B[0m\n\u001B[1;32m   1106\u001B[0m         stacklevel\u001B[38;5;241m=\u001B[39mfind_stack_level(),\n\u001B[1;32m   1107\u001B[0m     )\n\u001B[0;32m-> 1108\u001B[0m     \u001B[38;5;28;01mreturn\u001B[39;00m \u001B[38;5;28;43mself\u001B[39;49m\u001B[38;5;241;43m.\u001B[39;49m\u001B[43m_values\u001B[49m\u001B[43m[\u001B[49m\u001B[43mkey\u001B[49m\u001B[43m]\u001B[49m\n\u001B[1;32m   1110\u001B[0m \u001B[38;5;28;01melif\u001B[39;00m key_is_scalar:\n\u001B[1;32m   1111\u001B[0m     \u001B[38;5;28;01mreturn\u001B[39;00m \u001B[38;5;28mself\u001B[39m\u001B[38;5;241m.\u001B[39m_get_value(key)\n",
      "\u001B[0;31mIndexError\u001B[0m: index 10 is out of bounds for axis 0 with size 10"
     ]
    }
   ],
   "source": [
    "stock_name = \"AAPL\"\n",
    "data = dataset_loader(stock_name, start_date='2023-01-01', end_date='2024-01-01')\n",
    "\n",
    "for episode in range(1, episodes + 1):\n",
    "  \n",
    "  print(\"Episode: {}/{}\".format(episode, episodes))\n",
    "  \n",
    "  state = state_creator(data, 0, window_size + 1)\n",
    "  \n",
    "  total_profit = 0\n",
    "  trader.inventory = []\n",
    "  \n",
    "  for t in tqdm(range(data_samples)):\n",
    "    \n",
    "    action = trader.trade(state)\n",
    "    \n",
    "    next_state = state_creator(data, t+1, window_size + 1)\n",
    "    reward = 0\n",
    "    \n",
    "    if action == 1: #Buying\n",
    "      trader.inventory.append(data[t])\n",
    "      print(\"AI Trader bought: \", stocks_price_format(data[t]))\n",
    "      \n",
    "    elif action == 2 and len(trader.inventory) > 0: #Selling\n",
    "      buy_price = trader.inventory.pop(0)\n",
    "      \n",
    "      reward = max(data[t] - buy_price, 0)\n",
    "      total_profit += data[t] - buy_price\n",
    "      print(\"AI Trader sold: \", stocks_price_format(data[t]), \" Profit: \" + stocks_price_format(data[t] - buy_price) )\n",
    "      \n",
    "    if t == data_samples - 1:\n",
    "      done = True\n",
    "    else:\n",
    "      done = False\n",
    "      \n",
    "    trader.memory.append((state, action, reward, next_state, done))\n",
    "    \n",
    "    state = next_state\n",
    "    \n",
    "    if done:\n",
    "      print(\"########################\")\n",
    "      print(\"TOTAL PROFIT: {}\".format(total_profit))\n",
    "      print(\"########################\")\n",
    "    \n",
    "    if len(trader.memory) > batch_size:\n",
    "      trader.batch_train(batch_size)\n",
    "      \n",
    "  if episode % 10 == 0:\n",
    "      print(\"TOTAL PROFIT: {}\".format(total_profit))\n",
    "      trader.model.save(\"ai_trader_{}.h5\".format(episode))"
   ],
   "metadata": {
    "collapsed": false,
    "ExecuteTime": {
     "end_time": "2024-02-24T18:24:11.163343Z",
     "start_time": "2024-02-24T18:16:02.773682Z"
    }
   },
   "id": "926099ef6452aa05",
   "execution_count": 39
  },
  {
   "cell_type": "code",
   "outputs": [],
   "source": [],
   "metadata": {
    "collapsed": false
   },
   "id": "a32056cd157891e3"
  }
 ],
 "metadata": {
  "kernelspec": {
   "display_name": "Python 3",
   "language": "python",
   "name": "python3"
  },
  "language_info": {
   "codemirror_mode": {
    "name": "ipython",
    "version": 2
   },
   "file_extension": ".py",
   "mimetype": "text/x-python",
   "name": "python",
   "nbconvert_exporter": "python",
   "pygments_lexer": "ipython2",
   "version": "2.7.6"
  }
 },
 "nbformat": 4,
 "nbformat_minor": 5
}
