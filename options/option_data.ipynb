{
 "cells": [
  {
   "cell_type": "code",
   "execution_count": 1,
   "id": "initial_id",
   "metadata": {
    "collapsed": true,
    "ExecuteTime": {
     "end_time": "2023-12-31T06:28:57.430966Z",
     "start_time": "2023-12-31T06:28:48.463528Z"
    }
   },
   "outputs": [],
   "source": [
    "import os\n",
    "import glob\n",
    "import matplotlib.pyplot as plt\n",
    "import datetime as dt\n",
    "\n",
    "import arcticdb as adb\n",
    "import pandas as pd"
   ]
  },
  {
   "cell_type": "code",
   "outputs": [],
   "source": [
    "arctic = adb.Arctic(\"lmdb://equity_options\")\n",
    "lib = arctic.get_library(\"options\", create_if_missing=True)"
   ],
   "metadata": {
    "collapsed": false
   },
   "id": "5a01705f7d6009ff"
  },
  {
   "cell_type": "code",
   "outputs": [],
   "source": [
    "def read_chains(fl):\n",
    "    df = (\n",
    "        pd\n",
    "        .read_csv(fl)\n",
    "        .set_index(\"date\")\n",
    "    )\n",
    "    df.index = pd.to_datetime(df.index)\n",
    "    return df"
   ],
   "metadata": {
    "collapsed": false
   },
   "id": "14f51c021861c9f8"
  },
  {
   "cell_type": "code",
   "outputs": [],
   "source": [
    "files = glob.glob(os.path.join(\"rut-eod\", \"*.csv\"))\n",
    "for fl in files:\n",
    "    chains = read_chains(fl)\n",
    "    chains.option_expiration = pd.to_datetime(chains.option_expiration)\n",
    "    underlyings = chains.symbol.unique()\n",
    "    for underlying in underlyings:\n",
    "        df = chains[chains.symbol == underlying]\n",
    "        adb_sym = f\"options/{underlying}\"\n",
    "        adb_fcn = lib.update if lib.has_symbol(adb_sym) else lib.write\n",
    "        adb_fcn(adb_sym, df)"
   ],
   "metadata": {
    "collapsed": false
   },
   "id": "e5e961b169da98e7"
  },
  {
   "cell_type": "code",
   "outputs": [],
   "source": [
    "def read_vol_curve(as_of_date, underlying, expiry, delta_low, delta_high):\n",
    "    q = adb.QueryBuilder()\n",
    "    filter = (\n",
    "        (q[\"option_expiration\"] == expiry) & \n",
    "        (\n",
    "            (\n",
    "                (q[\"delta\"] >= delta_low) & (q[\"delta\"] <= delta_high)\n",
    "            ) | (\n",
    "                (q[\"delta\"] >= -delta_high) & (q[\"delta\"] <= -delta_low)\n",
    "            )\n",
    "        )\n",
    "    )\n",
    "    q = (\n",
    "        q[filter]\n",
    "        .groupby(\"strike\")\n",
    "        .agg({\"iv\": \"mean\"})\n",
    "    )\n",
    "    return lib.read(\n",
    "        f\"options/{underlying}\", \n",
    "        date_range=(as_of_date, as_of_date),\n",
    "        query_builder=q\n",
    "    ).data"
   ],
   "metadata": {
    "collapsed": false
   },
   "id": "4016ed93f9e96dda"
  },
  {
   "cell_type": "code",
   "outputs": [],
   "source": [
    "\n",
    "def query_expirations(as_of_date, underlying, dte=30):\n",
    "    q = adb.QueryBuilder()\n",
    "    filter = (q.option_expiration > as_of_date + dt.timedelta(days=dte))\n",
    "    q = q[filter].groupby(\"option_expiration\").agg({\"volume\": \"sum\"})\n",
    "    return (\n",
    "        lib\n",
    "        .read(\n",
    "            f\"options/{underlying}\", \n",
    "            date_range=(as_of_date, as_of_date), \n",
    "            query_builder=q\n",
    "        )\n",
    "        .data\n",
    "        .sort_index()\n",
    "        .index\n",
    "    )"
   ],
   "metadata": {
    "collapsed": false
   },
   "id": "1e5df41876ee2e79"
  },
  {
   "cell_type": "code",
   "outputs": [],
   "source": [
    "\n",
    "as_of_date = pd.Timestamp(\"2013-06-03\")\n",
    "expiry = pd.Timestamp(\"2013-06-22\")\n",
    "underlying = \"RUT\"\n",
    "dte = 30\n",
    "delta_low = 0.05\n",
    "delta_high = 0.50"
   ],
   "metadata": {
    "collapsed": false
   },
   "id": "18788596b7651c12"
  },
  {
   "cell_type": "code",
   "outputs": [],
   "source": [
    "expiries = query_expirations(as_of_date, underlying, dte)\n",
    "_, ax = plt.subplots(1, 1)\n",
    "cmap = plt.get_cmap(\"rainbow\", len(expiries))\n",
    "format_kw = {\"linewidth\": 0.5, \"alpha\": 0.85}\n",
    "for i, expiry in enumerate(expiries):\n",
    "    curve = read_vol_curve(\n",
    "        as_of_date, \n",
    "        underlying, \n",
    "        expiry, \n",
    "        delta_low, \n",
    "        delta_high\n",
    "    )\n",
    "    (\n",
    "        curve\n",
    "        .sort_index()\n",
    "        .plot(\n",
    "            ax=ax, \n",
    "            y=\"iv\", \n",
    "            label=expiry.strftime(\"%Y-%m-%d\"),\n",
    "            grid=True,\n",
    "            color=cmap(i),\n",
    "            **format_kw\n",
    "        )\n",
    "    )\n",
    "ax.set_ylabel(\"implied volatility\")\n",
    "ax.legend(loc=\"upper right\", framealpha=0.7)"
   ],
   "metadata": {
    "collapsed": false
   },
   "id": "dd70596d41b422b6"
  }
 ],
 "metadata": {
  "kernelspec": {
   "display_name": "Python 3",
   "language": "python",
   "name": "python3"
  },
  "language_info": {
   "codemirror_mode": {
    "name": "ipython",
    "version": 2
   },
   "file_extension": ".py",
   "mimetype": "text/x-python",
   "name": "python",
   "nbconvert_exporter": "python",
   "pygments_lexer": "ipython2",
   "version": "2.7.6"
  }
 },
 "nbformat": 4,
 "nbformat_minor": 5
}
