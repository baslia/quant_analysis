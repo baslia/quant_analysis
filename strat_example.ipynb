{
 "cells": [
  {
   "cell_type": "markdown",
   "source": [
    "# How to establish a strategy with really strong 57% returns\n",
    "\n",
    "Asset class trend-following is a strategy that takes uses momentum and moving averages. It identifies periods of potential outperformance to minimize volatility and drawdowns.\n",
    "\n",
    "It was first introduced by Meb Faber and widely accepted in academia.\n",
    "\n",
    "Professionals apply asset class trend-following by incorporating momentum filters for different asset classes. They use it to stay invested in asset classes that are performing well while avoiding those with higher risk.\n",
    "\n",
    "By understanding and implementing this strategy, you can manage risk-adjusted returns. It helps achieve a balance of equity-like returns with bond-like volatility and drawdowns."
   ],
   "metadata": {
    "collapsed": false
   },
   "id": "6d3b7f1246d96bf3"
  },
  {
   "cell_type": "code",
   "execution_count": 1,
   "outputs": [],
   "source": [
    "# We’ll use the Zipline backtesting framework to assess the strategy. PyFolio is great for risk and performance analysis.\n",
    "\n",
    "import warnings\n",
    "warnings.filterwarnings(\"ignore\")\n",
    "\n",
    "import pandas as pd\n",
    "\n",
    "from zipline import run_algorithm\n",
    "from zipline.api import (\n",
    "    attach_pipeline,\n",
    "    date_rules,\n",
    "    order_target_percent,\n",
    "    pipeline_output,\n",
    "    record,\n",
    "    schedule_function,\n",
    "    symbol,\n",
    "    time_rules,\n",
    "    get_open_orders,\n",
    ")\n",
    "from zipline.finance import commission, slippage\n",
    "from zipline.pipeline import Pipeline\n",
    "from zipline.pipeline.factors import SimpleMovingAverage\n",
    "from zipline.pipeline.data import USEquityPricing\n",
    "\n",
    "import pyfolio as pf"
   ],
   "metadata": {
    "collapsed": false,
    "ExecuteTime": {
     "end_time": "2023-07-29T13:37:15.768937Z",
     "start_time": "2023-07-29T13:37:13.803296Z"
    }
   },
   "id": "ff0d9330a6891322"
  },
  {
   "cell_type": "code",
   "execution_count": null,
   "outputs": [
    {
     "name": "stdout",
     "output_type": "stream",
     "text": [
      "[2023-07-29T08:43:01-0500-INFO][zipline.data.bundles.core]\r\n",
      " Ingesting quandl\r\n",
      "[2023-07-29T08:43:01-0500-INFO][zipline.data.bundles.quandl]\r\n",
      " Downloading WIKI metadata.\r\n",
      "\u001B[?25lDownloading WIKI Prices table from Quandl  [###########-------------------------]   31%  00:00:30"
     ]
    }
   ],
   "source": [
    "! zipline ingest -b quandl"
   ],
   "metadata": {
    "collapsed": false,
    "is_executing": true,
    "ExecuteTime": {
     "start_time": "2023-07-29T13:42:59.639399Z"
    }
   },
   "id": "1c6fb93435152058"
  },
  {
   "cell_type": "markdown",
   "source": [
    "## Set up the strategy code\n",
    "\n",
    "Start with building the function that’s called at the beginning of the backtest. The strategy logic happens in the next function."
   ],
   "metadata": {
    "collapsed": false
   },
   "id": "214d94c431440b16"
  },
  {
   "cell_type": "code",
   "execution_count": 2,
   "outputs": [],
   "source": [
    "def initialize(context):\n",
    "    context.symbols = [\n",
    "        symbol(\"SPY\"),\n",
    "        symbol(\"EFA\"),\n",
    "        symbol(\"IEF\"),\n",
    "        symbol(\"VNQ\"),\n",
    "        symbol(\"GSG\"),\n",
    "    ]\n",
    "    context.sma = {}\n",
    "    context.period = 10 * 21\n",
    "\n",
    "    for asset in context.symbols: \n",
    "        context.sma[asset] = SimpleMovingAverage(\n",
    "            inputs=[USEquityPricing.close],\n",
    "            window_length=context.period\n",
    "        )\n",
    "\n",
    "    schedule_function(\n",
    "        func=rebalance,\n",
    "        date_rule=date_rules.month_start(),\n",
    "        time_rule=time_rules.market_open(minutes=1),\n",
    "    )\n",
    "\n",
    "    context.set_commission(\n",
    "        commission.PerShare(cost=0.01, min_trade_cost=1.00)\n",
    "    )\n",
    "    context.set_slippage(slippage.VolumeShareSlippage())\n",
    "# The logic is straightforward: For each ETF representing an asset class, calculate the 10-month simple moving average using the closing price.\n",
    "\n",
    "# This is a long-term strategy that rebalances at the market open on the first day of the month. Zipline’s schedule function makes it simple to set this up. Note we schedule a function called rebalance to run on this schedule. You’ll create it next.\n",
    "\n",
    "# Finally, include realistic commission and slippage models."
   ],
   "metadata": {
    "collapsed": false,
    "ExecuteTime": {
     "end_time": "2023-07-29T13:38:22.770528Z",
     "start_time": "2023-07-29T13:38:22.762667Z"
    }
   },
   "id": "841f8e56d0d77ad"
  },
  {
   "cell_type": "code",
   "execution_count": null,
   "outputs": [],
   "source": [
    "# Create the function that contains the strategy logic.\n",
    "\n",
    "def rebalance(context, data):\n",
    "    \n",
    "    longs = [\n",
    "        asset\n",
    "        for asset in context.symbols\n",
    "        if data.current(asset, \"price\") > context.sma[asset].mean()\n",
    "    ]\n",
    "\n",
    "    for asset in context.portfolio.positions:\n",
    "        if asset not in longs and data.can_trade(asset):\n",
    "            order_target_percent(asset, 0)\n",
    "\n",
    "    for asset in longs:\n",
    "        if data.can_trade(asset):\n",
    "            order_target_percent(asset, 1.0 / len(longs))\n",
    "# On the first trading day of every month, the logic checks if the current price is greater than the 10-month simple moving average. If so, it adds the symbol to a list.\n",
    "\n",
    "# The next step sets a target of 0% for those assets with a price that does not exceed the 10-month simple moving average.\n",
    "\n",
    "# Finally, we equal-weight the portfolio with the ETFs that are trending."
   ],
   "metadata": {
    "collapsed": false
   },
   "id": "6cb95fadd7258d0a"
  },
  {
   "cell_type": "code",
   "execution_count": 4,
   "outputs": [
    {
     "ename": "UnknownBundle",
     "evalue": "No bundle registered with the name 'quandl-eod'",
     "output_type": "error",
     "traceback": [
      "\u001B[0;31m---------------------------------------------------------------------------\u001B[0m",
      "\u001B[0;31mUnknownBundle\u001B[0m                             Traceback (most recent call last)",
      "Cell \u001B[0;32mIn[4], line 8\u001B[0m\n\u001B[1;32m      5\u001B[0m start \u001B[38;5;241m=\u001B[39m pd\u001B[38;5;241m.\u001B[39mTimestamp(\u001B[38;5;124m\"\u001B[39m\u001B[38;5;124m2010\u001B[39m\u001B[38;5;124m\"\u001B[39m, tz\u001B[38;5;241m=\u001B[39m\u001B[38;5;124m'\u001B[39m\u001B[38;5;124mUTC\u001B[39m\u001B[38;5;124m'\u001B[39m)\n\u001B[1;32m      6\u001B[0m end \u001B[38;5;241m=\u001B[39m pd\u001B[38;5;241m.\u001B[39mTimestamp(\u001B[38;5;124m\"\u001B[39m\u001B[38;5;124m2023-06-30\u001B[39m\u001B[38;5;124m\"\u001B[39m, tz\u001B[38;5;241m=\u001B[39m\u001B[38;5;124m'\u001B[39m\u001B[38;5;124mUTC\u001B[39m\u001B[38;5;124m'\u001B[39m)\n\u001B[0;32m----> 8\u001B[0m perf \u001B[38;5;241m=\u001B[39m \u001B[43mrun_algorithm\u001B[49m\u001B[43m(\u001B[49m\n\u001B[1;32m      9\u001B[0m \u001B[43m    \u001B[49m\u001B[43mstart\u001B[49m\u001B[38;5;241;43m=\u001B[39;49m\u001B[43mstart\u001B[49m\u001B[43m,\u001B[49m\n\u001B[1;32m     10\u001B[0m \u001B[43m    \u001B[49m\u001B[43mend\u001B[49m\u001B[38;5;241;43m=\u001B[39;49m\u001B[43mend\u001B[49m\u001B[43m,\u001B[49m\n\u001B[1;32m     11\u001B[0m \u001B[43m    \u001B[49m\u001B[43minitialize\u001B[49m\u001B[38;5;241;43m=\u001B[39;49m\u001B[43minitialize\u001B[49m\u001B[43m,\u001B[49m\n\u001B[1;32m     12\u001B[0m \u001B[43m    \u001B[49m\u001B[43mcapital_base\u001B[49m\u001B[38;5;241;43m=\u001B[39;49m\u001B[38;5;241;43m100000\u001B[39;49m\u001B[43m,\u001B[49m\n\u001B[1;32m     13\u001B[0m \u001B[43m    \u001B[49m\u001B[43mbundle\u001B[49m\u001B[38;5;241;43m=\u001B[39;49m\u001B[38;5;124;43m\"\u001B[39;49m\u001B[38;5;124;43mquandl-eod\u001B[39;49m\u001B[38;5;124;43m\"\u001B[39;49m\n\u001B[1;32m     14\u001B[0m \u001B[43m)\u001B[49m\n\u001B[1;32m     15\u001B[0m \u001B[38;5;66;03m# Call the run_algorithm function with the start date, end date, and name of your initialize function. It takes about a minute to run.\u001B[39;00m\n\u001B[1;32m     16\u001B[0m \n\u001B[1;32m     17\u001B[0m \u001B[38;5;66;03m# Now the fun part.\u001B[39;00m\n\u001B[1;32m     19\u001B[0m returns, positions, transactions \u001B[38;5;241m=\u001B[39m \\\n\u001B[1;32m     20\u001B[0m     pf\u001B[38;5;241m.\u001B[39mutils\u001B[38;5;241m.\u001B[39mextract_rets_pos_txn_from_zipline(perf)\n",
      "File \u001B[0;32m/opt/homebrew/Caskroom/miniforge/base/envs/env_tf/lib/python3.9/site-packages/zipline/utils/run_algo.py:397\u001B[0m, in \u001B[0;36mrun_algorithm\u001B[0;34m(start, end, initialize, capital_base, handle_data, before_trading_start, analyze, data_frequency, bundle, bundle_timestamp, trading_calendar, metrics_set, benchmark_returns, default_extension, extensions, strict_extensions, environ, custom_loader, blotter)\u001B[0m\n\u001B[1;32m    393\u001B[0m load_extensions(default_extension, extensions, strict_extensions, environ)\n\u001B[1;32m    395\u001B[0m benchmark_spec \u001B[38;5;241m=\u001B[39m BenchmarkSpec\u001B[38;5;241m.\u001B[39mfrom_returns(benchmark_returns)\n\u001B[0;32m--> 397\u001B[0m \u001B[38;5;28;01mreturn\u001B[39;00m \u001B[43m_run\u001B[49m\u001B[43m(\u001B[49m\n\u001B[1;32m    398\u001B[0m \u001B[43m    \u001B[49m\u001B[43mhandle_data\u001B[49m\u001B[38;5;241;43m=\u001B[39;49m\u001B[43mhandle_data\u001B[49m\u001B[43m,\u001B[49m\n\u001B[1;32m    399\u001B[0m \u001B[43m    \u001B[49m\u001B[43minitialize\u001B[49m\u001B[38;5;241;43m=\u001B[39;49m\u001B[43minitialize\u001B[49m\u001B[43m,\u001B[49m\n\u001B[1;32m    400\u001B[0m \u001B[43m    \u001B[49m\u001B[43mbefore_trading_start\u001B[49m\u001B[38;5;241;43m=\u001B[39;49m\u001B[43mbefore_trading_start\u001B[49m\u001B[43m,\u001B[49m\n\u001B[1;32m    401\u001B[0m \u001B[43m    \u001B[49m\u001B[43manalyze\u001B[49m\u001B[38;5;241;43m=\u001B[39;49m\u001B[43manalyze\u001B[49m\u001B[43m,\u001B[49m\n\u001B[1;32m    402\u001B[0m \u001B[43m    \u001B[49m\u001B[43malgofile\u001B[49m\u001B[38;5;241;43m=\u001B[39;49m\u001B[38;5;28;43;01mNone\u001B[39;49;00m\u001B[43m,\u001B[49m\n\u001B[1;32m    403\u001B[0m \u001B[43m    \u001B[49m\u001B[43malgotext\u001B[49m\u001B[38;5;241;43m=\u001B[39;49m\u001B[38;5;28;43;01mNone\u001B[39;49;00m\u001B[43m,\u001B[49m\n\u001B[1;32m    404\u001B[0m \u001B[43m    \u001B[49m\u001B[43mdefines\u001B[49m\u001B[38;5;241;43m=\u001B[39;49m\u001B[43m(\u001B[49m\u001B[43m)\u001B[49m\u001B[43m,\u001B[49m\n\u001B[1;32m    405\u001B[0m \u001B[43m    \u001B[49m\u001B[43mdata_frequency\u001B[49m\u001B[38;5;241;43m=\u001B[39;49m\u001B[43mdata_frequency\u001B[49m\u001B[43m,\u001B[49m\n\u001B[1;32m    406\u001B[0m \u001B[43m    \u001B[49m\u001B[43mcapital_base\u001B[49m\u001B[38;5;241;43m=\u001B[39;49m\u001B[43mcapital_base\u001B[49m\u001B[43m,\u001B[49m\n\u001B[1;32m    407\u001B[0m \u001B[43m    \u001B[49m\u001B[43mbundle\u001B[49m\u001B[38;5;241;43m=\u001B[39;49m\u001B[43mbundle\u001B[49m\u001B[43m,\u001B[49m\n\u001B[1;32m    408\u001B[0m \u001B[43m    \u001B[49m\u001B[43mbundle_timestamp\u001B[49m\u001B[38;5;241;43m=\u001B[39;49m\u001B[43mbundle_timestamp\u001B[49m\u001B[43m,\u001B[49m\n\u001B[1;32m    409\u001B[0m \u001B[43m    \u001B[49m\u001B[43mstart\u001B[49m\u001B[38;5;241;43m=\u001B[39;49m\u001B[43mstart\u001B[49m\u001B[43m,\u001B[49m\n\u001B[1;32m    410\u001B[0m \u001B[43m    \u001B[49m\u001B[43mend\u001B[49m\u001B[38;5;241;43m=\u001B[39;49m\u001B[43mend\u001B[49m\u001B[43m,\u001B[49m\n\u001B[1;32m    411\u001B[0m \u001B[43m    \u001B[49m\u001B[43moutput\u001B[49m\u001B[38;5;241;43m=\u001B[39;49m\u001B[43mos\u001B[49m\u001B[38;5;241;43m.\u001B[39;49m\u001B[43mdevnull\u001B[49m\u001B[43m,\u001B[49m\n\u001B[1;32m    412\u001B[0m \u001B[43m    \u001B[49m\u001B[43mtrading_calendar\u001B[49m\u001B[38;5;241;43m=\u001B[39;49m\u001B[43mtrading_calendar\u001B[49m\u001B[43m,\u001B[49m\n\u001B[1;32m    413\u001B[0m \u001B[43m    \u001B[49m\u001B[43mprint_algo\u001B[49m\u001B[38;5;241;43m=\u001B[39;49m\u001B[38;5;28;43;01mFalse\u001B[39;49;00m\u001B[43m,\u001B[49m\n\u001B[1;32m    414\u001B[0m \u001B[43m    \u001B[49m\u001B[43mmetrics_set\u001B[49m\u001B[38;5;241;43m=\u001B[39;49m\u001B[43mmetrics_set\u001B[49m\u001B[43m,\u001B[49m\n\u001B[1;32m    415\u001B[0m \u001B[43m    \u001B[49m\u001B[43mlocal_namespace\u001B[49m\u001B[38;5;241;43m=\u001B[39;49m\u001B[38;5;28;43;01mFalse\u001B[39;49;00m\u001B[43m,\u001B[49m\n\u001B[1;32m    416\u001B[0m \u001B[43m    \u001B[49m\u001B[43menviron\u001B[49m\u001B[38;5;241;43m=\u001B[39;49m\u001B[43menviron\u001B[49m\u001B[43m,\u001B[49m\n\u001B[1;32m    417\u001B[0m \u001B[43m    \u001B[49m\u001B[43mblotter\u001B[49m\u001B[38;5;241;43m=\u001B[39;49m\u001B[43mblotter\u001B[49m\u001B[43m,\u001B[49m\n\u001B[1;32m    418\u001B[0m \u001B[43m    \u001B[49m\u001B[43mcustom_loader\u001B[49m\u001B[38;5;241;43m=\u001B[39;49m\u001B[43mcustom_loader\u001B[49m\u001B[43m,\u001B[49m\n\u001B[1;32m    419\u001B[0m \u001B[43m    \u001B[49m\u001B[43mbenchmark_spec\u001B[49m\u001B[38;5;241;43m=\u001B[39;49m\u001B[43mbenchmark_spec\u001B[49m\u001B[43m,\u001B[49m\n\u001B[1;32m    420\u001B[0m \u001B[43m\u001B[49m\u001B[43m)\u001B[49m\n",
      "File \u001B[0;32m/opt/homebrew/Caskroom/miniforge/base/envs/env_tf/lib/python3.9/site-packages/zipline/utils/run_algo.py:93\u001B[0m, in \u001B[0;36m_run\u001B[0;34m(handle_data, initialize, before_trading_start, analyze, algofile, algotext, defines, data_frequency, capital_base, bundle, bundle_timestamp, start, end, output, trading_calendar, print_algo, metrics_set, local_namespace, environ, blotter, custom_loader, benchmark_spec)\u001B[0m\n\u001B[1;32m     64\u001B[0m \u001B[38;5;28;01mdef\u001B[39;00m \u001B[38;5;21m_run\u001B[39m(\n\u001B[1;32m     65\u001B[0m     handle_data,\n\u001B[1;32m     66\u001B[0m     initialize,\n\u001B[0;32m   (...)\u001B[0m\n\u001B[1;32m     86\u001B[0m     benchmark_spec,\n\u001B[1;32m     87\u001B[0m ):\n\u001B[1;32m     88\u001B[0m \u001B[38;5;250m    \u001B[39m\u001B[38;5;124;03m\"\"\"Run a backtest for the given algorithm.\u001B[39;00m\n\u001B[1;32m     89\u001B[0m \n\u001B[1;32m     90\u001B[0m \u001B[38;5;124;03m    This is shared between the cli and :func:`zipline.run_algo`.\u001B[39;00m\n\u001B[1;32m     91\u001B[0m \u001B[38;5;124;03m    \"\"\"\u001B[39;00m\n\u001B[0;32m---> 93\u001B[0m     bundle_data \u001B[38;5;241m=\u001B[39m \u001B[43mbundles\u001B[49m\u001B[38;5;241;43m.\u001B[39;49m\u001B[43mload\u001B[49m\u001B[43m(\u001B[49m\n\u001B[1;32m     94\u001B[0m \u001B[43m        \u001B[49m\u001B[43mbundle\u001B[49m\u001B[43m,\u001B[49m\n\u001B[1;32m     95\u001B[0m \u001B[43m        \u001B[49m\u001B[43menviron\u001B[49m\u001B[43m,\u001B[49m\n\u001B[1;32m     96\u001B[0m \u001B[43m        \u001B[49m\u001B[43mbundle_timestamp\u001B[49m\u001B[43m,\u001B[49m\n\u001B[1;32m     97\u001B[0m \u001B[43m    \u001B[49m\u001B[43m)\u001B[49m\n\u001B[1;32m     99\u001B[0m     \u001B[38;5;28;01mif\u001B[39;00m trading_calendar \u001B[38;5;129;01mis\u001B[39;00m \u001B[38;5;28;01mNone\u001B[39;00m:\n\u001B[1;32m    100\u001B[0m         trading_calendar \u001B[38;5;241m=\u001B[39m get_calendar(\u001B[38;5;124m\"\u001B[39m\u001B[38;5;124mXNYS\u001B[39m\u001B[38;5;124m\"\u001B[39m)\n",
      "File \u001B[0;32m/opt/homebrew/Caskroom/miniforge/base/envs/env_tf/lib/python3.9/site-packages/zipline/data/bundles/core.py:532\u001B[0m, in \u001B[0;36m_make_bundle_core.<locals>.load\u001B[0;34m(name, environ, timestamp)\u001B[0m\n\u001B[1;32m    530\u001B[0m \u001B[38;5;28;01mif\u001B[39;00m timestamp \u001B[38;5;129;01mis\u001B[39;00m \u001B[38;5;28;01mNone\u001B[39;00m:\n\u001B[1;32m    531\u001B[0m     timestamp \u001B[38;5;241m=\u001B[39m pd\u001B[38;5;241m.\u001B[39mTimestamp\u001B[38;5;241m.\u001B[39mutcnow()\n\u001B[0;32m--> 532\u001B[0m timestr \u001B[38;5;241m=\u001B[39m \u001B[43mmost_recent_data\u001B[49m\u001B[43m(\u001B[49m\u001B[43mname\u001B[49m\u001B[43m,\u001B[49m\u001B[43m \u001B[49m\u001B[43mtimestamp\u001B[49m\u001B[43m,\u001B[49m\u001B[43m \u001B[49m\u001B[43menviron\u001B[49m\u001B[38;5;241;43m=\u001B[39;49m\u001B[43menviron\u001B[49m\u001B[43m)\u001B[49m\n\u001B[1;32m    533\u001B[0m \u001B[38;5;28;01mreturn\u001B[39;00m BundleData(\n\u001B[1;32m    534\u001B[0m     asset_finder\u001B[38;5;241m=\u001B[39mAssetFinder(\n\u001B[1;32m    535\u001B[0m         asset_db_path(name, timestr, environ\u001B[38;5;241m=\u001B[39menviron),\n\u001B[0;32m   (...)\u001B[0m\n\u001B[1;32m    545\u001B[0m     ),\n\u001B[1;32m    546\u001B[0m )\n",
      "File \u001B[0;32m/opt/homebrew/Caskroom/miniforge/base/envs/env_tf/lib/python3.9/site-packages/zipline/data/bundles/core.py:485\u001B[0m, in \u001B[0;36m_make_bundle_core.<locals>.most_recent_data\u001B[0;34m(bundle_name, timestamp, environ)\u001B[0m\n\u001B[1;32m    472\u001B[0m \u001B[38;5;250m\u001B[39m\u001B[38;5;124;03m\"\"\"Get the path to the most recent data after ``date``for the\u001B[39;00m\n\u001B[1;32m    473\u001B[0m \u001B[38;5;124;03mgiven bundle.\u001B[39;00m\n\u001B[1;32m    474\u001B[0m \n\u001B[0;32m   (...)\u001B[0m\n\u001B[1;32m    482\u001B[0m \u001B[38;5;124;03m    An environment dict to forward to zipline_root.\u001B[39;00m\n\u001B[1;32m    483\u001B[0m \u001B[38;5;124;03m\"\"\"\u001B[39;00m\n\u001B[1;32m    484\u001B[0m \u001B[38;5;28;01mif\u001B[39;00m bundle_name \u001B[38;5;129;01mnot\u001B[39;00m \u001B[38;5;129;01min\u001B[39;00m bundles:\n\u001B[0;32m--> 485\u001B[0m     \u001B[38;5;28;01mraise\u001B[39;00m UnknownBundle(bundle_name)\n\u001B[1;32m    487\u001B[0m \u001B[38;5;28;01mtry\u001B[39;00m:\n\u001B[1;32m    488\u001B[0m     candidates \u001B[38;5;241m=\u001B[39m os\u001B[38;5;241m.\u001B[39mlistdir(\n\u001B[1;32m    489\u001B[0m         pth\u001B[38;5;241m.\u001B[39mdata_path([bundle_name], environ\u001B[38;5;241m=\u001B[39menviron),\n\u001B[1;32m    490\u001B[0m     )\n",
      "\u001B[0;31mUnknownBundle\u001B[0m: No bundle registered with the name 'quandl-eod'"
     ]
    }
   ],
   "source": [
    "# Run the backtest and analyze the results\n",
    "\n",
    "# Running the backtest is a few lines of code.\n",
    "\n",
    "start = pd.Timestamp(\"2010\", tz='UTC')\n",
    "end = pd.Timestamp(\"2023-06-30\", tz='UTC')\n",
    "\n",
    "perf = run_algorithm(\n",
    "    start=start,\n",
    "    end=end,\n",
    "    initialize=initialize,\n",
    "    capital_base=100000,\n",
    "    bundle=\"quandl-eod\"\n",
    ")\n",
    "# Call the run_algorithm function with the start date, end date, and name of your initialize function. It takes about a minute to run.\n",
    "\n",
    "# Now the fun part.\n",
    "\n",
    "returns, positions, transactions = \\\n",
    "    pf.utils.extract_rets_pos_txn_from_zipline(perf)\n",
    "\n",
    "\n",
    "pf.create_full_tear_sheet(\n",
    "    returns,\n",
    "    positions=positions,\n",
    "    transactions=transactions,\n",
    "    round_trips=True,\n",
    ")"
   ],
   "metadata": {
    "collapsed": false,
    "ExecuteTime": {
     "end_time": "2023-07-29T13:41:57.338187Z",
     "start_time": "2023-07-29T13:41:57.294551Z"
    }
   },
   "id": "424d0c57e78f04aa"
  },
  {
   "cell_type": "code",
   "execution_count": null,
   "outputs": [],
   "source": [],
   "metadata": {
    "collapsed": false
   },
   "id": "3cd8d48220d0d45c"
  }
 ],
 "metadata": {
  "kernelspec": {
   "display_name": "Python 3",
   "language": "python",
   "name": "python3"
  },
  "language_info": {
   "codemirror_mode": {
    "name": "ipython",
    "version": 2
   },
   "file_extension": ".py",
   "mimetype": "text/x-python",
   "name": "python",
   "nbconvert_exporter": "python",
   "pygments_lexer": "ipython2",
   "version": "2.7.6"
  }
 },
 "nbformat": 4,
 "nbformat_minor": 5
}
