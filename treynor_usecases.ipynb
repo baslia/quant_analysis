{
 "cells": [
  {
   "cell_type": "code",
   "execution_count": 10,
   "metadata": {
    "collapsed": true,
    "ExecuteTime": {
     "end_time": "2023-06-02T14:53:40.038068Z",
     "start_time": "2023-06-02T14:53:39.319599Z"
    }
   },
   "outputs": [
    {
     "data": {
      "text/plain": "Loading Daily data for JPM with starting period 2014-01-02.\n",
      "text/html": "<pre style=\"white-space:pre;overflow-x:auto;line-height:normal;font-family:Menlo,'DejaVu Sans Mono',consolas,'Courier New',monospace\">Loading Daily data for JPM with starting period 2014-01-02.\n</pre>\n"
     },
     "metadata": {},
     "output_type": "display_data"
    },
    {
     "data": {
      "text/plain": "Loading Daily data for JPM with starting period 2014-01-02.\n",
      "text/html": "<pre style=\"white-space:pre;overflow-x:auto;line-height:normal;font-family:Menlo,'DejaVu Sans Mono',consolas,'Courier New',monospace\">Loading Daily data for JPM with starting period 2014-01-02.\n</pre>\n"
     },
     "metadata": {},
     "output_type": "display_data"
    }
   ],
   "source": [
    "# Imports and set up\n",
    "\n",
    "# For today’s newsletter, all you need is data. Import the OpenBB SDK to get it.\n",
    "\n",
    "from openbb_terminal.sdk import openbb\n",
    "# Now grab the data and compute the returns.\n",
    "\n",
    "data_asset = openbb.stocks.load(\n",
    "    symbol= \"JPM\",\n",
    "    start_date=\"2014-01-01\",\n",
    "    end_date=\"2022-12-31\"\n",
    ")\n",
    "\n",
    "data_bm = openbb.stocks.load(\n",
    "    symbol= \"JPM\",\n",
    "    start_date=\"2014-01-01\",\n",
    "    end_date=\"2022-12-31\"\n",
    ")\n",
    "\n",
    "asset = data_asset[\"Adj Close\"]\n",
    "benchmark = data_bm[\"Adj Close\"]\n",
    "\n",
    "asset_returns = asset.pct_change().dropna()\n",
    "benchmark_returns = benchmark.pct_change().dropna()\n",
    "# This code pulls 8 years of stock price history, extracts the price data, and computes the daily returns. I use SPY as the benchmark, but you can use any benchmark you want."
   ]
  },
  {
   "cell_type": "code",
   "execution_count": 11,
   "outputs": [
    {
     "data": {
      "text/plain": "                  Open        High         Low       Close   Adj Close  \\\ndate                                                                     \n2014-01-02   45.029848   45.176574   44.767283   44.952621   44.952621   \n2014-01-03   45.014401   45.524086   44.952620   45.300133   45.300133   \n2014-01-06   45.686254   45.925653   45.431414   45.562695   45.562695   \n2014-01-07   45.786654   45.894768   44.875399   45.037571   45.037571   \n2014-01-08   45.207466   45.493198   45.022125   45.462307   45.462307   \n...                ...         ...         ...         ...         ...   \n2022-12-23  128.613174  129.460221  127.687330  129.302628  129.302628   \n2022-12-27  129.588269  130.228473  128.583628  129.755707  129.755707   \n2022-12-28  129.864031  131.400531  129.036672  130.464844  130.464844   \n2022-12-29  130.927769  131.262659  130.317112  131.213409  131.213409   \n2022-12-30  130.809576  132.306686  130.445154  132.080154  132.080154   \n\n              Volume  Dividends  Stock Splits  \ndate                                           \n2014-01-02  15627600       0.38           0.0  \n2014-01-03  14214100       0.00           0.0  \n2014-01-06  17550700       0.00           0.0  \n2014-01-07  17851200       0.00           0.0  \n2014-01-08  14687400       0.00           0.0  \n...              ...        ...           ...  \n2022-12-23   5091900       0.00           0.0  \n2022-12-27   5411000       0.00           0.0  \n2022-12-28   8827700       0.00           0.0  \n2022-12-29   6585200       0.00           0.0  \n2022-12-30   9292500       0.00           0.0  \n\n[2266 rows x 8 columns]",
      "text/html": "<div>\n<style scoped>\n    .dataframe tbody tr th:only-of-type {\n        vertical-align: middle;\n    }\n\n    .dataframe tbody tr th {\n        vertical-align: top;\n    }\n\n    .dataframe thead th {\n        text-align: right;\n    }\n</style>\n<table border=\"1\" class=\"dataframe\">\n  <thead>\n    <tr style=\"text-align: right;\">\n      <th></th>\n      <th>Open</th>\n      <th>High</th>\n      <th>Low</th>\n      <th>Close</th>\n      <th>Adj Close</th>\n      <th>Volume</th>\n      <th>Dividends</th>\n      <th>Stock Splits</th>\n    </tr>\n    <tr>\n      <th>date</th>\n      <th></th>\n      <th></th>\n      <th></th>\n      <th></th>\n      <th></th>\n      <th></th>\n      <th></th>\n      <th></th>\n    </tr>\n  </thead>\n  <tbody>\n    <tr>\n      <th>2014-01-02</th>\n      <td>45.029848</td>\n      <td>45.176574</td>\n      <td>44.767283</td>\n      <td>44.952621</td>\n      <td>44.952621</td>\n      <td>15627600</td>\n      <td>0.38</td>\n      <td>0.0</td>\n    </tr>\n    <tr>\n      <th>2014-01-03</th>\n      <td>45.014401</td>\n      <td>45.524086</td>\n      <td>44.952620</td>\n      <td>45.300133</td>\n      <td>45.300133</td>\n      <td>14214100</td>\n      <td>0.00</td>\n      <td>0.0</td>\n    </tr>\n    <tr>\n      <th>2014-01-06</th>\n      <td>45.686254</td>\n      <td>45.925653</td>\n      <td>45.431414</td>\n      <td>45.562695</td>\n      <td>45.562695</td>\n      <td>17550700</td>\n      <td>0.00</td>\n      <td>0.0</td>\n    </tr>\n    <tr>\n      <th>2014-01-07</th>\n      <td>45.786654</td>\n      <td>45.894768</td>\n      <td>44.875399</td>\n      <td>45.037571</td>\n      <td>45.037571</td>\n      <td>17851200</td>\n      <td>0.00</td>\n      <td>0.0</td>\n    </tr>\n    <tr>\n      <th>2014-01-08</th>\n      <td>45.207466</td>\n      <td>45.493198</td>\n      <td>45.022125</td>\n      <td>45.462307</td>\n      <td>45.462307</td>\n      <td>14687400</td>\n      <td>0.00</td>\n      <td>0.0</td>\n    </tr>\n    <tr>\n      <th>...</th>\n      <td>...</td>\n      <td>...</td>\n      <td>...</td>\n      <td>...</td>\n      <td>...</td>\n      <td>...</td>\n      <td>...</td>\n      <td>...</td>\n    </tr>\n    <tr>\n      <th>2022-12-23</th>\n      <td>128.613174</td>\n      <td>129.460221</td>\n      <td>127.687330</td>\n      <td>129.302628</td>\n      <td>129.302628</td>\n      <td>5091900</td>\n      <td>0.00</td>\n      <td>0.0</td>\n    </tr>\n    <tr>\n      <th>2022-12-27</th>\n      <td>129.588269</td>\n      <td>130.228473</td>\n      <td>128.583628</td>\n      <td>129.755707</td>\n      <td>129.755707</td>\n      <td>5411000</td>\n      <td>0.00</td>\n      <td>0.0</td>\n    </tr>\n    <tr>\n      <th>2022-12-28</th>\n      <td>129.864031</td>\n      <td>131.400531</td>\n      <td>129.036672</td>\n      <td>130.464844</td>\n      <td>130.464844</td>\n      <td>8827700</td>\n      <td>0.00</td>\n      <td>0.0</td>\n    </tr>\n    <tr>\n      <th>2022-12-29</th>\n      <td>130.927769</td>\n      <td>131.262659</td>\n      <td>130.317112</td>\n      <td>131.213409</td>\n      <td>131.213409</td>\n      <td>6585200</td>\n      <td>0.00</td>\n      <td>0.0</td>\n    </tr>\n    <tr>\n      <th>2022-12-30</th>\n      <td>130.809576</td>\n      <td>132.306686</td>\n      <td>130.445154</td>\n      <td>132.080154</td>\n      <td>132.080154</td>\n      <td>9292500</td>\n      <td>0.00</td>\n      <td>0.0</td>\n    </tr>\n  </tbody>\n</table>\n<p>2266 rows × 8 columns</p>\n</div>"
     },
     "execution_count": 11,
     "metadata": {},
     "output_type": "execute_result"
    }
   ],
   "source": [
    "data_asset"
   ],
   "metadata": {
    "collapsed": false,
    "ExecuteTime": {
     "end_time": "2023-06-02T14:53:50.836844Z",
     "start_time": "2023-06-02T14:53:50.828871Z"
    }
   }
  },
  {
   "cell_type": "code",
   "execution_count": 13,
   "outputs": [
    {
     "data": {
      "text/plain": "<AxesSubplot:xlabel='date'>"
     },
     "execution_count": 13,
     "metadata": {},
     "output_type": "execute_result"
    },
    {
     "data": {
      "text/plain": "<Figure size 432x288 with 1 Axes>",
      "image/png": "[encoded data removed]"
     },
     "metadata": {
      "needs_background": "dark"
     },
     "output_type": "display_data"
    }
   ],
   "source": [
    "# Compute the Treynor ratio\n",
    "\n",
    "# Start by computing beta.\n",
    "\n",
    "bm_cov = benchmark_returns.rolling(\n",
    "    window=30\n",
    ").cov(asset_returns)\n",
    "\n",
    "bm_var = benchmark_returns.rolling(\n",
    "    window=30\n",
    ").var()\n",
    "\n",
    "beta = bm_cov / bm_var\n",
    "# The beta coefficient is the covariance between the returns of the benchmark and the asset divided by the variance of the benchmark. Using pandas makes it easy to compute it.\n",
    "\n",
    "# And finally, compute the Treynor ratio.\n",
    "\n",
    "treynor = (\n",
    "    asset_returns - benchmark_returns\n",
    ") / beta\n",
    "\n",
    "treynor.plot()"
   ],
   "metadata": {
    "collapsed": false,
    "ExecuteTime": {
     "end_time": "2023-06-02T14:54:24.970719Z",
     "start_time": "2023-06-02T14:54:24.883928Z"
    }
   }
  },
  {
   "cell_type": "code",
   "execution_count": null,
   "outputs": [],
   "source": [],
   "metadata": {
    "collapsed": false
   }
  }
 ],
 "metadata": {
  "kernelspec": {
   "display_name": "Python 3",
   "language": "python",
   "name": "python3"
  },
  "language_info": {
   "codemirror_mode": {
    "name": "ipython",
    "version": 2
   },
   "file_extension": ".py",
   "mimetype": "text/x-python",
   "name": "python",
   "nbconvert_exporter": "python",
   "pygments_lexer": "ipython2",
   "version": "2.7.6"
  }
 },
 "nbformat": 4,
 "nbformat_minor": 0
}
