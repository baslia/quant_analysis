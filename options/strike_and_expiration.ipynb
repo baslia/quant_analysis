{
 "cells": [
  {
   "cell_type": "markdown",
   "source": [
    "# How to pick the best strike and expiration for trading options\n",
    "\n",
    "## Parse historic options data\n",
    "\n",
    "## Load data into Optopsy\n",
    "\n",
    "## Analyze strategy performance"
   ],
   "metadata": {
    "collapsed": false
   },
   "id": "9477b768a02b94b5"
  },
  {
   "cell_type": "code",
   "execution_count": 10,
   "outputs": [],
   "source": [
    "# import and setup\n",
    "import os\n",
    "from pathlib import Path\n",
    "import glob\n",
    "import pandas as pd\n",
    "import optopsy as op"
   ],
   "metadata": {
    "collapsed": false,
    "ExecuteTime": {
     "end_time": "2023-12-17T07:46:54.640391Z",
     "start_time": "2023-12-17T07:46:54.636179Z"
    }
   },
   "id": "6f8288f27903782b"
  },
  {
   "cell_type": "code",
   "execution_count": 26,
   "outputs": [],
   "source": [
    "files = glob.glob(str(Path(Path(os.getcwd()).parents[0], \"data\", os.path.join(\"rut-eod\", \"*.csv\"))))\n",
    "dfs = []\n",
    "for fl in files:\n",
    "    df = pd.read_csv(fl)\n",
    "    dfs.append(df)\n",
    "pd.concat(dfs).to_csv(Path(Path(os.getcwd()).parents[0], \"data\",\"rut_historic.csv\"), index=False)"
   ],
   "metadata": {
    "collapsed": false,
    "ExecuteTime": {
     "end_time": "2023-12-17T07:56:23.232557Z",
     "start_time": "2023-12-17T07:56:01.459498Z"
    }
   },
   "id": "2e0fabbdd29b3c2e"
  },
  {
   "cell_type": "code",
   "execution_count": 28,
   "outputs": [
    {
     "name": "stderr",
     "output_type": "stream",
     "text": [
      "/opt/homebrew/Caskroom/miniforge/base/envs/py311/lib/python3.11/site-packages/optopsy/datafeeds.py:42: UserWarning: The argument 'infer_datetime_format' is deprecated and will be removed in a future version. A strict version of it is now the default, see https://pandas.pydata.org/pdeps/0004-consistent-to-datetime-parsing.html. You can safely remove this argument.\n",
      "  data[\"expiration\"] = pd.to_datetime(data.expiration, infer_datetime_format=True)\n",
      "/opt/homebrew/Caskroom/miniforge/base/envs/py311/lib/python3.11/site-packages/optopsy/datafeeds.py:43: UserWarning: The argument 'infer_datetime_format' is deprecated and will be removed in a future version. A strict version of it is now the default, see https://pandas.pydata.org/pdeps/0004-consistent-to-datetime-parsing.html. You can safely remove this argument.\n",
      "  data[\"quote_date\"] = pd.to_datetime(data.quote_date, infer_datetime_format=True)\n"
     ]
    }
   ],
   "source": [
    "# Loading data into Optopsy\n",
    "rut_chains = op.csv_data(\n",
    "    Path(Path(os.getcwd()).parents[0], \"data\",\"rut_historic.csv\"),\n",
    "    underlying_symbol=1,\n",
    "    underlying_price=4,\n",
    "    option_type=8,\n",
    "    expiration=6,\n",
    "    quote_date=0,\n",
    "    strike=7,\n",
    "    bid=14,\n",
    "    ask=15\n",
    ")"
   ],
   "metadata": {
    "collapsed": false,
    "ExecuteTime": {
     "end_time": "2023-12-17T08:00:02.959353Z",
     "start_time": "2023-12-17T07:59:58.300748Z"
    }
   },
   "id": "d9db8e42607b927e"
  },
  {
   "cell_type": "code",
   "execution_count": null,
   "outputs": [],
   "source": [
    "# Analyze strategies with Optopsy\n",
    "op.short_calls(rut_chains).round(2)"
   ],
   "metadata": {
    "collapsed": false,
    "is_executing": true
   },
   "id": "aace3fdb3f32a6ab"
  },
  {
   "cell_type": "markdown",
   "source": [
    "### Let’s break down the key output:\n",
    "\n",
    "- dte_range: The range of days remaining until the options expire. For example, (0, 7] includes all options that will expire in 0 to 7 days based on the quote date.\n",
    "- otm_pct_range: Range of how far out of the money the options are, expressed as a percentage. For example, (-0.5, -0.45] means the options are between 50% and 45% out of the money.\n",
    "- count: The number of options contracts that fall within the specified dte_range and otm_pct_range. For instance, there are 666 options contracts that expire in 0 to 7 days and are 50% to 45% out of the money.\n",
    "- mean: This is the average percent change of the options within the specified dte_range and otm_pct_range."
   ],
   "metadata": {
    "collapsed": false
   },
   "id": "672f0b23e954721b"
  },
  {
   "cell_type": "code",
   "execution_count": null,
   "outputs": [],
   "source": [
    "op.short_strangles(\n",
    "    rut_chains, \n",
    "    dte_interval=60, \n",
    "    max_entry_dte=70, \n",
    "    exit_dte=10,\n",
    "    otm_pct_interval=0.01,\n",
    "    max_otm_pct=0.10\n",
    ").round(2)"
   ],
   "metadata": {
    "collapsed": false
   },
   "id": "c450d6f4b9fa9fe3"
  },
  {
   "cell_type": "markdown",
   "source": [
    "There are 3,070 short strangles found between 0 and 60 days to expiration. The first leg, usually the put, groups contracts between 9% and 10% out of the money and the first leg between 3% and 4% out of the money. The mean return achieved by exiting this position at 10 days to expiration is 39%."
   ],
   "metadata": {
    "collapsed": false
   },
   "id": "2dac8ef71fa7e99"
  },
  {
   "cell_type": "code",
   "execution_count": null,
   "outputs": [],
   "source": [],
   "metadata": {
    "collapsed": false
   },
   "id": "9387195fdb49b8cf"
  }
 ],
 "metadata": {
  "kernelspec": {
   "display_name": "Python 3",
   "language": "python",
   "name": "python3"
  },
  "language_info": {
   "codemirror_mode": {
    "name": "ipython",
    "version": 2
   },
   "file_extension": ".py",
   "mimetype": "text/x-python",
   "name": "python",
   "nbconvert_exporter": "python",
   "pygments_lexer": "ipython2",
   "version": "2.7.6"
  }
 },
 "nbformat": 4,
 "nbformat_minor": 5
}
