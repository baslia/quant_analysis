{
 "cells": [
  {
   "cell_type": "code",
   "execution_count": 4,
   "id": "initial_id",
   "metadata": {
    "collapsed": true,
    "ExecuteTime": {
     "end_time": "2023-10-18T20:01:42.163790Z",
     "start_time": "2023-10-18T20:01:42.160452Z"
    }
   },
   "outputs": [],
   "source": [
    "import vectorbt as vbt\n",
    "import pandas as pd\n",
    "import numpy as np\n",
    "\n",
    "vbt.settings.set_theme(\"dark\")"
   ]
  },
  {
   "cell_type": "code",
   "execution_count": 5,
   "outputs": [
    {
     "ename": "AttributeError",
     "evalue": "module 'vectorbt' has no attribute 'TVData'",
     "output_type": "error",
     "traceback": [
      "\u001B[0;31m---------------------------------------------------------------------------\u001B[0m",
      "\u001B[0;31mAttributeError\u001B[0m                            Traceback (most recent call last)",
      "Cell \u001B[0;32mIn [5], line 9\u001B[0m\n\u001B[1;32m      1\u001B[0m symbols \u001B[38;5;241m=\u001B[39m [\n\u001B[1;32m      2\u001B[0m     \u001B[38;5;124m\"\u001B[39m\u001B[38;5;124mNASDAQ:META\u001B[39m\u001B[38;5;124m\"\u001B[39m,\n\u001B[1;32m      3\u001B[0m     \u001B[38;5;124m\"\u001B[39m\u001B[38;5;124mNASDAQ:AMZN\u001B[39m\u001B[38;5;124m\"\u001B[39m,\n\u001B[0;32m   (...)\u001B[0m\n\u001B[1;32m      6\u001B[0m     \u001B[38;5;124m\"\u001B[39m\u001B[38;5;124mNASDAQ:GOOG\u001B[39m\u001B[38;5;124m\"\u001B[39m,\n\u001B[1;32m      7\u001B[0m ]\n\u001B[0;32m----> 9\u001B[0m data \u001B[38;5;241m=\u001B[39m \u001B[43mvbt\u001B[49m\u001B[38;5;241;43m.\u001B[39;49m\u001B[43mTVData\u001B[49m\u001B[38;5;241m.\u001B[39mpull(symbols, timeframe\u001B[38;5;241m=\u001B[39m\u001B[38;5;124m\"\u001B[39m\u001B[38;5;124mhourly\u001B[39m\u001B[38;5;124m\"\u001B[39m)\n\u001B[1;32m     11\u001B[0m data \u001B[38;5;241m=\u001B[39m data\u001B[38;5;241m.\u001B[39mxloc[\u001B[38;5;124m\"\u001B[39m\u001B[38;5;124m2020\u001B[39m\u001B[38;5;124m\"\u001B[39m:\u001B[38;5;28;01mNone\u001B[39;00m]\n\u001B[1;32m     13\u001B[0m price \u001B[38;5;241m=\u001B[39m data\u001B[38;5;241m.\u001B[39mhlc3\n",
      "\u001B[0;31mAttributeError\u001B[0m: module 'vectorbt' has no attribute 'TVData'"
     ]
    }
   ],
   "source": [
    "symbols = [\n",
    "    \"NASDAQ:META\",\n",
    "    \"NASDAQ:AMZN\",\n",
    "    \"NASDAQ:AAPL\",\n",
    "    \"NASDAQ:NFLX\",\n",
    "    \"NASDAQ:GOOG\",\n",
    "]\n",
    "\n",
    "data = vbt.TVData.pull(symbols, timeframe=\"hourly\")\n",
    "\n",
    "data = data.xloc[\"2020\":None]\n",
    "\n",
    "price = data.hlc3"
   ],
   "metadata": {
    "collapsed": false,
    "ExecuteTime": {
     "end_time": "2023-10-18T20:01:43.665964Z",
     "start_time": "2023-10-18T20:01:43.647330Z"
    }
   },
   "id": "e26369651081bf7"
  },
  {
   "cell_type": "code",
   "execution_count": null,
   "outputs": [],
   "source": [],
   "metadata": {
    "collapsed": false
   },
   "id": "f2fcb531583aa968"
  }
 ],
 "metadata": {
  "kernelspec": {
   "display_name": "Python 3",
   "language": "python",
   "name": "python3"
  },
  "language_info": {
   "codemirror_mode": {
    "name": "ipython",
    "version": 2
   },
   "file_extension": ".py",
   "mimetype": "text/x-python",
   "name": "python",
   "nbconvert_exporter": "python",
   "pygments_lexer": "ipython2",
   "version": "2.7.6"
  }
 },
 "nbformat": 4,
 "nbformat_minor": 5
}
