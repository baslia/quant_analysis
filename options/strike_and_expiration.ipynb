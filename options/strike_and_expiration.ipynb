{
 "cells": [
  {
   "cell_type": "markdown",
   "source": [
    "# How to pick the best strike and expiration for trading options\n",
    "\n",
    "## Parse historic options data\n",
    "\n",
    "## Load data into Optopsy\n",
    "\n",
    "## Analyze strategy performance"
   ],
   "metadata": {
    "collapsed": false
   },
   "id": "9477b768a02b94b5"
  },
  {
   "cell_type": "code",
   "execution_count": 10,
   "outputs": [],
   "source": [
    "# import and setup\n",
    "import os\n",
    "from pathlib import Path\n",
    "import glob\n",
    "import pandas as pd\n",
    "import optopsy as op"
   ],
   "metadata": {
    "collapsed": false,
    "ExecuteTime": {
     "end_time": "2023-12-17T07:46:54.640391Z",
     "start_time": "2023-12-17T07:46:54.636179Z"
    }
   },
   "id": "6f8288f27903782b"
  },
  {
   "cell_type": "code",
   "execution_count": 26,
   "outputs": [],
   "source": [
    "files = glob.glob(str(Path(Path(os.getcwd()).parents[0], \"data\", os.path.join(\"rut-eod\", \"*.csv\"))))\n",
    "dfs = []\n",
    "for fl in files:\n",
    "    df = pd.read_csv(fl)\n",
    "    dfs.append(df)\n",
    "pd.concat(dfs).to_csv(Path(Path(os.getcwd()).parents[0], \"data\",\"rut_historic.csv\"), index=False)"
   ],
   "metadata": {
    "collapsed": false,
    "ExecuteTime": {
     "end_time": "2023-12-17T07:56:23.232557Z",
     "start_time": "2023-12-17T07:56:01.459498Z"
    }
   },
   "id": "2e0fabbdd29b3c2e"
  },
  {
   "cell_type": "code",
   "execution_count": 28,
   "outputs": [
    {
     "name": "stderr",
     "output_type": "stream",
     "text": [
      "/opt/homebrew/Caskroom/miniforge/base/envs/py311/lib/python3.11/site-packages/optopsy/datafeeds.py:42: UserWarning: The argument 'infer_datetime_format' is deprecated and will be removed in a future version. A strict version of it is now the default, see https://pandas.pydata.org/pdeps/0004-consistent-to-datetime-parsing.html. You can safely remove this argument.\n",
      "  data[\"expiration\"] = pd.to_datetime(data.expiration, infer_datetime_format=True)\n",
      "/opt/homebrew/Caskroom/miniforge/base/envs/py311/lib/python3.11/site-packages/optopsy/datafeeds.py:43: UserWarning: The argument 'infer_datetime_format' is deprecated and will be removed in a future version. A strict version of it is now the default, see https://pandas.pydata.org/pdeps/0004-consistent-to-datetime-parsing.html. You can safely remove this argument.\n",
      "  data[\"quote_date\"] = pd.to_datetime(data.quote_date, infer_datetime_format=True)\n"
     ]
    }
   ],
   "source": [
    "# Loading data into Optopsy\n",
    "rut_chains = op.csv_data(\n",
    "    Path(Path(os.getcwd()).parents[0], \"data\",\"rut_historic.csv\"),\n",
    "    underlying_symbol=1,\n",
    "    underlying_price=4,\n",
    "    option_type=8,\n",
    "    expiration=6,\n",
    "    quote_date=0,\n",
    "    strike=7,\n",
    "    bid=14,\n",
    "    ask=15\n",
    ")"
   ],
   "metadata": {
    "collapsed": false,
    "ExecuteTime": {
     "end_time": "2023-12-17T08:00:02.959353Z",
     "start_time": "2023-12-17T07:59:58.300748Z"
    }
   },
   "id": "d9db8e42607b927e"
  },
  {
   "cell_type": "code",
   "execution_count": null,
   "outputs": [],
   "source": [
    "rut_chains"
   ],
   "metadata": {
    "collapsed": false
   },
   "id": "4d0aee50b7cd927a"
  },
  {
   "cell_type": "code",
   "execution_count": null,
   "outputs": [],
   "source": [
    "# Analyze strategies with Optopsy\n",
    "op.short_calls(rut_chains).round(2)"
   ],
   "metadata": {
    "collapsed": false
   },
   "id": "aace3fdb3f32a6ab"
  }
 ],
 "metadata": {
  "kernelspec": {
   "display_name": "Python 3",
   "language": "python",
   "name": "python3"
  },
  "language_info": {
   "codemirror_mode": {
    "name": "ipython",
    "version": 2
   },
   "file_extension": ".py",
   "mimetype": "text/x-python",
   "name": "python",
   "nbconvert_exporter": "python",
   "pygments_lexer": "ipython2",
   "version": "2.7.6"
  }
 },
 "nbformat": 4,
 "nbformat_minor": 5
}
