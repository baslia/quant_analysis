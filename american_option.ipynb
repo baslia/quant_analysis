{
 "cells": [
  {
   "cell_type": "markdown",
   "source": [
    "## An American option is a type of financial contract.\n",
    "\n",
    "It gives the owner the right to buy or sell an underlying asset at a specified price on or before a specified date.\n",
    "\n",
    "Unlike European options, which can only be exercised on the expiration date, American options can be exercised at any time before or on the expiration date. To price a European option, you can use a closed-form model like the Black-Scholes framework.\n",
    "\n",
    "To price an American option, you need a numerical method called the Binomial options pricing model.\n",
    "\n",
    "This method divides the time to expiration into a series of equally spaced intervals, creating a tree-like structure with nodes representing the possible prices of the underlying asset."
   ],
   "metadata": {
    "collapsed": false
   }
  },
  {
   "cell_type": "code",
   "execution_count": 1,
   "outputs": [],
   "source": [
    "# Setup and import\n",
    "\n",
    "# Because you’re using a numerical solution, the only import you need is NumPy.\n",
    "\n",
    "import numpy as np"
   ],
   "metadata": {
    "collapsed": false,
    "ExecuteTime": {
     "end_time": "2023-06-13T12:48:59.871582Z",
     "start_time": "2023-06-13T12:48:59.764856Z"
    }
   }
  },
  {
   "cell_type": "code",
   "execution_count": 2,
   "outputs": [],
   "source": [
    "# Build the function\n",
    "\n",
    "# You can construct the valuation model in a single function.\n",
    "\n",
    "def american_option_pricer(spot, strike, rate, vol, expiry, steps, option_type):\n",
    "    # Calculate the time interval and the up and down factors\n",
    "    dt = expiry / steps\n",
    "    u = np.exp(vol * np.sqrt(dt))\n",
    "    d = 1 / u\n",
    "\n",
    "    # Calculate the risk-neutral probability\n",
    "    p = (np.exp(rate * dt) - d) / (u - d)\n",
    "\n",
    "    # Create the binomial price tree\n",
    "    price_tree = np.zeros((steps + 1, steps + 1))\n",
    "    for i in range(steps + 1):\n",
    "        price_tree[i, -1] = spot * (u ** (steps - i)) * (d**i)\n",
    "\n",
    "    # Calculate the option value at each node\n",
    "    option_tree = np.zeros_like(price_tree)\n",
    "    if option_type.lower() == \"call\":\n",
    "        option_tree[:, -1] = np.maximum(price_tree[:, -1] - strike, 0)\n",
    "    elif option_type.lower() == \"put\":\n",
    "        option_tree[:, -1] = np.maximum(strike - price_tree[:, -1], 0)\n",
    "    else:\n",
    "        raise ValueError(\"Option type must be either 'call' or 'put'.\")\n",
    "\n",
    "    # Traverse the tree backward to find the option price today\n",
    "    for t in range(steps - 1, -1, -1):\n",
    "        for i in range(t + 1):\n",
    "            exercise = 0\n",
    "            if option_type.lower() == \"call\":\n",
    "                exercise = price_tree[i, t] - strike\n",
    "            elif option_type.lower() == \"put\":\n",
    "                exercise = strike - price_tree[i, t]\n",
    "\n",
    "            hold = np.exp(-rate * dt) * (\n",
    "                p * option_tree[i, t + 1] + (1 - p) * option_tree[i + 1, t + 1]\n",
    "            )\n",
    "            option_tree[i, t] = np.maximum(exercise, hold)\n",
    "\n",
    "    return option_tree[0, 0]"
   ],
   "metadata": {
    "collapsed": false,
    "ExecuteTime": {
     "end_time": "2023-06-13T12:49:21.072862Z",
     "start_time": "2023-06-13T12:49:21.069153Z"
    }
   }
  },
  {
   "cell_type": "code",
   "execution_count": 3,
   "outputs": [],
   "source": [
    "option_price = american_option_pricer(\n",
    "    spot=55.0,\n",
    "    strike=50.0,\n",
    "    rate=0.05,\n",
    "    vol=0.3,\n",
    "    expiry=1.0,\n",
    "    steps=100,\n",
    "    option_type=\"call\",\n",
    ")"
   ],
   "metadata": {
    "collapsed": false,
    "ExecuteTime": {
     "end_time": "2023-06-13T12:49:22.399111Z",
     "start_time": "2023-06-13T12:49:22.384325Z"
    }
   }
  },
  {
   "cell_type": "code",
   "execution_count": 4,
   "outputs": [
    {
     "name": "stdout",
     "output_type": "stream",
     "text": [
      "The theoretical option price is 10.54.\n"
     ]
    }
   ],
   "source": [
    "print(f\"The theoretical option price is {option_price:.2f}.\")"
   ],
   "metadata": {
    "collapsed": false,
    "ExecuteTime": {
     "end_time": "2023-06-13T12:49:29.339983Z",
     "start_time": "2023-06-13T12:49:29.336594Z"
    }
   }
  },
  {
   "cell_type": "code",
   "execution_count": null,
   "outputs": [],
   "source": [],
   "metadata": {
    "collapsed": false
   }
  }
 ],
 "metadata": {
  "kernelspec": {
   "display_name": "Python 3",
   "language": "python",
   "name": "python3"
  },
  "language_info": {
   "codemirror_mode": {
    "name": "ipython",
    "version": 2
   },
   "file_extension": ".py",
   "mimetype": "text/x-python",
   "name": "python",
   "nbconvert_exporter": "python",
   "pygments_lexer": "ipython2",
   "version": "2.7.6"
  }
 },
 "nbformat": 4,
 "nbformat_minor": 0
}
