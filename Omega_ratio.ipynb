{
 "cells": [
  {
   "cell_type": "markdown",
   "source": [
    "# Capture the tail risk with the Omega ratio\n",
    "\n",
    "The Omega ratio is a weighted ratio of gains and losses above a threshold return. It captures more information about returns than similar metrics like the Sharpe ratio.\n",
    "\n",
    "It does this by adding up the area under the distribution around the threshold return. The area above the threshold measures the weight of the gains. The area below the threshold measures the weight of the losses. The Omega ratio is the positive area divided by the negative area.\n",
    "\n",
    "Without considering the Omega ratio, you miss important information about risk.\n",
    "\n",
    "Sophisticated investors like hedge funds use the Omega ratio. They use it because alternative investments have long-tail risks not measured by other metrics like the Sharpe ratio. Even if you’re not investing in exotic derivatives, the Omega ratio is useful.\n",
    "\n",
    "A simple test shows us AAPL’s returns are not normally distributed.\n",
    "\n",
    "Capture your tail risk with the Omega ratio\n",
    "The skew (which measures symmetry) is -0.01. A normal distribution has skew of 0. The kurtosis (which measures outliers) is 5.3. A normal distribution has kurtosis of 3.\n",
    "\n",
    "Using performance metrics that don’t take the entire distribution into consideration misses important information about risk. Use the Omega ratio to capture it.\n",
    "\n",
    "- Get stock price data\n",
    "- Compute the Omega ratio\n",
    "- Assess AAPL with the Omega ratio\n"
   ],
   "metadata": {
    "collapsed": false
   }
  },
  {
   "cell_type": "code",
   "execution_count": 1,
   "outputs": [
    {
     "name": "stdout",
     "output_type": "stream",
     "text": [
      "[*********************100%***********************]  1 of 1 completed\n"
     ]
    }
   ],
   "source": [
    "# Start by importing the libraries and getting the data. I like to use yfinance for getting stock data.\n",
    "\n",
    "import yfinance as yf\n",
    "import numpy as np\n",
    "# Grab the data and compute returns.\n",
    "\n",
    "data = yf.download(\"AAPL\", start=\"2020-01-01\", end=\"2021-12-31\")\n",
    "\n",
    "returns = data[\"Adj Close\"].pct_change()"
   ],
   "metadata": {
    "collapsed": false,
    "ExecuteTime": {
     "start_time": "2023-04-26T08:20:53.940770Z",
     "end_time": "2023-04-26T08:20:55.085141Z"
    }
   }
  },
  {
   "cell_type": "code",
   "execution_count": 4,
   "outputs": [],
   "source": [
    "# Compute the Omega ratio.\n",
    "def omega_ratio(returns, required_return=0.0):\n",
    "    \"\"\"Determines the Omega ratio of a strategy.\n",
    "\n",
    "    Parameters\n",
    "    ----------\n",
    "    returns : pd.Series or np.ndarray\n",
    "        Daily returns of the strategy, noncumulative.\n",
    "    required_return : float, optional\n",
    "        Minimum acceptance return of the investor. Threshold over which to\n",
    "        consider positive vs negative returns. It will be converted to a\n",
    "        value appropriate for the period of the returns. E.g. An annual minimum\n",
    "        acceptable return of 100 will translate to a minimum acceptable\n",
    "        return of 0.018.\n",
    "\n",
    "    Returns\n",
    "    -------\n",
    "    omega_ratio : float\n",
    "\n",
    "    Note\n",
    "    -----\n",
    "    See <https://en.wikipedia.org/wiki/Omega_ratio> for more details.\n",
    "    \"\"\"\n",
    "\n",
    "    return_threshold = (1 + required_return) ** (1 / 252) - 1\n",
    "\n",
    "    returns_less_thresh = returns - return_threshold\n",
    "\n",
    "    numer = sum(returns_less_thresh[returns_less_thresh > 0.0])\n",
    "    denom = -1.0 * sum(returns_less_thresh[returns_less_thresh < 0.0])\n",
    "\n",
    "    if denom > 0.0:\n",
    "        return numer / denom\n",
    "    else:\n",
    "        return np.nan"
   ],
   "metadata": {
    "collapsed": false,
    "ExecuteTime": {
     "start_time": "2023-04-26T08:22:00.646238Z",
     "end_time": "2023-04-26T08:22:00.666641Z"
    }
   }
  },
  {
   "cell_type": "code",
   "execution_count": 2,
   "outputs": [
    {
     "data": {
      "text/plain": "<AxesSubplot:>"
     },
     "execution_count": 2,
     "metadata": {},
     "output_type": "execute_result"
    },
    {
     "data": {
      "text/plain": "<Figure size 432x288 with 1 Axes>",
      "image/png": "[encoded data removed]"
     },
     "metadata": {
      "needs_background": "light"
     },
     "output_type": "display_data"
    }
   ],
   "source": [
    "# Use the Omega ratio\n",
    "\n",
    "# When analyzing a stock, investment returns, or strategy performance, start with the return distribution. If the returns have skew and kurtosis, consider using the Omega ratio.\n",
    "\n",
    "# Going back to the AAPL example, create a distribution of returns in one line of code.\n",
    "\n",
    "returns.hist(bins=50)"
   ],
   "metadata": {
    "collapsed": false,
    "ExecuteTime": {
     "start_time": "2023-04-26T08:21:41.275511Z",
     "end_time": "2023-04-26T08:21:42.075699Z"
    }
   }
  },
  {
   "cell_type": "code",
   "execution_count": 6,
   "outputs": [
    {
     "name": "stdout",
     "output_type": "stream",
     "text": [
      "-0.011892043042962604\n",
      "5.349587095586288\n"
     ]
    },
    {
     "data": {
      "text/plain": "1.2413490748955422"
     },
     "execution_count": 6,
     "metadata": {},
     "output_type": "execute_result"
    }
   ],
   "source": [
    "# You can check the skew and kurtosis.\n",
    "\n",
    "print(returns.skew())\n",
    "print(returns.kurtosis())\n",
    "# And finally, compute the Omega ratio.\n",
    "\n",
    "omega_ratio(returns, 0.07)"
   ],
   "metadata": {
    "collapsed": false,
    "ExecuteTime": {
     "start_time": "2023-04-26T08:22:16.020921Z",
     "end_time": "2023-04-26T08:22:16.025479Z"
    }
   }
  },
  {
   "cell_type": "code",
   "execution_count": null,
   "outputs": [],
   "source": [],
   "metadata": {
    "collapsed": false
   }
  }
 ],
 "metadata": {
  "kernelspec": {
   "display_name": "Python 3",
   "language": "python",
   "name": "python3"
  },
  "language_info": {
   "codemirror_mode": {
    "name": "ipython",
    "version": 2
   },
   "file_extension": ".py",
   "mimetype": "text/x-python",
   "name": "python",
   "nbconvert_exporter": "python",
   "pygments_lexer": "ipython2",
   "version": "2.7.6"
  }
 },
 "nbformat": 4,
 "nbformat_minor": 0
}
