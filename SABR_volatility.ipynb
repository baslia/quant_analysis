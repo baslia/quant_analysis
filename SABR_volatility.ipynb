{
 "cells": [
  {
   "cell_type": "markdown",
   "source": [
    "# Calibrating volatility smiles with SABR\n",
    "The SABR model, built in 2002, stands as a key stochastic volatility framework in finance for modeling derivatives. SABR stands for \"stochastic alpha, beta, rho\" which are the key inputs to the model.\n",
    "\n",
    "SABR is good at capturing the market-observed anomalies such as skew and smile.\n",
    "\n",
    "It operates on the premise that asset prices follow a geometric Brownian motion while volatility follows an Ornstein-Uhlenbeck process, parameterized by alpha (initial volatility level), beta (variance elasticity), rho (price-volatility correlation), and nu (volatility's volatility).\n",
    "\n",
    "One of its standout features is the closed-form approximation for implied volatility—known as the Hagan formula—which allows for fast and accurate computations of implied volatility across strike prices."
   ],
   "metadata": {
    "collapsed": false
   },
   "id": "e332b66976c91202"
  },
  {
   "cell_type": "code",
   "execution_count": 1,
   "outputs": [
    {
     "data": {
      "text/plain": "\u001B[33mForecasting Toolkit is disabled. To use the Forecasting features please install the toolkit following the instructions here: https://my.openbb.co/app/sdk/installation\u001B[0m\n\n",
      "text/html": "<pre style=\"white-space:pre;overflow-x:auto;line-height:normal;font-family:Menlo,'DejaVu Sans Mono',consolas,'Courier New',monospace\"><span style=\"color: #808000; text-decoration-color: #808000\">Forecasting Toolkit is disabled. To use the Forecasting features please install the toolkit following the instructions here: https://my.openbb.co/app/sdk/installation</span>\n\n</pre>\n"
     },
     "metadata": {},
     "output_type": "display_data"
    },
    {
     "data": {
      "text/plain": "\u001B[33mPortfolio Optimization Toolkit is disabled. To use the Optimization features please install the toolkit following the instructions here: https://my.openbb.co/app/sdk/installation\u001B[0m\n\n",
      "text/html": "<pre style=\"white-space:pre;overflow-x:auto;line-height:normal;font-family:Menlo,'DejaVu Sans Mono',consolas,'Courier New',monospace\"><span style=\"color: #808000; text-decoration-color: #808000\">Portfolio Optimization Toolkit is disabled. To use the Optimization features please install the toolkit following the instructions here: https://my.openbb.co/app/sdk/installation</span>\n\n</pre>\n"
     },
     "metadata": {},
     "output_type": "display_data"
    }
   ],
   "source": [
    "# Importing libraries\n",
    "import pandas as pd\n",
    "import numpy as np\n",
    "import matplotlib.pyplot as plt\n",
    "from openbb_terminal.sdk import openbb\n",
    "from pysabr import Hagan2002LognormalSABR\n",
    "from pysabr import hagan_2002_lognormal_sabr as sabr\n",
    "from pysabr.black import lognormal_call"
   ],
   "metadata": {
    "collapsed": false,
    "ExecuteTime": {
     "end_time": "2023-11-04T15:47:06.000311Z",
     "start_time": "2023-11-04T15:46:06.751576Z"
    }
   },
   "id": "571644824a47b714"
  },
  {
   "cell_type": "code",
   "execution_count": 2,
   "outputs": [
    {
     "data": {
      "text/plain": "\u001B[?25l",
      "text/html": "<pre style=\"white-space:pre;overflow-x:auto;line-height:normal;font-family:Menlo,'DejaVu Sans Mono',consolas,'Courier New',monospace\"></pre>\n"
     },
     "metadata": {},
     "output_type": "display_data"
    },
    {
     "data": {
      "text/plain": "Output()",
      "application/vnd.jupyter.widget-view+json": {
       "version_major": 2,
       "version_minor": 0,
       "model_id": "12e578b34a2f48f7a52f5d1853a21795"
      }
     },
     "metadata": {},
     "output_type": "display_data"
    },
    {
     "data": {
      "text/plain": "\n\u001B[?25h",
      "text/html": "<pre style=\"white-space:pre;overflow-x:auto;line-height:normal;font-family:Menlo,'DejaVu Sans Mono',consolas,'Courier New',monospace\">\n</pre>\n"
     },
     "metadata": {},
     "output_type": "display_data"
    }
   ],
   "source": [
    "symbol = \"SPY\"\n",
    "expiration = \"2026-01-16\"\n",
    "spy = openbb.stocks.options.chains(symbol, source=\"YahooFinance\")"
   ],
   "metadata": {
    "collapsed": false,
    "ExecuteTime": {
     "end_time": "2023-11-04T15:47:19.780926Z",
     "start_time": "2023-11-04T15:47:10.725369Z"
    }
   },
   "id": "df288ad96f477bf"
  },
  {
   "cell_type": "code",
   "execution_count": 3,
   "outputs": [],
   "source": [
    "calls = spy[spy.optionType == \"call\"]\n",
    "jan_2026_c = calls[calls.expiration == expiration].set_index(\"strike\")\n",
    "jan_2026_c[\"mid\"] = (jan_2026_c.ask + jan_2026_c.ask) / 2\n",
    "\n",
    "puts = spy[spy.optionType == \"put\"]\n",
    "jan_2026_p = puts[puts.expiration == expiration].set_index(\"strike\")\n",
    "jan_2026_p[\"mid\"] = (jan_2026_p.ask + jan_2026_p.ask) / 2\n",
    "\n",
    "strikes = jan_2026_c.index\n",
    "vols = jan_2026_c.impliedVolatility * 100"
   ],
   "metadata": {
    "collapsed": false,
    "ExecuteTime": {
     "end_time": "2023-11-04T15:48:04.987323Z",
     "start_time": "2023-11-04T15:48:04.941518Z"
    }
   },
   "id": "8bd09eb86dfceef"
  },
  {
   "cell_type": "code",
   "execution_count": 4,
   "outputs": [],
   "source": [
    "# Fit the SABR model\n",
    "f = (\n",
    "    (jan_2026_c.mid - jan_2026_p.mid)\n",
    "    .dropna()\n",
    "    .abs()\n",
    "    .sort_values()\n",
    "    .index[0]\n",
    ")\n",
    "t = (pd.Timestamp(expiration) - pd.Timestamp.now()).days / 365\n",
    "beta = 0.5"
   ],
   "metadata": {
    "collapsed": false,
    "ExecuteTime": {
     "end_time": "2023-11-04T15:48:19.913133Z",
     "start_time": "2023-11-04T15:48:19.908005Z"
    }
   },
   "id": "64bd7938e59410e0"
  },
  {
   "cell_type": "markdown",
   "source": [
    "Put-call parity defines the relationship between put options, call options, and the forward price of the underlying. The t parameter is the fraction of time until expiration.\n",
    "\n",
    "The beta parameter governs the shape of the forward rate, which influences the shape of the implied volatility smile. A beta of 1 implies a lognormal distribution, which is consistent with the Black-Scholes model. Moving beta away from 1 allows for different shapes of volatility smiles. In practice, setting beta to 0.5 is usually a safe bet.\n",
    "\n",
    "Once we set the parameters, we instantiate the model and call fit to get alpha, rho, and volvol."
   ],
   "metadata": {
    "collapsed": false
   },
   "id": "e531d3176450a1d9"
  },
  {
   "cell_type": "code",
   "execution_count": null,
   "outputs": [],
   "source": [],
   "metadata": {
    "collapsed": false
   },
   "id": "6597272bbd62dec6"
  }
 ],
 "metadata": {
  "kernelspec": {
   "display_name": "Python 3",
   "language": "python",
   "name": "python3"
  },
  "language_info": {
   "codemirror_mode": {
    "name": "ipython",
    "version": 2
   },
   "file_extension": ".py",
   "mimetype": "text/x-python",
   "name": "python",
   "nbconvert_exporter": "python",
   "pygments_lexer": "ipython2",
   "version": "2.7.6"
  }
 },
 "nbformat": 4,
 "nbformat_minor": 5
}
