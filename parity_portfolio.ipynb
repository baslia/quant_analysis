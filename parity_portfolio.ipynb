{
 "cells": [
  {
   "cell_type": "code",
   "execution_count": null,
   "metadata": {
    "collapsed": true
   },
   "outputs": [],
   "source": [
    "# Get the stock price data\n",
    "\n",
    "import yfinance as yf\n",
    "import riskfolio as rp\n",
    "import warnings\n",
    "warnings.filterwarnings(\"ignore\")\n",
    "# Riskfolio-Lib prints out some warnings that are safe to ignore. So ignore them.\n",
    "\n",
    "# After the imports, create a list of tickers you want to use. Use any tickers you want. Since you can download data for more than one stock at a time, it’s one line of code to get all the data.\n",
    "\n",
    "# portfolio tickers\n",
    "assets = [\"JCI\", \"TGT\", \"CMCSA\", \"CPB\", \"MO\", \"APA\", \"MMC\", \"JPM\",\n",
    "          \"ZION\", \"PSA\", \"BAX\", \"BMY\", \"LUV\", \"PCAR\", \"TXT\", \"TMO\",\n",
    "          \"DE\", \"MSFT\", \"HPQ\", \"SEE\", \"VZ\", \"CNP\", \"NI\", \"T\", \"BA\"]\n",
    "\n",
    "# sort tickers\n",
    "assets.sort()\n",
    "\n",
    "#download data\n",
    "data = yf.download(assets, start=\"2016-01-01\", end=\"2019-12-30\")\n",
    "\n",
    "# compute non-compounding, daily returns\n",
    "returns = data['Adj Close'].pct_change().dropna()"
   ]
  },
  {
   "cell_type": "code",
   "execution_count": null,
   "outputs": [],
   "source": [
    "# Step 2: Create a portfolio with equal risk weights\n",
    "\n",
    "# First, setup a portfolio with equal risk weights. This means Riskfolio-Lib will find the weights that cause the risk contribution of each stock to be equal.\n",
    "\n",
    "port = rp.Portfolio(returns=returns)\n",
    "\n",
    "port.assets_stats(method_mu='hist', method_cov='hist', d=0.94)\n",
    "\n",
    "w_rp = port.rp_optimization(\n",
    "    model=\"Classic\",  # use historical\n",
    "    rm=\"MV\",  # use mean-variance optimization\n",
    "    hist=True,  # use historical scenarios\n",
    "    rf=0,  # set risk free rate to 0\n",
    "    b=None  # don't use constraints\n",
    ")\n",
    "# First, build the portfolio object with the stock returns. Then estimate the expected returns and covariance based on historic data. Finally, use the classical mean-variance optimization to find the risk parity weights.\n",
    "\n",
    "# Riskfolio-Lib makes it easy to visualize the weights.\n",
    "\n",
    "ax = rp.plot_pie(w=w_rp)"
   ],
   "metadata": {
    "collapsed": false
   }
  },
  {
   "cell_type": "code",
   "execution_count": null,
   "outputs": [],
   "source": [
    "# show the risk contribution for each asset is equal\n",
    "ax = rp.plot_risk_con(\n",
    "    w_rp,\n",
    "    cov=port.cov,\n",
    "    returns=port.returns,\n",
    "    rm=\"MV\",\n",
    "    rf=0,\n",
    ")"
   ],
   "metadata": {
    "collapsed": false
   }
  },
  {
   "cell_type": "code",
   "execution_count": null,
   "outputs": [],
   "source": [
    "# A criticism of risk parity is that without leverage, returns lag. So add a constraint to weight the stocks in a way to reach a minimum portfolio return. This adds weight to higher-risk stocks to push the portfolio returns higher.\n",
    "\n",
    "port.lowerret = 0.0008\n",
    "\n",
    "# estimate the optimal portfolio with risk parity with the constraint\n",
    "w_rp_c = port.rp_optimization(\n",
    "    model=\"Classic\",  # use historical\n",
    "    rm=\"MV\",  # use mean-variance optimization\n",
    "    hist=True,  # use historical scenarios\n",
    "    rf=0,  # set risk free rate to 0\n",
    "    b=None  # don't use constraints\n",
    ")\n",
    "# Add a constraint for the minimum level of expected returns for the entire portfolio.\n",
    "\n",
    "# Again, plotting is easy.\n",
    "\n",
    "ax = rp.plot_pie(w=w_rp_c)"
   ],
   "metadata": {
    "collapsed": false
   }
  },
  {
   "cell_type": "code",
   "execution_count": null,
   "outputs": [],
   "source": [
    "# Plot the risk contributions.\n",
    "\n",
    "ax = rp.plot_risk_con(\n",
    "    w_rp_c,\n",
    "    cov=port.cov,\n",
    "    returns=port.returns,\n",
    "    rm=\"MV\",\n",
    "    rf=0,\n",
    ")"
   ],
   "metadata": {
    "collapsed": false
   }
  }
 ],
 "metadata": {
  "kernelspec": {
   "display_name": "Python 3",
   "language": "python",
   "name": "python3"
  },
  "language_info": {
   "codemirror_mode": {
    "name": "ipython",
    "version": 2
   },
   "file_extension": ".py",
   "mimetype": "text/x-python",
   "name": "python",
   "nbconvert_exporter": "python",
   "pygments_lexer": "ipython2",
   "version": "2.7.6"
  }
 },
 "nbformat": 4,
 "nbformat_minor": 0
}
