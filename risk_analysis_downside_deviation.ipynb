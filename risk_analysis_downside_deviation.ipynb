{
 "cells": [
  {
   "cell_type": "markdown",
   "source": [
    "# How to power trading portfolio risk analysis with downside deviation\n",
    "\n",
    "Portfolio risk is the potential for financial loss and uncertainty about its extent. Downside deviation is a common measure of financial risk that measures the volatility of negative returns.\n",
    "\n",
    "This measure gives a more accurate picture of the type of risk traders care about:\n",
    "\n",
    "The risk of losing money.\n",
    "\n",
    "Since volatility to the upside is not usually a concern, downside risk is used by traders to gauge the risks that lead to portfolio drawdown—a key worry."
   ],
   "metadata": {
    "collapsed": false
   },
   "id": "1c1a07efd98ae519"
  },
  {
   "cell_type": "code",
   "execution_count": 1,
   "outputs": [
    {
     "data": {
      "text/plain": "\u001B[33mForecasting Toolkit is disabled. To use the Forecasting features please install the toolkit following the instructions here: https://docs.openbb.co/sdk/quickstart/installation/\u001B[0m\n\n",
      "text/html": "<pre style=\"white-space:pre;overflow-x:auto;line-height:normal;font-family:Menlo,'DejaVu Sans Mono',consolas,'Courier New',monospace\"><span style=\"color: #808000; text-decoration-color: #808000\">Forecasting Toolkit is disabled. To use the Forecasting features please install the toolkit following the instructions here: https://docs.openbb.co/sdk/quickstart/installation/</span>\n\n</pre>\n"
     },
     "metadata": {},
     "output_type": "display_data"
    },
    {
     "data": {
      "text/plain": "\u001B[33mPortfolio Optimization Toolkit is disabled. To use the Optimization features please install the toolkit following the instructions here: https://docs.openbb.co/sdk/quickstart/installation/\u001B[0m\n\n",
      "text/html": "<pre style=\"white-space:pre;overflow-x:auto;line-height:normal;font-family:Menlo,'DejaVu Sans Mono',consolas,'Courier New',monospace\"><span style=\"color: #808000; text-decoration-color: #808000\">Portfolio Optimization Toolkit is disabled. To use the Optimization features please install the toolkit following the instructions here: https://docs.openbb.co/sdk/quickstart/installation/</span>\n\n</pre>\n"
     },
     "metadata": {},
     "output_type": "display_data"
    },
    {
     "data": {
      "text/plain": "Loading Daily data for AAPL with starting period 2020-08-03.\n",
      "text/html": "<pre style=\"white-space:pre;overflow-x:auto;line-height:normal;font-family:Menlo,'DejaVu Sans Mono',consolas,'Courier New',monospace\">Loading Daily data for AAPL with starting period 2020-08-03.\n</pre>\n"
     },
     "metadata": {},
     "output_type": "display_data"
    }
   ],
   "source": [
    "# Imports and set up\n",
    "\n",
    "# First import NumPy for the math and the OpenBB SDK for the data.\n",
    "\n",
    "import numpy as np\n",
    "\n",
    "from openbb_terminal.sdk import openbb\n",
    "# From there, download stock prices and compute the daily simple returns.\n",
    "\n",
    "data = openbb.stocks.load(\"AAPL\")\n",
    "returns = data[\"Adj Close\"].pct_change()"
   ],
   "metadata": {
    "collapsed": false,
    "ExecuteTime": {
     "end_time": "2023-08-07T14:01:44.655733Z",
     "start_time": "2023-08-07T14:01:41.064401Z"
    }
   },
   "id": "fe66b239df9486bc"
  },
  {
   "cell_type": "code",
   "execution_count": null,
   "outputs": [],
   "source": [
    "# Compute downside deviation\n",
    "\n",
    "# The calculation for downside deviation is straightforward.\n",
    "\n",
    "# Instead of using pandas methods (returns is a pandas Series), you’ll see how to use NumPy to concisely make the calculation.\n",
    "\n",
    "def downside_deviation(returns):\n",
    "    \n",
    "    out = np.empty(returns.shape[1:])\n",
    "    \n",
    "    downside_diff = np.clip(returns, np.NINF, 0)\n",
    "    np.square(downside_diff, out=downside_diff)\n",
    "    np.nanmean(downside_diff, axis=0, out=out)\n",
    "    np.sqrt(out, out=out)\n",
    "    np.multiply(out, np.sqrt(252), out=out)\n",
    "    \n",
    "    return out.item()"
   ],
   "metadata": {
    "collapsed": false
   },
   "id": "552e81b5a1b97ee8"
  },
  {
   "cell_type": "markdown",
   "source": [
    "The function first creates an empty array the same size as the returns input (less one to remove the NaNs).\n",
    "\n",
    "Then we use the clip method to grab all the returns between negative infinity and 0.\n",
    "\n",
    "From there, we square the returns, take the mean value, apply the square root, then annualize by multiplying by the square root of 252.\n",
    "\n",
    "When comparing the downside deviation to the standard deviation of returns, it will be different. In the case of this example (at the time of writing) it’s 33% lower!\n",
    "\n",
    "That’s because AAPL has been rallying over the time period. If you repeat the analysis for a trading portfolio or asset that has not been on a steady incline, your results will be different."
   ],
   "metadata": {
    "collapsed": false
   },
   "id": "25e75ecfe1a79ab8"
  },
  {
   "cell_type": "code",
   "execution_count": null,
   "outputs": [],
   "source": [],
   "metadata": {
    "collapsed": false
   },
   "id": "17e060e32e04401d"
  }
 ],
 "metadata": {
  "kernelspec": {
   "display_name": "Python 3",
   "language": "python",
   "name": "python3"
  },
  "language_info": {
   "codemirror_mode": {
    "name": "ipython",
    "version": 2
   },
   "file_extension": ".py",
   "mimetype": "text/x-python",
   "name": "python",
   "nbconvert_exporter": "python",
   "pygments_lexer": "ipython2",
   "version": "2.7.6"
  }
 },
 "nbformat": 4,
 "nbformat_minor": 5
}
