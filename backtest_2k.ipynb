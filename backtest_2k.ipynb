{
 "cells": [
  {
   "cell_type": "markdown",
   "source": [
    "# How to backtest 2,000,000 simulations for the best exits\n",
    "\n",
    "A backtest is a simulation of market dynamics that are used to test how trading strategies might perform.\n",
    "\n",
    "The problem is that the markets are noisy and difficult to model.\n",
    "\n",
    "So when running backtests, optimized models often fit to noise, instead of market inefficiencies. When applying the optimized parameters to previously unseen data, the model falls apart (along with your portfolio).\n",
    "\n",
    "All parameters of a strategy affect the result but only a few determine entry and exit dependent on the market price. These are the parameters that should be optimized.\n",
    "\n",
    "For example, is a 1% trailing stop better than a $1 stop loss?\n",
    "\n",
    "We’ll use the cutting-edge backtesting framework vectorbt to optimize the entry and exit type for a momentum strategy."
   ],
   "metadata": {
    "collapsed": false
   },
   "id": "f74ed8c9428594eb"
  },
  {
   "cell_type": "code",
   "execution_count": 2,
   "outputs": [],
   "source": [
    "import pytz\n",
    "from datetime import datetime, timedelta\n",
    "import numpy as np\n",
    "import pandas as pd\n",
    "import vectorbt as vbt"
   ],
   "metadata": {
    "collapsed": false,
    "ExecuteTime": {
     "end_time": "2023-09-09T13:14:17.609859Z",
     "start_time": "2023-09-09T13:14:13.848497Z"
    }
   },
   "id": "f0f4b57b7cccaa70"
  },
  {
   "cell_type": "code",
   "execution_count": 3,
   "outputs": [],
   "source": [
    "symbols = [\n",
    "    \"META\",\n",
    "    \"AMZN\",\n",
    "    \"AAPL\",\n",
    "    \"NFLX\",\n",
    "    \"GOOG\",\n",
    "]\n",
    "\n",
    "start_date = datetime(2018, 1, 1, tzinfo=pytz.utc)\n",
    "end_date = datetime(2021, 1, 1, tzinfo=pytz.utc)\n",
    "\n",
    "traded_count = 3\n",
    "window_len = timedelta(days=12 * 21)\n",
    "\n",
    "seed = 42\n",
    "window_count = 400\n",
    "exit_types = [\"SL\", \"TS\", \"TP\"]\n",
    "stops = np.arange(0.01, 1 + 0.01, 0.01)"
   ],
   "metadata": {
    "collapsed": false,
    "ExecuteTime": {
     "end_time": "2023-09-09T13:14:24.816056Z",
     "start_time": "2023-09-09T13:14:24.810417Z"
    }
   },
   "id": "4020c272a210ff18"
  },
  {
   "cell_type": "code",
   "execution_count": 4,
   "outputs": [],
   "source": [
    "yfdata = vbt.YFData.download(symbols, start=start_date, end=end_date)\n",
    "ohlcv = yfdata.concat()\n",
    "\n",
    "split_ohlcv = {}\n",
    "\n",
    "for k, v in ohlcv.items():\n",
    "    split_df, split_indexes = v.vbt.range_split(\n",
    "        range_len=window_len.days, n=window_count\n",
    "    )\n",
    "    split_ohlcv[k] = split_df\n",
    "ohlcv = split_ohlcv"
   ],
   "metadata": {
    "collapsed": false,
    "ExecuteTime": {
     "end_time": "2023-09-09T13:15:40.796832Z",
     "start_time": "2023-09-09T13:15:39.341946Z"
    }
   },
   "id": "c5c9b81274fdcd7b"
  },
  {
   "cell_type": "markdown",
   "source": [
    "## Build the momentum strategy\n",
    "\n",
    "Our strategy selects the top 3 stocks every split based on their mean return. The strategy equally allocates across the stocks at the beginning of the period, and exits at the end."
   ],
   "metadata": {
    "collapsed": false
   },
   "id": "18149942f8222a26"
  },
  {
   "cell_type": "code",
   "execution_count": 5,
   "outputs": [],
   "source": [
    "momentum = ohlcv[\"Close\"].pct_change().mean()\n",
    "\n",
    "sorted_momentum = (\n",
    "    momentum\n",
    "    .groupby(\n",
    "        \"split_idx\", \n",
    "        group_keys=False, \n",
    "        sort=False\n",
    "    )\n",
    "    .apply(\n",
    "        pd.Series.sort_values\n",
    "    )\n",
    "    .groupby(\"split_idx\")\n",
    "    .head(traded_count)\n",
    ")\n",
    "\n",
    "selected_open = ohlcv[\"Open\"][sorted_momentum.index]\n",
    "selected_high = ohlcv[\"High\"][sorted_momentum.index]\n",
    "selected_low = ohlcv[\"Low\"][sorted_momentum.index]\n",
    "selected_close = ohlcv[\"Close\"][sorted_momentum.index]"
   ],
   "metadata": {
    "collapsed": false,
    "ExecuteTime": {
     "end_time": "2023-09-09T13:16:08.760648Z",
     "start_time": "2023-09-09T13:16:08.717783Z"
    }
   },
   "id": "77a96fa7e567056a"
  },
  {
   "cell_type": "code",
   "execution_count": null,
   "outputs": [],
   "source": [],
   "metadata": {
    "collapsed": false
   },
   "id": "5ea7c0e016a7e6b1"
  }
 ],
 "metadata": {
  "kernelspec": {
   "display_name": "Python 3",
   "language": "python",
   "name": "python3"
  },
  "language_info": {
   "codemirror_mode": {
    "name": "ipython",
    "version": 2
   },
   "file_extension": ".py",
   "mimetype": "text/x-python",
   "name": "python",
   "nbconvert_exporter": "python",
   "pygments_lexer": "ipython2",
   "version": "2.7.6"
  }
 },
 "nbformat": 4,
 "nbformat_minor": 5
}
