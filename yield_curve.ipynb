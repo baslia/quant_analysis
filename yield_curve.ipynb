{
 "cells": [
  {
   "cell_type": "markdown",
   "source": [
    "# how to build an animated chart of the yield curve to form a view of state of the economy.\n",
    "\n",
    "The yield curve is a plot of the yield of different key US treasuries against their maturity. The yield curve provides important insight into investors’ predictions about the economy. “Inverted” yield curves have been shown to reliably predict recessions.\n",
    "\n",
    "Normally, longer-dated treasuries yield more than shorter-dated ones. This is because there is more risk in lending money for longer. When the yield curve inverts, longer-dated treasuries yield less than shorter-dated ones. This happens when the market expects the Fed to lower interest rates in the future in anticipation of a recession.\n",
    "\n",
    "Investors use an inverted yield curve as a sign to reduce risk in their portfolios.\n",
    "\n",
    "We can build an animated chart of the US yield curve to form a view of the macroeconomic state."
   ],
   "metadata": {
    "collapsed": false
   }
  },
  {
   "cell_type": "code",
   "execution_count": 1,
   "outputs": [
    {
     "data": {
      "text/plain": "               3m    6m    1y     2y     3y     5y     7y    10y    30y  \\\nTIME_PERIOD                                                               \n1985-01-01   8.02  8.45  9.02   9.93  10.43  10.93  11.27  11.38  11.45   \n1985-02-01   8.56  8.87  9.29  10.17  10.55  11.13  11.44  11.51  11.47   \n1985-03-01   8.83  9.45  9.86  10.71  11.05  11.52  11.82  11.86  11.81   \n1985-04-01   8.22  8.71  9.14  10.09  10.49  11.01  11.34  11.43  11.47   \n1985-05-01   7.73  8.07  8.46   9.39   9.75  10.34  10.72  10.85  11.05   \n\n             inverted  \nTIME_PERIOD            \n1985-01-01      False  \n1985-02-01      False  \n1985-03-01      False  \n1985-04-01      False  \n1985-05-01      False  ",
      "text/html": "<div>\n<style scoped>\n    .dataframe tbody tr th:only-of-type {\n        vertical-align: middle;\n    }\n\n    .dataframe tbody tr th {\n        vertical-align: top;\n    }\n\n    .dataframe thead th {\n        text-align: right;\n    }\n</style>\n<table border=\"1\" class=\"dataframe\">\n  <thead>\n    <tr style=\"text-align: right;\">\n      <th></th>\n      <th>3m</th>\n      <th>6m</th>\n      <th>1y</th>\n      <th>2y</th>\n      <th>3y</th>\n      <th>5y</th>\n      <th>7y</th>\n      <th>10y</th>\n      <th>30y</th>\n      <th>inverted</th>\n    </tr>\n    <tr>\n      <th>TIME_PERIOD</th>\n      <th></th>\n      <th></th>\n      <th></th>\n      <th></th>\n      <th></th>\n      <th></th>\n      <th></th>\n      <th></th>\n      <th></th>\n      <th></th>\n    </tr>\n  </thead>\n  <tbody>\n    <tr>\n      <th>1985-01-01</th>\n      <td>8.02</td>\n      <td>8.45</td>\n      <td>9.02</td>\n      <td>9.93</td>\n      <td>10.43</td>\n      <td>10.93</td>\n      <td>11.27</td>\n      <td>11.38</td>\n      <td>11.45</td>\n      <td>False</td>\n    </tr>\n    <tr>\n      <th>1985-02-01</th>\n      <td>8.56</td>\n      <td>8.87</td>\n      <td>9.29</td>\n      <td>10.17</td>\n      <td>10.55</td>\n      <td>11.13</td>\n      <td>11.44</td>\n      <td>11.51</td>\n      <td>11.47</td>\n      <td>False</td>\n    </tr>\n    <tr>\n      <th>1985-03-01</th>\n      <td>8.83</td>\n      <td>9.45</td>\n      <td>9.86</td>\n      <td>10.71</td>\n      <td>11.05</td>\n      <td>11.52</td>\n      <td>11.82</td>\n      <td>11.86</td>\n      <td>11.81</td>\n      <td>False</td>\n    </tr>\n    <tr>\n      <th>1985-04-01</th>\n      <td>8.22</td>\n      <td>8.71</td>\n      <td>9.14</td>\n      <td>10.09</td>\n      <td>10.49</td>\n      <td>11.01</td>\n      <td>11.34</td>\n      <td>11.43</td>\n      <td>11.47</td>\n      <td>False</td>\n    </tr>\n    <tr>\n      <th>1985-05-01</th>\n      <td>7.73</td>\n      <td>8.07</td>\n      <td>8.46</td>\n      <td>9.39</td>\n      <td>9.75</td>\n      <td>10.34</td>\n      <td>10.72</td>\n      <td>10.85</td>\n      <td>11.05</td>\n      <td>False</td>\n    </tr>\n  </tbody>\n</table>\n</div>"
     },
     "execution_count": 1,
     "metadata": {},
     "output_type": "execute_result"
    }
   ],
   "source": [
    "# Imports and set up\n",
    "\n",
    "# Start with importing NumPy, Matplotlib, and the OpenBB SDK. You can use the OpenBB SDK to get yield curve data for the St. Louis Fed’s data portal (FRED)\n",
    "\n",
    "%matplotlib notebook\n",
    "\n",
    "import numpy as np\n",
    "import matplotlib.pyplot as plt\n",
    "import matplotlib.animation as animation\n",
    "\n",
    "from openbb_terminal.sdk import openbb\n",
    "\n",
    "font = {\n",
    "    \"family\": \"normal\",\n",
    "    \"weight\": \"normal\",\n",
    "    \"size\": 12\n",
    "}\n",
    "\n",
    "plt.rc('font', **font)\n",
    "\n",
    "# Set up the bond maturities you want to use to build the yield curve. There are conventions about which maturities to use, but there is no “right” answer. The point is to get a good representation across the maturities.\n",
    "\n",
    "maturities = ['3m', '6m', '1y', '2y', '3y', '5y', '7y', '10y', '30y']\n",
    "\n",
    "data = openbb.economy.treasury(\n",
    "    instruments=[\"nominal\"],\n",
    "    maturities=maturities,\n",
    "    start_date=\"1985-01-01\"\n",
    ")\n",
    "data.columns = maturities\n",
    "\n",
    "data[\"inverted\"] = data[\"30y\"] < data[\"3m\"]\n",
    "\n",
    "data.head()"
   ],
   "metadata": {
    "collapsed": false,
    "ExecuteTime": {
     "end_time": "2023-05-18T13:47:31.069218Z",
     "start_time": "2023-05-18T13:47:27.607733Z"
    }
   }
  },
  {
   "cell_type": "code",
   "execution_count": 4,
   "outputs": [],
   "source": [
    "# Build the animated chart\n",
    "\n",
    "# With Matplotlib, you can animate a chart. Animated charts offer a great way to visualize how data changes through time. First, set up the plots. This boilerplate code sets up the figure, creates the tick ranges and labels, and sets the axis labels.\n",
    "\n",
    "# Initialize figure\n",
    "fig = plt.figure()\n",
    "ax = fig.add_subplot(1, 1, 1)\n",
    "line, = ax.plot([], [])\n",
    "\n",
    "# Set the range of ticks\n",
    "ax.set_xlim(0, 7)\n",
    "ax.set_ylim(0, 20)\n",
    "\n",
    "# Set the tick locations\n",
    "ax.set_xticks(range(8))\n",
    "ax.set_yticks([2, 4, 6, 8, 10, 12, 14, 16, 18])\n",
    "\n",
    "# Set the axis labels\n",
    "ax.set_xticklabels([\"1m\",\"3m\",\"6m\",\"1y\",\"5y\",\"10y\",\"20y\",\"30y\"])\n",
    "ax.set_yticklabels([2, 4, 6, 8, 10, 12, 14, 16, 18])\n",
    "\n",
    "# Foce the y-axis labels to the left\n",
    "ax.yaxis.set_label_position(\"left\")\n",
    "ax.yaxis.tick_left()\n",
    "\n",
    "# Add the axis lables\n",
    "plt.ylabel(\"Yield (%)\")\n",
    "plt.xlabel(\"Time to maturty\")\n",
    "# Next, build the animation functions.\n",
    "\n",
    "def init_func():\n",
    "    line.set_data([], [])\n",
    "    plt.title(\"U.S. Treasury Bond Yield Curve\")\n",
    "    return line\n",
    "\n",
    "def animate(i):\n",
    "    x = range(0, len(maturities))\n",
    "    y = data[maturities].iloc[i]\n",
    "    dt_ = data.index[i].strftime(\"%Y-%m-%d\")\n",
    "\n",
    "    if data.inverted.iloc[i]:\n",
    "        line.set_color(\"r\")\n",
    "    else:\n",
    "        line.set_color(\"y\")\n",
    "\n",
    "    line.set_data(x, y)\n",
    "\n",
    "    plt.title(f\"U.S. Treasury Bond Yield Curve ({dt_})\")\n",
    "    return line,\n",
    "\n",
    "ani = animation.FuncAnimation(\n",
    "    fig,\n",
    "    animate,\n",
    "    init_func=init_func,\n",
    "    frames=len(data.index),\n",
    "    interval=5,\n",
    "    blit=True\n",
    ")"
   ],
   "metadata": {
    "collapsed": false
   }
  },
  {
   "cell_type": "code",
   "execution_count": null,
   "outputs": [],
   "source": [],
   "metadata": {
    "collapsed": false
   }
  }
 ],
 "metadata": {
  "kernelspec": {
   "display_name": "Python 3",
   "language": "python",
   "name": "python3"
  },
  "language_info": {
   "codemirror_mode": {
    "name": "ipython",
    "version": 2
   },
   "file_extension": ".py",
   "mimetype": "text/x-python",
   "name": "python",
   "nbconvert_exporter": "python",
   "pygments_lexer": "ipython2",
   "version": "2.7.6"
  }
 },
 "nbformat": 4,
 "nbformat_minor": 0
}
