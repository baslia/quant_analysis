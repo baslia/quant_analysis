{
 "cells": [
  {
   "cell_type": "markdown",
   "source": [
    "# Use CVaR to capture tail risk\n",
    "\n",
    "## CVaR captures more information than VaR\n",
    "\n",
    "CVaR is an improvement over VaR and is considered superior by practitioners. It takes into consideration the actual shape of the distribution and quantifies the tail risk. CVaR is also known as the expected shortfall since it measures the expectation of all the different possible losses greater than VaR.\n",
    "\n",
    "Non-professional traders and investors should consider using CVaR over VaR for their own risk management. Unfortunately, most don’t.\n",
    "\n",
    "The steps are as follows:\n",
    "\n",
    "1. Get stock data\n",
    "2. Compute VaR and CVaR\n",
    "3. Visualize the differences between the two"
   ],
   "metadata": {
    "collapsed": false
   }
  },
  {
   "cell_type": "code",
   "execution_count": 5,
   "outputs": [
    {
     "name": "stdout",
     "output_type": "stream",
     "text": [
      "[*********************100%***********************]  90 of 90 completed\n"
     ]
    },
    {
     "data": {
      "text/plain": "<BarContainer object of 90 artists>"
     },
     "execution_count": 5,
     "metadata": {},
     "output_type": "execute_result"
    },
    {
     "data": {
      "text/plain": "<Figure size 432x288 with 1 Axes>",
      "image/png": "[encoded data removed]"
     },
     "metadata": {
      "needs_background": "light"
     },
     "output_type": "display_data"
    }
   ],
   "source": [
    "# Step 1: Get stock data\n",
    "\n",
    "# Start by importing the libraries and getting the data. I like to use yfinance for getting stock data and NumPy for math functions. Soon, I’ll use the OpenBB SDK for data.\n",
    "\n",
    "import numpy as np\n",
    "import pandas as pd\n",
    "import yfinance as yf\n",
    "\n",
    "import matplotlib.pyplot as plt\n",
    "# I’m going to use 90 stocks in the S&P 100 index. Grab the data and compute the returns.\n",
    "\n",
    "oex = ['MMM','T','ABBV','ABT','ACN','ALL','GOOGL','GOOG','MO','AMZN','AXP','AIG','AMGN','AAPL','BAC',\n",
    "       'BRK-B','BIIB','BLK','BA','BMY','CVS','COF','CAT','CVX','CSCO','C','KO','CL','CMCSA',\n",
    "       'COP','DHR','DUK','DD','EMC','EMR','EXC','XOM','META','FDX','F','GD','GE','GM','GILD',\n",
    "       'GS','HAL','HD','HON','INTC','IBM','JPM','JNJ','KMI','LLY','LMT','LOW','MA','MCD','MDT','MRK',\n",
    "       'MET','MSFT','MS','NKE','NEE','OXY','ORCL','PYPL','PEP','PFE','PM','PG','QCOM',\n",
    "       'SLB','SPG','SO','SBUX','TGT','TXN','BK','USB','UNP','UPS','UNH','VZ','V','WMT',\n",
    "       'WBA','DIS','WFC']\n",
    "\n",
    "num_stocks = len(oex)\n",
    "\n",
    "data = yf.download(oex, start='2021-01-01', end='2023-05-08')\n",
    "\n",
    "returns = data['Adj Close'].pct_change()\n",
    "returns = returns - returns.mean(skipna=True) # de-mean the returns\n",
    "# Create a mock portfolio by generating random weights and multiplying them by the returns. You can use your actual weights to represent your own portfolio.\n",
    "\n",
    "def scale(x):\n",
    "    return x / np.sum(np.abs(x))\n",
    "\n",
    "weights = scale(np.random.random(num_stocks))\n",
    "plt.bar(np.arange(num_stocks),weights)"
   ],
   "metadata": {
    "collapsed": false,
    "ExecuteTime": {
     "end_time": "2023-05-09T14:17:54.402431Z",
     "start_time": "2023-05-09T14:17:51.783107Z"
    }
   }
  },
  {
   "cell_type": "code",
   "execution_count": 6,
   "outputs": [],
   "source": [
    "# Step 2: Compute VaR and CVaR\n",
    "\n",
    "# Start by building a function to compute VaR, so you can compare it to CVaR.\n",
    "\n",
    "def value_at_risk(\n",
    "        value_invested,\n",
    "        returns,\n",
    "        weights,\n",
    "        alpha=0.95,\n",
    "        lookback_days=500):\n",
    "\n",
    "    returns = returns.fillna(0.0)\n",
    "    portfolio_returns = returns.iloc[-lookback_days:].dot(weights)\n",
    "\n",
    "    return np.percentile(portfolio_returns, 100 * (1-alpha)) * value_invested\n",
    "\n",
    "# First, replace any NaNs with 0.0s in the DataFrame of returns. Then take the last few days of returns and multiply them by the portfolio weights to create portfolio returns. Finally, compute VaR by taking the 5th percentile of returns and multiplying it by the value invested. This gets the amount you can expect to lose in one day with 95% confidence.\n",
    "\n",
    "# This is the main difference between VaR and CVaR. VaR represents a worst-case loss associated with a probability and a time horizon. CVaR is the expected loss if that worst-case threshold is crossed. In other words, CVaR quantifies the expected losses that occur beyond the VaR cutoff. VaR only measures the cutoff.\n",
    "\n",
    "def cvar(\n",
    "    value_invested,\n",
    "    returns,\n",
    "    weights,\n",
    "    alpha=0.95,\n",
    "    lookback_days=500\n",
    "):\n",
    "    var = value_at_risk(value_invested, returns, weights, alpha, lookback_days=lookback_days)\n",
    "\n",
    "    returns = returns.fillna(0.0)\n",
    "    portfolio_returns = returns.iloc[-lookback_days:].dot(weights)\n",
    "    var_pct_loss = var / value_invested\n",
    "\n",
    "    return np.nanmean(portfolio_returns[portfolio_returns < var_pct_loss]) * value_invested\n",
    "# Compute VaR to get the cutoff point on the distribution that equals the 5th percentile. Then compute the portfolio returns and convert VaR back to a percentage instead of a dollar amount. To compute CVaR, take the average of all returns less than VaR and multiply by the invested value.\n",
    "\n",
    "# Taking the average of all returns less than VaR is the same as taking the area of the distribution left of that cutoff point."
   ],
   "metadata": {
    "collapsed": false,
    "ExecuteTime": {
     "end_time": "2023-05-09T14:25:28.599750Z",
     "start_time": "2023-05-09T14:25:28.595885Z"
    }
   }
  },
  {
   "cell_type": "code",
   "execution_count": 4,
   "outputs": [
    {
     "data": {
      "text/plain": "Text(0, 0.5, 'Observation Frequency')"
     },
     "execution_count": 4,
     "metadata": {},
     "output_type": "execute_result"
    },
    {
     "data": {
      "text/plain": "<Figure size 432x288 with 1 Axes>",
      "image/png": "[encoded data removed]"
     },
     "metadata": {
      "needs_background": "light"
     },
     "output_type": "display_data"
    }
   ],
   "source": [
    "# Step 3: Vizualize the difference between the two\n",
    "\n",
    "# Compute the CVaR and VaR of the portfolio and note the difference.\n",
    "\n",
    "value_invested = 10_000\n",
    "\n",
    "cvar(value_invested, returns, weights)\n",
    "\n",
    "value_at_risk(value_invested, returns, weights)\n",
    "# CVaR is a bigger negative number than VaR. The difference between the two is the extra information CVaR captures by taking the average of all returns less than VaR. If you are dependent on VaR for risk management, you miss that information.\n",
    "\n",
    "# If this still isn’t clear, a chart will help.\n",
    "\n",
    "lookback_days = 500\n",
    "\n",
    "portfolio_returns = returns.fillna(0.0).iloc[-lookback_days:].dot(weights)\n",
    "\n",
    "portfolio_VaR = value_at_risk(value_invested, returns, weights)\n",
    "portfolio_VaR_return = portfolio_VaR / value_invested\n",
    "\n",
    "portfolio_CVaR = cvar(value_invested, returns, weights)\n",
    "portfolio_CVaR_return = portfolio_CVaR / value_invested\n",
    "\n",
    "plt.hist(portfolio_returns[portfolio_returns > portfolio_VaR_return], bins=20)\n",
    "plt.hist(portfolio_returns[portfolio_returns < portfolio_VaR_return], bins=10)\n",
    "plt.axvline(portfolio_VaR_return, color='red', linestyle='solid')\n",
    "plt.axvline(portfolio_CVaR_return, color='red', linestyle='dashed')\n",
    "plt.legend(['VaR', 'CVaR', 'Returns', 'Returns < VaR'])\n",
    "plt.title('Historical VaR and CVaR')\n",
    "plt.xlabel('Return')\n",
    "plt.ylabel('Observation Frequency')"
   ],
   "metadata": {
    "collapsed": false,
    "ExecuteTime": {
     "end_time": "2023-05-09T14:17:00.521859Z",
     "start_time": "2023-05-09T14:17:00.427929Z"
    }
   }
  },
  {
   "cell_type": "markdown",
   "source": [
    "The dashed line is CVaR and the solid line is VaR. VaR pinpoints the negative return at the 5th percentile. CVaR averages all the losses left of VaR (the orange bars), including the large negative return.\n",
    "Returns are not normally distributed. CVaR captures it."
   ],
   "metadata": {
    "collapsed": false
   }
  },
  {
   "cell_type": "code",
   "execution_count": null,
   "outputs": [],
   "source": [],
   "metadata": {
    "collapsed": false
   }
  }
 ],
 "metadata": {
  "kernelspec": {
   "display_name": "Python 3",
   "language": "python",
   "name": "python3"
  },
  "language_info": {
   "codemirror_mode": {
    "name": "ipython",
    "version": 2
   },
   "file_extension": ".py",
   "mimetype": "text/x-python",
   "name": "python",
   "nbconvert_exporter": "python",
   "pygments_lexer": "ipython2",
   "version": "2.7.6"
  }
 },
 "nbformat": 4,
 "nbformat_minor": 0
}
