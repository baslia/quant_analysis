{
 "cells": [
  {
   "cell_type": "markdown",
   "source": [
    "# How to establish a strategy with really strong 57% returns\n",
    "\n",
    "Asset class trend-following is a strategy that takes uses momentum and moving averages. It identifies periods of potential outperformance to minimize volatility and drawdowns.\n",
    "\n",
    "It was first introduced by Meb Faber and widely accepted in academia.\n",
    "\n",
    "Professionals apply asset class trend-following by incorporating momentum filters for different asset classes. They use it to stay invested in asset classes that are performing well while avoiding those with higher risk.\n",
    "\n",
    "By understanding and implementing this strategy, you can manage risk-adjusted returns. It helps achieve a balance of equity-like returns with bond-like volatility and drawdowns."
   ],
   "metadata": {
    "collapsed": false
   },
   "id": "6d3b7f1246d96bf3"
  },
  {
   "cell_type": "code",
   "execution_count": 1,
   "outputs": [],
   "source": [
    "# We’ll use the Zipline backtesting framework to assess the strategy. PyFolio is great for risk and performance analysis.\n",
    "\n",
    "import warnings\n",
    "warnings.filterwarnings(\"ignore\")\n",
    "\n",
    "import pandas as pd\n",
    "\n",
    "from zipline import run_algorithm\n",
    "from zipline.api import (\n",
    "    attach_pipeline,\n",
    "    date_rules,\n",
    "    order_target_percent,\n",
    "    pipeline_output,\n",
    "    record,\n",
    "    schedule_function,\n",
    "    symbol,\n",
    "    time_rules,\n",
    "    get_open_orders,\n",
    ")\n",
    "from zipline.finance import commission, slippage\n",
    "from zipline.pipeline import Pipeline\n",
    "from zipline.pipeline.factors import SimpleMovingAverage\n",
    "from zipline.pipeline.data import USEquityPricing\n",
    "\n",
    "import pyfolio as pf"
   ],
   "metadata": {
    "collapsed": false,
    "ExecuteTime": {
     "end_time": "2023-07-29T13:37:15.768937Z",
     "start_time": "2023-07-29T13:37:13.803296Z"
    }
   },
   "id": "ff0d9330a6891322"
  },
  {
   "cell_type": "code",
   "execution_count": 9,
   "outputs": [
    {
     "name": "stdout",
     "output_type": "stream",
     "text": [
      "Error: No bundle registered with the name 'quandl-eod'\r\n"
     ]
    }
   ],
   "source": [
    "! zipline ingest -b quandl-eod"
   ],
   "metadata": {
    "collapsed": false,
    "ExecuteTime": {
     "end_time": "2023-07-29T13:46:56.760698Z",
     "start_time": "2023-07-29T13:46:54.938789Z"
    }
   },
   "id": "1c6fb93435152058"
  },
  {
   "cell_type": "markdown",
   "source": [
    "## Set up the strategy code\n",
    "\n",
    "Start with building the function that’s called at the beginning of the backtest. The strategy logic happens in the next function."
   ],
   "metadata": {
    "collapsed": false
   },
   "id": "214d94c431440b16"
  },
  {
   "cell_type": "code",
   "execution_count": 2,
   "outputs": [],
   "source": [
    "def initialize(context):\n",
    "    context.symbols = [\n",
    "        symbol(\"SPY\"),\n",
    "        symbol(\"EFA\"),\n",
    "        symbol(\"IEF\"),\n",
    "        symbol(\"VNQ\"),\n",
    "        symbol(\"GSG\"),\n",
    "    ]\n",
    "    context.sma = {}\n",
    "    context.period = 10 * 21\n",
    "\n",
    "    for asset in context.symbols: \n",
    "        context.sma[asset] = SimpleMovingAverage(\n",
    "            inputs=[USEquityPricing.close],\n",
    "            window_length=context.period\n",
    "        )\n",
    "\n",
    "    schedule_function(\n",
    "        func=rebalance,\n",
    "        date_rule=date_rules.month_start(),\n",
    "        time_rule=time_rules.market_open(minutes=1),\n",
    "    )\n",
    "\n",
    "    context.set_commission(\n",
    "        commission.PerShare(cost=0.01, min_trade_cost=1.00)\n",
    "    )\n",
    "    context.set_slippage(slippage.VolumeShareSlippage())\n",
    "# The logic is straightforward: For each ETF representing an asset class, calculate the 10-month simple moving average using the closing price.\n",
    "\n",
    "# This is a long-term strategy that rebalances at the market open on the first day of the month. Zipline’s schedule function makes it simple to set this up. Note we schedule a function called rebalance to run on this schedule. You’ll create it next.\n",
    "\n",
    "# Finally, include realistic commission and slippage models."
   ],
   "metadata": {
    "collapsed": false,
    "ExecuteTime": {
     "end_time": "2023-07-29T13:38:22.770528Z",
     "start_time": "2023-07-29T13:38:22.762667Z"
    }
   },
   "id": "841f8e56d0d77ad"
  },
  {
   "cell_type": "code",
   "execution_count": null,
   "outputs": [],
   "source": [
    "# Create the function that contains the strategy logic.\n",
    "\n",
    "def rebalance(context, data):\n",
    "    \n",
    "    longs = [\n",
    "        asset\n",
    "        for asset in context.symbols\n",
    "        if data.current(asset, \"price\") > context.sma[asset].mean()\n",
    "    ]\n",
    "\n",
    "    for asset in context.portfolio.positions:\n",
    "        if asset not in longs and data.can_trade(asset):\n",
    "            order_target_percent(asset, 0)\n",
    "\n",
    "    for asset in longs:\n",
    "        if data.can_trade(asset):\n",
    "            order_target_percent(asset, 1.0 / len(longs))\n",
    "# On the first trading day of every month, the logic checks if the current price is greater than the 10-month simple moving average. If so, it adds the symbol to a list.\n",
    "\n",
    "# The next step sets a target of 0% for those assets with a price that does not exceed the 10-month simple moving average.\n",
    "\n",
    "# Finally, we equal-weight the portfolio with the ETFs that are trending."
   ],
   "metadata": {
    "collapsed": false
   },
   "id": "6cb95fadd7258d0a"
  },
  {
   "cell_type": "code",
   "execution_count": 8,
   "outputs": [
    {
     "ename": "SymbolNotFound",
     "evalue": "Symbol 'SPY' was not found.",
     "output_type": "error",
     "traceback": [
      "\u001B[0;31m---------------------------------------------------------------------------\u001B[0m",
      "\u001B[0;31mKeyError\u001B[0m                                  Traceback (most recent call last)",
      "File \u001B[0;32m/opt/homebrew/Caskroom/miniforge/base/envs/env_tf/lib/python3.9/site-packages/zipline/assets/assets.py:773\u001B[0m, in \u001B[0;36mAssetFinder._lookup_symbol_strict\u001B[0;34m(self, ownership_map, multi_country, symbol, as_of_date)\u001B[0m\n\u001B[1;32m    772\u001B[0m \u001B[38;5;28;01mtry\u001B[39;00m:\n\u001B[0;32m--> 773\u001B[0m     owners \u001B[38;5;241m=\u001B[39m \u001B[43mownership_map\u001B[49m\u001B[43m[\u001B[49m\u001B[43mcompany_symbol\u001B[49m\u001B[43m,\u001B[49m\u001B[43m \u001B[49m\u001B[43mshare_class_symbol\u001B[49m\u001B[43m]\u001B[49m\n\u001B[1;32m    774\u001B[0m     \u001B[38;5;28;01massert\u001B[39;00m owners, \u001B[38;5;124m\"\u001B[39m\u001B[38;5;124mempty owners list for \u001B[39m\u001B[38;5;132;01m%r\u001B[39;00m\u001B[38;5;124m\"\u001B[39m \u001B[38;5;241m%\u001B[39m symbol\n",
      "\u001B[0;31mKeyError\u001B[0m: ('SPY', '')",
      "\nThe above exception was the direct cause of the following exception:\n",
      "\u001B[0;31mSymbolNotFound\u001B[0m                            Traceback (most recent call last)",
      "Cell \u001B[0;32mIn[8], line 8\u001B[0m\n\u001B[1;32m      5\u001B[0m start \u001B[38;5;241m=\u001B[39m pd\u001B[38;5;241m.\u001B[39mTimestamp(\u001B[38;5;124m\"\u001B[39m\u001B[38;5;124m2010\u001B[39m\u001B[38;5;124m\"\u001B[39m)\n\u001B[1;32m      6\u001B[0m end \u001B[38;5;241m=\u001B[39m pd\u001B[38;5;241m.\u001B[39mTimestamp(\u001B[38;5;124m\"\u001B[39m\u001B[38;5;124m2023-06-30\u001B[39m\u001B[38;5;124m\"\u001B[39m)\n\u001B[0;32m----> 8\u001B[0m perf \u001B[38;5;241m=\u001B[39m \u001B[43mrun_algorithm\u001B[49m\u001B[43m(\u001B[49m\n\u001B[1;32m      9\u001B[0m \u001B[43m    \u001B[49m\u001B[43mstart\u001B[49m\u001B[38;5;241;43m=\u001B[39;49m\u001B[43mstart\u001B[49m\u001B[43m,\u001B[49m\n\u001B[1;32m     10\u001B[0m \u001B[43m    \u001B[49m\u001B[43mend\u001B[49m\u001B[38;5;241;43m=\u001B[39;49m\u001B[43mend\u001B[49m\u001B[43m,\u001B[49m\n\u001B[1;32m     11\u001B[0m \u001B[43m    \u001B[49m\u001B[43minitialize\u001B[49m\u001B[38;5;241;43m=\u001B[39;49m\u001B[43minitialize\u001B[49m\u001B[43m,\u001B[49m\n\u001B[1;32m     12\u001B[0m \u001B[43m    \u001B[49m\u001B[43mcapital_base\u001B[49m\u001B[38;5;241;43m=\u001B[39;49m\u001B[38;5;241;43m100000\u001B[39;49m\u001B[43m,\u001B[49m\n\u001B[1;32m     13\u001B[0m \u001B[43m    \u001B[49m\u001B[43mbundle\u001B[49m\u001B[38;5;241;43m=\u001B[39;49m\u001B[38;5;124;43m\"\u001B[39;49m\u001B[38;5;124;43mquandl\u001B[39;49m\u001B[38;5;124;43m\"\u001B[39;49m\n\u001B[1;32m     14\u001B[0m \u001B[43m)\u001B[49m\n\u001B[1;32m     15\u001B[0m \u001B[38;5;66;03m# Call the run_algorithm function with the start date, end date, and name of your initialize function. It takes about a minute to run.\u001B[39;00m\n\u001B[1;32m     16\u001B[0m \n\u001B[1;32m     17\u001B[0m \u001B[38;5;66;03m# Now the fun part.\u001B[39;00m\n\u001B[1;32m     19\u001B[0m returns, positions, transactions \u001B[38;5;241m=\u001B[39m \\\n\u001B[1;32m     20\u001B[0m     pf\u001B[38;5;241m.\u001B[39mutils\u001B[38;5;241m.\u001B[39mextract_rets_pos_txn_from_zipline(perf)\n",
      "File \u001B[0;32m/opt/homebrew/Caskroom/miniforge/base/envs/env_tf/lib/python3.9/site-packages/zipline/utils/run_algo.py:397\u001B[0m, in \u001B[0;36mrun_algorithm\u001B[0;34m(start, end, initialize, capital_base, handle_data, before_trading_start, analyze, data_frequency, bundle, bundle_timestamp, trading_calendar, metrics_set, benchmark_returns, default_extension, extensions, strict_extensions, environ, custom_loader, blotter)\u001B[0m\n\u001B[1;32m    393\u001B[0m load_extensions(default_extension, extensions, strict_extensions, environ)\n\u001B[1;32m    395\u001B[0m benchmark_spec \u001B[38;5;241m=\u001B[39m BenchmarkSpec\u001B[38;5;241m.\u001B[39mfrom_returns(benchmark_returns)\n\u001B[0;32m--> 397\u001B[0m \u001B[38;5;28;01mreturn\u001B[39;00m \u001B[43m_run\u001B[49m\u001B[43m(\u001B[49m\n\u001B[1;32m    398\u001B[0m \u001B[43m    \u001B[49m\u001B[43mhandle_data\u001B[49m\u001B[38;5;241;43m=\u001B[39;49m\u001B[43mhandle_data\u001B[49m\u001B[43m,\u001B[49m\n\u001B[1;32m    399\u001B[0m \u001B[43m    \u001B[49m\u001B[43minitialize\u001B[49m\u001B[38;5;241;43m=\u001B[39;49m\u001B[43minitialize\u001B[49m\u001B[43m,\u001B[49m\n\u001B[1;32m    400\u001B[0m \u001B[43m    \u001B[49m\u001B[43mbefore_trading_start\u001B[49m\u001B[38;5;241;43m=\u001B[39;49m\u001B[43mbefore_trading_start\u001B[49m\u001B[43m,\u001B[49m\n\u001B[1;32m    401\u001B[0m \u001B[43m    \u001B[49m\u001B[43manalyze\u001B[49m\u001B[38;5;241;43m=\u001B[39;49m\u001B[43manalyze\u001B[49m\u001B[43m,\u001B[49m\n\u001B[1;32m    402\u001B[0m \u001B[43m    \u001B[49m\u001B[43malgofile\u001B[49m\u001B[38;5;241;43m=\u001B[39;49m\u001B[38;5;28;43;01mNone\u001B[39;49;00m\u001B[43m,\u001B[49m\n\u001B[1;32m    403\u001B[0m \u001B[43m    \u001B[49m\u001B[43malgotext\u001B[49m\u001B[38;5;241;43m=\u001B[39;49m\u001B[38;5;28;43;01mNone\u001B[39;49;00m\u001B[43m,\u001B[49m\n\u001B[1;32m    404\u001B[0m \u001B[43m    \u001B[49m\u001B[43mdefines\u001B[49m\u001B[38;5;241;43m=\u001B[39;49m\u001B[43m(\u001B[49m\u001B[43m)\u001B[49m\u001B[43m,\u001B[49m\n\u001B[1;32m    405\u001B[0m \u001B[43m    \u001B[49m\u001B[43mdata_frequency\u001B[49m\u001B[38;5;241;43m=\u001B[39;49m\u001B[43mdata_frequency\u001B[49m\u001B[43m,\u001B[49m\n\u001B[1;32m    406\u001B[0m \u001B[43m    \u001B[49m\u001B[43mcapital_base\u001B[49m\u001B[38;5;241;43m=\u001B[39;49m\u001B[43mcapital_base\u001B[49m\u001B[43m,\u001B[49m\n\u001B[1;32m    407\u001B[0m \u001B[43m    \u001B[49m\u001B[43mbundle\u001B[49m\u001B[38;5;241;43m=\u001B[39;49m\u001B[43mbundle\u001B[49m\u001B[43m,\u001B[49m\n\u001B[1;32m    408\u001B[0m \u001B[43m    \u001B[49m\u001B[43mbundle_timestamp\u001B[49m\u001B[38;5;241;43m=\u001B[39;49m\u001B[43mbundle_timestamp\u001B[49m\u001B[43m,\u001B[49m\n\u001B[1;32m    409\u001B[0m \u001B[43m    \u001B[49m\u001B[43mstart\u001B[49m\u001B[38;5;241;43m=\u001B[39;49m\u001B[43mstart\u001B[49m\u001B[43m,\u001B[49m\n\u001B[1;32m    410\u001B[0m \u001B[43m    \u001B[49m\u001B[43mend\u001B[49m\u001B[38;5;241;43m=\u001B[39;49m\u001B[43mend\u001B[49m\u001B[43m,\u001B[49m\n\u001B[1;32m    411\u001B[0m \u001B[43m    \u001B[49m\u001B[43moutput\u001B[49m\u001B[38;5;241;43m=\u001B[39;49m\u001B[43mos\u001B[49m\u001B[38;5;241;43m.\u001B[39;49m\u001B[43mdevnull\u001B[49m\u001B[43m,\u001B[49m\n\u001B[1;32m    412\u001B[0m \u001B[43m    \u001B[49m\u001B[43mtrading_calendar\u001B[49m\u001B[38;5;241;43m=\u001B[39;49m\u001B[43mtrading_calendar\u001B[49m\u001B[43m,\u001B[49m\n\u001B[1;32m    413\u001B[0m \u001B[43m    \u001B[49m\u001B[43mprint_algo\u001B[49m\u001B[38;5;241;43m=\u001B[39;49m\u001B[38;5;28;43;01mFalse\u001B[39;49;00m\u001B[43m,\u001B[49m\n\u001B[1;32m    414\u001B[0m \u001B[43m    \u001B[49m\u001B[43mmetrics_set\u001B[49m\u001B[38;5;241;43m=\u001B[39;49m\u001B[43mmetrics_set\u001B[49m\u001B[43m,\u001B[49m\n\u001B[1;32m    415\u001B[0m \u001B[43m    \u001B[49m\u001B[43mlocal_namespace\u001B[49m\u001B[38;5;241;43m=\u001B[39;49m\u001B[38;5;28;43;01mFalse\u001B[39;49;00m\u001B[43m,\u001B[49m\n\u001B[1;32m    416\u001B[0m \u001B[43m    \u001B[49m\u001B[43menviron\u001B[49m\u001B[38;5;241;43m=\u001B[39;49m\u001B[43menviron\u001B[49m\u001B[43m,\u001B[49m\n\u001B[1;32m    417\u001B[0m \u001B[43m    \u001B[49m\u001B[43mblotter\u001B[49m\u001B[38;5;241;43m=\u001B[39;49m\u001B[43mblotter\u001B[49m\u001B[43m,\u001B[49m\n\u001B[1;32m    418\u001B[0m \u001B[43m    \u001B[49m\u001B[43mcustom_loader\u001B[49m\u001B[38;5;241;43m=\u001B[39;49m\u001B[43mcustom_loader\u001B[49m\u001B[43m,\u001B[49m\n\u001B[1;32m    419\u001B[0m \u001B[43m    \u001B[49m\u001B[43mbenchmark_spec\u001B[49m\u001B[38;5;241;43m=\u001B[39;49m\u001B[43mbenchmark_spec\u001B[49m\u001B[43m,\u001B[49m\n\u001B[1;32m    420\u001B[0m \u001B[43m\u001B[49m\u001B[43m)\u001B[49m\n",
      "File \u001B[0;32m/opt/homebrew/Caskroom/miniforge/base/envs/env_tf/lib/python3.9/site-packages/zipline/utils/run_algo.py:200\u001B[0m, in \u001B[0;36m_run\u001B[0;34m(handle_data, initialize, before_trading_start, analyze, algofile, algotext, defines, data_frequency, capital_base, bundle, bundle_timestamp, start, end, output, trading_calendar, print_algo, metrics_set, local_namespace, environ, blotter, custom_loader, benchmark_spec)\u001B[0m\n\u001B[1;32m    197\u001B[0m         \u001B[38;5;28;01mraise\u001B[39;00m _RunAlgoError(\u001B[38;5;28mstr\u001B[39m(e))\n\u001B[1;32m    199\u001B[0m \u001B[38;5;28;01mtry\u001B[39;00m:\n\u001B[0;32m--> 200\u001B[0m     perf \u001B[38;5;241m=\u001B[39m \u001B[43mTradingAlgorithm\u001B[49m\u001B[43m(\u001B[49m\n\u001B[1;32m    201\u001B[0m \u001B[43m        \u001B[49m\u001B[43mnamespace\u001B[49m\u001B[38;5;241;43m=\u001B[39;49m\u001B[43mnamespace\u001B[49m\u001B[43m,\u001B[49m\n\u001B[1;32m    202\u001B[0m \u001B[43m        \u001B[49m\u001B[43mdata_portal\u001B[49m\u001B[38;5;241;43m=\u001B[39;49m\u001B[43mdata\u001B[49m\u001B[43m,\u001B[49m\n\u001B[1;32m    203\u001B[0m \u001B[43m        \u001B[49m\u001B[43mget_pipeline_loader\u001B[49m\u001B[38;5;241;43m=\u001B[39;49m\u001B[43mchoose_loader\u001B[49m\u001B[43m,\u001B[49m\n\u001B[1;32m    204\u001B[0m \u001B[43m        \u001B[49m\u001B[43mtrading_calendar\u001B[49m\u001B[38;5;241;43m=\u001B[39;49m\u001B[43mtrading_calendar\u001B[49m\u001B[43m,\u001B[49m\n\u001B[1;32m    205\u001B[0m \u001B[43m        \u001B[49m\u001B[43msim_params\u001B[49m\u001B[38;5;241;43m=\u001B[39;49m\u001B[43mSimulationParameters\u001B[49m\u001B[43m(\u001B[49m\n\u001B[1;32m    206\u001B[0m \u001B[43m            \u001B[49m\u001B[43mstart_session\u001B[49m\u001B[38;5;241;43m=\u001B[39;49m\u001B[43mstart\u001B[49m\u001B[43m,\u001B[49m\n\u001B[1;32m    207\u001B[0m \u001B[43m            \u001B[49m\u001B[43mend_session\u001B[49m\u001B[38;5;241;43m=\u001B[39;49m\u001B[43mend\u001B[49m\u001B[43m,\u001B[49m\n\u001B[1;32m    208\u001B[0m \u001B[43m            \u001B[49m\u001B[43mtrading_calendar\u001B[49m\u001B[38;5;241;43m=\u001B[39;49m\u001B[43mtrading_calendar\u001B[49m\u001B[43m,\u001B[49m\n\u001B[1;32m    209\u001B[0m \u001B[43m            \u001B[49m\u001B[43mcapital_base\u001B[49m\u001B[38;5;241;43m=\u001B[39;49m\u001B[43mcapital_base\u001B[49m\u001B[43m,\u001B[49m\n\u001B[1;32m    210\u001B[0m \u001B[43m            \u001B[49m\u001B[43mdata_frequency\u001B[49m\u001B[38;5;241;43m=\u001B[39;49m\u001B[43mdata_frequency\u001B[49m\u001B[43m,\u001B[49m\n\u001B[1;32m    211\u001B[0m \u001B[43m        \u001B[49m\u001B[43m)\u001B[49m\u001B[43m,\u001B[49m\n\u001B[1;32m    212\u001B[0m \u001B[43m        \u001B[49m\u001B[43mmetrics_set\u001B[49m\u001B[38;5;241;43m=\u001B[39;49m\u001B[43mmetrics_set\u001B[49m\u001B[43m,\u001B[49m\n\u001B[1;32m    213\u001B[0m \u001B[43m        \u001B[49m\u001B[43mblotter\u001B[49m\u001B[38;5;241;43m=\u001B[39;49m\u001B[43mblotter\u001B[49m\u001B[43m,\u001B[49m\n\u001B[1;32m    214\u001B[0m \u001B[43m        \u001B[49m\u001B[43mbenchmark_returns\u001B[49m\u001B[38;5;241;43m=\u001B[39;49m\u001B[43mbenchmark_returns\u001B[49m\u001B[43m,\u001B[49m\n\u001B[1;32m    215\u001B[0m \u001B[43m        \u001B[49m\u001B[43mbenchmark_sid\u001B[49m\u001B[38;5;241;43m=\u001B[39;49m\u001B[43mbenchmark_sid\u001B[49m\u001B[43m,\u001B[49m\n\u001B[1;32m    216\u001B[0m \u001B[43m        \u001B[49m\u001B[38;5;241;43m*\u001B[39;49m\u001B[38;5;241;43m*\u001B[39;49m\u001B[43m{\u001B[49m\n\u001B[1;32m    217\u001B[0m \u001B[43m            \u001B[49m\u001B[38;5;124;43m\"\u001B[39;49m\u001B[38;5;124;43minitialize\u001B[39;49m\u001B[38;5;124;43m\"\u001B[39;49m\u001B[43m:\u001B[49m\u001B[43m \u001B[49m\u001B[43minitialize\u001B[49m\u001B[43m,\u001B[49m\n\u001B[1;32m    218\u001B[0m \u001B[43m            \u001B[49m\u001B[38;5;124;43m\"\u001B[39;49m\u001B[38;5;124;43mhandle_data\u001B[39;49m\u001B[38;5;124;43m\"\u001B[39;49m\u001B[43m:\u001B[49m\u001B[43m \u001B[49m\u001B[43mhandle_data\u001B[49m\u001B[43m,\u001B[49m\n\u001B[1;32m    219\u001B[0m \u001B[43m            \u001B[49m\u001B[38;5;124;43m\"\u001B[39;49m\u001B[38;5;124;43mbefore_trading_start\u001B[39;49m\u001B[38;5;124;43m\"\u001B[39;49m\u001B[43m:\u001B[49m\u001B[43m \u001B[49m\u001B[43mbefore_trading_start\u001B[49m\u001B[43m,\u001B[49m\n\u001B[1;32m    220\u001B[0m \u001B[43m            \u001B[49m\u001B[38;5;124;43m\"\u001B[39;49m\u001B[38;5;124;43manalyze\u001B[39;49m\u001B[38;5;124;43m\"\u001B[39;49m\u001B[43m:\u001B[49m\u001B[43m \u001B[49m\u001B[43manalyze\u001B[49m\u001B[43m,\u001B[49m\n\u001B[1;32m    221\u001B[0m \u001B[43m        \u001B[49m\u001B[43m}\u001B[49m\n\u001B[1;32m    222\u001B[0m \u001B[43m        \u001B[49m\u001B[38;5;28;43;01mif\u001B[39;49;00m\u001B[43m \u001B[49m\u001B[43malgotext\u001B[49m\u001B[43m \u001B[49m\u001B[38;5;129;43;01mis\u001B[39;49;00m\u001B[43m \u001B[49m\u001B[38;5;28;43;01mNone\u001B[39;49;00m\n\u001B[1;32m    223\u001B[0m \u001B[43m        \u001B[49m\u001B[38;5;28;43;01melse\u001B[39;49;00m\u001B[43m \u001B[49m\u001B[43m{\u001B[49m\n\u001B[1;32m    224\u001B[0m \u001B[43m            \u001B[49m\u001B[38;5;124;43m\"\u001B[39;49m\u001B[38;5;124;43malgo_filename\u001B[39;49m\u001B[38;5;124;43m\"\u001B[39;49m\u001B[43m:\u001B[49m\u001B[43m \u001B[49m\u001B[38;5;28;43mgetattr\u001B[39;49m\u001B[43m(\u001B[49m\u001B[43malgofile\u001B[49m\u001B[43m,\u001B[49m\u001B[43m \u001B[49m\u001B[38;5;124;43m\"\u001B[39;49m\u001B[38;5;124;43mname\u001B[39;49m\u001B[38;5;124;43m\"\u001B[39;49m\u001B[43m,\u001B[49m\u001B[43m \u001B[49m\u001B[38;5;124;43m\"\u001B[39;49m\u001B[38;5;124;43m<algorithm>\u001B[39;49m\u001B[38;5;124;43m\"\u001B[39;49m\u001B[43m)\u001B[49m\u001B[43m,\u001B[49m\n\u001B[1;32m    225\u001B[0m \u001B[43m            \u001B[49m\u001B[38;5;124;43m\"\u001B[39;49m\u001B[38;5;124;43mscript\u001B[39;49m\u001B[38;5;124;43m\"\u001B[39;49m\u001B[43m:\u001B[49m\u001B[43m \u001B[49m\u001B[43malgotext\u001B[49m\u001B[43m,\u001B[49m\n\u001B[1;32m    226\u001B[0m \u001B[43m        \u001B[49m\u001B[43m}\u001B[49m\u001B[43m,\u001B[49m\n\u001B[1;32m    227\u001B[0m \u001B[43m    \u001B[49m\u001B[43m)\u001B[49m\u001B[38;5;241;43m.\u001B[39;49m\u001B[43mrun\u001B[49m\u001B[43m(\u001B[49m\u001B[43m)\u001B[49m\n\u001B[1;32m    228\u001B[0m \u001B[38;5;28;01mexcept\u001B[39;00m NoBenchmark:\n\u001B[1;32m    229\u001B[0m     \u001B[38;5;28;01mraise\u001B[39;00m _RunAlgoError(\n\u001B[1;32m    230\u001B[0m         (\n\u001B[1;32m    231\u001B[0m             \u001B[38;5;124m\"\u001B[39m\u001B[38;5;124mNo ``benchmark_spec`` was provided, and\u001B[39m\u001B[38;5;124m\"\u001B[39m\n\u001B[0;32m   (...)\u001B[0m\n\u001B[1;32m    239\u001B[0m         ),\n\u001B[1;32m    240\u001B[0m     )\n",
      "File \u001B[0;32m/opt/homebrew/Caskroom/miniforge/base/envs/env_tf/lib/python3.9/site-packages/zipline/algorithm.py:626\u001B[0m, in \u001B[0;36mTradingAlgorithm.run\u001B[0;34m(self, data_portal)\u001B[0m\n\u001B[1;32m    624\u001B[0m \u001B[38;5;28;01mtry\u001B[39;00m:\n\u001B[1;32m    625\u001B[0m     perfs \u001B[38;5;241m=\u001B[39m []\n\u001B[0;32m--> 626\u001B[0m     \u001B[38;5;28;01mfor\u001B[39;00m perf \u001B[38;5;129;01min\u001B[39;00m \u001B[38;5;28;43mself\u001B[39;49m\u001B[38;5;241;43m.\u001B[39;49m\u001B[43mget_generator\u001B[49m\u001B[43m(\u001B[49m\u001B[43m)\u001B[49m:\n\u001B[1;32m    627\u001B[0m         perfs\u001B[38;5;241m.\u001B[39mappend(perf)\n\u001B[1;32m    629\u001B[0m     \u001B[38;5;66;03m# convert perf dict to pandas dataframe\u001B[39;00m\n",
      "File \u001B[0;32m/opt/homebrew/Caskroom/miniforge/base/envs/env_tf/lib/python3.9/site-packages/zipline/algorithm.py:602\u001B[0m, in \u001B[0;36mTradingAlgorithm.get_generator\u001B[0;34m(self)\u001B[0m\n\u001B[1;32m    597\u001B[0m \u001B[38;5;28;01mdef\u001B[39;00m \u001B[38;5;21mget_generator\u001B[39m(\u001B[38;5;28mself\u001B[39m):\n\u001B[1;32m    598\u001B[0m \u001B[38;5;250m    \u001B[39m\u001B[38;5;124;03m\"\"\"Override this method to add new logic to the construction\u001B[39;00m\n\u001B[1;32m    599\u001B[0m \u001B[38;5;124;03m    of the generator. Overrides can use the _create_generator\u001B[39;00m\n\u001B[1;32m    600\u001B[0m \u001B[38;5;124;03m    method to get a standard construction generator.\u001B[39;00m\n\u001B[1;32m    601\u001B[0m \u001B[38;5;124;03m    \"\"\"\u001B[39;00m\n\u001B[0;32m--> 602\u001B[0m     \u001B[38;5;28;01mreturn\u001B[39;00m \u001B[38;5;28;43mself\u001B[39;49m\u001B[38;5;241;43m.\u001B[39;49m\u001B[43m_create_generator\u001B[49m\u001B[43m(\u001B[49m\u001B[38;5;28;43mself\u001B[39;49m\u001B[38;5;241;43m.\u001B[39;49m\u001B[43msim_params\u001B[49m\u001B[43m)\u001B[49m\n",
      "File \u001B[0;32m/opt/homebrew/Caskroom/miniforge/base/envs/env_tf/lib/python3.9/site-packages/zipline/algorithm.py:574\u001B[0m, in \u001B[0;36mTradingAlgorithm._create_generator\u001B[0;34m(self, sim_params)\u001B[0m\n\u001B[1;32m    571\u001B[0m \u001B[38;5;28mself\u001B[39m\u001B[38;5;241m.\u001B[39mon_dt_changed(\u001B[38;5;28mself\u001B[39m\u001B[38;5;241m.\u001B[39msim_params\u001B[38;5;241m.\u001B[39mstart_session)\n\u001B[1;32m    573\u001B[0m \u001B[38;5;28;01mif\u001B[39;00m \u001B[38;5;129;01mnot\u001B[39;00m \u001B[38;5;28mself\u001B[39m\u001B[38;5;241m.\u001B[39minitialized:\n\u001B[0;32m--> 574\u001B[0m     \u001B[38;5;28;43mself\u001B[39;49m\u001B[38;5;241;43m.\u001B[39;49m\u001B[43minitialize\u001B[49m\u001B[43m(\u001B[49m\u001B[38;5;241;43m*\u001B[39;49m\u001B[38;5;241;43m*\u001B[39;49m\u001B[38;5;28;43mself\u001B[39;49m\u001B[38;5;241;43m.\u001B[39;49m\u001B[43minitialize_kwargs\u001B[49m\u001B[43m)\u001B[49m\n\u001B[1;32m    575\u001B[0m     \u001B[38;5;28mself\u001B[39m\u001B[38;5;241m.\u001B[39minitialized \u001B[38;5;241m=\u001B[39m \u001B[38;5;28;01mTrue\u001B[39;00m\n\u001B[1;32m    577\u001B[0m benchmark_source \u001B[38;5;241m=\u001B[39m \u001B[38;5;28mself\u001B[39m\u001B[38;5;241m.\u001B[39m_create_benchmark_source()\n",
      "File \u001B[0;32m/opt/homebrew/Caskroom/miniforge/base/envs/env_tf/lib/python3.9/site-packages/zipline/algorithm.py:424\u001B[0m, in \u001B[0;36mTradingAlgorithm.initialize\u001B[0;34m(self, *args, **kwargs)\u001B[0m\n\u001B[1;32m    420\u001B[0m \u001B[38;5;250m\u001B[39m\u001B[38;5;124;03m\"\"\"Call self._initialize with `self` made available to Zipline API\u001B[39;00m\n\u001B[1;32m    421\u001B[0m \u001B[38;5;124;03mfunctions.\u001B[39;00m\n\u001B[1;32m    422\u001B[0m \u001B[38;5;124;03m\"\"\"\u001B[39;00m\n\u001B[1;32m    423\u001B[0m \u001B[38;5;28;01mwith\u001B[39;00m ZiplineAPI(\u001B[38;5;28mself\u001B[39m):\n\u001B[0;32m--> 424\u001B[0m     \u001B[38;5;28;43mself\u001B[39;49m\u001B[38;5;241;43m.\u001B[39;49m\u001B[43m_initialize\u001B[49m\u001B[43m(\u001B[49m\u001B[38;5;28;43mself\u001B[39;49m\u001B[43m,\u001B[49m\u001B[43m \u001B[49m\u001B[38;5;241;43m*\u001B[39;49m\u001B[43margs\u001B[49m\u001B[43m,\u001B[49m\u001B[43m \u001B[49m\u001B[38;5;241;43m*\u001B[39;49m\u001B[38;5;241;43m*\u001B[39;49m\u001B[43mkwargs\u001B[49m\u001B[43m)\u001B[49m\n",
      "Cell \u001B[0;32mIn[2], line 3\u001B[0m, in \u001B[0;36minitialize\u001B[0;34m(context)\u001B[0m\n\u001B[1;32m      1\u001B[0m \u001B[38;5;28;01mdef\u001B[39;00m \u001B[38;5;21minitialize\u001B[39m(context):\n\u001B[1;32m      2\u001B[0m     context\u001B[38;5;241m.\u001B[39msymbols \u001B[38;5;241m=\u001B[39m [\n\u001B[0;32m----> 3\u001B[0m         \u001B[43msymbol\u001B[49m\u001B[43m(\u001B[49m\u001B[38;5;124;43m\"\u001B[39;49m\u001B[38;5;124;43mSPY\u001B[39;49m\u001B[38;5;124;43m\"\u001B[39;49m\u001B[43m)\u001B[49m,\n\u001B[1;32m      4\u001B[0m         symbol(\u001B[38;5;124m\"\u001B[39m\u001B[38;5;124mEFA\u001B[39m\u001B[38;5;124m\"\u001B[39m),\n\u001B[1;32m      5\u001B[0m         symbol(\u001B[38;5;124m\"\u001B[39m\u001B[38;5;124mIEF\u001B[39m\u001B[38;5;124m\"\u001B[39m),\n\u001B[1;32m      6\u001B[0m         symbol(\u001B[38;5;124m\"\u001B[39m\u001B[38;5;124mVNQ\u001B[39m\u001B[38;5;124m\"\u001B[39m),\n\u001B[1;32m      7\u001B[0m         symbol(\u001B[38;5;124m\"\u001B[39m\u001B[38;5;124mGSG\u001B[39m\u001B[38;5;124m\"\u001B[39m),\n\u001B[1;32m      8\u001B[0m     ]\n\u001B[1;32m      9\u001B[0m     context\u001B[38;5;241m.\u001B[39msma \u001B[38;5;241m=\u001B[39m {}\n\u001B[1;32m     10\u001B[0m     context\u001B[38;5;241m.\u001B[39mperiod \u001B[38;5;241m=\u001B[39m \u001B[38;5;241m10\u001B[39m \u001B[38;5;241m*\u001B[39m \u001B[38;5;241m21\u001B[39m\n",
      "File \u001B[0;32m/opt/homebrew/Caskroom/miniforge/base/envs/env_tf/lib/python3.9/site-packages/zipline/utils/api_support.py:55\u001B[0m, in \u001B[0;36mapi_method.<locals>.wrapped\u001B[0;34m(*args, **kwargs)\u001B[0m\n\u001B[1;32m     51\u001B[0m \u001B[38;5;28;01mif\u001B[39;00m algo_instance \u001B[38;5;129;01mis\u001B[39;00m \u001B[38;5;28;01mNone\u001B[39;00m:\n\u001B[1;32m     52\u001B[0m     \u001B[38;5;28;01mraise\u001B[39;00m \u001B[38;5;167;01mRuntimeError\u001B[39;00m(\n\u001B[1;32m     53\u001B[0m         \u001B[38;5;124m\"\u001B[39m\u001B[38;5;124mzipline api method \u001B[39m\u001B[38;5;132;01m%s\u001B[39;00m\u001B[38;5;124m must be called during a simulation.\u001B[39m\u001B[38;5;124m\"\u001B[39m \u001B[38;5;241m%\u001B[39m f\u001B[38;5;241m.\u001B[39m\u001B[38;5;18m__name__\u001B[39m\n\u001B[1;32m     54\u001B[0m     )\n\u001B[0;32m---> 55\u001B[0m \u001B[38;5;28;01mreturn\u001B[39;00m \u001B[38;5;28;43mgetattr\u001B[39;49m\u001B[43m(\u001B[49m\u001B[43malgo_instance\u001B[49m\u001B[43m,\u001B[49m\u001B[43m \u001B[49m\u001B[43mf\u001B[49m\u001B[38;5;241;43m.\u001B[39;49m\u001B[38;5;18;43m__name__\u001B[39;49m\u001B[43m)\u001B[49m\u001B[43m(\u001B[49m\u001B[38;5;241;43m*\u001B[39;49m\u001B[43margs\u001B[49m\u001B[43m,\u001B[49m\u001B[43m \u001B[49m\u001B[38;5;241;43m*\u001B[39;49m\u001B[38;5;241;43m*\u001B[39;49m\u001B[43mkwargs\u001B[49m\u001B[43m)\u001B[49m\n",
      "File \u001B[0;32m/opt/homebrew/Caskroom/miniforge/base/envs/env_tf/lib/python3.9/site-packages/zipline/algorithm.py:5\u001B[0m, in \u001B[0;36msymbol\u001B[0;34m(self, symbol_str, country_code)\u001B[0m\n\u001B[1;32m      1\u001B[0m #\n\u001B[1;32m      2\u001B[0m # Copyright 2015 Quantopian, Inc.\n\u001B[1;32m      3\u001B[0m #\n\u001B[1;32m      4\u001B[0m # Licensed under the Apache License, Version 2.0 (the \"License\");\n\u001B[0;32m----> 5\u001B[0m # you may not use this file except in compliance with the License.\n\u001B[1;32m      6\u001B[0m # You may obtain a copy of the License at\n\u001B[1;32m      7\u001B[0m #\n\u001B[1;32m      8\u001B[0m #     http://www.apache.org/licenses/LICENSE-2.0\n\u001B[1;32m      9\u001B[0m #\n\u001B[1;32m     10\u001B[0m # Unless required by applicable law or agreed to in writing, software\n\u001B[1;32m     11\u001B[0m # distributed under the License is distributed on an \"AS IS\" BASIS,\n\u001B[1;32m     12\u001B[0m # WITHOUT WARRANTIES OR CONDITIONS OF ANY KIND, either express or implied.\n\u001B[1;32m     13\u001B[0m # See the License for the specific language governing permissions and\n\u001B[1;32m     14\u001B[0m # limitations under the License.\n\u001B[1;32m     15\u001B[0m from collections.abc import Iterable\n\u001B[1;32m     16\u001B[0m from collections import namedtuple\n",
      "File \u001B[0;32m/opt/homebrew/Caskroom/miniforge/base/envs/env_tf/lib/python3.9/site-packages/zipline/algorithm.py:1070\u001B[0m, in \u001B[0;36mTradingAlgorithm.symbol\u001B[0;34m(self, symbol_str, country_code)\u001B[0m\n\u001B[1;32m   1062\u001B[0m \u001B[38;5;66;03m# If the user has not set the symbol lookup date,\u001B[39;00m\n\u001B[1;32m   1063\u001B[0m \u001B[38;5;66;03m# use the end_session as the date for symbol->sid resolution.\u001B[39;00m\n\u001B[1;32m   1064\u001B[0m _lookup_date \u001B[38;5;241m=\u001B[39m (\n\u001B[1;32m   1065\u001B[0m     \u001B[38;5;28mself\u001B[39m\u001B[38;5;241m.\u001B[39m_symbol_lookup_date\n\u001B[1;32m   1066\u001B[0m     \u001B[38;5;28;01mif\u001B[39;00m \u001B[38;5;28mself\u001B[39m\u001B[38;5;241m.\u001B[39m_symbol_lookup_date \u001B[38;5;129;01mis\u001B[39;00m \u001B[38;5;129;01mnot\u001B[39;00m \u001B[38;5;28;01mNone\u001B[39;00m\n\u001B[1;32m   1067\u001B[0m     \u001B[38;5;28;01melse\u001B[39;00m \u001B[38;5;28mself\u001B[39m\u001B[38;5;241m.\u001B[39msim_params\u001B[38;5;241m.\u001B[39mend_session\n\u001B[1;32m   1068\u001B[0m )\n\u001B[0;32m-> 1070\u001B[0m \u001B[38;5;28;01mreturn\u001B[39;00m \u001B[38;5;28;43mself\u001B[39;49m\u001B[38;5;241;43m.\u001B[39;49m\u001B[43masset_finder\u001B[49m\u001B[38;5;241;43m.\u001B[39;49m\u001B[43mlookup_symbol\u001B[49m\u001B[43m(\u001B[49m\n\u001B[1;32m   1071\u001B[0m \u001B[43m    \u001B[49m\u001B[43msymbol_str\u001B[49m\u001B[43m,\u001B[49m\n\u001B[1;32m   1072\u001B[0m \u001B[43m    \u001B[49m\u001B[43mas_of_date\u001B[49m\u001B[38;5;241;43m=\u001B[39;49m\u001B[43m_lookup_date\u001B[49m\u001B[43m,\u001B[49m\n\u001B[1;32m   1073\u001B[0m \u001B[43m    \u001B[49m\u001B[43mcountry_code\u001B[49m\u001B[38;5;241;43m=\u001B[39;49m\u001B[43mcountry_code\u001B[49m\u001B[43m,\u001B[49m\n\u001B[1;32m   1074\u001B[0m \u001B[43m\u001B[49m\u001B[43m)\u001B[49m\n",
      "File \u001B[0;32m/opt/homebrew/Caskroom/miniforge/base/envs/env_tf/lib/python3.9/site-packages/zipline/assets/assets.py:965\u001B[0m, in \u001B[0;36mAssetFinder.lookup_symbol\u001B[0;34m(self, symbol, as_of_date, fuzzy, country_code)\u001B[0m\n\u001B[1;32m    963\u001B[0m \u001B[38;5;28;01mif\u001B[39;00m mapping \u001B[38;5;129;01mis\u001B[39;00m \u001B[38;5;28;01mNone\u001B[39;00m:\n\u001B[1;32m    964\u001B[0m     \u001B[38;5;28;01mraise\u001B[39;00m SymbolNotFound(symbol\u001B[38;5;241m=\u001B[39msymbol)\n\u001B[0;32m--> 965\u001B[0m \u001B[38;5;28;01mreturn\u001B[39;00m \u001B[43mf\u001B[49m\u001B[43m(\u001B[49m\n\u001B[1;32m    966\u001B[0m \u001B[43m    \u001B[49m\u001B[43mmapping\u001B[49m\u001B[43m,\u001B[49m\n\u001B[1;32m    967\u001B[0m \u001B[43m    \u001B[49m\u001B[43mcountry_code\u001B[49m\u001B[43m \u001B[49m\u001B[38;5;129;43;01mis\u001B[39;49;00m\u001B[43m \u001B[49m\u001B[38;5;28;43;01mNone\u001B[39;49;00m\u001B[43m,\u001B[49m\n\u001B[1;32m    968\u001B[0m \u001B[43m    \u001B[49m\u001B[43msymbol\u001B[49m\u001B[43m,\u001B[49m\n\u001B[1;32m    969\u001B[0m \u001B[43m    \u001B[49m\u001B[43mas_of_date\u001B[49m\u001B[43m,\u001B[49m\n\u001B[1;32m    970\u001B[0m \u001B[43m\u001B[49m\u001B[43m)\u001B[49m\n",
      "File \u001B[0;32m/opt/homebrew/Caskroom/miniforge/base/envs/env_tf/lib/python3.9/site-packages/zipline/assets/assets.py:777\u001B[0m, in \u001B[0;36mAssetFinder._lookup_symbol_strict\u001B[0;34m(self, ownership_map, multi_country, symbol, as_of_date)\u001B[0m\n\u001B[1;32m    774\u001B[0m     \u001B[38;5;28;01massert\u001B[39;00m owners, \u001B[38;5;124m\"\u001B[39m\u001B[38;5;124mempty owners list for \u001B[39m\u001B[38;5;132;01m%r\u001B[39;00m\u001B[38;5;124m\"\u001B[39m \u001B[38;5;241m%\u001B[39m symbol\n\u001B[1;32m    775\u001B[0m \u001B[38;5;28;01mexcept\u001B[39;00m \u001B[38;5;167;01mKeyError\u001B[39;00m \u001B[38;5;28;01mas\u001B[39;00m exc:\n\u001B[1;32m    776\u001B[0m     \u001B[38;5;66;03m# no equity has ever held this symbol\u001B[39;00m\n\u001B[0;32m--> 777\u001B[0m     \u001B[38;5;28;01mraise\u001B[39;00m SymbolNotFound(symbol\u001B[38;5;241m=\u001B[39msymbol) \u001B[38;5;28;01mfrom\u001B[39;00m \u001B[38;5;21;01mexc\u001B[39;00m\n\u001B[1;32m    779\u001B[0m \u001B[38;5;28;01mif\u001B[39;00m \u001B[38;5;129;01mnot\u001B[39;00m as_of_date:\n\u001B[1;32m    780\u001B[0m     \u001B[38;5;66;03m# exactly one equity has ever held this symbol, we may resolve\u001B[39;00m\n\u001B[1;32m    781\u001B[0m     \u001B[38;5;66;03m# without the date\u001B[39;00m\n\u001B[1;32m    782\u001B[0m     \u001B[38;5;28;01mif\u001B[39;00m \u001B[38;5;28mlen\u001B[39m(owners) \u001B[38;5;241m==\u001B[39m \u001B[38;5;241m1\u001B[39m:\n",
      "\u001B[0;31mSymbolNotFound\u001B[0m: Symbol 'SPY' was not found."
     ]
    }
   ],
   "source": [
    "# Run the backtest and analyze the results\n",
    "\n",
    "# Running the backtest is a few lines of code.\n",
    "\n",
    "start = pd.Timestamp(\"2010\")\n",
    "end = pd.Timestamp(\"2023-06-30\")\n",
    "\n",
    "perf = run_algorithm(\n",
    "    start=start,\n",
    "    end=end,\n",
    "    initialize=initialize,\n",
    "    capital_base=100000,\n",
    "    bundle=\"quandl-eod\"\n",
    ")\n",
    "# Call the run_algorithm function with the start date, end date, and name of your initialize function. It takes about a minute to run.\n",
    "\n",
    "# Now the fun part.\n",
    "\n",
    "returns, positions, transactions = \\\n",
    "    pf.utils.extract_rets_pos_txn_from_zipline(perf)\n",
    "\n",
    "\n",
    "pf.create_full_tear_sheet(\n",
    "    returns,\n",
    "    positions=positions,\n",
    "    transactions=transactions,\n",
    "    round_trips=True,\n",
    ")"
   ],
   "metadata": {
    "collapsed": false,
    "ExecuteTime": {
     "end_time": "2023-07-29T13:45:43.035501Z",
     "start_time": "2023-07-29T13:45:42.708839Z"
    }
   },
   "id": "424d0c57e78f04aa"
  },
  {
   "cell_type": "code",
   "execution_count": null,
   "outputs": [],
   "source": [],
   "metadata": {
    "collapsed": false
   },
   "id": "3cd8d48220d0d45c"
  }
 ],
 "metadata": {
  "kernelspec": {
   "display_name": "Python 3",
   "language": "python",
   "name": "python3"
  },
  "language_info": {
   "codemirror_mode": {
    "name": "ipython",
    "version": 2
   },
   "file_extension": ".py",
   "mimetype": "text/x-python",
   "name": "python",
   "nbconvert_exporter": "python",
   "pygments_lexer": "ipython2",
   "version": "2.7.6"
  }
 },
 "nbformat": 4,
 "nbformat_minor": 5
}
