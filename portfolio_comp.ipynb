{
 "cells": [
  {
   "cell_type": "markdown",
   "source": [
    "# Build your own portfolio that makes money in any economy with OpenBB\n",
    "\n",
    "Risk parity is a strategy that uses risk to find the allocations of an investment portfolio. It allocates money to stocks based on a target risk level—usually volatility.\n",
    "\n",
    "In other words, instead of equal dollar weights, risk parity has equal risk weights.\n",
    "\n",
    "The problem with dollar-weighting is not every stock has the same risk. That means if you equally weigh two stocks, but one has higher risk, returns will be dominated by the higher-risk stock. Investors use risk parity to avoid this problem.\n",
    "\n",
    "Risk parity is a strategy that works well in volatile markets."
   ],
   "metadata": {
    "collapsed": false
   }
  },
  {
   "cell_type": "code",
   "execution_count": 2,
   "outputs": [
    {
     "ename": "ModuleNotFoundError",
     "evalue": "No module named 'riskfolio'",
     "output_type": "error",
     "traceback": [
      "\u001B[0;31m---------------------------------------------------------------------------\u001B[0m",
      "\u001B[0;31mModuleNotFoundError\u001B[0m                       Traceback (most recent call last)",
      "Cell \u001B[0;32mIn[2], line 2\u001B[0m\n\u001B[1;32m      1\u001B[0m \u001B[38;5;28;01mfrom\u001B[39;00m \u001B[38;5;21;01mopenbb_terminal\u001B[39;00m\u001B[38;5;21;01m.\u001B[39;00m\u001B[38;5;21;01msdk\u001B[39;00m \u001B[38;5;28;01mimport\u001B[39;00m openbb\n\u001B[0;32m----> 2\u001B[0m \u001B[38;5;28;01mimport\u001B[39;00m \u001B[38;5;21;01mriskfolio\u001B[39;00m \u001B[38;5;28;01mas\u001B[39;00m \u001B[38;5;21;01mrp\u001B[39;00m\n\u001B[1;32m      3\u001B[0m \u001B[38;5;66;03m# Then grab the data.\u001B[39;00m\n\u001B[1;32m      5\u001B[0m new_highs \u001B[38;5;241m=\u001B[39m openbb\u001B[38;5;241m.\u001B[39mstocks\u001B[38;5;241m.\u001B[39mscreener\u001B[38;5;241m.\u001B[39mscreener_data(\u001B[38;5;124m\"\u001B[39m\u001B[38;5;124mnew_high\u001B[39m\u001B[38;5;124m\"\u001B[39m)\n",
      "\u001B[0;31mModuleNotFoundError\u001B[0m: No module named 'riskfolio'"
     ]
    }
   ],
   "source": [
    "from openbb_terminal.sdk import openbb\n",
    "import riskfolio as rp\n",
    "# Then grab the data.\n",
    "\n",
    "new_highs = openbb.stocks.screener.screener_data(\"new_high\")\n",
    "port_data = new_highs[\n",
    "    (new_highs.Price > 15) & (new_highs.Country == \"USA\")\n",
    "]\n",
    "\n",
    "tickers = port_data.Ticker.tolist()\n",
    "data = openbb.economy.index(\n",
    "    tickers,\n",
    "    start_date=\"2016-01-01\",\n",
    "    end_date=\"2022-12-31\"\n",
    ")"
   ],
   "metadata": {
    "collapsed": false,
    "ExecuteTime": {
     "end_time": "2023-06-28T13:47:14.707260Z",
     "start_time": "2023-06-28T13:47:07.087119Z"
    }
   }
  },
  {
   "cell_type": "code",
   "execution_count": null,
   "outputs": [],
   "source": [],
   "metadata": {
    "collapsed": false
   }
  }
 ],
 "metadata": {
  "kernelspec": {
   "display_name": "Python 3",
   "language": "python",
   "name": "python3"
  },
  "language_info": {
   "codemirror_mode": {
    "name": "ipython",
    "version": 2
   },
   "file_extension": ".py",
   "mimetype": "text/x-python",
   "name": "python",
   "nbconvert_exporter": "python",
   "pygments_lexer": "ipython2",
   "version": "2.7.6"
  }
 },
 "nbformat": 4,
 "nbformat_minor": 0
}
