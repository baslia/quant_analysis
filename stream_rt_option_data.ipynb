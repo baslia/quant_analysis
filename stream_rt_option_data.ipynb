{
 "cells": [
  {
   "cell_type": "code",
   "execution_count": 1,
   "id": "initial_id",
   "metadata": {
    "collapsed": true,
    "ExecuteTime": {
     "end_time": "2023-11-30T12:18:03.212853Z",
     "start_time": "2023-11-30T12:18:02.492441Z"
    }
   },
   "outputs": [],
   "source": [
    "# Import and set up\n",
    "from datetime import date\n",
    "import thetadata.client\n",
    "from thetadata import (\n",
    "    Quote,\n",
    "    StreamMsg,\n",
    "    ThetaClient,\n",
    "    OptionRight,\n",
    "    StreamMsgType\n",
    ")\n",
    "from thetadata import StreamResponseType as ResponseType"
   ]
  },
  {
   "cell_type": "code",
   "execution_count": 2,
   "outputs": [],
   "source": [
    "# Create few variables to grab the data\n",
    "last_call_quote = Quote()\n",
    "last_put_quote = Quote()\n",
    "price = 0"
   ],
   "metadata": {
    "collapsed": false,
    "ExecuteTime": {
     "end_time": "2023-11-30T12:19:27.707002Z",
     "start_time": "2023-11-30T12:19:27.685469Z"
    }
   },
   "id": "bb9af770a1d8bfa0"
  },
  {
   "cell_type": "code",
   "execution_count": 3,
   "outputs": [],
   "source": [
    "\n",
    "def callback_straddle(msg):\n",
    "    \n",
    "    if msg.type != StreamMsgType.QUOTE:\n",
    "        return\n",
    "    \n",
    "    global price\n",
    "    if msg.contract.isCall:\n",
    "        last_call_quote.copy_from(msg.quote)\n",
    "    else:\n",
    "        last_put_quote.copy_from(msg.quote)\n",
    "    straddle_bid = round(last_call_quote.bid_price + last_put_quote.bid_price, 2)\n",
    "    straddle_ask = round(last_call_quote.ask_price + last_put_quote.ask_price, 2)\n",
    "    straddle_mid = round((straddle_bid + straddle_ask) / 2, 2)\n",
    "    \n",
    "    time_stamp = thetadata.client.ms_to_time(\n",
    "        msg.quote.ms_of_day\n",
    "    )\n",
    "    if price != straddle_mid:\n",
    "        print(\n",
    "            f\"time: {time_stamp} bid: {straddle_bid} mid: {straddle_mid} ask: {straddle_ask}\"\n",
    "        )\n",
    "        price = straddle_mid"
   ],
   "metadata": {
    "collapsed": false,
    "ExecuteTime": {
     "end_time": "2023-11-30T12:19:48.819238Z",
     "start_time": "2023-11-30T12:19:48.811191Z"
    }
   },
   "id": "b96d244c8195587f"
  },
  {
   "cell_type": "code",
   "execution_count": 4,
   "outputs": [],
   "source": [
    "# Next, connect to ThetaData’s servers, start the stream for the call an put, and check the subscription status.\n",
    "\n",
    "def streaming_straddle():\n",
    "    client = ThetaClient(\n",
    "        username=\"\",\n",
    "        passwd=\"\"\n",
    "    )\n",
    "    client.connect_stream(\n",
    "        callback_straddle\n",
    "    )\n",
    "    \n",
    "    req_id_call = client.req_quote_stream_opt(\n",
    "        \"SPY\", date(2023, 5, 5), 410, OptionRight.CALL\n",
    "    )  # Request quote updates\n",
    "    \n",
    "    req_id_put = client.req_quote_stream_opt(\n",
    "        \"SPY\", date(2023, 5, 5), 410, OptionRight.PUT\n",
    "    )\n",
    "    if (\n",
    "        client.verify(req_id_call) != ResponseType.SUBSCRIBED\n",
    "        or client.verify(req_id_put) != ResponseType.SUBSCRIBED\n",
    "    ):\n",
    "        raise Exception(\n",
    "            \"Unable to stream contract. A standard/PRO subscription required.\"\n",
    "        )\n",
    "\n"
   ],
   "metadata": {
    "collapsed": false,
    "ExecuteTime": {
     "end_time": "2023-11-30T12:20:39.331862Z",
     "start_time": "2023-11-30T12:20:39.328848Z"
    }
   },
   "id": "735c33080bf1db82"
  },
  {
   "cell_type": "code",
   "execution_count": 5,
   "outputs": [
    {
     "name": "stdout",
     "output_type": "stream",
     "text": [
      "If you require API support, feel free to join our discord server! http://discord.thetadata.us\n"
     ]
    },
    {
     "name": "stderr",
     "output_type": "stream",
     "text": [
      "The operation couldn’t be completed. Unable to locate a Java Runtime.\n",
      "Please visit http://www.java.com for information on installing Java.\n",
      "\n"
     ]
    },
    {
     "ename": "ConnectionError",
     "evalue": "Unable to connect to the local Theta Terminal Stream process. Try restarting your system.",
     "output_type": "error",
     "traceback": [
      "\u001B[0;31m---------------------------------------------------------------------------\u001B[0m",
      "\u001B[0;31mConnectionRefusedError\u001B[0m                    Traceback (most recent call last)",
      "File \u001B[0;32m/opt/homebrew/Caskroom/miniforge/base/envs/py312/lib/python3.12/site-packages/thetadata/client.py:378\u001B[0m, in \u001B[0;36mThetaClient.connect_stream\u001B[0;34m(self, callback)\u001B[0m\n\u001B[1;32m    377\u001B[0m \u001B[38;5;28mself\u001B[39m\u001B[38;5;241m.\u001B[39m_stream_server \u001B[38;5;241m=\u001B[39m socket\u001B[38;5;241m.\u001B[39msocket()\n\u001B[0;32m--> 378\u001B[0m \u001B[38;5;28;43mself\u001B[39;49m\u001B[38;5;241;43m.\u001B[39;49m\u001B[43m_stream_server\u001B[49m\u001B[38;5;241;43m.\u001B[39;49m\u001B[43mconnect\u001B[49m\u001B[43m(\u001B[49m\u001B[43m(\u001B[49m\u001B[38;5;28;43mself\u001B[39;49m\u001B[38;5;241;43m.\u001B[39;49m\u001B[43mhost\u001B[49m\u001B[43m,\u001B[49m\u001B[43m \u001B[49m\u001B[38;5;28;43mself\u001B[39;49m\u001B[38;5;241;43m.\u001B[39;49m\u001B[43mstreaming_port\u001B[49m\u001B[43m)\u001B[49m\u001B[43m)\u001B[49m\n\u001B[1;32m    379\u001B[0m \u001B[38;5;28mself\u001B[39m\u001B[38;5;241m.\u001B[39m_stream_server\u001B[38;5;241m.\u001B[39msettimeout(\u001B[38;5;241m1\u001B[39m)\n",
      "\u001B[0;31mConnectionRefusedError\u001B[0m: [Errno 61] Connection refused",
      "\nDuring handling of the above exception, another exception occurred:\n",
      "\u001B[0;31mConnectionError\u001B[0m                           Traceback (most recent call last)",
      "Cell \u001B[0;32mIn[5], line 1\u001B[0m\n\u001B[0;32m----> 1\u001B[0m \u001B[43mstreaming_straddle\u001B[49m\u001B[43m(\u001B[49m\u001B[43m)\u001B[49m\n",
      "Cell \u001B[0;32mIn[4], line 8\u001B[0m, in \u001B[0;36mstreaming_straddle\u001B[0;34m()\u001B[0m\n\u001B[1;32m      3\u001B[0m \u001B[38;5;28;01mdef\u001B[39;00m \u001B[38;5;21mstreaming_straddle\u001B[39m():\n\u001B[1;32m      4\u001B[0m     client \u001B[38;5;241m=\u001B[39m ThetaClient(\n\u001B[1;32m      5\u001B[0m         username\u001B[38;5;241m=\u001B[39m\u001B[38;5;124m\"\u001B[39m\u001B[38;5;124m\"\u001B[39m,\n\u001B[1;32m      6\u001B[0m         passwd\u001B[38;5;241m=\u001B[39m\u001B[38;5;124m\"\u001B[39m\u001B[38;5;124m\"\u001B[39m\n\u001B[1;32m      7\u001B[0m     )\n\u001B[0;32m----> 8\u001B[0m     \u001B[43mclient\u001B[49m\u001B[38;5;241;43m.\u001B[39;49m\u001B[43mconnect_stream\u001B[49m\u001B[43m(\u001B[49m\n\u001B[1;32m      9\u001B[0m \u001B[43m        \u001B[49m\u001B[43mcallback_straddle\u001B[49m\n\u001B[1;32m     10\u001B[0m \u001B[43m    \u001B[49m\u001B[43m)\u001B[49m\n\u001B[1;32m     12\u001B[0m     req_id_call \u001B[38;5;241m=\u001B[39m client\u001B[38;5;241m.\u001B[39mreq_quote_stream_opt(\n\u001B[1;32m     13\u001B[0m         \u001B[38;5;124m\"\u001B[39m\u001B[38;5;124mSPY\u001B[39m\u001B[38;5;124m\"\u001B[39m, date(\u001B[38;5;241m2023\u001B[39m, \u001B[38;5;241m5\u001B[39m, \u001B[38;5;241m5\u001B[39m), \u001B[38;5;241m410\u001B[39m, OptionRight\u001B[38;5;241m.\u001B[39mCALL\n\u001B[1;32m     14\u001B[0m     )  \u001B[38;5;66;03m# Request quote updates\u001B[39;00m\n\u001B[1;32m     16\u001B[0m     req_id_put \u001B[38;5;241m=\u001B[39m client\u001B[38;5;241m.\u001B[39mreq_quote_stream_opt(\n\u001B[1;32m     17\u001B[0m         \u001B[38;5;124m\"\u001B[39m\u001B[38;5;124mSPY\u001B[39m\u001B[38;5;124m\"\u001B[39m, date(\u001B[38;5;241m2023\u001B[39m, \u001B[38;5;241m5\u001B[39m, \u001B[38;5;241m5\u001B[39m), \u001B[38;5;241m410\u001B[39m, OptionRight\u001B[38;5;241m.\u001B[39mPUT\n\u001B[1;32m     18\u001B[0m     )\n",
      "File \u001B[0;32m/opt/homebrew/Caskroom/miniforge/base/envs/py312/lib/python3.12/site-packages/thetadata/client.py:383\u001B[0m, in \u001B[0;36mThetaClient.connect_stream\u001B[0;34m(self, callback)\u001B[0m\n\u001B[1;32m    381\u001B[0m     \u001B[38;5;28;01mexcept\u001B[39;00m \u001B[38;5;167;01mConnectionError\u001B[39;00m:\n\u001B[1;32m    382\u001B[0m         \u001B[38;5;28;01mif\u001B[39;00m i \u001B[38;5;241m==\u001B[39m \u001B[38;5;241m14\u001B[39m:\n\u001B[0;32m--> 383\u001B[0m             \u001B[38;5;28;01mraise\u001B[39;00m \u001B[38;5;167;01mConnectionError\u001B[39;00m(\u001B[38;5;124m'\u001B[39m\u001B[38;5;124mUnable to connect to the local Theta Terminal Stream process. \u001B[39m\u001B[38;5;124m'\u001B[39m\n\u001B[1;32m    384\u001B[0m                                   \u001B[38;5;124m'\u001B[39m\u001B[38;5;124mTry restarting your system.\u001B[39m\u001B[38;5;124m'\u001B[39m)\n\u001B[1;32m    385\u001B[0m         sleep(\u001B[38;5;241m1\u001B[39m)\n\u001B[1;32m    386\u001B[0m \u001B[38;5;28mself\u001B[39m\u001B[38;5;241m.\u001B[39m_stream_server\u001B[38;5;241m.\u001B[39msettimeout(\u001B[38;5;241m10\u001B[39m)\n",
      "\u001B[0;31mConnectionError\u001B[0m: Unable to connect to the local Theta Terminal Stream process. Try restarting your system."
     ]
    }
   ],
   "source": [
    "streaming_straddle()"
   ],
   "metadata": {
    "collapsed": false,
    "ExecuteTime": {
     "end_time": "2023-11-30T12:20:56.876112Z",
     "start_time": "2023-11-30T12:20:40.687777Z"
    }
   },
   "id": "f2e40148c103615e"
  },
  {
   "cell_type": "code",
   "execution_count": null,
   "outputs": [],
   "source": [],
   "metadata": {
    "collapsed": false
   },
   "id": "aad4f024265a9808"
  }
 ],
 "metadata": {
  "kernelspec": {
   "display_name": "Python 3",
   "language": "python",
   "name": "python3"
  },
  "language_info": {
   "codemirror_mode": {
    "name": "ipython",
    "version": 2
   },
   "file_extension": ".py",
   "mimetype": "text/x-python",
   "name": "python",
   "nbconvert_exporter": "python",
   "pygments_lexer": "ipython2",
   "version": "2.7.6"
  }
 },
 "nbformat": 4,
 "nbformat_minor": 5
}
