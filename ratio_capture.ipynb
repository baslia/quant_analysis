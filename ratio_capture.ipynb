{
 "cells": [
  {
   "cell_type": "markdown",
   "source": [
    "# How to use capture ratios to improve investment performance\n",
    "\n",
    "The up-market capture ratio is a way to evaluate how well an investment performs when the market is rising. It compares the performance against a benchmark during bull markets.\n",
    "\n",
    "The ratio is calculated by dividing the investment’s returns by the returns of the benchmark during a bull market.\n",
    "\n",
    "The higher the up-market capture ratio, the better the performance during positive market conditions.\n",
    "\n",
    "If you’re a systematic trader, you can use the ratio to determine if your strategy performs well during bull markets or whether it may be better suited to other market regimes."
   ],
   "metadata": {
    "collapsed": false
   },
   "id": "e02e97e31bcf82d6"
  },
  {
   "cell_type": "code",
   "execution_count": 1,
   "outputs": [
    {
     "data": {
      "text/plain": "\u001B[33mForecasting Toolkit is disabled. To use the Forecasting features please install the toolkit following the instructions here: https://docs.openbb.co/sdk/quickstart/installation/\u001B[0m\n\n",
      "text/html": "<pre style=\"white-space:pre;overflow-x:auto;line-height:normal;font-family:Menlo,'DejaVu Sans Mono',consolas,'Courier New',monospace\"><span style=\"color: #808000; text-decoration-color: #808000\">Forecasting Toolkit is disabled. To use the Forecasting features please install the toolkit following the instructions here: https://docs.openbb.co/sdk/quickstart/installation/</span>\n\n</pre>\n"
     },
     "metadata": {},
     "output_type": "display_data"
    },
    {
     "data": {
      "text/plain": "\u001B[33mPortfolio Optimization Toolkit is disabled. To use the Optimization features please install the toolkit following the instructions here: https://docs.openbb.co/sdk/quickstart/installation/\u001B[0m\n\n",
      "text/html": "<pre style=\"white-space:pre;overflow-x:auto;line-height:normal;font-family:Menlo,'DejaVu Sans Mono',consolas,'Courier New',monospace\"><span style=\"color: #808000; text-decoration-color: #808000\">Portfolio Optimization Toolkit is disabled. To use the Optimization features please install the toolkit following the instructions here: https://docs.openbb.co/sdk/quickstart/installation/</span>\n\n</pre>\n"
     },
     "metadata": {},
     "output_type": "display_data"
    }
   ],
   "source": [
    "# Imports and set up\n",
    "from openbb_terminal.sdk import openbb\n",
    "\n",
    "prices = openbb.economy.index(\n",
    "    [\"AAPL\", \"WMT\", \"SPY\"], \n",
    "    start_date=\"2020-01-01\"\n",
    ")\n",
    "\n",
    "returns = prices.pct_change().dropna()\n",
    "\n",
    "data = returns.assign(\n",
    "    port=returns[[\"AAPL\", \"WMT\"]].sum(axis=1)\n",
    ")[[\"SPY\", \"port\"]]"
   ],
   "metadata": {
    "collapsed": false,
    "ExecuteTime": {
     "end_time": "2023-08-13T13:36:22.381065Z",
     "start_time": "2023-08-13T13:36:16.040900Z"
    }
   },
   "id": "9a0be37c59c7f8e7"
  },
  {
   "cell_type": "markdown",
   "source": [
    "# Compute the upside capture ratio\n",
    "\n",
    "There are two steps to computing the ratio. In the first step, we build a function to compute the annual return."
   ],
   "metadata": {
    "collapsed": false
   },
   "id": "b4ae1b95dd337088"
  },
  {
   "cell_type": "code",
   "execution_count": 2,
   "outputs": [],
   "source": [
    "def annual_return(returns):\n",
    "    num_years = len(returns) / 252\n",
    "    return (returns + 1).prod() ** (1 / num_years) - 1"
   ],
   "metadata": {
    "collapsed": false,
    "ExecuteTime": {
     "end_time": "2023-08-13T13:36:51.227400Z",
     "start_time": "2023-08-13T13:36:51.222950Z"
    }
   },
   "id": "e9d01d8779dcd107"
  },
  {
   "cell_type": "markdown",
   "source": [
    "The code divides the number of returns by 252 to get the number of years. The function then computes the cumulative product of the daily returns to get the cumulative return, raises it to the power of the inverse of the number of years, and subtracts 1 to provide the annualized return.\n",
    "\n",
    "In the second we build a function to compute the upside capture."
   ],
   "metadata": {
    "collapsed": false
   },
   "id": "e96e59f30d6cfd90"
  },
  {
   "cell_type": "code",
   "execution_count": 3,
   "outputs": [],
   "source": [
    "def upside_capture(port_returns, bench_returns):\n",
    "    mask = bench_returns > 0\n",
    "    port_returns = port_returns[mask]\n",
    "    bench_returns = bench_returns[mask]\n",
    "\n",
    "    return (\n",
    "        annual_return(port_returns) \n",
    "        / annual_return(bench_returns)\n",
    "    )"
   ],
   "metadata": {
    "collapsed": false,
    "ExecuteTime": {
     "end_time": "2023-08-13T13:37:03.377445Z",
     "start_time": "2023-08-13T13:37:03.369481Z"
    }
   },
   "id": "b26ba63bf69dca5e"
  },
  {
   "cell_type": "markdown",
   "source": [
    "The ratio is calculated by dividing the investment’s returns by the returns of the benchmark during a rising market. The first step is to find where the benchmark is rising which is done by masking the returns when they are not positive.\n",
    "\n",
    "Then to compute the up-market capture ratio, divide the annual returns of the positive portfolio returns by the annual return of the positive benchmark returns.\n",
    "\n",
    "A positive up-market capture ratio indicates this portfolio outperforms the benchmark during bull markets."
   ],
   "metadata": {
    "collapsed": false
   },
   "id": "8e7bdb9b3b9b98d8"
  },
  {
   "cell_type": "code",
   "execution_count": 6,
   "outputs": [
    {
     "data": {
      "text/plain": "                 SPY      port\nDate                          \n2020-01-03 -0.007572 -0.018550\n2020-01-06  0.003815  0.005932\n2020-01-07 -0.002812 -0.013968\n2020-01-08  0.005329  0.012655\n2020-01-09  0.006781  0.031571\n...              ...       ...\n2023-08-07  0.008729 -0.003675\n2023-08-08 -0.004349  0.006309\n2023-08-09 -0.006685 -0.007336\n2023-08-10  0.000359 -0.001734\n2023-08-11 -0.000583  0.006203\n\n[908 rows x 2 columns]",
      "text/html": "<div>\n<style scoped>\n    .dataframe tbody tr th:only-of-type {\n        vertical-align: middle;\n    }\n\n    .dataframe tbody tr th {\n        vertical-align: top;\n    }\n\n    .dataframe thead th {\n        text-align: right;\n    }\n</style>\n<table border=\"1\" class=\"dataframe\">\n  <thead>\n    <tr style=\"text-align: right;\">\n      <th></th>\n      <th>SPY</th>\n      <th>port</th>\n    </tr>\n    <tr>\n      <th>Date</th>\n      <th></th>\n      <th></th>\n    </tr>\n  </thead>\n  <tbody>\n    <tr>\n      <th>2020-01-03</th>\n      <td>-0.007572</td>\n      <td>-0.018550</td>\n    </tr>\n    <tr>\n      <th>2020-01-06</th>\n      <td>0.003815</td>\n      <td>0.005932</td>\n    </tr>\n    <tr>\n      <th>2020-01-07</th>\n      <td>-0.002812</td>\n      <td>-0.013968</td>\n    </tr>\n    <tr>\n      <th>2020-01-08</th>\n      <td>0.005329</td>\n      <td>0.012655</td>\n    </tr>\n    <tr>\n      <th>2020-01-09</th>\n      <td>0.006781</td>\n      <td>0.031571</td>\n    </tr>\n    <tr>\n      <th>...</th>\n      <td>...</td>\n      <td>...</td>\n    </tr>\n    <tr>\n      <th>2023-08-07</th>\n      <td>0.008729</td>\n      <td>-0.003675</td>\n    </tr>\n    <tr>\n      <th>2023-08-08</th>\n      <td>-0.004349</td>\n      <td>0.006309</td>\n    </tr>\n    <tr>\n      <th>2023-08-09</th>\n      <td>-0.006685</td>\n      <td>-0.007336</td>\n    </tr>\n    <tr>\n      <th>2023-08-10</th>\n      <td>0.000359</td>\n      <td>-0.001734</td>\n    </tr>\n    <tr>\n      <th>2023-08-11</th>\n      <td>-0.000583</td>\n      <td>0.006203</td>\n    </tr>\n  </tbody>\n</table>\n<p>908 rows × 2 columns</p>\n</div>"
     },
     "execution_count": 6,
     "metadata": {},
     "output_type": "execute_result"
    }
   ],
   "source": [
    "data"
   ],
   "metadata": {
    "collapsed": false,
    "ExecuteTime": {
     "end_time": "2023-08-13T13:40:43.063136Z",
     "start_time": "2023-08-13T13:40:43.051906Z"
    }
   },
   "id": "ddc7c312ce249240"
  },
  {
   "cell_type": "code",
   "execution_count": 5,
   "outputs": [
    {
     "data": {
      "text/plain": "6.768824259737526"
     },
     "execution_count": 5,
     "metadata": {},
     "output_type": "execute_result"
    }
   ],
   "source": [
    "upside_capture(data[\"port\"], data[\"SPY\"])"
   ],
   "metadata": {
    "collapsed": false,
    "ExecuteTime": {
     "end_time": "2023-08-13T13:38:41.852170Z",
     "start_time": "2023-08-13T13:38:41.834580Z"
    }
   },
   "id": "5c2740c7c1df695d"
  },
  {
   "cell_type": "code",
   "execution_count": null,
   "outputs": [],
   "source": [],
   "metadata": {
    "collapsed": false
   },
   "id": "bcbd531ed1b4a72f"
  }
 ],
 "metadata": {
  "kernelspec": {
   "display_name": "Python 3",
   "language": "python",
   "name": "python3"
  },
  "language_info": {
   "codemirror_mode": {
    "name": "ipython",
    "version": 2
   },
   "file_extension": ".py",
   "mimetype": "text/x-python",
   "name": "python",
   "nbconvert_exporter": "python",
   "pygments_lexer": "ipython2",
   "version": "2.7.6"
  }
 },
 "nbformat": 4,
 "nbformat_minor": 5
}
