{
 "cells": [
  {
   "cell_type": "markdown",
   "source": [
    "# 3 ways to clearly measure your investment skill (like a professional)\n",
    "\n",
    "The batting average measures how often an investment manager beats a specific index, like the S&P 500 or Nasdaq.\n",
    "\n",
    "This index is used as a benchmark that helps evaluate the manager's performance. A higher batting average means the manager often meets or surpasses the benchmark.\n",
    "\n",
    "This is a sign of good performance. It means the manager is consistently able to outperform their benchmark.\n",
    "\n",
    "We can use the batting average to measure your own investment performance against a chosen benchmark. Doing this will help determine if you’re better of just investing in the underlying index.\n",
    "\n",
    "We can use batting average like the professionals with Python."
   ],
   "metadata": {
    "collapsed": false
   },
   "id": "1cc47ee5c73ac9f5"
  },
  {
   "cell_type": "code",
   "execution_count": 1,
   "outputs": [
    {
     "data": {
      "text/plain": "\u001B[33mForecasting Toolkit is disabled. To use the Forecasting features please install the toolkit following the instructions here: https://docs.openbb.co/sdk/quickstart/installation/\u001B[0m\n\n",
      "text/html": "<pre style=\"white-space:pre;overflow-x:auto;line-height:normal;font-family:Menlo,'DejaVu Sans Mono',consolas,'Courier New',monospace\"><span style=\"color: #808000; text-decoration-color: #808000\">Forecasting Toolkit is disabled. To use the Forecasting features please install the toolkit following the instructions here: https://docs.openbb.co/sdk/quickstart/installation/</span>\n\n</pre>\n"
     },
     "metadata": {},
     "output_type": "display_data"
    },
    {
     "data": {
      "text/plain": "\u001B[33mPortfolio Optimization Toolkit is disabled. To use the Optimization features please install the toolkit following the instructions here: https://docs.openbb.co/sdk/quickstart/installation/\u001B[0m\n\n",
      "text/html": "<pre style=\"white-space:pre;overflow-x:auto;line-height:normal;font-family:Menlo,'DejaVu Sans Mono',consolas,'Courier New',monospace\"><span style=\"color: #808000; text-decoration-color: #808000\">Portfolio Optimization Toolkit is disabled. To use the Optimization features please install the toolkit following the instructions here: https://docs.openbb.co/sdk/quickstart/installation/</span>\n\n</pre>\n"
     },
     "metadata": {},
     "output_type": "display_data"
    }
   ],
   "source": [
    "# Imports and set up\n",
    "\n",
    "# First, import the tools we’ll need including NumPy, pandas, and the OpenBB SDK.\n",
    "\n",
    "import numpy as np\n",
    "import pandas as pd\n",
    "from openbb_terminal.sdk import openbb"
   ],
   "metadata": {
    "collapsed": false,
    "ExecuteTime": {
     "end_time": "2023-08-29T13:33:49.086912Z",
     "start_time": "2023-08-29T13:33:43.568439Z"
    }
   },
   "id": "3b21ebfe35566a8f"
  },
  {
   "cell_type": "code",
   "execution_count": 2,
   "outputs": [],
   "source": [
    "# Now, download price data and compute returns.\n",
    "\n",
    "prices = openbb.economy.index([\n",
    "    \"META\", \n",
    "    \"AAPL\", \n",
    "    \"AMZN\", \n",
    "    \"NFLX\", \n",
    "    \"GOOG\", \n",
    "    \"QQQ\"\n",
    "])\n",
    "\n",
    "returns = prices.pct_change().dropna()\n",
    "bench_returns = returns.pop(\"QQQ\")\n",
    "port_returns = (returns * 0.2).sum(axis=1)"
   ],
   "metadata": {
    "collapsed": false,
    "ExecuteTime": {
     "end_time": "2023-08-29T13:33:56.741543Z",
     "start_time": "2023-08-29T13:33:54.862398Z"
    }
   },
   "id": "cb6304de8a16f523"
  },
  {
   "cell_type": "code",
   "execution_count": 5,
   "outputs": [
    {
     "data": {
      "text/plain": "                META      AAPL      AMZN      NFLX      GOOG\nDate                                                        \n2012-05-21 -0.109861  0.058260  0.019921  0.025443  0.022835\n2012-05-22 -0.089039 -0.007679 -0.012746 -0.056175 -0.021674\n2012-05-23  0.032258  0.024400  0.009056  0.062029  0.014414\n2012-05-24  0.032187 -0.009184 -0.009389 -0.022806 -0.009517\n2012-05-25 -0.033909 -0.005360 -0.010918 -0.000711 -0.020094",
      "text/html": "<div>\n<style scoped>\n    .dataframe tbody tr th:only-of-type {\n        vertical-align: middle;\n    }\n\n    .dataframe tbody tr th {\n        vertical-align: top;\n    }\n\n    .dataframe thead th {\n        text-align: right;\n    }\n</style>\n<table border=\"1\" class=\"dataframe\">\n  <thead>\n    <tr style=\"text-align: right;\">\n      <th></th>\n      <th>META</th>\n      <th>AAPL</th>\n      <th>AMZN</th>\n      <th>NFLX</th>\n      <th>GOOG</th>\n    </tr>\n    <tr>\n      <th>Date</th>\n      <th></th>\n      <th></th>\n      <th></th>\n      <th></th>\n      <th></th>\n    </tr>\n  </thead>\n  <tbody>\n    <tr>\n      <th>2012-05-21</th>\n      <td>-0.109861</td>\n      <td>0.058260</td>\n      <td>0.019921</td>\n      <td>0.025443</td>\n      <td>0.022835</td>\n    </tr>\n    <tr>\n      <th>2012-05-22</th>\n      <td>-0.089039</td>\n      <td>-0.007679</td>\n      <td>-0.012746</td>\n      <td>-0.056175</td>\n      <td>-0.021674</td>\n    </tr>\n    <tr>\n      <th>2012-05-23</th>\n      <td>0.032258</td>\n      <td>0.024400</td>\n      <td>0.009056</td>\n      <td>0.062029</td>\n      <td>0.014414</td>\n    </tr>\n    <tr>\n      <th>2012-05-24</th>\n      <td>0.032187</td>\n      <td>-0.009184</td>\n      <td>-0.009389</td>\n      <td>-0.022806</td>\n      <td>-0.009517</td>\n    </tr>\n    <tr>\n      <th>2012-05-25</th>\n      <td>-0.033909</td>\n      <td>-0.005360</td>\n      <td>-0.010918</td>\n      <td>-0.000711</td>\n      <td>-0.020094</td>\n    </tr>\n  </tbody>\n</table>\n</div>"
     },
     "execution_count": 5,
     "metadata": {},
     "output_type": "execute_result"
    }
   ],
   "source": [
    "returns.head()"
   ],
   "metadata": {
    "collapsed": false,
    "ExecuteTime": {
     "end_time": "2023-08-29T13:35:48.778641Z",
     "start_time": "2023-08-29T13:35:48.771592Z"
    }
   },
   "id": "b49e66a76b434ed3"
  },
  {
   "cell_type": "code",
   "execution_count": 3,
   "outputs": [],
   "source": [
    "# Compute the batting average\n",
    "\n",
    "# Create a function that computes the batting average. We’ll walk through the code next.\n",
    "\n",
    "def batting_average(port_returns, bench_returns):\n",
    "    results = dict(\n",
    "        {\n",
    "            \"batting average\": np.nan,\n",
    "            \"up market\": np.nan,\n",
    "            \"down market\": np.nan,\n",
    "        }\n",
    "    )\n",
    "    active_returns = port_returns - bench_returns\n",
    "    ba = active_returns > 0\n",
    "    up = active_returns[bench_returns >= 0.0] > 0\n",
    "    down = active_returns[bench_returns < 0.0] > 0\n",
    "\n",
    "    if len(ba) > 0:\n",
    "        results[\"batting average\"] = ba.mean()\n",
    "    if len(up) > 0:\n",
    "        results[\"up market\"] = up.mean()\n",
    "    if len(down) > 0:\n",
    "        results[\"down market\"] = down.mean()\n",
    "\n",
    "    return pd.Series(results, index=results.keys())"
   ],
   "metadata": {
    "collapsed": false,
    "ExecuteTime": {
     "end_time": "2023-08-29T13:34:30.544211Z",
     "start_time": "2023-08-29T13:34:30.537080Z"
    }
   },
   "id": "fd5451473ed4d2df"
  },
  {
   "cell_type": "code",
   "execution_count": 4,
   "outputs": [
    {
     "data": {
      "text/plain": "batting average    0.506168\nup market          0.560807\ndown market        0.436800\ndtype: float64"
     },
     "execution_count": 4,
     "metadata": {},
     "output_type": "execute_result"
    }
   ],
   "source": [
    "batting_average(port_returns, bench_returns)"
   ],
   "metadata": {
    "collapsed": false,
    "ExecuteTime": {
     "end_time": "2023-08-29T13:35:13.882390Z",
     "start_time": "2023-08-29T13:35:13.871198Z"
    }
   },
   "id": "de726c70a1915485"
  },
  {
   "cell_type": "markdown",
   "source": [
    "# Interpret the results\n",
    "\n",
    "In this example, the batting average is 50.5%. When the benchmark is up, the batting average raises to 56% and when it’s down it falls to 43.7%.\n",
    "\n",
    "This means the portfolio just meets the minimum threshold of a successful strategy.\n",
    "\n",
    "Investment managers are paid to outperform the benchmark. The batting average is a great way to determine if their strategy is worth the expense.\n",
    "\n",
    "For individual investors, active portfolio management comes with risk and opportunity cost. If you were trading this portfolio, you might consider investing in the benchmark instead."
   ],
   "metadata": {
    "collapsed": false
   },
   "id": "90703e6f57c1f6a8"
  },
  {
   "cell_type": "code",
   "execution_count": null,
   "outputs": [],
   "source": [],
   "metadata": {
    "collapsed": false
   },
   "id": "769aa4985ca2dfd0"
  }
 ],
 "metadata": {
  "kernelspec": {
   "display_name": "Python 3",
   "language": "python",
   "name": "python3"
  },
  "language_info": {
   "codemirror_mode": {
    "name": "ipython",
    "version": 2
   },
   "file_extension": ".py",
   "mimetype": "text/x-python",
   "name": "python",
   "nbconvert_exporter": "python",
   "pygments_lexer": "ipython2",
   "version": "2.7.6"
  }
 },
 "nbformat": 4,
 "nbformat_minor": 5
}
