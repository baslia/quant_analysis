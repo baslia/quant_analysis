{
 "cells": [
  {
   "cell_type": "markdown",
   "source": [
    "# How bad is inflation eating your returns?\n",
    "\n",
    "This example will show you how to easily integrate asset price data from a stock data provider and information about inflation from the Federal Reserve Economic Data (FRED) through the OpenBB Platform.\n",
    "\n",
    "With OpenBB Platform, fetching and harmonizing data from multiple sources has never been easier.\n",
    "\n",
    "We'll use OpenBB's Python API to pull the price for an asset from a data provider. Then, we'll obtain CPI growth information, and using this data, we'll calculate the inflation-adjusted returns on an asset.\n",
    "\n",
    "Here's what we'll use:\n",
    "\n",
    "• Asset: ADRs of BMW Group, the legendary German automaker with symbol: BMWYY.\n",
    "\n",
    "• Provider: Financial Modelling Prep, a financial market data provider\n",
    "\n",
    "Provider: FRED, the Federal Reserve Economic Data"
   ],
   "metadata": {
    "collapsed": false
   },
   "id": "302f1196c8c23a24"
  },
  {
   "cell_type": "code",
   "execution_count": 1,
   "outputs": [
    {
     "ename": "ModuleNotFoundError",
     "evalue": "No module named 'openbb'",
     "output_type": "error",
     "traceback": [
      "\u001B[0;31m---------------------------------------------------------------------------\u001B[0m",
      "\u001B[0;31mModuleNotFoundError\u001B[0m                       Traceback (most recent call last)",
      "Cell \u001B[0;32mIn [1], line 2\u001B[0m\n\u001B[1;32m      1\u001B[0m \u001B[38;5;66;03m# Import the OpenBB Python API\u001B[39;00m\n\u001B[0;32m----> 2\u001B[0m \u001B[38;5;28;01mfrom\u001B[39;00m \u001B[38;5;21;01mopenbb\u001B[39;00m \u001B[38;5;28;01mimport\u001B[39;00m obb\n",
      "\u001B[0;31mModuleNotFoundError\u001B[0m: No module named 'openbb'"
     ]
    }
   ],
   "source": [
    "# Import the OpenBB Python API\n",
    "from openbb import obb"
   ],
   "metadata": {
    "collapsed": false,
    "ExecuteTime": {
     "end_time": "2023-09-24T02:18:18.603242Z",
     "start_time": "2023-09-24T02:18:18.526294Z"
    }
   },
   "id": "eaa13c4fd8658b8d"
  },
  {
   "cell_type": "code",
   "execution_count": null,
   "outputs": [],
   "source": [],
   "metadata": {
    "collapsed": false
   },
   "id": "8d13183a13188a62"
  }
 ],
 "metadata": {
  "kernelspec": {
   "display_name": "Python 3",
   "language": "python",
   "name": "python3"
  },
  "language_info": {
   "codemirror_mode": {
    "name": "ipython",
    "version": 2
   },
   "file_extension": ".py",
   "mimetype": "text/x-python",
   "name": "python",
   "nbconvert_exporter": "python",
   "pygments_lexer": "ipython2",
   "version": "2.7.6"
  }
 },
 "nbformat": 4,
 "nbformat_minor": 5
}
