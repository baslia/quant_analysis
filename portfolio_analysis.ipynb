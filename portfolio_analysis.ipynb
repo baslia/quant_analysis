{
 "cells": [
  {
   "cell_type": "markdown",
   "source": [
    "# How an old Nintendo baddie boosts portfolio analysis\n",
    "\n",
    "K-medoids is similar to k-means except k-means clusters data by assigning points to the nearest mean of a cluster, while k-medoids assigns points to the nearest actual data point. The data point is designated as the \"medoid\" of a cluster.\n",
    "\n",
    "In the context of clustering portfolio returns and volatility, k-medoids is more robust to outliers, since it uses actual portfolio feature values as cluster centers, whereas k-means can be influenced by extreme returns or volatilities. In the case of a portfolio of high-volatility tech stocks, this can be a problem.\n",
    "\n",
    "By understanding k-medoids and how it's used in practice, you can make more informed decisions about your investments."
   ],
   "metadata": {
    "collapsed": false
   },
   "id": "b49cf2b6c4a62e2f"
  },
  {
   "cell_type": "markdown",
   "source": [
    "## Imports and set up\n",
    "\n",
    "We’ll use the scikit-learn-extra module to run the k-medoids analysis. scikit-learn-extra is a module for machine learning that extends scikit-learn. It includes algorithms that are useful but do not satisfy the scikit-learn inclusion criteria."
   ],
   "metadata": {
    "collapsed": false
   },
   "id": "ffcadb112522c5ac"
  },
  {
   "cell_type": "code",
   "execution_count": 1,
   "outputs": [
    {
     "ename": "ImportError",
     "evalue": "dlopen(/opt/homebrew/Caskroom/miniforge/base/envs/py310/lib/python3.10/site-packages/sklearn_extra/cluster/_commonnn_inner.cpython-310-darwin.so, 0x0002): Library not loaded: @rpath/libc++.1.dylib\n  Referenced from: <7838AB7C-2259-35E3-BF7F-565711DC66AF> /opt/homebrew/Caskroom/miniforge/base/envs/py310/lib/python3.10/site-packages/sklearn_extra/cluster/_commonnn_inner.cpython-310-darwin.so\n  Reason: tried: '/opt/homebrew/Caskroom/miniforge/base/envs/py310/lib/libc++.1.dylib' (no such file), '/System/Volumes/Preboot/Cryptexes/OS/opt/homebrew/Caskroom/miniforge/base/envs/py310/lib/libc++.1.dylib' (no such file), '/opt/homebrew/Caskroom/miniforge/base/envs/py310/lib/libc++.1.dylib' (no such file), '/System/Volumes/Preboot/Cryptexes/OS/opt/homebrew/Caskroom/miniforge/base/envs/py310/lib/libc++.1.dylib' (no such file), '/opt/homebrew/Caskroom/miniforge/base/envs/py310/bin/../lib/libc++.1.dylib' (no such file), '/opt/homebrew/Caskroom/miniforge/base/envs/py310/bin/../lib/libc++.1.dylib' (no such file)",
     "output_type": "error",
     "traceback": [
      "\u001B[0;31m---------------------------------------------------------------------------\u001B[0m",
      "\u001B[0;31mImportError\u001B[0m                               Traceback (most recent call last)",
      "Cell \u001B[0;32mIn[1], line 3\u001B[0m\n\u001B[1;32m      1\u001B[0m \u001B[38;5;28;01mimport\u001B[39;00m \u001B[38;5;21;01mnumpy\u001B[39;00m \u001B[38;5;28;01mas\u001B[39;00m \u001B[38;5;21;01mnp\u001B[39;00m\n\u001B[1;32m      2\u001B[0m \u001B[38;5;28;01mimport\u001B[39;00m \u001B[38;5;21;01mpandas\u001B[39;00m \u001B[38;5;28;01mas\u001B[39;00m \u001B[38;5;21;01mpd\u001B[39;00m\n\u001B[0;32m----> 3\u001B[0m \u001B[38;5;28;01mfrom\u001B[39;00m \u001B[38;5;21;01msklearn_extra\u001B[39;00m\u001B[38;5;21;01m.\u001B[39;00m\u001B[38;5;21;01mcluster\u001B[39;00m \u001B[38;5;28;01mimport\u001B[39;00m KMedoids\n\u001B[1;32m      4\u001B[0m \u001B[38;5;28;01mimport\u001B[39;00m \u001B[38;5;21;01mmatplotlib\u001B[39;00m\u001B[38;5;21;01m.\u001B[39;00m\u001B[38;5;21;01mpyplot\u001B[39;00m \u001B[38;5;28;01mas\u001B[39;00m \u001B[38;5;21;01mplt\u001B[39;00m\n\u001B[1;32m      5\u001B[0m \u001B[38;5;28;01mfrom\u001B[39;00m \u001B[38;5;21;01mopenbb_terminal\u001B[39;00m\u001B[38;5;21;01m.\u001B[39;00m\u001B[38;5;21;01msdk\u001B[39;00m \u001B[38;5;28;01mimport\u001B[39;00m openbb\n",
      "File \u001B[0;32m/opt/homebrew/Caskroom/miniforge/base/envs/py310/lib/python3.10/site-packages/sklearn_extra/cluster/__init__.py:2\u001B[0m\n\u001B[1;32m      1\u001B[0m \u001B[38;5;28;01mfrom\u001B[39;00m \u001B[38;5;21;01m.\u001B[39;00m\u001B[38;5;21;01m_k_medoids\u001B[39;00m \u001B[38;5;28;01mimport\u001B[39;00m KMedoids, CLARA\n\u001B[0;32m----> 2\u001B[0m \u001B[38;5;28;01mfrom\u001B[39;00m \u001B[38;5;21;01m.\u001B[39;00m\u001B[38;5;21;01m_commonnn\u001B[39;00m \u001B[38;5;28;01mimport\u001B[39;00m commonnn, CommonNNClustering\n\u001B[1;32m      4\u001B[0m __all__ \u001B[38;5;241m=\u001B[39m [\u001B[38;5;124m\"\u001B[39m\u001B[38;5;124mKMedoids\u001B[39m\u001B[38;5;124m\"\u001B[39m, \u001B[38;5;124m\"\u001B[39m\u001B[38;5;124mCLARA\u001B[39m\u001B[38;5;124m\"\u001B[39m, \u001B[38;5;124m\"\u001B[39m\u001B[38;5;124mCommonNNClustering\u001B[39m\u001B[38;5;124m\"\u001B[39m, \u001B[38;5;124m\"\u001B[39m\u001B[38;5;124mcommonnn\u001B[39m\u001B[38;5;124m\"\u001B[39m]\n",
      "File \u001B[0;32m/opt/homebrew/Caskroom/miniforge/base/envs/py310/lib/python3.10/site-packages/sklearn_extra/cluster/_commonnn.py:31\u001B[0m\n\u001B[1;32m     26\u001B[0m     \u001B[38;5;66;03m# TODO\u001B[39;00m\n\u001B[1;32m     27\u001B[0m     \u001B[38;5;66;03m# from sklearn.utils.validation import _deprecate_positional_args\u001B[39;00m\n\u001B[1;32m     29\u001B[0m \u001B[38;5;28;01mfrom\u001B[39;00m \u001B[38;5;21;01msklearn\u001B[39;00m\u001B[38;5;21;01m.\u001B[39;00m\u001B[38;5;21;01mneighbors\u001B[39;00m \u001B[38;5;28;01mimport\u001B[39;00m NearestNeighbors\n\u001B[0;32m---> 31\u001B[0m \u001B[38;5;28;01mfrom\u001B[39;00m \u001B[38;5;21;01m.\u001B[39;00m\u001B[38;5;21;01m_commonnn_inner\u001B[39;00m \u001B[38;5;28;01mimport\u001B[39;00m commonnn_inner\n\u001B[1;32m     34\u001B[0m \u001B[38;5;28;01mdef\u001B[39;00m \u001B[38;5;21mcommonnn\u001B[39m(\n\u001B[1;32m     35\u001B[0m     X,\n\u001B[1;32m     36\u001B[0m     eps\u001B[38;5;241m=\u001B[39m\u001B[38;5;241m0.5\u001B[39m,\n\u001B[0;32m   (...)\u001B[0m\n\u001B[1;32m     44\u001B[0m     n_jobs\u001B[38;5;241m=\u001B[39m\u001B[38;5;28;01mNone\u001B[39;00m,\n\u001B[1;32m     45\u001B[0m ):\n\u001B[1;32m     46\u001B[0m \u001B[38;5;250m    \u001B[39m\u001B[38;5;124;03m\"\"\"Common-nearest-neighbor clustering\u001B[39;00m\n\u001B[1;32m     47\u001B[0m \n\u001B[1;32m     48\u001B[0m \u001B[38;5;124;03m    Cluster from vector array or distance matrix.\u001B[39;00m\n\u001B[0;32m   (...)\u001B[0m\n\u001B[1;32m    126\u001B[0m \u001B[38;5;124;03m        An estimator interface for this clustering algorithm.\u001B[39;00m\n\u001B[1;32m    127\u001B[0m \u001B[38;5;124;03m    \"\"\"\u001B[39;00m\n",
      "\u001B[0;31mImportError\u001B[0m: dlopen(/opt/homebrew/Caskroom/miniforge/base/envs/py310/lib/python3.10/site-packages/sklearn_extra/cluster/_commonnn_inner.cpython-310-darwin.so, 0x0002): Library not loaded: @rpath/libc++.1.dylib\n  Referenced from: <7838AB7C-2259-35E3-BF7F-565711DC66AF> /opt/homebrew/Caskroom/miniforge/base/envs/py310/lib/python3.10/site-packages/sklearn_extra/cluster/_commonnn_inner.cpython-310-darwin.so\n  Reason: tried: '/opt/homebrew/Caskroom/miniforge/base/envs/py310/lib/libc++.1.dylib' (no such file), '/System/Volumes/Preboot/Cryptexes/OS/opt/homebrew/Caskroom/miniforge/base/envs/py310/lib/libc++.1.dylib' (no such file), '/opt/homebrew/Caskroom/miniforge/base/envs/py310/lib/libc++.1.dylib' (no such file), '/System/Volumes/Preboot/Cryptexes/OS/opt/homebrew/Caskroom/miniforge/base/envs/py310/lib/libc++.1.dylib' (no such file), '/opt/homebrew/Caskroom/miniforge/base/envs/py310/bin/../lib/libc++.1.dylib' (no such file), '/opt/homebrew/Caskroom/miniforge/base/envs/py310/bin/../lib/libc++.1.dylib' (no such file)"
     ]
    }
   ],
   "source": [
    "import numpy as np\n",
    "import pandas as pd\n",
    "from sklearn_extra.cluster import KMedoids\n",
    "import matplotlib.pyplot as plt\n",
    "from openbb_terminal.sdk import openbb"
   ],
   "metadata": {
    "collapsed": false,
    "ExecuteTime": {
     "end_time": "2023-10-29T08:15:41.033933Z",
     "start_time": "2023-10-29T08:15:24.700144Z"
    }
   },
   "id": "7130a09a409f4415"
  },
  {
   "cell_type": "code",
   "execution_count": null,
   "outputs": [],
   "source": [],
   "metadata": {
    "collapsed": false
   },
   "id": "de444c215b89442d"
  }
 ],
 "metadata": {
  "kernelspec": {
   "display_name": "Python 3",
   "language": "python",
   "name": "python3"
  },
  "language_info": {
   "codemirror_mode": {
    "name": "ipython",
    "version": 2
   },
   "file_extension": ".py",
   "mimetype": "text/x-python",
   "name": "python",
   "nbconvert_exporter": "python",
   "pygments_lexer": "ipython2",
   "version": "2.7.6"
  }
 },
 "nbformat": 4,
 "nbformat_minor": 5
}
