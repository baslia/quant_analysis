{
 "cells": [
  {
   "cell_type": "markdown",
   "source": [
    "# Different ways pandas really losing to Polars for quick market data analysis\n",
    "\n",
    "Polars is a DataFrame library designed for speed and efficiency.\n",
    "\n",
    "It’s written in Rust and uses parallel execution to process data across multiple CPU cores. This makes it faster than many other DataFrame libraries, including pandas, making it a good choice for tasks that involve large amounts of data.\n",
    "\n",
    "Despite being written in Rust, Polars provides a Python API that is easy to use and familiar to those who have experience with Python.\n",
    "\n",
    "This makes it accessible to a wide range of users, including data scientists and researchers.\n",
    "\n",
    "The choice between the two will depend on the size of your data and how crucial performance is for your work."
   ],
   "metadata": {
    "collapsed": false
   },
   "id": "56080ac3691fff79"
  },
  {
   "cell_type": "code",
   "execution_count": 1,
   "outputs": [
    {
     "ename": "ModuleNotFoundError",
     "evalue": "No module named 'polars'",
     "output_type": "error",
     "traceback": [
      "\u001B[0;31m---------------------------------------------------------------------------\u001B[0m",
      "\u001B[0;31mModuleNotFoundError\u001B[0m                       Traceback (most recent call last)",
      "Cell \u001B[0;32mIn[1], line 6\u001B[0m\n\u001B[1;32m      1\u001B[0m \u001B[38;5;66;03m# Imports and set up\u001B[39;00m\n\u001B[1;32m      2\u001B[0m \n\u001B[1;32m      3\u001B[0m \u001B[38;5;66;03m# Make sure you run the code in a Jupyter Notebook so you can use the %timeit magic. Then, start by importing pandas, Polars, and OpenBB.\u001B[39;00m\n\u001B[1;32m      5\u001B[0m \u001B[38;5;28;01mimport\u001B[39;00m \u001B[38;5;21;01mpandas\u001B[39;00m \u001B[38;5;28;01mas\u001B[39;00m \u001B[38;5;21;01mpd\u001B[39;00m\n\u001B[0;32m----> 6\u001B[0m \u001B[38;5;28;01mimport\u001B[39;00m \u001B[38;5;21;01mpolars\u001B[39;00m \u001B[38;5;28;01mas\u001B[39;00m \u001B[38;5;21;01mpl\u001B[39;00m\n\u001B[1;32m      8\u001B[0m \u001B[38;5;28;01mfrom\u001B[39;00m \u001B[38;5;21;01mopenbb_terminal\u001B[39;00m\u001B[38;5;21;01m.\u001B[39;00m\u001B[38;5;21;01msdk\u001B[39;00m \u001B[38;5;28;01mimport\u001B[39;00m openbb\n\u001B[1;32m      9\u001B[0m \u001B[38;5;66;03m# We’ll run our tests with 30 years of price data for the 500 stocks currently in the S&P 500. The resulting DataFrame is 32.5MB which is not huge but big enough for testing.\u001B[39;00m\n",
      "\u001B[0;31mModuleNotFoundError\u001B[0m: No module named 'polars'"
     ]
    }
   ],
   "source": [
    "# Imports and set up\n",
    "\n",
    "# Make sure you run the code in a Jupyter Notebook so you can use the %timeit magic. Then, start by importing pandas, Polars, and OpenBB.\n",
    "\n",
    "import pandas as pd\n",
    "import polars as pl\n",
    "\n",
    "from openbb_terminal.sdk import openbb\n",
    "# We’ll run our tests with 30 years of price data for the 500 stocks currently in the S&P 500. The resulting DataFrame is 32.5MB which is not huge but big enough for testing.\n",
    "\n",
    "url = \"http://en.wikipedia.org/wiki/List_of_S%26P_500_companies\"\n",
    "table = pd.read_html(url)[0]\n",
    "tickers = table.Symbol.tolist()\n",
    "\n",
    "df_pandas = openbb.economy.index(tickers, start_date=\"1990-01-01\")\n",
    "# As you might expect, you can convert a pandas DataFrame to a Polars DataFrame.\n",
    "\n",
    "df_polars = pl.from_pandas(df_pandas)"
   ],
   "metadata": {
    "collapsed": false,
    "ExecuteTime": {
     "end_time": "2023-08-02T13:43:28.512618Z",
     "start_time": "2023-08-02T13:43:28.099165Z"
    }
   },
   "id": "bc8e3463bae75ca"
  },
  {
   "cell_type": "code",
   "execution_count": null,
   "outputs": [],
   "source": [],
   "metadata": {
    "collapsed": false
   },
   "id": "cd9c390b7d821cae"
  }
 ],
 "metadata": {
  "kernelspec": {
   "display_name": "Python 3",
   "language": "python",
   "name": "python3"
  },
  "language_info": {
   "codemirror_mode": {
    "name": "ipython",
    "version": 2
   },
   "file_extension": ".py",
   "mimetype": "text/x-python",
   "name": "python",
   "nbconvert_exporter": "python",
   "pygments_lexer": "ipython2",
   "version": "2.7.6"
  }
 },
 "nbformat": 4,
 "nbformat_minor": 5
}
