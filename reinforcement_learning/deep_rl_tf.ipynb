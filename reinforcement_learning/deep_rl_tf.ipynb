{
 "cells": [
  {
   "cell_type": "markdown",
   "source": [
    "This guide is based on notes from this TensorFlow 2.0 course and is organized as follows\n",
    "\n",
    "- Building a Deep Q-Learning Trading Network\n",
    "- Stock Market Data Preprocessing\n",
    "- Training our Deep Q-Learning Trading Agent\n",
    "- Summary: Deep Reinforcement Learning for Trading with TensorFlow 2.0"
   ],
   "metadata": {
    "collapsed": false
   },
   "id": "dbd414f7fcf0df42"
  },
  {
   "cell_type": "code",
   "outputs": [],
   "source": [],
   "metadata": {
    "collapsed": false
   },
   "id": "e63f6f23ca6c20ed"
  }
 ],
 "metadata": {
  "kernelspec": {
   "display_name": "Python 3",
   "language": "python",
   "name": "python3"
  },
  "language_info": {
   "codemirror_mode": {
    "name": "ipython",
    "version": 2
   },
   "file_extension": ".py",
   "mimetype": "text/x-python",
   "name": "python",
   "nbconvert_exporter": "python",
   "pygments_lexer": "ipython2",
   "version": "2.7.6"
  }
 },
 "nbformat": 4,
 "nbformat_minor": 5
}
