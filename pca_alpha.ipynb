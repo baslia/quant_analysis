{
 "cells": [
  {
   "cell_type": "markdown",
   "source": [
    "# How to isolate alpha with principal component analysis\n",
    "\n",
    "We will show you how to use principal component analysis (PCA) to analyze a portfolio of stocks.\n",
    "\n",
    "PCA is used widely in data science. It’s a way to reduce the number of dimensions in a data set. In a stock portfolio, a dimension might be a column of returns for one of the stocks. In a portfolio of 100 stocks, there are 100 dimensions. PCA converts those 100 dimensions into the few that explain the most variance in the data. In other words, the dimensions hold the most information about the data.\n",
    "\n",
    "Quants use PCA in many ways\n",
    "\n",
    "PCA isolates the statistical return drivers of a portfolio. These drivers are called “alpha factors” (or just factors) because they create returns that are not explained by a benchmark. (In a previous newsletter issue, you learned how to hedge beta to get exposure to alpha.) Quants use factors in trading strategies. First, they isolate the components. Then they buy the stocks with the largest exposure to a factor and sell the stocks with the smallest exposure to a factor. Today you’ll learn how to do this in Python.\n",
    "\n",
    "The steps are:\n",
    "\n",
    "1. Get stock data\n",
    "2. Fit a PCA model\n",
    "3. Visualize the components\n",
    "4. Isolate the alpha factors"
   ],
   "metadata": {
    "collapsed": false
   }
  },
  {
   "cell_type": "code",
   "execution_count": 5,
   "outputs": [
    {
     "name": "stdout",
     "output_type": "stream",
     "text": [
      "[*********************100%***********************]  8 of 8 completed\n"
     ]
    },
    {
     "data": {
      "text/plain": "            Adj Close                                                          \\\n                  AEM         AU       GFI         IBM       INTC        META   \nDate                                                                            \n2020-01-02  56.119663  21.246773  5.882495  110.232513  54.760349  209.779999   \n2020-01-03  56.221172  21.209314  5.837862  109.353386  54.094299  208.669998   \n2020-01-06  56.285767  21.274862  5.855715  109.158020  53.941277  212.600006   \n2020-01-07  56.737980  21.059492  5.837862  109.231270  53.041206  213.059998   \n2020-01-08  54.643066  20.169918  5.543292  110.142967  53.077217  215.220001   \n\n                                       Close             ...        Open  \\\n                  MSFT        NEM        AEM         AU  ...        MSFT   \nDate                                                     ...               \n2020-01-02  155.761795  38.958557  60.810001  22.690001  ...  158.779999   \n2020-01-03  153.822311  38.607018  60.919998  22.650000  ...  158.320007   \n2020-01-06  154.219910  38.994617  60.990002  22.719999  ...  157.080002   \n2020-01-07  152.813766  38.967571  61.480000  22.490000  ...  159.320007   \n2020-01-08  155.247849  37.930962  59.209999  21.540001  ...  158.929993   \n\n                        Volume                                                 \\\n                  NEM      AEM       AU      GFI      IBM      INTC      META   \nDate                                                                            \n2020-01-02  43.549999   925600  2343000  4083100  3293436  18056000  12077100   \n2020-01-03  43.750000   967400  3018100  7443600  2482890  15293900  11188400   \n2020-01-06  43.759998  1247700  3791400  4303200  2537073  17755200  17058900   \n2020-01-07  43.160000  1095300  2927700  6276300  3232977  21876100  14912400   \n2020-01-08  43.259998  1434400  4277600  6961100  4545916  23133500  13475000   \n\n                                \n                MSFT       NEM  \nDate                            \n2020-01-02  22622100   6287500  \n2020-01-03  21116200   9148900  \n2020-01-06  20813700  10416400  \n2020-01-07  21634100   9378300  \n2020-01-08  27746500   9455300  \n\n[5 rows x 48 columns]",
      "text/html": "<div>\n<style scoped>\n    .dataframe tbody tr th:only-of-type {\n        vertical-align: middle;\n    }\n\n    .dataframe tbody tr th {\n        vertical-align: top;\n    }\n\n    .dataframe thead tr th {\n        text-align: left;\n    }\n\n    .dataframe thead tr:last-of-type th {\n        text-align: right;\n    }\n</style>\n<table border=\"1\" class=\"dataframe\">\n  <thead>\n    <tr>\n      <th></th>\n      <th colspan=\"8\" halign=\"left\">Adj Close</th>\n      <th colspan=\"2\" halign=\"left\">Close</th>\n      <th>...</th>\n      <th colspan=\"2\" halign=\"left\">Open</th>\n      <th colspan=\"8\" halign=\"left\">Volume</th>\n    </tr>\n    <tr>\n      <th></th>\n      <th>AEM</th>\n      <th>AU</th>\n      <th>GFI</th>\n      <th>IBM</th>\n      <th>INTC</th>\n      <th>META</th>\n      <th>MSFT</th>\n      <th>NEM</th>\n      <th>AEM</th>\n      <th>AU</th>\n      <th>...</th>\n      <th>MSFT</th>\n      <th>NEM</th>\n      <th>AEM</th>\n      <th>AU</th>\n      <th>GFI</th>\n      <th>IBM</th>\n      <th>INTC</th>\n      <th>META</th>\n      <th>MSFT</th>\n      <th>NEM</th>\n    </tr>\n    <tr>\n      <th>Date</th>\n      <th></th>\n      <th></th>\n      <th></th>\n      <th></th>\n      <th></th>\n      <th></th>\n      <th></th>\n      <th></th>\n      <th></th>\n      <th></th>\n      <th></th>\n      <th></th>\n      <th></th>\n      <th></th>\n      <th></th>\n      <th></th>\n      <th></th>\n      <th></th>\n      <th></th>\n      <th></th>\n      <th></th>\n    </tr>\n  </thead>\n  <tbody>\n    <tr>\n      <th>2020-01-02</th>\n      <td>56.119663</td>\n      <td>21.246773</td>\n      <td>5.882495</td>\n      <td>110.232513</td>\n      <td>54.760349</td>\n      <td>209.779999</td>\n      <td>155.761795</td>\n      <td>38.958557</td>\n      <td>60.810001</td>\n      <td>22.690001</td>\n      <td>...</td>\n      <td>158.779999</td>\n      <td>43.549999</td>\n      <td>925600</td>\n      <td>2343000</td>\n      <td>4083100</td>\n      <td>3293436</td>\n      <td>18056000</td>\n      <td>12077100</td>\n      <td>22622100</td>\n      <td>6287500</td>\n    </tr>\n    <tr>\n      <th>2020-01-03</th>\n      <td>56.221172</td>\n      <td>21.209314</td>\n      <td>5.837862</td>\n      <td>109.353386</td>\n      <td>54.094299</td>\n      <td>208.669998</td>\n      <td>153.822311</td>\n      <td>38.607018</td>\n      <td>60.919998</td>\n      <td>22.650000</td>\n      <td>...</td>\n      <td>158.320007</td>\n      <td>43.750000</td>\n      <td>967400</td>\n      <td>3018100</td>\n      <td>7443600</td>\n      <td>2482890</td>\n      <td>15293900</td>\n      <td>11188400</td>\n      <td>21116200</td>\n      <td>9148900</td>\n    </tr>\n    <tr>\n      <th>2020-01-06</th>\n      <td>56.285767</td>\n      <td>21.274862</td>\n      <td>5.855715</td>\n      <td>109.158020</td>\n      <td>53.941277</td>\n      <td>212.600006</td>\n      <td>154.219910</td>\n      <td>38.994617</td>\n      <td>60.990002</td>\n      <td>22.719999</td>\n      <td>...</td>\n      <td>157.080002</td>\n      <td>43.759998</td>\n      <td>1247700</td>\n      <td>3791400</td>\n      <td>4303200</td>\n      <td>2537073</td>\n      <td>17755200</td>\n      <td>17058900</td>\n      <td>20813700</td>\n      <td>10416400</td>\n    </tr>\n    <tr>\n      <th>2020-01-07</th>\n      <td>56.737980</td>\n      <td>21.059492</td>\n      <td>5.837862</td>\n      <td>109.231270</td>\n      <td>53.041206</td>\n      <td>213.059998</td>\n      <td>152.813766</td>\n      <td>38.967571</td>\n      <td>61.480000</td>\n      <td>22.490000</td>\n      <td>...</td>\n      <td>159.320007</td>\n      <td>43.160000</td>\n      <td>1095300</td>\n      <td>2927700</td>\n      <td>6276300</td>\n      <td>3232977</td>\n      <td>21876100</td>\n      <td>14912400</td>\n      <td>21634100</td>\n      <td>9378300</td>\n    </tr>\n    <tr>\n      <th>2020-01-08</th>\n      <td>54.643066</td>\n      <td>20.169918</td>\n      <td>5.543292</td>\n      <td>110.142967</td>\n      <td>53.077217</td>\n      <td>215.220001</td>\n      <td>155.247849</td>\n      <td>37.930962</td>\n      <td>59.209999</td>\n      <td>21.540001</td>\n      <td>...</td>\n      <td>158.929993</td>\n      <td>43.259998</td>\n      <td>1434400</td>\n      <td>4277600</td>\n      <td>6961100</td>\n      <td>4545916</td>\n      <td>23133500</td>\n      <td>13475000</td>\n      <td>27746500</td>\n      <td>9455300</td>\n    </tr>\n  </tbody>\n</table>\n<p>5 rows × 48 columns</p>\n</div>"
     },
     "execution_count": 5,
     "metadata": {},
     "output_type": "execute_result"
    }
   ],
   "source": [
    "# Step 1: Get the data\n",
    "\n",
    "# Start by importing the libraries. sklearn is a package used to build statistical models for data analysis.\n",
    "\n",
    "import yfinance as yf\n",
    "\n",
    "import pandas as pd\n",
    "import numpy as np\n",
    "from sklearn.decomposition import PCA\n",
    "import matplotlib.pyplot as plt\n",
    "# Next, build a portfolio. You can pick any stocks you want.\n",
    "\n",
    "symbols = [\n",
    "    'IBM',\n",
    "    'MSFT',\n",
    "    'META',\n",
    "    'INTC',\n",
    "    'NEM',\n",
    "    'AU',\n",
    "    'AEM',\n",
    "    'GFI'\n",
    "]\n",
    "data = yf.download(symbols, start=\"2020-01-01\", end=\"2022-11-30\")\n",
    "portfolio_returns = data['Adj Close'].pct_change().dropna()\n",
    "data.head()"
   ],
   "metadata": {
    "collapsed": false,
    "ExecuteTime": {
     "end_time": "2023-05-06T14:09:41.125714Z",
     "start_time": "2023-05-06T14:09:40.795983Z"
    }
   }
  },
  {
   "cell_type": "code",
   "execution_count": 6,
   "outputs": [
    {
     "data": {
      "text/plain": "                 AEM        AU       GFI       IBM      INTC      META  \\\nDate                                                                     \n2020-01-03  0.001809 -0.001763 -0.007587 -0.007975 -0.012163 -0.005291   \n2020-01-06  0.001149  0.003091  0.003058 -0.001787 -0.002829  0.018834   \n2020-01-07  0.008034 -0.010123 -0.003049  0.000671 -0.016686  0.002164   \n2020-01-08 -0.036923 -0.042241 -0.050459  0.008346  0.000679  0.010138   \n2020-01-09 -0.004053 -0.000928 -0.017713  0.010568  0.005596  0.014311   \n...              ...       ...       ...       ...       ...       ...   \n2022-11-22  0.037373  0.055977  0.015038  0.016499  0.030408  0.014382   \n2022-11-23  0.013841  0.010491  0.024074 -0.002347 -0.005030  0.007179   \n2022-11-25  0.001205 -0.007650 -0.013562 -0.002555 -0.011122 -0.007395   \n2022-11-28 -0.029076 -0.044053 -0.024748 -0.014760 -0.020791 -0.023607   \n2022-11-29  0.030359  0.025922  0.026316  0.002121  0.005917  0.006251   \n\n                MSFT       NEM  \nDate                            \n2020-01-03 -0.012452 -0.009023  \n2020-01-06  0.002585  0.010040  \n2020-01-07 -0.009118 -0.000694  \n2020-01-08  0.015928 -0.026602  \n2020-01-09  0.012493 -0.009981  \n...              ...       ...  \n2022-11-22  0.012311  0.025111  \n2022-11-23  0.010407  0.002601  \n2022-11-25 -0.000364 -0.008649  \n2022-11-28 -0.023152 -0.033370  \n2022-11-29 -0.005915  0.032491  \n\n[733 rows x 8 columns]",
      "text/html": "<div>\n<style scoped>\n    .dataframe tbody tr th:only-of-type {\n        vertical-align: middle;\n    }\n\n    .dataframe tbody tr th {\n        vertical-align: top;\n    }\n\n    .dataframe thead th {\n        text-align: right;\n    }\n</style>\n<table border=\"1\" class=\"dataframe\">\n  <thead>\n    <tr style=\"text-align: right;\">\n      <th></th>\n      <th>AEM</th>\n      <th>AU</th>\n      <th>GFI</th>\n      <th>IBM</th>\n      <th>INTC</th>\n      <th>META</th>\n      <th>MSFT</th>\n      <th>NEM</th>\n    </tr>\n    <tr>\n      <th>Date</th>\n      <th></th>\n      <th></th>\n      <th></th>\n      <th></th>\n      <th></th>\n      <th></th>\n      <th></th>\n      <th></th>\n    </tr>\n  </thead>\n  <tbody>\n    <tr>\n      <th>2020-01-03</th>\n      <td>0.001809</td>\n      <td>-0.001763</td>\n      <td>-0.007587</td>\n      <td>-0.007975</td>\n      <td>-0.012163</td>\n      <td>-0.005291</td>\n      <td>-0.012452</td>\n      <td>-0.009023</td>\n    </tr>\n    <tr>\n      <th>2020-01-06</th>\n      <td>0.001149</td>\n      <td>0.003091</td>\n      <td>0.003058</td>\n      <td>-0.001787</td>\n      <td>-0.002829</td>\n      <td>0.018834</td>\n      <td>0.002585</td>\n      <td>0.010040</td>\n    </tr>\n    <tr>\n      <th>2020-01-07</th>\n      <td>0.008034</td>\n      <td>-0.010123</td>\n      <td>-0.003049</td>\n      <td>0.000671</td>\n      <td>-0.016686</td>\n      <td>0.002164</td>\n      <td>-0.009118</td>\n      <td>-0.000694</td>\n    </tr>\n    <tr>\n      <th>2020-01-08</th>\n      <td>-0.036923</td>\n      <td>-0.042241</td>\n      <td>-0.050459</td>\n      <td>0.008346</td>\n      <td>0.000679</td>\n      <td>0.010138</td>\n      <td>0.015928</td>\n      <td>-0.026602</td>\n    </tr>\n    <tr>\n      <th>2020-01-09</th>\n      <td>-0.004053</td>\n      <td>-0.000928</td>\n      <td>-0.017713</td>\n      <td>0.010568</td>\n      <td>0.005596</td>\n      <td>0.014311</td>\n      <td>0.012493</td>\n      <td>-0.009981</td>\n    </tr>\n    <tr>\n      <th>...</th>\n      <td>...</td>\n      <td>...</td>\n      <td>...</td>\n      <td>...</td>\n      <td>...</td>\n      <td>...</td>\n      <td>...</td>\n      <td>...</td>\n    </tr>\n    <tr>\n      <th>2022-11-22</th>\n      <td>0.037373</td>\n      <td>0.055977</td>\n      <td>0.015038</td>\n      <td>0.016499</td>\n      <td>0.030408</td>\n      <td>0.014382</td>\n      <td>0.012311</td>\n      <td>0.025111</td>\n    </tr>\n    <tr>\n      <th>2022-11-23</th>\n      <td>0.013841</td>\n      <td>0.010491</td>\n      <td>0.024074</td>\n      <td>-0.002347</td>\n      <td>-0.005030</td>\n      <td>0.007179</td>\n      <td>0.010407</td>\n      <td>0.002601</td>\n    </tr>\n    <tr>\n      <th>2022-11-25</th>\n      <td>0.001205</td>\n      <td>-0.007650</td>\n      <td>-0.013562</td>\n      <td>-0.002555</td>\n      <td>-0.011122</td>\n      <td>-0.007395</td>\n      <td>-0.000364</td>\n      <td>-0.008649</td>\n    </tr>\n    <tr>\n      <th>2022-11-28</th>\n      <td>-0.029076</td>\n      <td>-0.044053</td>\n      <td>-0.024748</td>\n      <td>-0.014760</td>\n      <td>-0.020791</td>\n      <td>-0.023607</td>\n      <td>-0.023152</td>\n      <td>-0.033370</td>\n    </tr>\n    <tr>\n      <th>2022-11-29</th>\n      <td>0.030359</td>\n      <td>0.025922</td>\n      <td>0.026316</td>\n      <td>0.002121</td>\n      <td>0.005917</td>\n      <td>0.006251</td>\n      <td>-0.005915</td>\n      <td>0.032491</td>\n    </tr>\n  </tbody>\n</table>\n<p>733 rows × 8 columns</p>\n</div>"
     },
     "execution_count": 6,
     "metadata": {},
     "output_type": "execute_result"
    }
   ],
   "source": [
    "portfolio_returns"
   ],
   "metadata": {
    "collapsed": false,
    "ExecuteTime": {
     "end_time": "2023-05-06T14:11:08.967913Z",
     "start_time": "2023-05-06T14:11:08.961027Z"
    }
   }
  },
  {
   "cell_type": "code",
   "execution_count": 12,
   "outputs": [
    {
     "data": {
      "text/plain": "array([[ 0.37594618,  0.54951361,  0.64159953,  0.07896232,  0.09811405,\n         0.12252729,  0.10081195,  0.32250877],\n       [ 0.02793495,  0.12305951,  0.17653245, -0.2522266 , -0.53577053,\n        -0.63526615, -0.4455763 ,  0.0119433 ],\n       [ 0.12803137, -0.03725314, -0.16023179,  0.44073   ,  0.50608719,\n        -0.67700434,  0.04718491,  0.21358249]])"
     },
     "execution_count": 12,
     "metadata": {},
     "output_type": "execute_result"
    }
   ],
   "source": [
    "# Step 2: Fit a PCA model\n",
    "\n",
    "# sklearn makes it easy to fit a PCA model and get the components.\n",
    "\n",
    "pca = PCA(n_components=3)\n",
    "pca.fit(portfolio_returns)\n",
    "# The n_components argument tells sklearn how many of the top components to return. Fit the model with the portfolio returns and the algorithm will look for the top three components that explain most of the variance in the returns.\n",
    "\n",
    "pct = pca.explained_variance_ratio_\n",
    "pca_components = pca.components_\n",
    "# After you fit the model, grab the explained variance and components (remember the underscore).\n",
    "pca_components"
   ],
   "metadata": {
    "collapsed": false,
    "ExecuteTime": {
     "end_time": "2023-05-06T14:16:51.846602Z",
     "start_time": "2023-05-06T14:16:51.841085Z"
    }
   }
  },
  {
   "cell_type": "code",
   "execution_count": 8,
   "outputs": [
    {
     "data": {
      "text/plain": "(0.0, 100.0)"
     },
     "execution_count": 8,
     "metadata": {},
     "output_type": "execute_result"
    },
    {
     "data": {
      "text/plain": "<Figure size 432x288 with 2 Axes>",
      "image/png": "[encoded data removed]"
     },
     "metadata": {
      "needs_background": "light"
     },
     "output_type": "display_data"
    }
   ],
   "source": [
    "# Step 3: Visualize the components\n",
    "\n",
    "# If the description of PCA is unclear, these charts should help.\n",
    "\n",
    "cum_pct = np.cumsum(pct)\n",
    "x = np.arange(1,len(pct)+1,1)\n",
    "\n",
    "plt.subplot(1, 2, 1)\n",
    "plt.bar(x, pct * 100, align=\"center\")\n",
    "plt.title('Contribution (%)')\n",
    "plt.xlabel('Component')\n",
    "plt.xticks(x)\n",
    "plt.xlim([0, 4])\n",
    "plt.ylim([0, 100])\n",
    "\n",
    "plt.subplot(1, 2, 2)\n",
    "plt.plot(x, cum_pct * 100, 'ro-')\n",
    "plt.title('Cumulative contribution (%)')\n",
    "plt.xlabel('Component')\n",
    "plt.xticks(x)\n",
    "plt.xlim([0, 4])\n",
    "plt.ylim([0, 100])"
   ],
   "metadata": {
    "collapsed": false,
    "ExecuteTime": {
     "end_time": "2023-05-06T14:11:37.352804Z",
     "start_time": "2023-05-06T14:11:37.247915Z"
    }
   }
  },
  {
   "cell_type": "code",
   "execution_count": 9,
   "outputs": [
    {
     "data": {
      "text/plain": "                  f1        f2        f3\nDate                                    \n2020-01-03 -0.011794  0.015824 -0.007090\n2020-01-06  0.009480 -0.010078 -0.013161\n2020-01-07 -0.006960  0.009891 -0.008298\n2020-01-08 -0.074473 -0.031461 -0.002840\n2020-01-09 -0.012221 -0.023795 -0.001387",
      "text/html": "<div>\n<style scoped>\n    .dataframe tbody tr th:only-of-type {\n        vertical-align: middle;\n    }\n\n    .dataframe tbody tr th {\n        vertical-align: top;\n    }\n\n    .dataframe thead th {\n        text-align: right;\n    }\n</style>\n<table border=\"1\" class=\"dataframe\">\n  <thead>\n    <tr style=\"text-align: right;\">\n      <th></th>\n      <th>f1</th>\n      <th>f2</th>\n      <th>f3</th>\n    </tr>\n    <tr>\n      <th>Date</th>\n      <th></th>\n      <th></th>\n      <th></th>\n    </tr>\n  </thead>\n  <tbody>\n    <tr>\n      <th>2020-01-03</th>\n      <td>-0.011794</td>\n      <td>0.015824</td>\n      <td>-0.007090</td>\n    </tr>\n    <tr>\n      <th>2020-01-06</th>\n      <td>0.009480</td>\n      <td>-0.010078</td>\n      <td>-0.013161</td>\n    </tr>\n    <tr>\n      <th>2020-01-07</th>\n      <td>-0.006960</td>\n      <td>0.009891</td>\n      <td>-0.008298</td>\n    </tr>\n    <tr>\n      <th>2020-01-08</th>\n      <td>-0.074473</td>\n      <td>-0.031461</td>\n      <td>-0.002840</td>\n    </tr>\n    <tr>\n      <th>2020-01-09</th>\n      <td>-0.012221</td>\n      <td>-0.023795</td>\n      <td>-0.001387</td>\n    </tr>\n  </tbody>\n</table>\n</div>"
     },
     "execution_count": 9,
     "metadata": {},
     "output_type": "execute_result"
    }
   ],
   "source": [
    "# Step 4: Isolate the alpha factors\n",
    "\n",
    "# There are forces that move stock prices that we can’t see. These latent factors are picked up through PCA and isolated as the principal components. The overall stock market is usually a strong driver of returns. Macroeconomic forces like interest rates and the pandemic drive returns, too. PCA lets you isolate these statistical factors to get an idea of how much the portfolio’s returns come from these unobserved features.\n",
    "\n",
    "X = np.asarray(portfolio_returns)\n",
    "\n",
    "factor_returns = X.dot(pca_components.T)\n",
    "\n",
    "factor_returns = pd.DataFrame(\n",
    "    columns=[\"f1\", \"f2\", \"f3\"],\n",
    "    index=portfolio_returns.index,\n",
    "    data=factor_returns\n",
    ")\n",
    "\n",
    "factor_returns.head()"
   ],
   "metadata": {
    "collapsed": false,
    "ExecuteTime": {
     "end_time": "2023-05-06T14:13:36.844394Z",
     "start_time": "2023-05-06T14:13:36.840023Z"
    }
   }
  },
  {
   "cell_type": "code",
   "execution_count": 10,
   "outputs": [
    {
     "data": {
      "text/plain": "<AxesSubplot:>"
     },
     "execution_count": 10,
     "metadata": {},
     "output_type": "execute_result"
    },
    {
     "data": {
      "text/plain": "<Figure size 432x288 with 1 Axes>",
      "image/png": "[encoded data removed]"
     },
     "metadata": {
      "needs_background": "light"
     },
     "output_type": "display_data"
    }
   ],
   "source": [
    "factor_exposures = pd.DataFrame(\n",
    "    index=[\"f1\", \"f2\", \"f3\"],\n",
    "    columns=portfolio_returns.columns,\n",
    "    data = pca_components\n",
    ").T\n",
    "\n",
    "factor_exposures.f1.sort_values().plot.bar()"
   ],
   "metadata": {
    "collapsed": false,
    "ExecuteTime": {
     "end_time": "2023-05-06T14:14:02.823034Z",
     "start_time": "2023-05-06T14:14:02.706732Z"
    }
   }
  },
  {
   "cell_type": "code",
   "execution_count": 11,
   "outputs": [
    {
     "data": {
      "text/plain": "            f1        f2        f3\nAEM   0.375946  0.027935  0.128031\nAU    0.549514  0.123060 -0.037253\nGFI   0.641600  0.176532 -0.160232\nIBM   0.078962 -0.252227  0.440730\nINTC  0.098114 -0.535771  0.506087\nMETA  0.122527 -0.635266 -0.677004\nMSFT  0.100812 -0.445576  0.047185\nNEM   0.322509  0.011943  0.213582",
      "text/html": "<div>\n<style scoped>\n    .dataframe tbody tr th:only-of-type {\n        vertical-align: middle;\n    }\n\n    .dataframe tbody tr th {\n        vertical-align: top;\n    }\n\n    .dataframe thead th {\n        text-align: right;\n    }\n</style>\n<table border=\"1\" class=\"dataframe\">\n  <thead>\n    <tr style=\"text-align: right;\">\n      <th></th>\n      <th>f1</th>\n      <th>f2</th>\n      <th>f3</th>\n    </tr>\n  </thead>\n  <tbody>\n    <tr>\n      <th>AEM</th>\n      <td>0.375946</td>\n      <td>0.027935</td>\n      <td>0.128031</td>\n    </tr>\n    <tr>\n      <th>AU</th>\n      <td>0.549514</td>\n      <td>0.123060</td>\n      <td>-0.037253</td>\n    </tr>\n    <tr>\n      <th>GFI</th>\n      <td>0.641600</td>\n      <td>0.176532</td>\n      <td>-0.160232</td>\n    </tr>\n    <tr>\n      <th>IBM</th>\n      <td>0.078962</td>\n      <td>-0.252227</td>\n      <td>0.440730</td>\n    </tr>\n    <tr>\n      <th>INTC</th>\n      <td>0.098114</td>\n      <td>-0.535771</td>\n      <td>0.506087</td>\n    </tr>\n    <tr>\n      <th>META</th>\n      <td>0.122527</td>\n      <td>-0.635266</td>\n      <td>-0.677004</td>\n    </tr>\n    <tr>\n      <th>MSFT</th>\n      <td>0.100812</td>\n      <td>-0.445576</td>\n      <td>0.047185</td>\n    </tr>\n    <tr>\n      <th>NEM</th>\n      <td>0.322509</td>\n      <td>0.011943</td>\n      <td>0.213582</td>\n    </tr>\n  </tbody>\n</table>\n</div>"
     },
     "execution_count": 11,
     "metadata": {},
     "output_type": "execute_result"
    }
   ],
   "source": [
    "factor_exposures"
   ],
   "metadata": {
    "collapsed": false,
    "ExecuteTime": {
     "end_time": "2023-05-06T14:15:03.111169Z",
     "start_time": "2023-05-06T14:15:03.103836Z"
    }
   }
  },
  {
   "cell_type": "code",
   "execution_count": 14,
   "outputs": [
    {
     "data": {
      "text/plain": "<Figure size 432x288 with 1 Axes>",
      "image/png": "[encoded data removed]"
     },
     "metadata": {
      "needs_background": "light"
     },
     "output_type": "display_data"
    }
   ],
   "source": [
    "# Another great way to visualize this is with a scatter plot.\n",
    "\n",
    "labels = factor_exposures.index\n",
    "data = factor_exposures.values\n",
    "plt.scatter(data[:, 0], data[:, 1])\n",
    "plt.xlabel('factor exposure of PC1')\n",
    "plt.ylabel('factor exposure of PC2')\n",
    "\n",
    "for label, x, y in zip(labels, data[:, 0], data[:, 1]):\n",
    "    plt.annotate(\n",
    "        label,\n",
    "        xy=(x, y),\n",
    "        xytext=(-20, 20),\n",
    "        textcoords='offset points',\n",
    "        arrowprops=dict(arrowstyle='->', connectionstyle='arc3,rad=0'))\n"
   ],
   "metadata": {
    "collapsed": false,
    "ExecuteTime": {
     "end_time": "2023-05-06T14:18:32.393386Z",
     "start_time": "2023-05-06T14:18:32.239716Z"
    }
   }
  },
  {
   "cell_type": "markdown",
   "source": [
    "You can see how the stocks are driven by the first two principal components. Gold stocks were largely driven by factor one and tech stocks were negatively driven by factor two.\n",
    "\n",
    "This analysis covered the time period during covid. Gold stocks were bid up strongly as a hedge against inflation and uncertainty. You might consider the first factor as a “covid factor” representing uncertainty across the market. Tech stocks crashed as worries of economic health began."
   ],
   "metadata": {
    "collapsed": false
   }
  },
  {
   "cell_type": "code",
   "execution_count": null,
   "outputs": [],
   "source": [],
   "metadata": {
    "collapsed": false
   }
  }
 ],
 "metadata": {
  "kernelspec": {
   "display_name": "Python 3",
   "language": "python",
   "name": "python3"
  },
  "language_info": {
   "codemirror_mode": {
    "name": "ipython",
    "version": 2
   },
   "file_extension": ".py",
   "mimetype": "text/x-python",
   "name": "python",
   "nbconvert_exporter": "python",
   "pygments_lexer": "ipython2",
   "version": "2.7.6"
  }
 },
 "nbformat": 4,
 "nbformat_minor": 0
}
