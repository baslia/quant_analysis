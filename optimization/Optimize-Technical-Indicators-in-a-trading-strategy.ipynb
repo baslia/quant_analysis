{
 "cells": [
  {
   "cell_type": "code",
   "execution_count": 1,
   "metadata": {
    "ExecuteTime": {
     "end_time": "2024-01-27T09:41:43.473465Z",
     "start_time": "2024-01-27T09:41:42.258632Z"
    }
   },
   "outputs": [],
   "source": [
    "import yfinance as yf\n",
    "import pandas as pd\n",
    "import numpy as np"
   ]
  },
  {
   "cell_type": "code",
   "execution_count": 14,
   "metadata": {
    "ExecuteTime": {
     "end_time": "2024-01-27T09:43:22.510780Z",
     "start_time": "2024-01-27T09:43:22.227825Z"
    }
   },
   "outputs": [],
   "source": [
    "# We download the data from Yahoo Finance\n",
    "appl_df = yf.download('VTI', start=\"2010-01-01\", progress=False)"
   ]
  },
  {
   "cell_type": "code",
   "execution_count": 15,
   "metadata": {
    "ExecuteTime": {
     "end_time": "2024-01-27T09:43:23.263332Z",
     "start_time": "2024-01-27T09:43:23.259725Z"
    }
   },
   "outputs": [],
   "source": [
    "# We set up the Price column to be the next day's open price\n",
    "appl_df['Price'] = appl_df.Open.shift(-1)"
   ]
  },
  {
   "cell_type": "code",
   "execution_count": 16,
   "metadata": {
    "ExecuteTime": {
     "end_time": "2024-01-27T09:43:24.026895Z",
     "start_time": "2024-01-27T09:43:24.022949Z"
    }
   },
   "outputs": [
    {
     "data": {
      "text/plain": "                  Open        High         Low       Close   Adj Close  \\\nDate                                                                     \n2010-01-04   56.860001   57.380001   56.840000   57.310001   44.335220   \n2010-01-05   57.340000   57.540001   57.110001   57.529999   44.505428   \n2010-01-06   57.500000   57.720001   57.410000   57.610001   44.567329   \n2010-01-07   57.549999   57.889999   57.290001   57.849998   44.752983   \n2010-01-08   57.700001   58.049999   57.560001   58.040001   44.899982   \n...                ...         ...         ...         ...         ...   \n2024-01-22  240.539993  241.399994  240.050003  240.580002  240.580002   \n2024-01-23  241.020004  241.169998  240.059998  241.020004  241.020004   \n2024-01-24  242.660004  242.869995  240.850006  240.979996  240.979996   \n2024-01-25  242.190002  242.559998  241.070007  242.320007  242.320007   \n2024-01-26  242.309998  243.020004  241.729996  242.119995  242.119995   \n\n             Volume       Price  \nDate                             \n2010-01-04  2251500   57.340000  \n2010-01-05  1597700   57.500000  \n2010-01-06  2120300   57.549999  \n2010-01-07  1656700   57.700001  \n2010-01-08  1650000   58.299999  \n...             ...         ...  \n2024-01-22  3952700  241.020004  \n2024-01-23  3015300  242.660004  \n2024-01-24  3003000  242.190002  \n2024-01-25  2993900  242.309998  \n2024-01-26  2857900         NaN  \n\n[3540 rows x 7 columns]",
      "text/html": "<div>\n<style scoped>\n    .dataframe tbody tr th:only-of-type {\n        vertical-align: middle;\n    }\n\n    .dataframe tbody tr th {\n        vertical-align: top;\n    }\n\n    .dataframe thead th {\n        text-align: right;\n    }\n</style>\n<table border=\"1\" class=\"dataframe\">\n  <thead>\n    <tr style=\"text-align: right;\">\n      <th></th>\n      <th>Open</th>\n      <th>High</th>\n      <th>Low</th>\n      <th>Close</th>\n      <th>Adj Close</th>\n      <th>Volume</th>\n      <th>Price</th>\n    </tr>\n    <tr>\n      <th>Date</th>\n      <th></th>\n      <th></th>\n      <th></th>\n      <th></th>\n      <th></th>\n      <th></th>\n      <th></th>\n    </tr>\n  </thead>\n  <tbody>\n    <tr>\n      <th>2010-01-04</th>\n      <td>56.860001</td>\n      <td>57.380001</td>\n      <td>56.840000</td>\n      <td>57.310001</td>\n      <td>44.335220</td>\n      <td>2251500</td>\n      <td>57.340000</td>\n    </tr>\n    <tr>\n      <th>2010-01-05</th>\n      <td>57.340000</td>\n      <td>57.540001</td>\n      <td>57.110001</td>\n      <td>57.529999</td>\n      <td>44.505428</td>\n      <td>1597700</td>\n      <td>57.500000</td>\n    </tr>\n    <tr>\n      <th>2010-01-06</th>\n      <td>57.500000</td>\n      <td>57.720001</td>\n      <td>57.410000</td>\n      <td>57.610001</td>\n      <td>44.567329</td>\n      <td>2120300</td>\n      <td>57.549999</td>\n    </tr>\n    <tr>\n      <th>2010-01-07</th>\n      <td>57.549999</td>\n      <td>57.889999</td>\n      <td>57.290001</td>\n      <td>57.849998</td>\n      <td>44.752983</td>\n      <td>1656700</td>\n      <td>57.700001</td>\n    </tr>\n    <tr>\n      <th>2010-01-08</th>\n      <td>57.700001</td>\n      <td>58.049999</td>\n      <td>57.560001</td>\n      <td>58.040001</td>\n      <td>44.899982</td>\n      <td>1650000</td>\n      <td>58.299999</td>\n    </tr>\n    <tr>\n      <th>...</th>\n      <td>...</td>\n      <td>...</td>\n      <td>...</td>\n      <td>...</td>\n      <td>...</td>\n      <td>...</td>\n      <td>...</td>\n    </tr>\n    <tr>\n      <th>2024-01-22</th>\n      <td>240.539993</td>\n      <td>241.399994</td>\n      <td>240.050003</td>\n      <td>240.580002</td>\n      <td>240.580002</td>\n      <td>3952700</td>\n      <td>241.020004</td>\n    </tr>\n    <tr>\n      <th>2024-01-23</th>\n      <td>241.020004</td>\n      <td>241.169998</td>\n      <td>240.059998</td>\n      <td>241.020004</td>\n      <td>241.020004</td>\n      <td>3015300</td>\n      <td>242.660004</td>\n    </tr>\n    <tr>\n      <th>2024-01-24</th>\n      <td>242.660004</td>\n      <td>242.869995</td>\n      <td>240.850006</td>\n      <td>240.979996</td>\n      <td>240.979996</td>\n      <td>3003000</td>\n      <td>242.190002</td>\n    </tr>\n    <tr>\n      <th>2024-01-25</th>\n      <td>242.190002</td>\n      <td>242.559998</td>\n      <td>241.070007</td>\n      <td>242.320007</td>\n      <td>242.320007</td>\n      <td>2993900</td>\n      <td>242.309998</td>\n    </tr>\n    <tr>\n      <th>2024-01-26</th>\n      <td>242.309998</td>\n      <td>243.020004</td>\n      <td>241.729996</td>\n      <td>242.119995</td>\n      <td>242.119995</td>\n      <td>2857900</td>\n      <td>NaN</td>\n    </tr>\n  </tbody>\n</table>\n<p>3540 rows × 7 columns</p>\n</div>"
     },
     "execution_count": 16,
     "metadata": {},
     "output_type": "execute_result"
    }
   ],
   "source": [
    "appl_df"
   ]
  },
  {
   "cell_type": "code",
   "execution_count": 17,
   "metadata": {
    "ExecuteTime": {
     "end_time": "2024-01-27T09:43:29.064152Z",
     "start_time": "2024-01-27T09:43:29.059605Z"
    }
   },
   "outputs": [],
   "source": [
    "# We calculate the SMA (Simple Moving Average) for a given period\n",
    "def calc_ma(df, n):\n",
    "    df['SMA'] = df.Close.rolling(n).mean()"
   ]
  },
  {
   "cell_type": "code",
   "execution_count": 24,
   "metadata": {
    "ExecuteTime": {
     "end_time": "2024-01-27T09:47:51.410279Z",
     "start_time": "2024-01-27T09:47:51.399890Z"
    }
   },
   "outputs": [],
   "source": [
    "# We build a strategy that buys when the price is above the SMA and sells when the price is below the SMA\n",
    "# We are long only, so we can only buy when we are not in a position\n",
    "def backtest(df, n, year_start=2010, year_end=2020):\n",
    "    df['SMA'] = df.Close.rolling(n).mean()\n",
    "    # Filter the data to the year range\n",
    "    df = df[(df.index.year >= year_start) & (df.index.year <= year_end)]\n",
    "    in_position = False\n",
    "    profits = []\n",
    "    for index, row in df.iterrows():\n",
    "        if not in_position:\n",
    "            if row.Close > row.SMA:\n",
    "                buyprice = row.Price\n",
    "                in_position = True \n",
    "        if in_position:\n",
    "            if row.Close < row.SMA:\n",
    "               profit = (row.Price - buyprice)/buyprice \n",
    "               profits.append(profit)\n",
    "               in_position = False\n",
    "    gain = (pd.Series(profits) + 1).prod()   \n",
    "    return gain"
   ]
  },
  {
   "cell_type": "code",
   "execution_count": 27,
   "metadata": {
    "ExecuteTime": {
     "end_time": "2024-01-27T09:48:23.915711Z",
     "start_time": "2024-01-27T09:48:23.887183Z"
    }
   },
   "outputs": [
    {
     "data": {
      "text/plain": "1.3599768229831666"
     },
     "execution_count": 27,
     "metadata": {},
     "output_type": "execute_result"
    }
   ],
   "source": [
    "backtest(appl_df, 10, year_start=2019, year_end=2023)"
   ]
  },
  {
   "cell_type": "code",
   "execution_count": 20,
   "metadata": {
    "ExecuteTime": {
     "end_time": "2024-01-27T09:43:35.333840Z",
     "start_time": "2024-01-27T09:43:35.328951Z"
    }
   },
   "outputs": [
    {
     "data": {
      "text/plain": "4.224742441378244"
     },
     "execution_count": 20,
     "metadata": {},
     "output_type": "execute_result"
    }
   ],
   "source": [
    "(appl_df.Close.pct_change()+1).prod()"
   ]
  },
  {
   "cell_type": "code",
   "execution_count": 40,
   "metadata": {
    "ExecuteTime": {
     "end_time": "2024-01-27T09:56:13.341575Z",
     "start_time": "2024-01-27T09:56:12.003575Z"
    }
   },
   "outputs": [
    {
     "name": "stderr",
     "output_type": "stream",
     "text": [
      "/var/folders/_n/nybmwjg90rxfzcynss3bqkr80000gp/T/ipykernel_15040/1783941183.py:5: FutureWarning: The behavior of DataFrame concatenation with empty or all-NA entries is deprecated. In a future version, this will no longer exclude empty or all-NA columns when determining the result dtypes. To retain the old behavior, exclude the relevant entries before the concat operation.\n",
      "  results = pd.concat([results, pd.DataFrame.from_dict({'year': [year],'n':[n],'gain':[backtest(appl_df,n,year_start=year, year_end=year)]})], ignore_index=True)\n"
     ]
    },
    {
     "name": "stdout",
     "output_type": "stream",
     "text": [
      "parameter:50\n",
      "0.9477939394300724\n",
      "parameter:100\n",
      "1\n",
      "parameter:50\n",
      "0.9324443159411294\n",
      "parameter:100\n",
      "0.9341020756281825\n",
      "parameter:50\n",
      "1.037309628879006\n",
      "parameter:100\n",
      "1.017757507283721\n",
      "parameter:50\n",
      "1.0621918431708621\n",
      "parameter:100\n",
      "1.087060711879765\n",
      "parameter:50\n",
      "0.9706400891129857\n",
      "parameter:100\n",
      "1.0089976438528752\n",
      "parameter:50\n",
      "0.8871677689023408\n",
      "parameter:100\n",
      "0.9185339129322154\n",
      "parameter:50\n",
      "0.9952057573067369\n",
      "parameter:100\n",
      "1.0384014499057101\n",
      "parameter:50\n",
      "1.005959461413708\n",
      "parameter:100\n",
      "1\n",
      "parameter:50\n",
      "0.9509995997415931\n",
      "parameter:100\n",
      "0.9774004326137197\n",
      "parameter:50\n",
      "1.010112606096389\n",
      "parameter:100\n",
      "0.9534664781617055\n",
      "parameter:50\n",
      "1.1527473053258088\n",
      "parameter:100\n",
      "1.0785313864134083\n",
      "parameter:50\n",
      "1.05664398603031\n",
      "parameter:100\n",
      "1.1297569990403966\n",
      "parameter:50\n",
      "0.8525235142440021\n",
      "parameter:100\n",
      "0.8008560488049655\n",
      "parameter:50\n",
      "1.0114754804505648\n",
      "parameter:100\n",
      "1.0490118477592996\n"
     ]
    }
   ],
   "source": [
    "# Get the results in a dataframe\n",
    "results = pd.DataFrame(columns=['n','gain'])\n",
    "for year in range(2010, 2024):\n",
    "    for n in np.arange(10,105,5):\n",
    "        results = pd.concat([results, pd.DataFrame.from_dict({'year': [year],'n':[n],'gain':[backtest(appl_df,n,year_start=year, year_end=year)]})], ignore_index=True)\n",
    "        if n % 50 == 0:\n",
    "            print('parameter:' + str(n))\n",
    "            print(backtest(appl_df,n,year_start=year, year_end=year))\n",
    "# for n in np.arange(10,205,5):\n",
    "#     results = pd.concat([results, pd.DataFrame.from_dict({'n':[n],'gain':[backtest(appl_df,n)]})], ignore_index=True)\n",
    "#     if n % 50 == 0:\n",
    "#         print('parameter:' + str(n))\n",
    "#         print(backtest(appl_df,n))"
   ]
  },
  {
   "cell_type": "code",
   "outputs": [
    {
     "data": {
      "text/plain": "       n      gain    year\n0     10  1.035872  2010.0\n1     15  1.131807  2010.0\n2     20  1.103988  2010.0\n3     25  1.037827  2010.0\n4     30  1.093176  2010.0\n..   ...       ...     ...\n261   80  1.041287  2023.0\n262   85  1.052326  2023.0\n263   90  1.054862  2023.0\n264   95  1.054862  2023.0\n265  100  1.049012  2023.0\n\n[266 rows x 3 columns]",
      "text/html": "<div>\n<style scoped>\n    .dataframe tbody tr th:only-of-type {\n        vertical-align: middle;\n    }\n\n    .dataframe tbody tr th {\n        vertical-align: top;\n    }\n\n    .dataframe thead th {\n        text-align: right;\n    }\n</style>\n<table border=\"1\" class=\"dataframe\">\n  <thead>\n    <tr style=\"text-align: right;\">\n      <th></th>\n      <th>n</th>\n      <th>gain</th>\n      <th>year</th>\n    </tr>\n  </thead>\n  <tbody>\n    <tr>\n      <th>0</th>\n      <td>10</td>\n      <td>1.035872</td>\n      <td>2010.0</td>\n    </tr>\n    <tr>\n      <th>1</th>\n      <td>15</td>\n      <td>1.131807</td>\n      <td>2010.0</td>\n    </tr>\n    <tr>\n      <th>2</th>\n      <td>20</td>\n      <td>1.103988</td>\n      <td>2010.0</td>\n    </tr>\n    <tr>\n      <th>3</th>\n      <td>25</td>\n      <td>1.037827</td>\n      <td>2010.0</td>\n    </tr>\n    <tr>\n      <th>4</th>\n      <td>30</td>\n      <td>1.093176</td>\n      <td>2010.0</td>\n    </tr>\n    <tr>\n      <th>...</th>\n      <td>...</td>\n      <td>...</td>\n      <td>...</td>\n    </tr>\n    <tr>\n      <th>261</th>\n      <td>80</td>\n      <td>1.041287</td>\n      <td>2023.0</td>\n    </tr>\n    <tr>\n      <th>262</th>\n      <td>85</td>\n      <td>1.052326</td>\n      <td>2023.0</td>\n    </tr>\n    <tr>\n      <th>263</th>\n      <td>90</td>\n      <td>1.054862</td>\n      <td>2023.0</td>\n    </tr>\n    <tr>\n      <th>264</th>\n      <td>95</td>\n      <td>1.054862</td>\n      <td>2023.0</td>\n    </tr>\n    <tr>\n      <th>265</th>\n      <td>100</td>\n      <td>1.049012</td>\n      <td>2023.0</td>\n    </tr>\n  </tbody>\n</table>\n<p>266 rows × 3 columns</p>\n</div>"
     },
     "execution_count": 41,
     "metadata": {},
     "output_type": "execute_result"
    }
   ],
   "source": [
    "results"
   ],
   "metadata": {
    "collapsed": false,
    "ExecuteTime": {
     "end_time": "2024-01-27T09:56:14.469827Z",
     "start_time": "2024-01-27T09:56:14.466641Z"
    }
   },
   "execution_count": 41
  },
  {
   "cell_type": "code",
   "outputs": [
    {
     "data": {
      "text/plain": "<Axes: title={'center': 'gain'}, xlabel='n'>"
     },
     "execution_count": 42,
     "metadata": {},
     "output_type": "execute_result"
    },
    {
     "data": {
      "text/plain": "<Figure size 640x480 with 1 Axes>",
      "image/png": "[encoded data removed]"
     },
     "metadata": {},
     "output_type": "display_data"
    }
   ],
   "source": [
    "# Plot the results in a box plot with year as third dimension\n",
    "results.boxplot(column='gain', by='n')\n",
    "\n",
    "# results.plot(x='n',y='gain')"
   ],
   "metadata": {
    "collapsed": false,
    "ExecuteTime": {
     "end_time": "2024-01-27T09:56:15.479608Z",
     "start_time": "2024-01-27T09:56:15.392211Z"
    }
   },
   "execution_count": 42
  },
  {
   "cell_type": "code",
   "outputs": [],
   "source": [],
   "metadata": {
    "collapsed": false
   }
  }
 ],
 "metadata": {
  "kernelspec": {
   "display_name": "base",
   "language": "python",
   "name": "python3"
  },
  "language_info": {
   "codemirror_mode": {
    "name": "ipython",
    "version": 3
   },
   "file_extension": ".py",
   "mimetype": "text/x-python",
   "name": "python",
   "nbconvert_exporter": "python",
   "pygments_lexer": "ipython3",
   "version": "3.8.17"
  },
  "orig_nbformat": 4
 },
 "nbformat": 4,
 "nbformat_minor": 2
}
