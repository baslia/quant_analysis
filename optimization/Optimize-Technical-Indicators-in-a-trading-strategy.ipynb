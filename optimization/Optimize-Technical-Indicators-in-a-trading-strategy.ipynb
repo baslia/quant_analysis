{
 "cells": [
  {
   "cell_type": "code",
   "execution_count": 1,
   "metadata": {
    "ExecuteTime": {
     "end_time": "2024-01-27T09:41:43.473465Z",
     "start_time": "2024-01-27T09:41:42.258632Z"
    }
   },
   "outputs": [],
   "source": [
    "import yfinance as yf\n",
    "import pandas as pd\n",
    "import numpy as np"
   ]
  },
  {
   "cell_type": "code",
   "execution_count": 14,
   "metadata": {
    "ExecuteTime": {
     "end_time": "2024-01-27T09:43:22.510780Z",
     "start_time": "2024-01-27T09:43:22.227825Z"
    }
   },
   "outputs": [],
   "source": [
    "# We download the data from Yahoo Finance\n",
    "appl_df = yf.download('VTI', start=\"2010-01-01\", progress=False)"
   ]
  },
  {
   "cell_type": "code",
   "execution_count": 15,
   "metadata": {
    "ExecuteTime": {
     "end_time": "2024-01-27T09:43:23.263332Z",
     "start_time": "2024-01-27T09:43:23.259725Z"
    }
   },
   "outputs": [],
   "source": [
    "# We set up the Price column to be the next day's open price\n",
    "appl_df['Price'] = appl_df.Open.shift(-1)"
   ]
  },
  {
   "cell_type": "code",
   "execution_count": 16,
   "metadata": {
    "ExecuteTime": {
     "end_time": "2024-01-27T09:43:24.026895Z",
     "start_time": "2024-01-27T09:43:24.022949Z"
    }
   },
   "outputs": [
    {
     "data": {
      "text/plain": "                  Open        High         Low       Close   Adj Close  \\\nDate                                                                     \n2010-01-04   56.860001   57.380001   56.840000   57.310001   44.335220   \n2010-01-05   57.340000   57.540001   57.110001   57.529999   44.505428   \n2010-01-06   57.500000   57.720001   57.410000   57.610001   44.567329   \n2010-01-07   57.549999   57.889999   57.290001   57.849998   44.752983   \n2010-01-08   57.700001   58.049999   57.560001   58.040001   44.899982   \n...                ...         ...         ...         ...         ...   \n2024-01-22  240.539993  241.399994  240.050003  240.580002  240.580002   \n2024-01-23  241.020004  241.169998  240.059998  241.020004  241.020004   \n2024-01-24  242.660004  242.869995  240.850006  240.979996  240.979996   \n2024-01-25  242.190002  242.559998  241.070007  242.320007  242.320007   \n2024-01-26  242.309998  243.020004  241.729996  242.119995  242.119995   \n\n             Volume       Price  \nDate                             \n2010-01-04  2251500   57.340000  \n2010-01-05  1597700   57.500000  \n2010-01-06  2120300   57.549999  \n2010-01-07  1656700   57.700001  \n2010-01-08  1650000   58.299999  \n...             ...         ...  \n2024-01-22  3952700  241.020004  \n2024-01-23  3015300  242.660004  \n2024-01-24  3003000  242.190002  \n2024-01-25  2993900  242.309998  \n2024-01-26  2857900         NaN  \n\n[3540 rows x 7 columns]",
      "text/html": "<div>\n<style scoped>\n    .dataframe tbody tr th:only-of-type {\n        vertical-align: middle;\n    }\n\n    .dataframe tbody tr th {\n        vertical-align: top;\n    }\n\n    .dataframe thead th {\n        text-align: right;\n    }\n</style>\n<table border=\"1\" class=\"dataframe\">\n  <thead>\n    <tr style=\"text-align: right;\">\n      <th></th>\n      <th>Open</th>\n      <th>High</th>\n      <th>Low</th>\n      <th>Close</th>\n      <th>Adj Close</th>\n      <th>Volume</th>\n      <th>Price</th>\n    </tr>\n    <tr>\n      <th>Date</th>\n      <th></th>\n      <th></th>\n      <th></th>\n      <th></th>\n      <th></th>\n      <th></th>\n      <th></th>\n    </tr>\n  </thead>\n  <tbody>\n    <tr>\n      <th>2010-01-04</th>\n      <td>56.860001</td>\n      <td>57.380001</td>\n      <td>56.840000</td>\n      <td>57.310001</td>\n      <td>44.335220</td>\n      <td>2251500</td>\n      <td>57.340000</td>\n    </tr>\n    <tr>\n      <th>2010-01-05</th>\n      <td>57.340000</td>\n      <td>57.540001</td>\n      <td>57.110001</td>\n      <td>57.529999</td>\n      <td>44.505428</td>\n      <td>1597700</td>\n      <td>57.500000</td>\n    </tr>\n    <tr>\n      <th>2010-01-06</th>\n      <td>57.500000</td>\n      <td>57.720001</td>\n      <td>57.410000</td>\n      <td>57.610001</td>\n      <td>44.567329</td>\n      <td>2120300</td>\n      <td>57.549999</td>\n    </tr>\n    <tr>\n      <th>2010-01-07</th>\n      <td>57.549999</td>\n      <td>57.889999</td>\n      <td>57.290001</td>\n      <td>57.849998</td>\n      <td>44.752983</td>\n      <td>1656700</td>\n      <td>57.700001</td>\n    </tr>\n    <tr>\n      <th>2010-01-08</th>\n      <td>57.700001</td>\n      <td>58.049999</td>\n      <td>57.560001</td>\n      <td>58.040001</td>\n      <td>44.899982</td>\n      <td>1650000</td>\n      <td>58.299999</td>\n    </tr>\n    <tr>\n      <th>...</th>\n      <td>...</td>\n      <td>...</td>\n      <td>...</td>\n      <td>...</td>\n      <td>...</td>\n      <td>...</td>\n      <td>...</td>\n    </tr>\n    <tr>\n      <th>2024-01-22</th>\n      <td>240.539993</td>\n      <td>241.399994</td>\n      <td>240.050003</td>\n      <td>240.580002</td>\n      <td>240.580002</td>\n      <td>3952700</td>\n      <td>241.020004</td>\n    </tr>\n    <tr>\n      <th>2024-01-23</th>\n      <td>241.020004</td>\n      <td>241.169998</td>\n      <td>240.059998</td>\n      <td>241.020004</td>\n      <td>241.020004</td>\n      <td>3015300</td>\n      <td>242.660004</td>\n    </tr>\n    <tr>\n      <th>2024-01-24</th>\n      <td>242.660004</td>\n      <td>242.869995</td>\n      <td>240.850006</td>\n      <td>240.979996</td>\n      <td>240.979996</td>\n      <td>3003000</td>\n      <td>242.190002</td>\n    </tr>\n    <tr>\n      <th>2024-01-25</th>\n      <td>242.190002</td>\n      <td>242.559998</td>\n      <td>241.070007</td>\n      <td>242.320007</td>\n      <td>242.320007</td>\n      <td>2993900</td>\n      <td>242.309998</td>\n    </tr>\n    <tr>\n      <th>2024-01-26</th>\n      <td>242.309998</td>\n      <td>243.020004</td>\n      <td>241.729996</td>\n      <td>242.119995</td>\n      <td>242.119995</td>\n      <td>2857900</td>\n      <td>NaN</td>\n    </tr>\n  </tbody>\n</table>\n<p>3540 rows × 7 columns</p>\n</div>"
     },
     "execution_count": 16,
     "metadata": {},
     "output_type": "execute_result"
    }
   ],
   "source": [
    "appl_df"
   ]
  },
  {
   "cell_type": "code",
   "execution_count": 17,
   "metadata": {
    "ExecuteTime": {
     "end_time": "2024-01-27T09:43:29.064152Z",
     "start_time": "2024-01-27T09:43:29.059605Z"
    }
   },
   "outputs": [],
   "source": [
    "# We calculate the SMA (Simple Moving Average) for a given period\n",
    "def calc_ma(df, n):\n",
    "    df['SMA'] = df.Close.rolling(n).mean()"
   ]
  },
  {
   "cell_type": "code",
   "execution_count": 18,
   "metadata": {
    "ExecuteTime": {
     "end_time": "2024-01-27T09:43:29.851675Z",
     "start_time": "2024-01-27T09:43:29.846791Z"
    }
   },
   "outputs": [],
   "source": [
    "# We build a strategy that buys when the price is above the SMA and sells when the price is below the SMA\n",
    "# We are long only, so we can only buy when we are not in a position\n",
    "def backtest(df, n):\n",
    "    df['SMA'] = df.Close.rolling(n).mean()\n",
    "    in_position = False\n",
    "    profits = []\n",
    "    for index, row in df.iterrows():\n",
    "        if not in_position:\n",
    "            if row.Close > row.SMA:\n",
    "                buyprice = row.Price\n",
    "                in_position = True \n",
    "        if in_position:\n",
    "            if row.Close < row.SMA:\n",
    "               profit = (row.Price - buyprice)/buyprice \n",
    "               profits.append(profit)\n",
    "               in_position = False\n",
    "    gain = (pd.Series(profits) + 1).prod()   \n",
    "    return gain"
   ]
  },
  {
   "cell_type": "code",
   "execution_count": 19,
   "metadata": {
    "ExecuteTime": {
     "end_time": "2024-01-27T09:43:32.876835Z",
     "start_time": "2024-01-27T09:43:32.822907Z"
    }
   },
   "outputs": [
    {
     "data": {
      "text/plain": "1.6964968487040273"
     },
     "execution_count": 19,
     "metadata": {},
     "output_type": "execute_result"
    }
   ],
   "source": [
    "backtest(appl_df, 10)"
   ]
  },
  {
   "cell_type": "code",
   "execution_count": 20,
   "metadata": {
    "ExecuteTime": {
     "end_time": "2024-01-27T09:43:35.333840Z",
     "start_time": "2024-01-27T09:43:35.328951Z"
    }
   },
   "outputs": [
    {
     "data": {
      "text/plain": "4.224742441378244"
     },
     "execution_count": 20,
     "metadata": {},
     "output_type": "execute_result"
    }
   ],
   "source": [
    "(appl_df.Close.pct_change()+1).prod()"
   ]
  },
  {
   "cell_type": "code",
   "execution_count": 22,
   "metadata": {
    "ExecuteTime": {
     "end_time": "2024-01-27T09:43:40.003183Z",
     "start_time": "2024-01-27T09:43:37.634425Z"
    }
   },
   "outputs": [
    {
     "name": "stderr",
     "output_type": "stream",
     "text": [
      "/var/folders/_n/nybmwjg90rxfzcynss3bqkr80000gp/T/ipykernel_15040/1099448508.py:5: FutureWarning: The behavior of DataFrame concatenation with empty or all-NA entries is deprecated. In a future version, this will no longer exclude empty or all-NA columns when determining the result dtypes. To retain the old behavior, exclude the relevant entries before the concat operation.\n",
      "  results = pd.concat([results, pd.DataFrame.from_dict({'n':[n],'gain':[backtest(appl_df,n)]})], ignore_index=True)\n"
     ]
    },
    {
     "name": "stdout",
     "output_type": "stream",
     "text": [
      "parameter:50\n",
      "1.5218157551485156\n",
      "parameter:100\n",
      "1.98889882577866\n",
      "parameter:150\n",
      "1.8684961045291797\n",
      "parameter:200\n",
      "2.283454588015385\n"
     ]
    }
   ],
   "source": [
    "# Get the results in a dataframe\n",
    "results = pd.DataFrame(columns=['n','gain'])\n",
    "\n",
    "for n in np.arange(10,205,5):\n",
    "    results = pd.concat([results, pd.DataFrame.from_dict({'n':[n],'gain':[backtest(appl_df,n)]})], ignore_index=True)\n",
    "    if n % 50 == 0:\n",
    "        print('parameter:' + str(n))\n",
    "        print(backtest(appl_df,n))"
   ]
  },
  {
   "cell_type": "code",
   "outputs": [
    {
     "data": {
      "text/plain": "      n       gain\n0    10   9.055902\n1    15   9.692759\n2    20  18.428941\n3    25  15.614660\n4    30  10.713841\n5    35   8.725022\n6    40  10.220918\n7    45   6.232176\n8    50   9.371351\n9    55   8.074473\n10   60   8.039833\n11   65   8.147487\n12   70   6.113715\n13   75   5.803002\n14   80   5.088619\n15   85   5.905059\n16   90   5.856516\n17   95   5.983468\n18  100   6.516713\n19  105   7.339425\n20  110   7.822793\n21  115   8.524716\n22  120   8.583270\n23  125   9.203962\n24  130   9.578233\n25  135   9.159121\n26  140  10.451702\n27  145  12.149052\n28  150  14.613222\n29  155  16.533856\n30  160  16.409176\n31  165  18.847628\n32  170  16.553041\n33  175  15.037370\n34  180  14.291625\n35  185  14.950059\n36  190  14.764062\n37  195  12.206663\n38  200  11.277166",
      "text/html": "<div>\n<style scoped>\n    .dataframe tbody tr th:only-of-type {\n        vertical-align: middle;\n    }\n\n    .dataframe tbody tr th {\n        vertical-align: top;\n    }\n\n    .dataframe thead th {\n        text-align: right;\n    }\n</style>\n<table border=\"1\" class=\"dataframe\">\n  <thead>\n    <tr style=\"text-align: right;\">\n      <th></th>\n      <th>n</th>\n      <th>gain</th>\n    </tr>\n  </thead>\n  <tbody>\n    <tr>\n      <th>0</th>\n      <td>10</td>\n      <td>9.055902</td>\n    </tr>\n    <tr>\n      <th>1</th>\n      <td>15</td>\n      <td>9.692759</td>\n    </tr>\n    <tr>\n      <th>2</th>\n      <td>20</td>\n      <td>18.428941</td>\n    </tr>\n    <tr>\n      <th>3</th>\n      <td>25</td>\n      <td>15.614660</td>\n    </tr>\n    <tr>\n      <th>4</th>\n      <td>30</td>\n      <td>10.713841</td>\n    </tr>\n    <tr>\n      <th>5</th>\n      <td>35</td>\n      <td>8.725022</td>\n    </tr>\n    <tr>\n      <th>6</th>\n      <td>40</td>\n      <td>10.220918</td>\n    </tr>\n    <tr>\n      <th>7</th>\n      <td>45</td>\n      <td>6.232176</td>\n    </tr>\n    <tr>\n      <th>8</th>\n      <td>50</td>\n      <td>9.371351</td>\n    </tr>\n    <tr>\n      <th>9</th>\n      <td>55</td>\n      <td>8.074473</td>\n    </tr>\n    <tr>\n      <th>10</th>\n      <td>60</td>\n      <td>8.039833</td>\n    </tr>\n    <tr>\n      <th>11</th>\n      <td>65</td>\n      <td>8.147487</td>\n    </tr>\n    <tr>\n      <th>12</th>\n      <td>70</td>\n      <td>6.113715</td>\n    </tr>\n    <tr>\n      <th>13</th>\n      <td>75</td>\n      <td>5.803002</td>\n    </tr>\n    <tr>\n      <th>14</th>\n      <td>80</td>\n      <td>5.088619</td>\n    </tr>\n    <tr>\n      <th>15</th>\n      <td>85</td>\n      <td>5.905059</td>\n    </tr>\n    <tr>\n      <th>16</th>\n      <td>90</td>\n      <td>5.856516</td>\n    </tr>\n    <tr>\n      <th>17</th>\n      <td>95</td>\n      <td>5.983468</td>\n    </tr>\n    <tr>\n      <th>18</th>\n      <td>100</td>\n      <td>6.516713</td>\n    </tr>\n    <tr>\n      <th>19</th>\n      <td>105</td>\n      <td>7.339425</td>\n    </tr>\n    <tr>\n      <th>20</th>\n      <td>110</td>\n      <td>7.822793</td>\n    </tr>\n    <tr>\n      <th>21</th>\n      <td>115</td>\n      <td>8.524716</td>\n    </tr>\n    <tr>\n      <th>22</th>\n      <td>120</td>\n      <td>8.583270</td>\n    </tr>\n    <tr>\n      <th>23</th>\n      <td>125</td>\n      <td>9.203962</td>\n    </tr>\n    <tr>\n      <th>24</th>\n      <td>130</td>\n      <td>9.578233</td>\n    </tr>\n    <tr>\n      <th>25</th>\n      <td>135</td>\n      <td>9.159121</td>\n    </tr>\n    <tr>\n      <th>26</th>\n      <td>140</td>\n      <td>10.451702</td>\n    </tr>\n    <tr>\n      <th>27</th>\n      <td>145</td>\n      <td>12.149052</td>\n    </tr>\n    <tr>\n      <th>28</th>\n      <td>150</td>\n      <td>14.613222</td>\n    </tr>\n    <tr>\n      <th>29</th>\n      <td>155</td>\n      <td>16.533856</td>\n    </tr>\n    <tr>\n      <th>30</th>\n      <td>160</td>\n      <td>16.409176</td>\n    </tr>\n    <tr>\n      <th>31</th>\n      <td>165</td>\n      <td>18.847628</td>\n    </tr>\n    <tr>\n      <th>32</th>\n      <td>170</td>\n      <td>16.553041</td>\n    </tr>\n    <tr>\n      <th>33</th>\n      <td>175</td>\n      <td>15.037370</td>\n    </tr>\n    <tr>\n      <th>34</th>\n      <td>180</td>\n      <td>14.291625</td>\n    </tr>\n    <tr>\n      <th>35</th>\n      <td>185</td>\n      <td>14.950059</td>\n    </tr>\n    <tr>\n      <th>36</th>\n      <td>190</td>\n      <td>14.764062</td>\n    </tr>\n    <tr>\n      <th>37</th>\n      <td>195</td>\n      <td>12.206663</td>\n    </tr>\n    <tr>\n      <th>38</th>\n      <td>200</td>\n      <td>11.277166</td>\n    </tr>\n  </tbody>\n</table>\n</div>"
     },
     "execution_count": 12,
     "metadata": {},
     "output_type": "execute_result"
    }
   ],
   "source": [
    "results"
   ],
   "metadata": {
    "collapsed": false,
    "ExecuteTime": {
     "end_time": "2024-01-27T09:43:11.972301Z",
     "start_time": "2024-01-27T09:43:11.961725Z"
    }
   },
   "execution_count": 12
  },
  {
   "cell_type": "code",
   "outputs": [
    {
     "data": {
      "text/plain": "<Axes: xlabel='n'>"
     },
     "execution_count": 13,
     "metadata": {},
     "output_type": "execute_result"
    },
    {
     "data": {
      "text/plain": "<Figure size 640x480 with 1 Axes>",
      "image/png": "[encoded data removed]"
     },
     "metadata": {},
     "output_type": "display_data"
    }
   ],
   "source": [
    "results.plot(x='n',y='gain')"
   ],
   "metadata": {
    "collapsed": false,
    "ExecuteTime": {
     "end_time": "2024-01-27T09:43:13.524372Z",
     "start_time": "2024-01-27T09:43:12.990625Z"
    }
   },
   "execution_count": 13
  },
  {
   "cell_type": "code",
   "outputs": [],
   "source": [],
   "metadata": {
    "collapsed": false
   }
  }
 ],
 "metadata": {
  "kernelspec": {
   "display_name": "base",
   "language": "python",
   "name": "python3"
  },
  "language_info": {
   "codemirror_mode": {
    "name": "ipython",
    "version": 3
   },
   "file_extension": ".py",
   "mimetype": "text/x-python",
   "name": "python",
   "nbconvert_exporter": "python",
   "pygments_lexer": "ipython3",
   "version": "3.8.17"
  },
  "orig_nbformat": 4
 },
 "nbformat": 4,
 "nbformat_minor": 2
}
