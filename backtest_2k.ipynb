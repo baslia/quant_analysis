{
 "cells": [
  {
   "cell_type": "markdown",
   "source": [
    "# How to backtest 2,000,000 simulations for the best exits\n",
    "\n",
    "A backtest is a simulation of market dynamics that are used to test how trading strategies might perform.\n",
    "\n",
    "The problem is that the markets are noisy and difficult to model.\n",
    "\n",
    "So when running backtests, optimized models often fit to noise, instead of market inefficiencies. When applying the optimized parameters to previously unseen data, the model falls apart (along with your portfolio).\n",
    "\n",
    "All parameters of a strategy affect the result but only a few determine entry and exit dependent on the market price. These are the parameters that should be optimized.\n",
    "\n",
    "For example, is a 1% trailing stop better than a $1 stop loss?\n",
    "\n",
    "We’ll use the cutting-edge backtesting framework vectorbt to optimize the entry and exit type for a momentum strategy."
   ],
   "metadata": {
    "collapsed": false
   },
   "id": "f74ed8c9428594eb"
  },
  {
   "cell_type": "code",
   "execution_count": 2,
   "outputs": [],
   "source": [
    "import pytz\n",
    "from datetime import datetime, timedelta\n",
    "import numpy as np\n",
    "import pandas as pd\n",
    "import vectorbt as vbt"
   ],
   "metadata": {
    "collapsed": false,
    "ExecuteTime": {
     "end_time": "2023-09-09T13:14:17.609859Z",
     "start_time": "2023-09-09T13:14:13.848497Z"
    }
   },
   "id": "f0f4b57b7cccaa70"
  },
  {
   "cell_type": "code",
   "execution_count": 3,
   "outputs": [],
   "source": [
    "symbols = [\n",
    "    \"META\",\n",
    "    \"AMZN\",\n",
    "    \"AAPL\",\n",
    "    \"NFLX\",\n",
    "    \"GOOG\",\n",
    "]\n",
    "\n",
    "start_date = datetime(2018, 1, 1, tzinfo=pytz.utc)\n",
    "end_date = datetime(2021, 1, 1, tzinfo=pytz.utc)\n",
    "\n",
    "traded_count = 3\n",
    "window_len = timedelta(days=12 * 21)\n",
    "\n",
    "seed = 42\n",
    "window_count = 400\n",
    "exit_types = [\"SL\", \"TS\", \"TP\"]\n",
    "stops = np.arange(0.01, 1 + 0.01, 0.01)"
   ],
   "metadata": {
    "collapsed": false,
    "ExecuteTime": {
     "end_time": "2023-09-09T13:14:24.816056Z",
     "start_time": "2023-09-09T13:14:24.810417Z"
    }
   },
   "id": "4020c272a210ff18"
  },
  {
   "cell_type": "code",
   "execution_count": 4,
   "outputs": [],
   "source": [
    "yfdata = vbt.YFData.download(symbols, start=start_date, end=end_date)\n",
    "ohlcv = yfdata.concat()\n",
    "\n",
    "split_ohlcv = {}\n",
    "\n",
    "for k, v in ohlcv.items():\n",
    "    split_df, split_indexes = v.vbt.range_split(\n",
    "        range_len=window_len.days, n=window_count\n",
    "    )\n",
    "    split_ohlcv[k] = split_df\n",
    "ohlcv = split_ohlcv"
   ],
   "metadata": {
    "collapsed": false,
    "ExecuteTime": {
     "end_time": "2023-09-09T13:15:40.796832Z",
     "start_time": "2023-09-09T13:15:39.341946Z"
    }
   },
   "id": "c5c9b81274fdcd7b"
  },
  {
   "cell_type": "markdown",
   "source": [
    "## Build the momentum strategy\n",
    "\n",
    "Our strategy selects the top 3 stocks every split based on their mean return. The strategy equally allocates across the stocks at the beginning of the period, and exits at the end."
   ],
   "metadata": {
    "collapsed": false
   },
   "id": "18149942f8222a26"
  },
  {
   "cell_type": "code",
   "execution_count": 5,
   "outputs": [],
   "source": [
    "momentum = ohlcv[\"Close\"].pct_change().mean()\n",
    "\n",
    "sorted_momentum = (\n",
    "    momentum\n",
    "    .groupby(\n",
    "        \"split_idx\", \n",
    "        group_keys=False, \n",
    "        sort=False\n",
    "    )\n",
    "    .apply(\n",
    "        pd.Series.sort_values\n",
    "    )\n",
    "    .groupby(\"split_idx\")\n",
    "    .head(traded_count)\n",
    ")\n",
    "\n",
    "selected_open = ohlcv[\"Open\"][sorted_momentum.index]\n",
    "selected_high = ohlcv[\"High\"][sorted_momentum.index]\n",
    "selected_low = ohlcv[\"Low\"][sorted_momentum.index]\n",
    "selected_close = ohlcv[\"Close\"][sorted_momentum.index]"
   ],
   "metadata": {
    "collapsed": false,
    "ExecuteTime": {
     "end_time": "2023-09-09T13:16:08.760648Z",
     "start_time": "2023-09-09T13:16:08.717783Z"
    }
   },
   "id": "77a96fa7e567056a"
  },
  {
   "cell_type": "markdown",
   "source": [
    "The code calculates the momentum of each stock symbol based on the percentage change of their closing prices. It then sorts these values within each split and selects the top 3 stocks with the highest momentum.\n",
    "\n",
    "Finally, it extracts the prices of the selected stocks using their indices and stores them in selected_open, selected_high, selected_low, and selected_close, respectively."
   ],
   "metadata": {
    "collapsed": false
   },
   "id": "b0e46a58c97bfbc3"
  },
  {
   "cell_type": "markdown",
   "source": [
    "## Test the order types\n",
    "\n",
    "There’s a lot of code here. But we’re essentially creating the exit positions based on the different order types."
   ],
   "metadata": {
    "collapsed": false
   },
   "id": "ae6c2d01ad131748"
  },
  {
   "cell_type": "code",
   "execution_count": 6,
   "outputs": [],
   "source": [
    "entries = pd.DataFrame.vbt.signals.empty_like(selected_open)\n",
    "entries.iloc[0, :] = True\n",
    "\n",
    "sl_exits = vbt.OHLCSTX.run(\n",
    "    entries,\n",
    "    selected_open,\n",
    "    selected_high,\n",
    "    selected_low,\n",
    "    selected_close,\n",
    "    sl_stop=list(stops),\n",
    "    stop_type=None,\n",
    "    stop_price=None,\n",
    ").exits\n",
    "\n",
    "ts_exits = vbt.OHLCSTX.run(\n",
    "    entries,\n",
    "    selected_open,\n",
    "    selected_high,\n",
    "    selected_low,\n",
    "    selected_close,\n",
    "    sl_stop=list(stops),\n",
    "    sl_trail=True,\n",
    "    stop_type=None,\n",
    "    stop_price=None,\n",
    ").exits\n",
    "\n",
    "tp_exits = vbt.OHLCSTX.run(\n",
    "    entries,\n",
    "    selected_open,\n",
    "    selected_high,\n",
    "    selected_low,\n",
    "    selected_close,\n",
    "    tp_stop=list(stops),\n",
    "    stop_type=None,\n",
    "    stop_price=None,\n",
    ").exits\n",
    "\n",
    "sl_exits.vbt.rename_levels({\"ohlcstx_sl_stop\": \"stop_value\"}, inplace=True)\n",
    "ts_exits.vbt.rename_levels({\"ohlcstx_sl_stop\": \"stop_value\"}, inplace=True)\n",
    "tp_exits.vbt.rename_levels({\"ohlcstx_tp_stop\": \"stop_value\"}, inplace=True)\n",
    "ts_exits.vbt.drop_levels(\"ohlcstx_sl_trail\", inplace=True)\n",
    "\n",
    "sl_exits.iloc[-1, :] = True\n",
    "ts_exits.iloc[-1, :] = True\n",
    "tp_exits.iloc[-1, :] = True\n",
    "\n",
    "sl_exits = sl_exits.vbt.signals.first(reset_by=entries, allow_gaps=True)\n",
    "ts_exits = ts_exits.vbt.signals.first(reset_by=entries, allow_gaps=True)\n",
    "tp_exits = tp_exits.vbt.signals.first(reset_by=entries, allow_gaps=True)\n",
    "\n",
    "exits = pd.DataFrame.vbt.concat(\n",
    "    sl_exits,\n",
    "    ts_exits,\n",
    "    tp_exits,\n",
    "    keys=pd.Index(exit_types, name=\"exit_type\"),\n",
    ")"
   ],
   "metadata": {
    "collapsed": false,
    "ExecuteTime": {
     "end_time": "2023-09-09T13:18:39.446250Z",
     "start_time": "2023-09-09T13:18:35.548650Z"
    }
   },
   "id": "a8b17775ef91b10"
  },
  {
   "cell_type": "code",
   "execution_count": null,
   "outputs": [],
   "source": [],
   "metadata": {
    "collapsed": false
   },
   "id": "31dcd6fddd8f29e9"
  }
 ],
 "metadata": {
  "kernelspec": {
   "display_name": "Python 3",
   "language": "python",
   "name": "python3"
  },
  "language_info": {
   "codemirror_mode": {
    "name": "ipython",
    "version": 2
   },
   "file_extension": ".py",
   "mimetype": "text/x-python",
   "name": "python",
   "nbconvert_exporter": "python",
   "pygments_lexer": "ipython2",
   "version": "2.7.6"
  }
 },
 "nbformat": 4,
 "nbformat_minor": 5
}
