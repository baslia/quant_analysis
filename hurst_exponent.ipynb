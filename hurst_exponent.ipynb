{
 "cells": [
  {
   "cell_type": "markdown",
   "source": [
    "## Hurst exponent\n",
    "\n",
    "The Hurst exponent is a measure of the long-term memory of a time series. It quantifies the tendency of a time series to revert to its mean or cluster in one direction. The Hurst exponent shows if a time series behaves in a random, trending, or mean-reverting way. It captures the speed autocorrelation decrease as the lag increases.\n",
    "\n",
    "\n",
    "Traders use it to pick the right trading strategy for the current market conditions. For example, you do not want to trade a trend strategy if the Hurst exponent shows mean reverting market behavior.\n",
    "\n",
    "Use the Hurst exponent for strategy selection\n",
    "\n",
    "The Hurst exponent ranges between 0 and 1.\n",
    "\n",
    "- If the Hurst exponent is below 0.5, the market is mean reverting. Reversal strategies win in these markets.\n",
    "\n",
    "- If the Hurst exponent of 0.5 means the market is random. In this case, a trading strategy that relies on the market direction will lose money.\n",
    "\n",
    "- If the Hurst exponent is above 0.5 the market is trending. Markets with a high Hurst exponent are perfect for trend-following strategies.\n",
    "\n",
    "Unfortunately, most traders will trade the same strategy through all markets. Use the Hurst exponent to pick the right strategy for the market.\n",
    "\n",
    "\n",
    "1. Get stock price data\n",
    "2. Calculate the Hurst exponent\n",
    "3. Determine the type of market"
   ],
   "metadata": {
    "collapsed": false
   }
  },
  {
   "cell_type": "code",
   "execution_count": 1,
   "outputs": [
    {
     "data": {
      "text/plain": "Loading Daily data for ^GSPC with starting period 2000-01-03.\n",
      "text/html": "<pre style=\"white-space:pre;overflow-x:auto;line-height:normal;font-family:Menlo,'DejaVu Sans Mono',consolas,'Courier New',monospace\">Loading Daily data for ^GSPC with starting period 2000-01-03.\n</pre>\n"
     },
     "metadata": {},
     "output_type": "display_data"
    },
    {
     "data": {
      "text/plain": "<AxesSubplot:title={'left':'S&P 500'}, xlabel='date'>"
     },
     "execution_count": 1,
     "metadata": {},
     "output_type": "execute_result"
    },
    {
     "data": {
      "text/plain": "<Figure size 432x288 with 1 Axes>",
      "image/png": "[encoded data removed]"
     },
     "metadata": {
      "needs_background": "dark"
     },
     "output_type": "display_data"
    }
   ],
   "source": [
    "# Step 1: Get stock price data\n",
    "\n",
    "# Start with the imports. I use the OpenBB SDK for data.\n",
    "\n",
    "import pandas as pd\n",
    "import numpy as np\n",
    "\n",
    "from openbb_terminal.sdk import openbb\n",
    "# Download 20 years of data and plot it.\n",
    "\n",
    "df = openbb.stocks.load(\"^GSPC\", start_date=\"2000-01-01\", end_date=\"2019-12-31\")[\"Adj Close\"]\n",
    "\n",
    "df.plot(title=\"S&P 500\")"
   ],
   "metadata": {
    "collapsed": false,
    "ExecuteTime": {
     "end_time": "2023-05-13T16:43:11.546024Z",
     "start_time": "2023-05-13T16:43:03.203295Z"
    }
   }
  },
  {
   "cell_type": "code",
   "execution_count": 2,
   "outputs": [],
   "source": [
    "# Step 2: Calculate the Hurst exponent\n",
    "\n",
    "# There are a few ways to calculate the Hurst exponent. You can estimate the rate of diffusion based on the variance of log prices in three lines of Python code.\n",
    "\n",
    "def get_hurst_exponent(ts, max_lag=20):\n",
    "    lags = range(2, max_lag)\n",
    "    tau = [np.std(np.subtract(ts[lag:], ts[:-lag])) for lag in lags]\n",
    "\n",
    "    return np.polyfit(np.log(lags), np.log(tau), 1)[0]"
   ],
   "metadata": {
    "collapsed": false,
    "ExecuteTime": {
     "end_time": "2023-05-13T16:43:31.232015Z",
     "start_time": "2023-05-13T16:43:31.228836Z"
    }
   }
  },
  {
   "cell_type": "code",
   "execution_count": 9,
   "outputs": [
    {
     "data": {
      "text/plain": "date\n2000-01-03    1455.219971\n2000-01-04    1399.420044\n2000-01-05    1402.109985\n2000-01-06    1403.449951\n2000-01-07    1441.469971\n                 ...     \n2019-12-24    3223.379883\n2019-12-26    3239.909912\n2019-12-27    3240.020020\n2019-12-30    3221.290039\n2019-12-31    3230.780029\nName: Adj Close, Length: 5031, dtype: float64"
     },
     "execution_count": 9,
     "metadata": {},
     "output_type": "execute_result"
    }
   ],
   "source": [
    "df"
   ],
   "metadata": {
    "collapsed": false,
    "ExecuteTime": {
     "end_time": "2023-05-13T16:53:38.028438Z",
     "start_time": "2023-05-13T16:53:38.025106Z"
    }
   }
  },
  {
   "cell_type": "code",
   "execution_count": 3,
   "outputs": [
    {
     "name": "stdout",
     "output_type": "stream",
     "text": [
      "20 lags: 0.4482\n",
      "100 lags: 0.4515\n",
      "250 lags: 0.4918\n",
      "500 lags: 0.5265\n",
      "1000 lags: 0.5178\n",
      "20 lags: 0.3989\n",
      "100 lags: 0.3215\n",
      "250 lags: 0.2507\n",
      "500 lags: 0.1258\n"
     ]
    }
   ],
   "source": [
    "# Step 3: Determine the type of market\n",
    "\n",
    "# Take a look at how the lag parameter impacts the Hurst exponent.\n",
    "\n",
    "for lag in [20, 100, 250, 500, 1000]:\n",
    "    hurst_exp = get_hurst_exponent(df.values, lag)\n",
    "    print(f\"{lag} lags: {hurst_exp:.4f}\")\n",
    "# This will print the Hurst exponent at different lags. Over the entire time series, the S&P 500 is close to random. In the shorter lags, there is evidence of mean reversion.\n",
    "\n",
    "# Now, zoom in on a specific period in time.\n",
    "\n",
    "shorter_series = df.loc[\"2005\":\"2007\"].values\n",
    "for lag in [20, 100, 250, 500]:\n",
    "    hurst_exp = get_hurst_exponent(shorter_series, lag)\n",
    "    print(f\"{lag} lags: {hurst_exp:.4f}\")"
   ],
   "metadata": {
    "collapsed": false,
    "ExecuteTime": {
     "end_time": "2023-05-13T16:43:33.178197Z",
     "start_time": "2023-05-13T16:43:33.135055Z"
    }
   }
  },
  {
   "cell_type": "code",
   "execution_count": null,
   "outputs": [],
   "source": [],
   "metadata": {
    "collapsed": false
   }
  }
 ],
 "metadata": {
  "kernelspec": {
   "display_name": "Python 3",
   "language": "python",
   "name": "python3"
  },
  "language_info": {
   "codemirror_mode": {
    "name": "ipython",
    "version": 2
   },
   "file_extension": ".py",
   "mimetype": "text/x-python",
   "name": "python",
   "nbconvert_exporter": "python",
   "pygments_lexer": "ipython2",
   "version": "2.7.6"
  }
 },
 "nbformat": 4,
 "nbformat_minor": 0
}
