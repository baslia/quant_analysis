{
 "cells": [
  {
   "cell_type": "markdown",
   "source": [
    "# Automate algo trading with Python and IB\n",
    "\n",
    "In today’s issue, I’m going to show you how to send a trade order to Interactive Brokers (IB) with Python.\n",
    "\n",
    "IB is a US-based broker that has an API that lets traders send trade orders through algorithms. IB has cheap commissions, access to global markets, and good execution. I recommend using IB for trading, both manually and algorithmically.\n",
    "\n",
    "Some traders use the API to automate part of their trading. Some build sophisticated algorithms for fully-automated trading systems. Others use the API for storing real-time market data.\n",
    "\n",
    "If you don’t have an IB set up yet, head over to Interactive Brokers and set one up. If you use this link, you can earn up to $1,000.\n",
    "\n",
    "By the end of this issue, you’ll know how to:\n",
    "\n",
    "Install the Python API\n",
    "Install Trader Workstation\n",
    "Connect to IB through Python"
   ],
   "metadata": {
    "collapsed": false
   }
  },
  {
   "cell_type": "code",
   "execution_count": null,
   "outputs": [],
   "source": [
    "from ibapi.client import EClient\n",
    "from ibapi.wrapper import EWrapper\n",
    "\n",
    "class IBapi(EWrapper, EClient):\n",
    "     def __init__(self):\n",
    "         EClient.__init__(self, self)\n",
    "\n",
    "app = IBapi()\n",
    "app.connect(\"127.0.0.1\", 7497, 123)\n",
    "app.run()\n",
    "\n",
    "# uncomment this section if unable to connect\n",
    "# import time\n",
    "# time.sleep(2)\n",
    "# app.disconnect()"
   ],
   "metadata": {
    "collapsed": false
   }
  },
  {
   "cell_type": "code",
   "execution_count": null,
   "outputs": [],
   "source": [
    "# Step 2: Buy AAPL\n",
    "\n",
    "# To buy a stock, you send information about what you want to buy to IB through the API. The app.placeOrder the method does all the hard work for you.\n",
    "\n",
    "# First, import the classes from the IB API. Import threading to run the app in a single thread and time to pause execution of the script.\n",
    "\n",
    "from ibapi.client import EClient\n",
    "from ibapi.wrapper import EWrapper\n",
    "from ibapi.contract import Contract\n",
    "from ibapi.order import *\n",
    "\n",
    "import threading\n",
    "import time\n",
    "# This class creates the app. The app is what you use to interact with IB.\n",
    "\n",
    "# This class inherits two classes from the IB API. If this doesn’t make sense, don’t worry. The API needs an order ID associated with every order. nextValidId is a built-in function that finds the next available order ID. The other methods log output so you can see what’s happening.\n",
    "\n",
    "class IBapi(EWrapper, EClient):\n",
    "    def __init__(self):\n",
    "        EClient.__init__(self, self)\n",
    "\n",
    "    def nextValidId(self, orderId: int):\n",
    "        super().nextValidId(orderId)\n",
    "        self.nextorderId = orderId\n",
    "        print(\"The next valid order id is: \", self.nextorderId)\n",
    "\n",
    "    def orderStatus(\n",
    "        self,\n",
    "        orderId,\n",
    "        status,\n",
    "        filled,\n",
    "        remaining,\n",
    "        avgFullPrice,\n",
    "        permId,\n",
    "        parentId,\n",
    "        lastFillPrice,\n",
    "        clientId,\n",
    "        whyHeld,\n",
    "        mktCapPrice,\n",
    "    ):\n",
    "        print(\n",
    "            \"orderStatus - orderid:\",\n",
    "            orderId,\n",
    "            \"status:\",\n",
    "            status,\n",
    "            \"filled\",\n",
    "            filled,\n",
    "            \"remaining\",\n",
    "            remaining,\n",
    "            \"lastFillPrice\",\n",
    "            lastFillPrice,\n",
    "        )\n",
    "\n",
    "    def openOrder(self, orderId, contract, order, orderState):\n",
    "        print(\n",
    "            \"openOrder id:\",\n",
    "            orderId,\n",
    "            contract.symbol,\n",
    "            contract.secType,\n",
    "            \"@\",\n",
    "            contract.exchange,\n",
    "            \":\",\n",
    "            order.action,\n",
    "            order.orderType,\n",
    "            order.totalQuantity,\n",
    "            orderState.status,\n",
    "        )\n",
    "\n",
    "    def execDetails(self, reqId, contract, execution):\n",
    "        print(\n",
    "            \"Order Executed: \",\n",
    "            reqId,\n",
    "            contract.symbol,\n",
    "            contract.secType,\n",
    "            contract.currency,\n",
    "            execution.execId,\n",
    "            execution.orderId,\n",
    "            execution.shares,\n",
    "            execution.lastLiquidity,\n",
    "        )"
   ],
   "metadata": {
    "collapsed": false
   }
  },
  {
   "cell_type": "code",
   "execution_count": null,
   "outputs": [],
   "source": [
    "# Next, create a function to run the app. Then, define a stock contract (IB calls everything a contract).\n",
    "\n",
    "def run_loop():\n",
    "    app.run()\n",
    "\n",
    "def stock_contract(\n",
    "    symbol,\n",
    "    secType='STK',\n",
    "    exchange='SMART',\n",
    "    currency='USD'\n",
    "):\n",
    "    # create a stock contract\n",
    "    contract = Contract()\n",
    "    contract.symbol = symbol\n",
    "    contract.secType = secType\n",
    "    contract.exchange = exchange\n",
    "    contract.currency = currency\n",
    "\n",
    "    return contract"
   ],
   "metadata": {
    "collapsed": false
   }
  },
  {
   "cell_type": "code",
   "execution_count": null,
   "outputs": [],
   "source": [
    "# Now that the setup is out of the way, make the connection and start a thread. The while loop checks if the API is connected. If it is, app.nextorderId returns an int . Otherwise, it returns None.\n",
    "\n",
    "app = IBapi()\n",
    "app.connect('127.0.0.1', 7497, 123)\n",
    "\n",
    "app.nextorderId = None\n",
    "\n",
    "api_thread = threading.Thread(target=run_loop, daemon=True)\n",
    "api_thread.start()\n",
    "\n",
    "while True:\n",
    "    if isinstance(app.nextorderId, int):\n",
    "        print('connected')\n",
    "        break\n",
    "    else:\n",
    "        print('waiting for connection')\n",
    "        time.sleep(1)"
   ],
   "metadata": {
    "collapsed": false
   }
  },
  {
   "cell_type": "code",
   "execution_count": null,
   "outputs": [],
   "source": [
    "order = Order()\n",
    "order.action = \"BUY\"\n",
    "order.totalQuantity = 10\n",
    "order.orderType = \"LMT\"\n",
    "order.lmtPrice = \"130.00\"\n",
    "\n",
    "app.placeOrder(app.nextorderId, stock_contract(\"AAPL\"), order)\n",
    "\n",
    "# uncomment if you are sending more than one order\n",
    "# app.nextorderId += 1\n",
    "\n",
    "time.sleep(3)\n",
    "\n",
    "# cancel the order for the demo\n",
    "print('cancelling order')\n",
    "app.cancelOrder(app.nextorderId, \"\")\n",
    "\n",
    "time.sleep(3)\n",
    "app.disconnect()"
   ],
   "metadata": {
    "collapsed": false
   }
  }
 ],
 "metadata": {
  "kernelspec": {
   "display_name": "Python 3",
   "language": "python",
   "name": "python3"
  },
  "language_info": {
   "codemirror_mode": {
    "name": "ipython",
    "version": 2
   },
   "file_extension": ".py",
   "mimetype": "text/x-python",
   "name": "python",
   "nbconvert_exporter": "python",
   "pygments_lexer": "ipython2",
   "version": "2.7.6"
  }
 },
 "nbformat": 4,
 "nbformat_minor": 0
}
