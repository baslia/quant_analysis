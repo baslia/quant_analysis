{
 "cells": [
  {
   "cell_type": "markdown",
   "source": [
    "# 3 ways to clearly measure your investment skill (like a professional)\n",
    "\n",
    "The batting average measures how often an investment manager beats a specific index, like the S&P 500 or Nasdaq.\n",
    "\n",
    "This index is used as a benchmark that helps evaluate the manager's performance. A higher batting average means the manager often meets or surpasses the benchmark.\n",
    "\n",
    "This is a sign of good performance. It means the manager is consistently able to outperform their benchmark.\n",
    "\n",
    "We can use the batting average to measure your own investment performance against a chosen benchmark. Doing this will help determine if you’re better of just investing in the underlying index.\n",
    "\n",
    "We can use batting average like the professionals with Python."
   ],
   "metadata": {
    "collapsed": false
   },
   "id": "1cc47ee5c73ac9f5"
  },
  {
   "cell_type": "code",
   "source": [
    "# Imports and set up\n",
    "\n",
    "# First, import the tools we’ll need including NumPy, pandas, and the OpenBB SDK.\n",
    "import numpy as np\n",
    "import pandas as pd\n",
    "import yfinance as yf"
   ],
   "metadata": {
    "collapsed": false,
    "ExecuteTime": {
     "end_time": "2024-08-17T05:39:37.908758Z",
     "start_time": "2024-08-17T05:39:37.747685Z"
    }
   },
   "id": "3b21ebfe35566a8f",
   "outputs": [],
   "execution_count": 1
  },
  {
   "cell_type": "code",
   "source": [
    "# Now, download price data and compute returns.\n",
    "\n",
    "# Define the tickers\n",
    "tickers = [\"META\", \"AAPL\", \"AMZN\", \"NFLX\", \"GOOG\", \"QQQ\"]\n",
    "\n",
    "# Download the price data from Yahoo Finance\n",
    "prices = yf.download(tickers, start=\"2020-01-01\", end=\"2024-06-30\")[\"Adj Close\"]\n",
    "\n",
    "returns = prices.pct_change().dropna()\n",
    "bench_returns = returns.pop(\"QQQ\")\n",
    "port_returns = (returns * 0.2).sum(axis=1)"
   ],
   "metadata": {
    "collapsed": false,
    "ExecuteTime": {
     "end_time": "2024-08-17T05:40:43.243246Z",
     "start_time": "2024-08-17T05:40:43.150851Z"
    }
   },
   "id": "cb6304de8a16f523",
   "outputs": [
    {
     "name": "stdout",
     "output_type": "stream",
     "text": [
      "[*********************100%%**********************]  6 of 6 completed\n"
     ]
    },
    {
     "name": "stderr",
     "output_type": "stream",
     "text": [
      "/opt/homebrew/Caskroom/miniforge/base/envs/py312/lib/python3.12/site-packages/yfinance/utils.py:782: FutureWarning: The 'unit' keyword in TimedeltaIndex construction is deprecated and will be removed in a future version. Use pd.to_timedelta instead.\n",
      "  df.index += _pd.TimedeltaIndex(dst_error_hours, 'h')\n",
      "/opt/homebrew/Caskroom/miniforge/base/envs/py312/lib/python3.12/site-packages/yfinance/utils.py:782: FutureWarning: The 'unit' keyword in TimedeltaIndex construction is deprecated and will be removed in a future version. Use pd.to_timedelta instead.\n",
      "  df.index += _pd.TimedeltaIndex(dst_error_hours, 'h')\n",
      "/opt/homebrew/Caskroom/miniforge/base/envs/py312/lib/python3.12/site-packages/yfinance/utils.py:782: FutureWarning: The 'unit' keyword in TimedeltaIndex construction is deprecated and will be removed in a future version. Use pd.to_timedelta instead.\n",
      "  df.index += _pd.TimedeltaIndex(dst_error_hours, 'h')\n",
      "/opt/homebrew/Caskroom/miniforge/base/envs/py312/lib/python3.12/site-packages/yfinance/utils.py:782: FutureWarning: The 'unit' keyword in TimedeltaIndex construction is deprecated and will be removed in a future version. Use pd.to_timedelta instead.\n",
      "  df.index += _pd.TimedeltaIndex(dst_error_hours, 'h')\n",
      "/opt/homebrew/Caskroom/miniforge/base/envs/py312/lib/python3.12/site-packages/yfinance/utils.py:782: FutureWarning: The 'unit' keyword in TimedeltaIndex construction is deprecated and will be removed in a future version. Use pd.to_timedelta instead.\n",
      "  df.index += _pd.TimedeltaIndex(dst_error_hours, 'h')\n",
      "/opt/homebrew/Caskroom/miniforge/base/envs/py312/lib/python3.12/site-packages/yfinance/utils.py:782: FutureWarning: The 'unit' keyword in TimedeltaIndex construction is deprecated and will be removed in a future version. Use pd.to_timedelta instead.\n",
      "  df.index += _pd.TimedeltaIndex(dst_error_hours, 'h')\n"
     ]
    }
   ],
   "execution_count": 8
  },
  {
   "metadata": {
    "ExecuteTime": {
     "end_time": "2024-08-17T05:40:47.391436Z",
     "start_time": "2024-08-17T05:40:47.386165Z"
    }
   },
   "cell_type": "code",
   "source": "prices.head()",
   "id": "dff971874f49e58f",
   "outputs": [
    {
     "data": {
      "text/plain": [
       "                 AAPL       AMZN       GOOG        META        NFLX  \\\n",
       "Date                                                                  \n",
       "2020-01-02  72.876106  94.900497  68.290787  209.349792  329.809998   \n",
       "2020-01-03  72.167603  93.748497  67.955666  208.242081  325.899994   \n",
       "2020-01-06  72.742638  95.143997  69.631264  212.164017  335.829987   \n",
       "2020-01-07  72.400558  95.343002  69.587814  212.623062  330.750000   \n",
       "2020-01-08  73.565193  94.598503  70.136192  214.778641  339.260010   \n",
       "\n",
       "                   QQQ  \n",
       "Date                    \n",
       "2020-01-02  210.271210  \n",
       "2020-01-03  208.345123  \n",
       "2020-01-06  209.687515  \n",
       "2020-01-07  209.658340  \n",
       "2020-01-08  211.234161  "
      ],
      "text/html": [
       "<div>\n",
       "<style scoped>\n",
       "    .dataframe tbody tr th:only-of-type {\n",
       "        vertical-align: middle;\n",
       "    }\n",
       "\n",
       "    .dataframe tbody tr th {\n",
       "        vertical-align: top;\n",
       "    }\n",
       "\n",
       "    .dataframe thead th {\n",
       "        text-align: right;\n",
       "    }\n",
       "</style>\n",
       "<table border=\"1\" class=\"dataframe\">\n",
       "  <thead>\n",
       "    <tr style=\"text-align: right;\">\n",
       "      <th></th>\n",
       "      <th>AAPL</th>\n",
       "      <th>AMZN</th>\n",
       "      <th>GOOG</th>\n",
       "      <th>META</th>\n",
       "      <th>NFLX</th>\n",
       "      <th>QQQ</th>\n",
       "    </tr>\n",
       "    <tr>\n",
       "      <th>Date</th>\n",
       "      <th></th>\n",
       "      <th></th>\n",
       "      <th></th>\n",
       "      <th></th>\n",
       "      <th></th>\n",
       "      <th></th>\n",
       "    </tr>\n",
       "  </thead>\n",
       "  <tbody>\n",
       "    <tr>\n",
       "      <th>2020-01-02</th>\n",
       "      <td>72.876106</td>\n",
       "      <td>94.900497</td>\n",
       "      <td>68.290787</td>\n",
       "      <td>209.349792</td>\n",
       "      <td>329.809998</td>\n",
       "      <td>210.271210</td>\n",
       "    </tr>\n",
       "    <tr>\n",
       "      <th>2020-01-03</th>\n",
       "      <td>72.167603</td>\n",
       "      <td>93.748497</td>\n",
       "      <td>67.955666</td>\n",
       "      <td>208.242081</td>\n",
       "      <td>325.899994</td>\n",
       "      <td>208.345123</td>\n",
       "    </tr>\n",
       "    <tr>\n",
       "      <th>2020-01-06</th>\n",
       "      <td>72.742638</td>\n",
       "      <td>95.143997</td>\n",
       "      <td>69.631264</td>\n",
       "      <td>212.164017</td>\n",
       "      <td>335.829987</td>\n",
       "      <td>209.687515</td>\n",
       "    </tr>\n",
       "    <tr>\n",
       "      <th>2020-01-07</th>\n",
       "      <td>72.400558</td>\n",
       "      <td>95.343002</td>\n",
       "      <td>69.587814</td>\n",
       "      <td>212.623062</td>\n",
       "      <td>330.750000</td>\n",
       "      <td>209.658340</td>\n",
       "    </tr>\n",
       "    <tr>\n",
       "      <th>2020-01-08</th>\n",
       "      <td>73.565193</td>\n",
       "      <td>94.598503</td>\n",
       "      <td>70.136192</td>\n",
       "      <td>214.778641</td>\n",
       "      <td>339.260010</td>\n",
       "      <td>211.234161</td>\n",
       "    </tr>\n",
       "  </tbody>\n",
       "</table>\n",
       "</div>"
      ]
     },
     "execution_count": 9,
     "metadata": {},
     "output_type": "execute_result"
    }
   ],
   "execution_count": 9
  },
  {
   "cell_type": "code",
   "source": [
    "returns.head()"
   ],
   "metadata": {
    "collapsed": false,
    "ExecuteTime": {
     "end_time": "2024-08-17T05:40:48.303378Z",
     "start_time": "2024-08-17T05:40:48.297583Z"
    }
   },
   "id": "b49e66a76b434ed3",
   "outputs": [
    {
     "data": {
      "text/plain": [
       "                AAPL      AMZN      GOOG      META      NFLX\n",
       "Date                                                        \n",
       "2020-01-03 -0.009722 -0.012139 -0.004907 -0.005291 -0.011855\n",
       "2020-01-06  0.007968  0.014886  0.024657  0.018834  0.030469\n",
       "2020-01-07 -0.004703  0.002092 -0.000624  0.002164 -0.015127\n",
       "2020-01-08  0.016086 -0.007809  0.007880  0.010138  0.025729\n",
       "2020-01-09  0.021241  0.004799  0.011044  0.014311 -0.010611"
      ],
      "text/html": [
       "<div>\n",
       "<style scoped>\n",
       "    .dataframe tbody tr th:only-of-type {\n",
       "        vertical-align: middle;\n",
       "    }\n",
       "\n",
       "    .dataframe tbody tr th {\n",
       "        vertical-align: top;\n",
       "    }\n",
       "\n",
       "    .dataframe thead th {\n",
       "        text-align: right;\n",
       "    }\n",
       "</style>\n",
       "<table border=\"1\" class=\"dataframe\">\n",
       "  <thead>\n",
       "    <tr style=\"text-align: right;\">\n",
       "      <th></th>\n",
       "      <th>AAPL</th>\n",
       "      <th>AMZN</th>\n",
       "      <th>GOOG</th>\n",
       "      <th>META</th>\n",
       "      <th>NFLX</th>\n",
       "    </tr>\n",
       "    <tr>\n",
       "      <th>Date</th>\n",
       "      <th></th>\n",
       "      <th></th>\n",
       "      <th></th>\n",
       "      <th></th>\n",
       "      <th></th>\n",
       "    </tr>\n",
       "  </thead>\n",
       "  <tbody>\n",
       "    <tr>\n",
       "      <th>2020-01-03</th>\n",
       "      <td>-0.009722</td>\n",
       "      <td>-0.012139</td>\n",
       "      <td>-0.004907</td>\n",
       "      <td>-0.005291</td>\n",
       "      <td>-0.011855</td>\n",
       "    </tr>\n",
       "    <tr>\n",
       "      <th>2020-01-06</th>\n",
       "      <td>0.007968</td>\n",
       "      <td>0.014886</td>\n",
       "      <td>0.024657</td>\n",
       "      <td>0.018834</td>\n",
       "      <td>0.030469</td>\n",
       "    </tr>\n",
       "    <tr>\n",
       "      <th>2020-01-07</th>\n",
       "      <td>-0.004703</td>\n",
       "      <td>0.002092</td>\n",
       "      <td>-0.000624</td>\n",
       "      <td>0.002164</td>\n",
       "      <td>-0.015127</td>\n",
       "    </tr>\n",
       "    <tr>\n",
       "      <th>2020-01-08</th>\n",
       "      <td>0.016086</td>\n",
       "      <td>-0.007809</td>\n",
       "      <td>0.007880</td>\n",
       "      <td>0.010138</td>\n",
       "      <td>0.025729</td>\n",
       "    </tr>\n",
       "    <tr>\n",
       "      <th>2020-01-09</th>\n",
       "      <td>0.021241</td>\n",
       "      <td>0.004799</td>\n",
       "      <td>0.011044</td>\n",
       "      <td>0.014311</td>\n",
       "      <td>-0.010611</td>\n",
       "    </tr>\n",
       "  </tbody>\n",
       "</table>\n",
       "</div>"
      ]
     },
     "execution_count": 10,
     "metadata": {},
     "output_type": "execute_result"
    }
   ],
   "execution_count": 10
  },
  {
   "cell_type": "code",
   "source": [
    "# Compute the batting average\n",
    "\n",
    "# Create a function that computes the batting average. We’ll walk through the code next.\n",
    "\n",
    "def batting_average(port_returns, bench_returns):\n",
    "    results = dict(\n",
    "        {\n",
    "            \"batting average\": np.nan,\n",
    "            \"up market\": np.nan,\n",
    "            \"down market\": np.nan,\n",
    "        }\n",
    "    )\n",
    "    active_returns = port_returns - bench_returns\n",
    "    ba = active_returns > 0\n",
    "    up = active_returns[bench_returns >= 0.0] > 0\n",
    "    down = active_returns[bench_returns < 0.0] > 0\n",
    "\n",
    "    if len(ba) > 0:\n",
    "        results[\"batting average\"] = ba.mean()\n",
    "    if len(up) > 0:\n",
    "        results[\"up market\"] = up.mean()\n",
    "    if len(down) > 0:\n",
    "        results[\"down market\"] = down.mean()\n",
    "\n",
    "    return pd.Series(results, index=results.keys())"
   ],
   "metadata": {
    "collapsed": false,
    "ExecuteTime": {
     "end_time": "2024-08-17T05:40:58.187154Z",
     "start_time": "2024-08-17T05:40:58.183414Z"
    }
   },
   "id": "fd5451473ed4d2df",
   "outputs": [],
   "execution_count": 11
  },
  {
   "cell_type": "code",
   "source": [
    "batting_average(port_returns, bench_returns)"
   ],
   "metadata": {
    "collapsed": false,
    "ExecuteTime": {
     "end_time": "2024-08-17T05:41:00.000590Z",
     "start_time": "2024-08-17T05:40:59.994316Z"
    }
   },
   "id": "de726c70a1915485",
   "outputs": [
    {
     "data": {
      "text/plain": [
       "batting average    0.505757\n",
       "up market          0.565495\n",
       "down market        0.431412\n",
       "dtype: float64"
      ]
     },
     "execution_count": 12,
     "metadata": {},
     "output_type": "execute_result"
    }
   ],
   "execution_count": 12
  },
  {
   "cell_type": "markdown",
   "source": [
    "# Interpret the results\n",
    "\n",
    "In this example, the batting average is 50.5%. When the benchmark is up, the batting average raises to 56% and when it’s down it falls to 43.7%.\n",
    "\n",
    "This means the portfolio just meets the minimum threshold of a successful strategy.\n",
    "\n",
    "Investment managers are paid to outperform the benchmark. The batting average is a great way to determine if their strategy is worth the expense.\n",
    "\n",
    "For individual investors, active portfolio management comes with risk and opportunity cost. If you were trading this portfolio, you might consider investing in the benchmark instead."
   ],
   "metadata": {
    "collapsed": false
   },
   "id": "90703e6f57c1f6a8"
  },
  {
   "cell_type": "code",
   "execution_count": null,
   "outputs": [],
   "source": [],
   "metadata": {
    "collapsed": false
   },
   "id": "769aa4985ca2dfd0"
  }
 ],
 "metadata": {
  "kernelspec": {
   "display_name": "Python 3",
   "language": "python",
   "name": "python3"
  },
  "language_info": {
   "codemirror_mode": {
    "name": "ipython",
    "version": 2
   },
   "file_extension": ".py",
   "mimetype": "text/x-python",
   "name": "python",
   "nbconvert_exporter": "python",
   "pygments_lexer": "ipython2",
   "version": "2.7.6"
  }
 },
 "nbformat": 4,
 "nbformat_minor": 5
}
