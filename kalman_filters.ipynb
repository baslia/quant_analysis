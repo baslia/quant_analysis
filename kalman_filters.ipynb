{
 "cells": [
  {
   "cell_type": "markdown",
   "source": [
    "# Use the Kalman filter and OpenBB for parameterless indicators\n",
    "\n",
    "The Kalman filter is an algorithm that tracks an object in state space. Given a sequence of noisy measurements, the Kalman Filter recovers the “true state” of the object. In today’s newsletter, you’ll recover the “true average” of a series of stock prices.\n",
    "\n",
    "The Kalman filter updates its estimates at every time step so it’s useful for estimating rolling parameters. Quants use it to smooth trading indicators on noisy price data to signal trading opportunities. The Kalman filter is an unsupervised learning algorithm so you don’t need to select a window length. This helps reduce the risk of overfitting-though does not remove it.\n",
    "\n",
    "Use the Kalman filter to smooth rolling indicators\n",
    "\n",
    "The Kalman filter is useful for computing the moving average or for smoothing out estimates of other quantities. For example, if you already computed the moving Sharpe ratio, you can smooth it using a Kalman filter. At each time step, the algorithm estimates the current state of the system using the transition matrix, takes in new measurements, then updates the estimated current state.\n",
    "\n",
    "This notebook shows how to:\n",
    "\n",
    "1 .Get stock price data with the OpenBB SDK\n",
    "2. Build a moving average with the Kalman filter"
   ],
   "metadata": {
    "collapsed": false
   }
  },
  {
   "cell_type": "code",
   "execution_count": 4,
   "outputs": [
    {
     "ename": "RuntimeError",
     "evalue": "module compiled against API version 0x10 but this version of numpy is 0xf",
     "output_type": "error",
     "traceback": [
      "\u001B[0;31m---------------------------------------------------------------------------\u001B[0m",
      "\u001B[0;31mRuntimeError\u001B[0m                              Traceback (most recent call last)",
      "\u001B[0;31mRuntimeError\u001B[0m: module compiled against API version 0x10 but this version of numpy is 0xf"
     ]
    },
    {
     "ename": "ImportError",
     "evalue": "numpy.core.multiarray failed to import",
     "output_type": "error",
     "traceback": [
      "\u001B[0;31m---------------------------------------------------------------------------\u001B[0m",
      "\u001B[0;31mImportError\u001B[0m                               Traceback (most recent call last)",
      "Input \u001B[0;32mIn [4]\u001B[0m, in \u001B[0;36m<cell line: 9>\u001B[0;34m()\u001B[0m\n\u001B[1;32m      6\u001B[0m \u001B[38;5;28;01mimport\u001B[39;00m \u001B[38;5;21;01mmatplotlib\u001B[39;00m\u001B[38;5;21;01m.\u001B[39;00m\u001B[38;5;21;01mpyplot\u001B[39;00m \u001B[38;5;28;01mas\u001B[39;00m \u001B[38;5;21;01mplt\u001B[39;00m\n\u001B[1;32m      8\u001B[0m \u001B[38;5;28;01mfrom\u001B[39;00m \u001B[38;5;21;01mpykalman\u001B[39;00m \u001B[38;5;28;01mimport\u001B[39;00m KalmanFilter\n\u001B[0;32m----> 9\u001B[0m \u001B[38;5;28;01mfrom\u001B[39;00m \u001B[38;5;21;01mopenbb_terminal\u001B[39;00m\u001B[38;5;21;01m.\u001B[39;00m\u001B[38;5;21;01msdk\u001B[39;00m \u001B[38;5;28;01mimport\u001B[39;00m openbb\n\u001B[1;32m     10\u001B[0m \u001B[38;5;66;03m# Now get stock price data using the OpenBB SDK.\u001B[39;00m\n\u001B[1;32m     12\u001B[0m data \u001B[38;5;241m=\u001B[39m openbb\u001B[38;5;241m.\u001B[39mstocks\u001B[38;5;241m.\u001B[39mload(\u001B[38;5;124m\"\u001B[39m\u001B[38;5;124mLMT\u001B[39m\u001B[38;5;124m\"\u001B[39m, start_date\u001B[38;5;241m=\u001B[39m\u001B[38;5;124m\"\u001B[39m\u001B[38;5;124m2013-01-01\u001B[39m\u001B[38;5;124m\"\u001B[39m, end_date\u001B[38;5;241m=\u001B[39m\u001B[38;5;124m\"\u001B[39m\u001B[38;5;124m2015-01-01\u001B[39m\u001B[38;5;124m\"\u001B[39m)\n",
      "File \u001B[0;32m/opt/homebrew/Caskroom/miniforge/base/envs/env_tf/lib/python3.9/site-packages/openbb_terminal/__init__.py:13\u001B[0m, in \u001B[0;36m<module>\u001B[0;34m\u001B[0m\n\u001B[1;32m      1\u001B[0m \u001B[38;5;66;03m# flake8: noqa\u001B[39;00m\n\u001B[1;32m      2\u001B[0m \u001B[38;5;28;01mfrom\u001B[39;00m \u001B[38;5;21;01m.\u001B[39;00m \u001B[38;5;28;01mimport\u001B[39;00m (\n\u001B[1;32m      3\u001B[0m     common,\n\u001B[1;32m      4\u001B[0m     cryptocurrency,\n\u001B[0;32m   (...)\u001B[0m\n\u001B[1;32m     11\u001B[0m     fixedincome,\n\u001B[1;32m     12\u001B[0m )\n\u001B[0;32m---> 13\u001B[0m \u001B[38;5;28;01mfrom\u001B[39;00m \u001B[38;5;21;01m.\u001B[39;00m\u001B[38;5;21;01mcore\u001B[39;00m\u001B[38;5;21;01m.\u001B[39;00m\u001B[38;5;21;01mplots\u001B[39;00m\u001B[38;5;21;01m.\u001B[39;00m\u001B[38;5;21;01mplotly_helper\u001B[39;00m \u001B[38;5;28;01mimport\u001B[39;00m OpenBBFigure, plots_backend, theme, TerminalStyle\n",
      "File \u001B[0;32m/opt/homebrew/Caskroom/miniforge/base/envs/env_tf/lib/python3.9/site-packages/openbb_terminal/core/plots/__init__.py:2\u001B[0m, in \u001B[0;36m<module>\u001B[0;34m\u001B[0m\n\u001B[1;32m      1\u001B[0m \u001B[38;5;66;03m# flake8: noqa\u001B[39;00m\n\u001B[0;32m----> 2\u001B[0m \u001B[38;5;28;01mfrom\u001B[39;00m \u001B[38;5;21;01m.\u001B[39;00m\u001B[38;5;21;01mplotly_helper\u001B[39;00m \u001B[38;5;28;01mimport\u001B[39;00m OpenBBFigure\n\u001B[1;32m      3\u001B[0m \u001B[38;5;28;01mfrom\u001B[39;00m \u001B[38;5;21;01m.\u001B[39;00m\u001B[38;5;21;01mplotly_ta\u001B[39;00m\u001B[38;5;21;01m.\u001B[39;00m\u001B[38;5;21;01mbase\u001B[39;00m \u001B[38;5;28;01mimport\u001B[39;00m Indicator, PltTA, indicator\n\u001B[1;32m      4\u001B[0m \u001B[38;5;28;01mfrom\u001B[39;00m \u001B[38;5;21;01m.\u001B[39;00m\u001B[38;5;21;01mplotly_ta\u001B[39;00m\u001B[38;5;21;01m.\u001B[39;00m\u001B[38;5;21;01mdata_classes\u001B[39;00m \u001B[38;5;28;01mimport\u001B[39;00m ChartIndicators, TA_Data, TAIndicator, columns_regex\n",
      "File \u001B[0;32m/opt/homebrew/Caskroom/miniforge/base/envs/env_tf/lib/python3.9/site-packages/openbb_terminal/core/plots/plotly_helper.py:24\u001B[0m, in \u001B[0;36m<module>\u001B[0;34m\u001B[0m\n\u001B[1;32m     22\u001B[0m \u001B[38;5;28;01mimport\u001B[39;00m \u001B[38;5;21;01mplotly\u001B[39;00m\u001B[38;5;21;01m.\u001B[39;00m\u001B[38;5;21;01mgraph_objects\u001B[39;00m \u001B[38;5;28;01mas\u001B[39;00m \u001B[38;5;21;01mgo\u001B[39;00m\n\u001B[1;32m     23\u001B[0m \u001B[38;5;28;01mimport\u001B[39;00m \u001B[38;5;21;01mplotly\u001B[39;00m\u001B[38;5;21;01m.\u001B[39;00m\u001B[38;5;21;01mio\u001B[39;00m \u001B[38;5;28;01mas\u001B[39;00m \u001B[38;5;21;01mpio\u001B[39;00m\n\u001B[0;32m---> 24\u001B[0m \u001B[38;5;28;01mimport\u001B[39;00m \u001B[38;5;21;01mstatsmodels\u001B[39;00m\u001B[38;5;21;01m.\u001B[39;00m\u001B[38;5;21;01mapi\u001B[39;00m \u001B[38;5;28;01mas\u001B[39;00m \u001B[38;5;21;01msm\u001B[39;00m\n\u001B[1;32m     25\u001B[0m \u001B[38;5;28;01mfrom\u001B[39;00m \u001B[38;5;21;01mplotly\u001B[39;00m\u001B[38;5;21;01m.\u001B[39;00m\u001B[38;5;21;01msubplots\u001B[39;00m \u001B[38;5;28;01mimport\u001B[39;00m make_subplots\n\u001B[1;32m     26\u001B[0m \u001B[38;5;28;01mfrom\u001B[39;00m \u001B[38;5;21;01mscipy\u001B[39;00m \u001B[38;5;28;01mimport\u001B[39;00m stats\n",
      "File \u001B[0;32m/opt/homebrew/Caskroom/miniforge/base/envs/env_tf/lib/python3.9/site-packages/statsmodels/api.py:71\u001B[0m, in \u001B[0;36m<module>\u001B[0;34m\u001B[0m\n\u001B[1;32m      1\u001B[0m \u001B[38;5;66;03m# -*- coding: utf-8 -*-\u001B[39;00m\n\u001B[1;32m      3\u001B[0m __all__ \u001B[38;5;241m=\u001B[39m [\n\u001B[1;32m      4\u001B[0m     \u001B[38;5;124m\"\u001B[39m\u001B[38;5;124mBayesGaussMI\u001B[39m\u001B[38;5;124m\"\u001B[39m,\n\u001B[1;32m      5\u001B[0m     \u001B[38;5;124m\"\u001B[39m\u001B[38;5;124mBinomialBayesMixedGLM\u001B[39m\u001B[38;5;124m\"\u001B[39m,\n\u001B[0;32m   (...)\u001B[0m\n\u001B[1;32m     67\u001B[0m     \u001B[38;5;124m\"\u001B[39m\u001B[38;5;124mwebdoc\u001B[39m\u001B[38;5;124m\"\u001B[39m,\n\u001B[1;32m     68\u001B[0m ]\n\u001B[0;32m---> 71\u001B[0m \u001B[38;5;28;01mfrom\u001B[39;00m \u001B[38;5;21;01m.\u001B[39;00m \u001B[38;5;28;01mimport\u001B[39;00m datasets, distributions, iolib, regression, robust, tools\n\u001B[1;32m     72\u001B[0m \u001B[38;5;28;01mfrom\u001B[39;00m \u001B[38;5;21;01m.\u001B[39;00m\u001B[38;5;21;01m__init__\u001B[39;00m \u001B[38;5;28;01mimport\u001B[39;00m test\n\u001B[1;32m     73\u001B[0m \u001B[38;5;28;01mfrom\u001B[39;00m \u001B[38;5;21;01m.\u001B[39;00m\u001B[38;5;21;01mdiscrete\u001B[39;00m\u001B[38;5;21;01m.\u001B[39;00m\u001B[38;5;21;01mcount_model\u001B[39;00m \u001B[38;5;28;01mimport\u001B[39;00m (\n\u001B[1;32m     74\u001B[0m     ZeroInflatedGeneralizedPoisson,\n\u001B[1;32m     75\u001B[0m     ZeroInflatedNegativeBinomialP,\n\u001B[1;32m     76\u001B[0m     ZeroInflatedPoisson,\n\u001B[1;32m     77\u001B[0m )\n",
      "File \u001B[0;32m/opt/homebrew/Caskroom/miniforge/base/envs/env_tf/lib/python3.9/site-packages/statsmodels/datasets/__init__.py:4\u001B[0m, in \u001B[0;36m<module>\u001B[0;34m\u001B[0m\n\u001B[1;32m      1\u001B[0m \u001B[38;5;124;03m\"\"\"\u001B[39;00m\n\u001B[1;32m      2\u001B[0m \u001B[38;5;124;03mDatasets module\u001B[39;00m\n\u001B[1;32m      3\u001B[0m \u001B[38;5;124;03m\"\"\"\u001B[39;00m\n\u001B[0;32m----> 4\u001B[0m \u001B[38;5;28;01mfrom\u001B[39;00m \u001B[38;5;21;01mstatsmodels\u001B[39;00m\u001B[38;5;21;01m.\u001B[39;00m\u001B[38;5;21;01mtools\u001B[39;00m\u001B[38;5;21;01m.\u001B[39;00m\u001B[38;5;21;01m_testing\u001B[39;00m \u001B[38;5;28;01mimport\u001B[39;00m PytestTester\n\u001B[1;32m      6\u001B[0m \u001B[38;5;28;01mfrom\u001B[39;00m \u001B[38;5;21;01m.\u001B[39;00m \u001B[38;5;28;01mimport\u001B[39;00m (\n\u001B[1;32m      7\u001B[0m     anes96,\n\u001B[1;32m      8\u001B[0m     cancer,\n\u001B[0;32m   (...)\u001B[0m\n\u001B[1;32m     34\u001B[0m     sunspots,\n\u001B[1;32m     35\u001B[0m )\n\u001B[1;32m     36\u001B[0m \u001B[38;5;28;01mfrom\u001B[39;00m \u001B[38;5;21;01m.\u001B[39;00m\u001B[38;5;21;01mutils\u001B[39;00m \u001B[38;5;28;01mimport\u001B[39;00m (\n\u001B[1;32m     37\u001B[0m     check_internet,\n\u001B[1;32m     38\u001B[0m     clear_data_home,\n\u001B[0;32m   (...)\u001B[0m\n\u001B[1;32m     41\u001B[0m     webuse,\n\u001B[1;32m     42\u001B[0m )\n",
      "File \u001B[0;32m/opt/homebrew/Caskroom/miniforge/base/envs/env_tf/lib/python3.9/site-packages/statsmodels/tools/__init__.py:2\u001B[0m, in \u001B[0;36m<module>\u001B[0;34m\u001B[0m\n\u001B[1;32m      1\u001B[0m \u001B[38;5;28;01mfrom\u001B[39;00m \u001B[38;5;21;01m.\u001B[39;00m\u001B[38;5;21;01mtools\u001B[39;00m \u001B[38;5;28;01mimport\u001B[39;00m add_constant, categorical\n\u001B[0;32m----> 2\u001B[0m \u001B[38;5;28;01mfrom\u001B[39;00m \u001B[38;5;21;01mstatsmodels\u001B[39;00m\u001B[38;5;21;01m.\u001B[39;00m\u001B[38;5;21;01mtools\u001B[39;00m\u001B[38;5;21;01m.\u001B[39;00m\u001B[38;5;21;01m_testing\u001B[39;00m \u001B[38;5;28;01mimport\u001B[39;00m PytestTester\n\u001B[1;32m      4\u001B[0m __all__ \u001B[38;5;241m=\u001B[39m [\u001B[38;5;124m'\u001B[39m\u001B[38;5;124mtest\u001B[39m\u001B[38;5;124m'\u001B[39m, \u001B[38;5;124m'\u001B[39m\u001B[38;5;124madd_constant\u001B[39m\u001B[38;5;124m'\u001B[39m, \u001B[38;5;124m'\u001B[39m\u001B[38;5;124mcategorical\u001B[39m\u001B[38;5;124m'\u001B[39m]\n\u001B[1;32m      6\u001B[0m test \u001B[38;5;241m=\u001B[39m PytestTester()\n",
      "File \u001B[0;32m/opt/homebrew/Caskroom/miniforge/base/envs/env_tf/lib/python3.9/site-packages/statsmodels/tools/_testing.py:17\u001B[0m, in \u001B[0;36m<module>\u001B[0;34m\u001B[0m\n\u001B[1;32m     14\u001B[0m \u001B[38;5;28;01mfrom\u001B[39;00m \u001B[38;5;21;01mpackaging\u001B[39;00m\u001B[38;5;21;01m.\u001B[39;00m\u001B[38;5;21;01mversion\u001B[39;00m \u001B[38;5;28;01mimport\u001B[39;00m Version, parse\n\u001B[1;32m     16\u001B[0m \u001B[38;5;28;01mimport\u001B[39;00m \u001B[38;5;21;01mnumpy\u001B[39;00m \u001B[38;5;28;01mas\u001B[39;00m \u001B[38;5;21;01mnp\u001B[39;00m\n\u001B[0;32m---> 17\u001B[0m \u001B[38;5;28;01mfrom\u001B[39;00m \u001B[38;5;21;01mnumpy\u001B[39;00m\u001B[38;5;21;01m.\u001B[39;00m\u001B[38;5;21;01mtesting\u001B[39;00m \u001B[38;5;28;01mimport\u001B[39;00m assert_allclose, assert_\n\u001B[1;32m     19\u001B[0m \u001B[38;5;28;01mimport\u001B[39;00m \u001B[38;5;21;01mpandas\u001B[39;00m \u001B[38;5;28;01mas\u001B[39;00m \u001B[38;5;21;01mpd\u001B[39;00m\n\u001B[1;32m     22\u001B[0m \u001B[38;5;28;01mclass\u001B[39;00m \u001B[38;5;21;01mPytestTester\u001B[39;00m(\u001B[38;5;28mobject\u001B[39m):\n",
      "File \u001B[0;32m/opt/homebrew/Caskroom/miniforge/base/envs/env_tf/lib/python3.9/site-packages/numpy/testing/__init__.py:11\u001B[0m, in \u001B[0;36m<module>\u001B[0;34m\u001B[0m\n\u001B[1;32m      8\u001B[0m \u001B[38;5;28;01mfrom\u001B[39;00m \u001B[38;5;21;01munittest\u001B[39;00m \u001B[38;5;28;01mimport\u001B[39;00m TestCase\n\u001B[1;32m     10\u001B[0m \u001B[38;5;28;01mfrom\u001B[39;00m \u001B[38;5;21;01m.\u001B[39;00m \u001B[38;5;28;01mimport\u001B[39;00m _private\n\u001B[0;32m---> 11\u001B[0m \u001B[38;5;28;01mfrom\u001B[39;00m \u001B[38;5;21;01m.\u001B[39;00m\u001B[38;5;21;01m_private\u001B[39;00m\u001B[38;5;21;01m.\u001B[39;00m\u001B[38;5;21;01mutils\u001B[39;00m \u001B[38;5;28;01mimport\u001B[39;00m \u001B[38;5;241m*\u001B[39m\n\u001B[1;32m     12\u001B[0m \u001B[38;5;28;01mfrom\u001B[39;00m \u001B[38;5;21;01m.\u001B[39;00m\u001B[38;5;21;01m_private\u001B[39;00m\u001B[38;5;21;01m.\u001B[39;00m\u001B[38;5;21;01mutils\u001B[39;00m \u001B[38;5;28;01mimport\u001B[39;00m (_assert_valid_refcount, _gen_alignment_data)\n\u001B[1;32m     13\u001B[0m \u001B[38;5;28;01mfrom\u001B[39;00m \u001B[38;5;21;01m.\u001B[39;00m\u001B[38;5;21;01m_private\u001B[39;00m \u001B[38;5;28;01mimport\u001B[39;00m extbuild, decorators \u001B[38;5;28;01mas\u001B[39;00m dec\n",
      "File \u001B[0;32m/opt/homebrew/Caskroom/miniforge/base/envs/env_tf/lib/python3.9/site-packages/numpy/testing/_private/utils.py:23\u001B[0m, in \u001B[0;36m<module>\u001B[0;34m\u001B[0m\n\u001B[1;32m     20\u001B[0m \u001B[38;5;28;01mimport\u001B[39;00m \u001B[38;5;21;01mnumpy\u001B[39;00m \u001B[38;5;28;01mas\u001B[39;00m \u001B[38;5;21;01mnp\u001B[39;00m\n\u001B[1;32m     21\u001B[0m \u001B[38;5;28;01mfrom\u001B[39;00m \u001B[38;5;21;01mnumpy\u001B[39;00m\u001B[38;5;21;01m.\u001B[39;00m\u001B[38;5;21;01mcore\u001B[39;00m \u001B[38;5;28;01mimport\u001B[39;00m(\n\u001B[1;32m     22\u001B[0m      intp, float32, empty, arange, array_repr, ndarray, isnat, array)\n\u001B[0;32m---> 23\u001B[0m \u001B[38;5;28;01mimport\u001B[39;00m \u001B[38;5;21;01mnumpy\u001B[39;00m\u001B[38;5;21;01m.\u001B[39;00m\u001B[38;5;21;01mlinalg\u001B[39;00m\u001B[38;5;21;01m.\u001B[39;00m\u001B[38;5;21;01mlapack_lite\u001B[39;00m\n\u001B[1;32m     25\u001B[0m \u001B[38;5;28;01mfrom\u001B[39;00m \u001B[38;5;21;01mio\u001B[39;00m \u001B[38;5;28;01mimport\u001B[39;00m StringIO\n\u001B[1;32m     27\u001B[0m __all__ \u001B[38;5;241m=\u001B[39m [\n\u001B[1;32m     28\u001B[0m         \u001B[38;5;124m'\u001B[39m\u001B[38;5;124massert_equal\u001B[39m\u001B[38;5;124m'\u001B[39m, \u001B[38;5;124m'\u001B[39m\u001B[38;5;124massert_almost_equal\u001B[39m\u001B[38;5;124m'\u001B[39m, \u001B[38;5;124m'\u001B[39m\u001B[38;5;124massert_approx_equal\u001B[39m\u001B[38;5;124m'\u001B[39m,\n\u001B[1;32m     29\u001B[0m         \u001B[38;5;124m'\u001B[39m\u001B[38;5;124massert_array_equal\u001B[39m\u001B[38;5;124m'\u001B[39m, \u001B[38;5;124m'\u001B[39m\u001B[38;5;124massert_array_less\u001B[39m\u001B[38;5;124m'\u001B[39m, \u001B[38;5;124m'\u001B[39m\u001B[38;5;124massert_string_equal\u001B[39m\u001B[38;5;124m'\u001B[39m,\n\u001B[0;32m   (...)\u001B[0m\n\u001B[1;32m     39\u001B[0m         \u001B[38;5;124m'\u001B[39m\u001B[38;5;124m_OLD_PROMOTION\u001B[39m\u001B[38;5;124m'\u001B[39m\n\u001B[1;32m     40\u001B[0m         ]\n",
      "\u001B[0;31mImportError\u001B[0m: numpy.core.multiarray failed to import"
     ]
    }
   ],
   "source": [
    "# Step 1: Get stock price data with the OpenBB SDK\n",
    "\n",
    "# Start by importing the libraries you need. pykalman is the “dead-simple” Kalman filter library for Python.\n",
    "\n",
    "import pandas as pd\n",
    "import matplotlib.pyplot as plt\n",
    "\n",
    "from pykalman import KalmanFilter\n",
    "from openbb_terminal.sdk import openbb\n",
    "# Now get stock price data using the OpenBB SDK.\n",
    "\n",
    "data = openbb.stocks.load(\"LMT\", start_date=\"2013-01-01\", end_date=\"2015-01-01\")\n",
    "prices = data[\"Adj Close\"]"
   ],
   "metadata": {
    "collapsed": false,
    "ExecuteTime": {
     "end_time": "2023-05-12T12:57:40.887919Z",
     "start_time": "2023-05-12T12:57:40.493199Z"
    }
   }
  },
  {
   "cell_type": "code",
   "execution_count": 5,
   "outputs": [],
   "source": [
    "# Step 2: Build a smoothed average with the Kalman filter\n",
    "\n",
    "# Start by setting the initial paramaters for the Kalman filter.\n",
    "\n",
    "kf = KalmanFilter(\n",
    "    transition_matrices = [1],\n",
    "    observation_matrices = [1],\n",
    "    initial_state_mean = 0,\n",
    "    initial_state_covariance = 1,\n",
    "    observation_covariance=1,\n",
    "    transition_covariance=0.01\n",
    ")"
   ],
   "metadata": {
    "collapsed": false,
    "ExecuteTime": {
     "end_time": "2023-05-12T12:57:42.240697Z",
     "start_time": "2023-05-12T12:57:42.237411Z"
    }
   }
  },
  {
   "cell_type": "code",
   "execution_count": 6,
   "outputs": [
    {
     "ename": "NameError",
     "evalue": "name 'prices' is not defined",
     "output_type": "error",
     "traceback": [
      "\u001B[0;31m---------------------------------------------------------------------------\u001B[0m",
      "\u001B[0;31mNameError\u001B[0m                                 Traceback (most recent call last)",
      "Input \u001B[0;32mIn [6]\u001B[0m, in \u001B[0;36m<cell line: 5>\u001B[0;34m()\u001B[0m\n\u001B[1;32m      1\u001B[0m \u001B[38;5;66;03m# The transition matrix tells the algorithm how the system evolves from one state to another. The observation matrix tracks the next measurement given the predicted next state. The initial mean and covariance are the initial estimates of the state and error and the covariances measure the noise in the evolution of the algorithm. In more complex examples, you can calibrate these inputs to give a better first estimate.\u001B[39;00m\n\u001B[1;32m      2\u001B[0m \n\u001B[1;32m      3\u001B[0m \u001B[38;5;66;03m# After you define the inputs for the Kalman filter algorithm, use it to filter the prices and find the “true” average.\u001B[39;00m\n\u001B[0;32m----> 5\u001B[0m state_means, _ \u001B[38;5;241m=\u001B[39m kf\u001B[38;5;241m.\u001B[39mfilter(\u001B[43mprices\u001B[49m\u001B[38;5;241m.\u001B[39mvalues)\n\u001B[1;32m      6\u001B[0m state_means \u001B[38;5;241m=\u001B[39m pd\u001B[38;5;241m.\u001B[39mSeries(state_means\u001B[38;5;241m.\u001B[39mflatten(), index\u001B[38;5;241m=\u001B[39mprices\u001B[38;5;241m.\u001B[39mindex)\n\u001B[1;32m      9\u001B[0m plt\u001B[38;5;241m.\u001B[39mplot(state_means)\n",
      "\u001B[0;31mNameError\u001B[0m: name 'prices' is not defined"
     ]
    }
   ],
   "source": [
    "# The transition matrix tells the algorithm how the system evolves from one state to another. The observation matrix tracks the next measurement given the predicted next state. The initial mean and covariance are the initial estimates of the state and error and the covariances measure the noise in the evolution of the algorithm. In more complex examples, you can calibrate these inputs to give a better first estimate.\n",
    "\n",
    "# After you define the inputs for the Kalman filter algorithm, use it to filter the prices and find the “true” average.\n",
    "\n",
    "state_means, _ = kf.filter(prices.values)\n",
    "state_means = pd.Series(state_means.flatten(), index=prices.index)\n",
    "\n",
    "mean30 = prices.rolling(window=30).mean()\n",
    "plt.plot(state_means)\n",
    "plt.plot(prices)\n",
    "plt.plot(mean30)\n",
    "plt.title('Kalman filter estimate of average')\n",
    "plt.legend(['Kalman', 'Price', '30-day MA'])\n",
    "plt.xlabel('Day')\n",
    "plt.ylabel('Price')"
   ],
   "metadata": {
    "collapsed": false,
    "ExecuteTime": {
     "end_time": "2023-05-12T12:57:43.154912Z",
     "start_time": "2023-05-12T12:57:43.143570Z"
    }
   }
  },
  {
   "cell_type": "code",
   "execution_count": null,
   "outputs": [],
   "source": [
    "# Zoom in on the last 200 days to get a closer look.\n",
    "\n",
    "plt.plot(state_means[-200:])\n",
    "plt.plot(prices[-200:])\n",
    "plt.plot(mean30[-200:])\n",
    "plt.title('Kalman filter estimate of average')\n",
    "plt.legend(['Kalman', 'Price', '30-day MA'])\n",
    "plt.xlabel('Day')\n",
    "plt.ylabe('Price')"
   ],
   "metadata": {
    "collapsed": false
   }
  }
 ],
 "metadata": {
  "kernelspec": {
   "display_name": "Python 3",
   "language": "python",
   "name": "python3"
  },
  "language_info": {
   "codemirror_mode": {
    "name": "ipython",
    "version": 2
   },
   "file_extension": ".py",
   "mimetype": "text/x-python",
   "name": "python",
   "nbconvert_exporter": "python",
   "pygments_lexer": "ipython2",
   "version": "2.7.6"
  }
 },
 "nbformat": 4,
 "nbformat_minor": 0
}
