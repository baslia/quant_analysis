{
 "cells": [
  {
   "cell_type": "code",
   "execution_count": 1,
   "metadata": {
    "ExecuteTime": {
     "end_time": "2024-01-24T07:18:30.784222Z",
     "start_time": "2024-01-24T07:18:29.839345Z"
    }
   },
   "outputs": [],
   "source": [
    "import yfinance as yf\n",
    "import pandas as pd\n",
    "import numpy as np"
   ]
  },
  {
   "cell_type": "code",
   "execution_count": 2,
   "metadata": {
    "ExecuteTime": {
     "end_time": "2024-01-24T07:18:52.937967Z",
     "start_time": "2024-01-24T07:18:34.245587Z"
    }
   },
   "outputs": [],
   "source": [
    "appl_df = yf.download('AAPL', start=\"2010-01-01\", progress=False)"
   ]
  },
  {
   "cell_type": "code",
   "execution_count": 3,
   "metadata": {
    "ExecuteTime": {
     "end_time": "2024-01-24T07:18:55.681632Z",
     "start_time": "2024-01-24T07:18:55.675166Z"
    }
   },
   "outputs": [],
   "source": [
    "appl_df['Price'] = appl_df.Open.shift(-1)"
   ]
  },
  {
   "cell_type": "code",
   "execution_count": 4,
   "metadata": {
    "ExecuteTime": {
     "end_time": "2024-01-24T07:18:56.642960Z",
     "start_time": "2024-01-24T07:18:56.636793Z"
    }
   },
   "outputs": [
    {
     "data": {
      "text/plain": "                  Open        High         Low       Close   Adj Close  \\\nDate                                                                     \n2010-01-04    7.622500    7.660714    7.585000    7.643214    6.478996   \n2010-01-05    7.664286    7.699643    7.616071    7.656429    6.490200   \n2010-01-06    7.656429    7.686786    7.526786    7.534643    6.386964   \n2010-01-07    7.562500    7.571429    7.466071    7.520714    6.375156   \n2010-01-08    7.510714    7.571429    7.466429    7.570714    6.417542   \n...                ...         ...         ...         ...         ...   \n2024-01-17  181.270004  182.929993  180.300003  182.679993  182.679993   \n2024-01-18  186.089996  189.139999  185.830002  188.630005  188.630005   \n2024-01-19  189.330002  191.949997  188.820007  191.559998  191.559998   \n2024-01-22  192.300003  195.330002  192.259995  193.889999  193.889999   \n2024-01-23  195.020004  195.750000  193.830002  195.179993  195.179993   \n\n               Volume       Price  \nDate                               \n2010-01-04  493729600    7.664286  \n2010-01-05  601904800    7.656429  \n2010-01-06  552160000    7.562500  \n2010-01-07  477131200    7.510714  \n2010-01-08  447610800    7.600000  \n...               ...         ...  \n2024-01-17   47317400  186.089996  \n2024-01-18   78005800  189.330002  \n2024-01-19   68741000  192.300003  \n2024-01-22   60133900  195.020004  \n2024-01-23   42300900         NaN  \n\n[3537 rows x 7 columns]",
      "text/html": "<div>\n<style scoped>\n    .dataframe tbody tr th:only-of-type {\n        vertical-align: middle;\n    }\n\n    .dataframe tbody tr th {\n        vertical-align: top;\n    }\n\n    .dataframe thead th {\n        text-align: right;\n    }\n</style>\n<table border=\"1\" class=\"dataframe\">\n  <thead>\n    <tr style=\"text-align: right;\">\n      <th></th>\n      <th>Open</th>\n      <th>High</th>\n      <th>Low</th>\n      <th>Close</th>\n      <th>Adj Close</th>\n      <th>Volume</th>\n      <th>Price</th>\n    </tr>\n    <tr>\n      <th>Date</th>\n      <th></th>\n      <th></th>\n      <th></th>\n      <th></th>\n      <th></th>\n      <th></th>\n      <th></th>\n    </tr>\n  </thead>\n  <tbody>\n    <tr>\n      <th>2010-01-04</th>\n      <td>7.622500</td>\n      <td>7.660714</td>\n      <td>7.585000</td>\n      <td>7.643214</td>\n      <td>6.478996</td>\n      <td>493729600</td>\n      <td>7.664286</td>\n    </tr>\n    <tr>\n      <th>2010-01-05</th>\n      <td>7.664286</td>\n      <td>7.699643</td>\n      <td>7.616071</td>\n      <td>7.656429</td>\n      <td>6.490200</td>\n      <td>601904800</td>\n      <td>7.656429</td>\n    </tr>\n    <tr>\n      <th>2010-01-06</th>\n      <td>7.656429</td>\n      <td>7.686786</td>\n      <td>7.526786</td>\n      <td>7.534643</td>\n      <td>6.386964</td>\n      <td>552160000</td>\n      <td>7.562500</td>\n    </tr>\n    <tr>\n      <th>2010-01-07</th>\n      <td>7.562500</td>\n      <td>7.571429</td>\n      <td>7.466071</td>\n      <td>7.520714</td>\n      <td>6.375156</td>\n      <td>477131200</td>\n      <td>7.510714</td>\n    </tr>\n    <tr>\n      <th>2010-01-08</th>\n      <td>7.510714</td>\n      <td>7.571429</td>\n      <td>7.466429</td>\n      <td>7.570714</td>\n      <td>6.417542</td>\n      <td>447610800</td>\n      <td>7.600000</td>\n    </tr>\n    <tr>\n      <th>...</th>\n      <td>...</td>\n      <td>...</td>\n      <td>...</td>\n      <td>...</td>\n      <td>...</td>\n      <td>...</td>\n      <td>...</td>\n    </tr>\n    <tr>\n      <th>2024-01-17</th>\n      <td>181.270004</td>\n      <td>182.929993</td>\n      <td>180.300003</td>\n      <td>182.679993</td>\n      <td>182.679993</td>\n      <td>47317400</td>\n      <td>186.089996</td>\n    </tr>\n    <tr>\n      <th>2024-01-18</th>\n      <td>186.089996</td>\n      <td>189.139999</td>\n      <td>185.830002</td>\n      <td>188.630005</td>\n      <td>188.630005</td>\n      <td>78005800</td>\n      <td>189.330002</td>\n    </tr>\n    <tr>\n      <th>2024-01-19</th>\n      <td>189.330002</td>\n      <td>191.949997</td>\n      <td>188.820007</td>\n      <td>191.559998</td>\n      <td>191.559998</td>\n      <td>68741000</td>\n      <td>192.300003</td>\n    </tr>\n    <tr>\n      <th>2024-01-22</th>\n      <td>192.300003</td>\n      <td>195.330002</td>\n      <td>192.259995</td>\n      <td>193.889999</td>\n      <td>193.889999</td>\n      <td>60133900</td>\n      <td>195.020004</td>\n    </tr>\n    <tr>\n      <th>2024-01-23</th>\n      <td>195.020004</td>\n      <td>195.750000</td>\n      <td>193.830002</td>\n      <td>195.179993</td>\n      <td>195.179993</td>\n      <td>42300900</td>\n      <td>NaN</td>\n    </tr>\n  </tbody>\n</table>\n<p>3537 rows × 7 columns</p>\n</div>"
     },
     "execution_count": 4,
     "metadata": {},
     "output_type": "execute_result"
    }
   ],
   "source": [
    "appl_df"
   ]
  },
  {
   "cell_type": "code",
   "execution_count": 5,
   "metadata": {
    "ExecuteTime": {
     "end_time": "2024-01-24T07:19:05.055064Z",
     "start_time": "2024-01-24T07:19:05.050986Z"
    }
   },
   "outputs": [],
   "source": [
    "def calc_ma(n):\n",
    "    appl_df['SMA'] = appl_df.Close.rolling(n).mean()"
   ]
  },
  {
   "cell_type": "code",
   "execution_count": 7,
   "metadata": {
    "ExecuteTime": {
     "end_time": "2024-01-24T07:19:50.795503Z",
     "start_time": "2024-01-24T07:19:50.792732Z"
    }
   },
   "outputs": [],
   "source": [
    "def backtest(df, n):\n",
    "    calc_ma(n)\n",
    "    in_position = False\n",
    "    profits = []\n",
    "    for index, row in df.iterrows():\n",
    "        if not in_position:\n",
    "            if row.Close > row.SMA:\n",
    "                buyprice = row.Price\n",
    "                in_position = True \n",
    "        if in_position:\n",
    "            if row.Close < row.SMA:\n",
    "               profit = (row.Price - buyprice)/buyprice \n",
    "               profits.append(profit)\n",
    "               in_position = False\n",
    "    gain = (pd.Series(profits) + 1).prod()   \n",
    "    return gain"
   ]
  },
  {
   "cell_type": "code",
   "execution_count": 8,
   "metadata": {
    "ExecuteTime": {
     "end_time": "2024-01-24T07:19:55.095627Z",
     "start_time": "2024-01-24T07:19:55.030524Z"
    }
   },
   "outputs": [
    {
     "data": {
      "text/plain": "9.055902199542375"
     },
     "execution_count": 8,
     "metadata": {},
     "output_type": "execute_result"
    }
   ],
   "source": [
    "backtest(appl_df, 10)"
   ]
  },
  {
   "cell_type": "code",
   "execution_count": 9,
   "metadata": {
    "ExecuteTime": {
     "end_time": "2024-01-24T07:20:00.531560Z",
     "start_time": "2024-01-24T07:20:00.522957Z"
    }
   },
   "outputs": [
    {
     "data": {
      "text/plain": "25.536376046838242"
     },
     "execution_count": 9,
     "metadata": {},
     "output_type": "execute_result"
    }
   ],
   "source": [
    "(appl_df.Close.pct_change()+1).prod()"
   ]
  },
  {
   "cell_type": "code",
   "execution_count": 10,
   "metadata": {
    "ExecuteTime": {
     "end_time": "2024-01-24T07:20:10.680801Z",
     "start_time": "2024-01-24T07:20:10.668382Z"
    }
   },
   "outputs": [
    {
     "data": {
      "text/plain": "                  Open        High         Low       Close   Adj Close  \\\nDate                                                                     \n2010-01-04    7.622500    7.660714    7.585000    7.643214    6.478996   \n2010-01-05    7.664286    7.699643    7.616071    7.656429    6.490200   \n2010-01-06    7.656429    7.686786    7.526786    7.534643    6.386964   \n2010-01-07    7.562500    7.571429    7.466071    7.520714    6.375156   \n2010-01-08    7.510714    7.571429    7.466429    7.570714    6.417542   \n...                ...         ...         ...         ...         ...   \n2024-01-17  181.270004  182.929993  180.300003  182.679993  182.679993   \n2024-01-18  186.089996  189.139999  185.830002  188.630005  188.630005   \n2024-01-19  189.330002  191.949997  188.820007  191.559998  191.559998   \n2024-01-22  192.300003  195.330002  192.259995  193.889999  193.889999   \n2024-01-23  195.020004  195.750000  193.830002  195.179993  195.179993   \n\n               Volume       Price         SMA  \nDate                                           \n2010-01-04  493729600    7.664286         NaN  \n2010-01-05  601904800    7.656429         NaN  \n2010-01-06  552160000    7.562500         NaN  \n2010-01-07  477131200    7.510714         NaN  \n2010-01-08  447610800    7.600000         NaN  \n...               ...         ...         ...  \n2024-01-17   47317400  186.089996  184.204999  \n2024-01-18   78005800  189.330002  184.642999  \n2024-01-19   68741000  192.300003  185.607999  \n2024-01-22   60133900  195.020004  186.878999  \n2024-01-23   42300900         NaN  187.840999  \n\n[3537 rows x 8 columns]",
      "text/html": "<div>\n<style scoped>\n    .dataframe tbody tr th:only-of-type {\n        vertical-align: middle;\n    }\n\n    .dataframe tbody tr th {\n        vertical-align: top;\n    }\n\n    .dataframe thead th {\n        text-align: right;\n    }\n</style>\n<table border=\"1\" class=\"dataframe\">\n  <thead>\n    <tr style=\"text-align: right;\">\n      <th></th>\n      <th>Open</th>\n      <th>High</th>\n      <th>Low</th>\n      <th>Close</th>\n      <th>Adj Close</th>\n      <th>Volume</th>\n      <th>Price</th>\n      <th>SMA</th>\n    </tr>\n    <tr>\n      <th>Date</th>\n      <th></th>\n      <th></th>\n      <th></th>\n      <th></th>\n      <th></th>\n      <th></th>\n      <th></th>\n      <th></th>\n    </tr>\n  </thead>\n  <tbody>\n    <tr>\n      <th>2010-01-04</th>\n      <td>7.622500</td>\n      <td>7.660714</td>\n      <td>7.585000</td>\n      <td>7.643214</td>\n      <td>6.478996</td>\n      <td>493729600</td>\n      <td>7.664286</td>\n      <td>NaN</td>\n    </tr>\n    <tr>\n      <th>2010-01-05</th>\n      <td>7.664286</td>\n      <td>7.699643</td>\n      <td>7.616071</td>\n      <td>7.656429</td>\n      <td>6.490200</td>\n      <td>601904800</td>\n      <td>7.656429</td>\n      <td>NaN</td>\n    </tr>\n    <tr>\n      <th>2010-01-06</th>\n      <td>7.656429</td>\n      <td>7.686786</td>\n      <td>7.526786</td>\n      <td>7.534643</td>\n      <td>6.386964</td>\n      <td>552160000</td>\n      <td>7.562500</td>\n      <td>NaN</td>\n    </tr>\n    <tr>\n      <th>2010-01-07</th>\n      <td>7.562500</td>\n      <td>7.571429</td>\n      <td>7.466071</td>\n      <td>7.520714</td>\n      <td>6.375156</td>\n      <td>477131200</td>\n      <td>7.510714</td>\n      <td>NaN</td>\n    </tr>\n    <tr>\n      <th>2010-01-08</th>\n      <td>7.510714</td>\n      <td>7.571429</td>\n      <td>7.466429</td>\n      <td>7.570714</td>\n      <td>6.417542</td>\n      <td>447610800</td>\n      <td>7.600000</td>\n      <td>NaN</td>\n    </tr>\n    <tr>\n      <th>...</th>\n      <td>...</td>\n      <td>...</td>\n      <td>...</td>\n      <td>...</td>\n      <td>...</td>\n      <td>...</td>\n      <td>...</td>\n      <td>...</td>\n    </tr>\n    <tr>\n      <th>2024-01-17</th>\n      <td>181.270004</td>\n      <td>182.929993</td>\n      <td>180.300003</td>\n      <td>182.679993</td>\n      <td>182.679993</td>\n      <td>47317400</td>\n      <td>186.089996</td>\n      <td>184.204999</td>\n    </tr>\n    <tr>\n      <th>2024-01-18</th>\n      <td>186.089996</td>\n      <td>189.139999</td>\n      <td>185.830002</td>\n      <td>188.630005</td>\n      <td>188.630005</td>\n      <td>78005800</td>\n      <td>189.330002</td>\n      <td>184.642999</td>\n    </tr>\n    <tr>\n      <th>2024-01-19</th>\n      <td>189.330002</td>\n      <td>191.949997</td>\n      <td>188.820007</td>\n      <td>191.559998</td>\n      <td>191.559998</td>\n      <td>68741000</td>\n      <td>192.300003</td>\n      <td>185.607999</td>\n    </tr>\n    <tr>\n      <th>2024-01-22</th>\n      <td>192.300003</td>\n      <td>195.330002</td>\n      <td>192.259995</td>\n      <td>193.889999</td>\n      <td>193.889999</td>\n      <td>60133900</td>\n      <td>195.020004</td>\n      <td>186.878999</td>\n    </tr>\n    <tr>\n      <th>2024-01-23</th>\n      <td>195.020004</td>\n      <td>195.750000</td>\n      <td>193.830002</td>\n      <td>195.179993</td>\n      <td>195.179993</td>\n      <td>42300900</td>\n      <td>NaN</td>\n      <td>187.840999</td>\n    </tr>\n  </tbody>\n</table>\n<p>3537 rows × 8 columns</p>\n</div>"
     },
     "execution_count": 10,
     "metadata": {},
     "output_type": "execute_result"
    }
   ],
   "source": [
    "appl_df"
   ]
  },
  {
   "cell_type": "code",
   "execution_count": 13,
   "metadata": {},
   "outputs": [
    {
     "name": "stdout",
     "output_type": "stream",
     "text": [
      "parameter:10\n",
      "8.879340735446899\n",
      "parameter:15\n",
      "8.88317516704676\n",
      "parameter:20\n",
      "17.049879073032407\n",
      "parameter:25\n",
      "15.315037804463863\n",
      "parameter:30\n",
      "10.820800859972424\n",
      "parameter:35\n",
      "8.975736034083823\n",
      "parameter:40\n",
      "10.514616982521902\n",
      "parameter:45\n",
      "6.4112579717192215\n",
      "parameter:50\n",
      "9.747274685930563\n",
      "parameter:55\n",
      "8.40532614546973\n",
      "parameter:60\n",
      "8.39901669318179\n",
      "parameter:65\n",
      "8.716014203611007\n",
      "parameter:70\n",
      "6.5486800518101385\n",
      "parameter:75\n",
      "6.119896499415916\n",
      "parameter:80\n",
      "5.319985757363499\n",
      "parameter:85\n",
      "6.173546850055333\n",
      "parameter:90\n",
      "6.013969227763991\n",
      "parameter:95\n",
      "5.970244082621411\n",
      "parameter:100\n",
      "6.502310964867428\n",
      "parameter:105\n",
      "7.425689023100384\n",
      "parameter:110\n",
      "7.914737877592004\n",
      "parameter:115\n",
      "8.622961346505429\n",
      "parameter:120\n",
      "7.5867348217958135\n",
      "parameter:125\n",
      "7.9200663108102\n",
      "parameter:130\n",
      "8.579106878053913\n",
      "parameter:135\n",
      "8.431212072468384\n",
      "parameter:140\n",
      "9.668396779562073\n",
      "parameter:145\n",
      "10.897552129340816\n",
      "parameter:150\n",
      "13.062413594815556\n",
      "parameter:155\n",
      "14.351360286565388\n",
      "parameter:160\n",
      "14.165229205261253\n",
      "parameter:165\n",
      "16.00186004202332\n",
      "parameter:170\n",
      "14.103372192352227\n",
      "parameter:175\n",
      "12.94594322888185\n",
      "parameter:180\n",
      "12.505901306692296\n",
      "parameter:185\n",
      "13.008235571973374\n",
      "parameter:190\n",
      "13.327258773449365\n",
      "parameter:195\n",
      "11.018739919063714\n",
      "parameter:200\n",
      "10.390721381445335\n"
     ]
    }
   ],
   "source": [
    "for n in np.arange(10,205,5):\n",
    "    print('parameter:' + str(n))\n",
    "    print(backtest(appl_df,n))"
   ]
  }
 ],
 "metadata": {
  "kernelspec": {
   "display_name": "base",
   "language": "python",
   "name": "python3"
  },
  "language_info": {
   "codemirror_mode": {
    "name": "ipython",
    "version": 3
   },
   "file_extension": ".py",
   "mimetype": "text/x-python",
   "name": "python",
   "nbconvert_exporter": "python",
   "pygments_lexer": "ipython3",
   "version": "3.8.17"
  },
  "orig_nbformat": 4
 },
 "nbformat": 4,
 "nbformat_minor": 2
}
