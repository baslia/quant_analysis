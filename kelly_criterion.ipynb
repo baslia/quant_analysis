{
 "cells": [
  {
   "cell_type": "markdown",
   "source": [
    "# Optimal position size for the S&P500 using the Kelly criterion.\n",
    "\n",
    "The Kelly criterion is a formula that determines the optimal size for a bet. It’s the position size that maximizes the expected growth rate of an account. John Kelly invented it in the 1950s and used it for gambling. In the 1960s, Edward Thorp popularized it in two famous books (Beat the Dealer and Beat the Market).\n",
    "\n",
    "It was said that Warren Buffet and Bill Gross use versions of the Kelly criteria, too.\n",
    "\n",
    "The Kelly criterion is valid when expected returns are known (it maximizes the expected growth rate). It also assumes you can make infinite bets. Most people can’t predict the returns of the stock market—or make infinite bets—and this can lead to ruin.\n",
    "\n",
    "Which is a frequent (and justified) criticism.\n",
    "\n",
    "In successful trading systems, however, you can estimate your expected returns by past system returns. If your trading system wins 60% of the time over hundreds (or thousands) of trades, there’s a good chance you’ll continue to win.\n",
    "\n",
    "To show how you can use the Kelly criteria, you’ll find the optimal position size for the S&P500 index."
   ],
   "metadata": {
    "collapsed": false
   }
  },
  {
   "cell_type": "code",
   "execution_count": 8,
   "outputs": [
    {
     "data": {
      "text/plain": "               ^GSPC\nDate                \n1951-12-31  0.163485\n1952-12-31  0.117796\n1953-12-31 -0.066240\n1954-12-31  0.450222\n1955-12-31  0.264036\n...              ...\n2019-12-31  0.288781\n2020-12-31  0.162589\n2021-12-31  0.268927\n2022-12-31 -0.194428\n2023-12-31  0.078864\n\n[73 rows x 1 columns]",
      "text/html": "<div>\n<style scoped>\n    .dataframe tbody tr th:only-of-type {\n        vertical-align: middle;\n    }\n\n    .dataframe tbody tr th {\n        vertical-align: top;\n    }\n\n    .dataframe thead th {\n        text-align: right;\n    }\n</style>\n<table border=\"1\" class=\"dataframe\">\n  <thead>\n    <tr style=\"text-align: right;\">\n      <th></th>\n      <th>^GSPC</th>\n    </tr>\n    <tr>\n      <th>Date</th>\n      <th></th>\n    </tr>\n  </thead>\n  <tbody>\n    <tr>\n      <th>1951-12-31</th>\n      <td>0.163485</td>\n    </tr>\n    <tr>\n      <th>1952-12-31</th>\n      <td>0.117796</td>\n    </tr>\n    <tr>\n      <th>1953-12-31</th>\n      <td>-0.066240</td>\n    </tr>\n    <tr>\n      <th>1954-12-31</th>\n      <td>0.450222</td>\n    </tr>\n    <tr>\n      <th>1955-12-31</th>\n      <td>0.264036</td>\n    </tr>\n    <tr>\n      <th>...</th>\n      <td>...</td>\n    </tr>\n    <tr>\n      <th>2019-12-31</th>\n      <td>0.288781</td>\n    </tr>\n    <tr>\n      <th>2020-12-31</th>\n      <td>0.162589</td>\n    </tr>\n    <tr>\n      <th>2021-12-31</th>\n      <td>0.268927</td>\n    </tr>\n    <tr>\n      <th>2022-12-31</th>\n      <td>-0.194428</td>\n    </tr>\n    <tr>\n      <th>2023-12-31</th>\n      <td>0.078864</td>\n    </tr>\n  </tbody>\n</table>\n<p>73 rows × 1 columns</p>\n</div>"
     },
     "execution_count": 8,
     "metadata": {},
     "output_type": "execute_result"
    }
   ],
   "source": [
    "# Imports and set up\n",
    "\n",
    "# Import the OpenBB SDK for data, NumPy for math, and SciPy for optimization.\n",
    "\n",
    "%matplotlib inline\n",
    "from openbb_terminal.sdk import openbb\n",
    "\n",
    "import numpy as np\n",
    "\n",
    "from scipy.optimize import minimize_scalar\n",
    "from scipy.integrate import quad\n",
    "from scipy.stats import norm\n",
    "# Next, grab data for the S&P500 index. You can use portfolio returns, too.\n",
    "\n",
    "annual_returns = (\n",
    "    openbb.economy.index(\n",
    "        [\"^GSPC\"],\n",
    "        start_date=\"1950-01-01\",\n",
    "        column=\"Close\"\n",
    "    )\n",
    "    .resample(\"A\")\n",
    "    .last()\n",
    "    .pct_change()\n",
    "    .dropna()\n",
    ")\n",
    "\n",
    "return_params = (\n",
    "    annual_returns[\"^GSPC\"]\n",
    "    .rolling(25)\n",
    "    .agg([\"mean\", \"std\"])\n",
    "    .dropna()\n",
    ")\n",
    "# This grabs daily price data and resamples it to annual data taking the last value of the year. Then it computes the annual return. To estimate expected returns, take the mean and standard deviation.\n",
    "\n",
    "annual_returns"
   ],
   "metadata": {
    "collapsed": false,
    "ExecuteTime": {
     "end_time": "2023-05-25T14:51:23.390854Z",
     "start_time": "2023-05-25T14:51:20.297585Z"
    }
   }
  },
  {
   "cell_type": "code",
   "execution_count": 9,
   "outputs": [
    {
     "data": {
      "text/plain": "                mean       std\nDate                          \n1975-12-31  0.076529  0.182985\n1976-12-31  0.077649  0.183624\n1977-12-31  0.068336  0.187369\n1978-12-31  0.071410  0.185692\n1979-12-31  0.058325  0.168628\n1980-12-31  0.058073  0.168312\n1981-12-31  0.053134  0.171076\n1982-12-31  0.064764  0.167012\n1983-12-31  0.056449  0.155404\n1984-12-31  0.053618  0.155511\n1985-12-31  0.065341  0.159949\n1986-12-31  0.061937  0.157151\n1987-12-31  0.067472  0.152926\n1988-12-31  0.064876  0.151321\n1989-12-31  0.070589  0.156478\n1990-12-31  0.064340  0.158747\n1991-12-31  0.080099  0.158111\n1992-12-31  0.073848  0.156213\n1993-12-31  0.073606  0.156213\n1994-12-31  0.077535  0.152499\n1995-12-31  0.091140  0.160355\n1996-12-31  0.094931  0.161879\n1997-12-31  0.101081  0.167144\n1998-12-31  0.118694  0.160037\n1999-12-31  0.138392  0.135076\n2000-12-31  0.121717  0.138003\n2001-12-31  0.108840  0.146007\n2002-12-31  0.104095  0.155224\n2003-12-31  0.114222  0.157119\n2004-12-31  0.112896  0.157181\n2005-12-31  0.103787  0.155021\n2006-12-31  0.113127  0.149330\n2007-12-31  0.108634  0.149938\n2008-12-31  0.086331  0.178716\n2009-12-31  0.095153  0.180432\n2010-12-31  0.089732  0.177175\n2011-12-31  0.083883  0.177646\n2012-12-31  0.088434  0.177406\n2013-12-31  0.095314  0.182116\n2014-12-31  0.088971  0.178411\n2015-12-31  0.091304  0.176679\n2016-12-31  0.084595  0.173031\n2017-12-31  0.090577  0.174174\n2018-12-31  0.085260  0.176820\n2019-12-31  0.097427  0.180041\n2020-12-31  0.090286  0.173391\n2021-12-31  0.092938  0.175673\n2022-12-31  0.072758  0.178642\n2023-12-31  0.065245  0.174036",
      "text/html": "<div>\n<style scoped>\n    .dataframe tbody tr th:only-of-type {\n        vertical-align: middle;\n    }\n\n    .dataframe tbody tr th {\n        vertical-align: top;\n    }\n\n    .dataframe thead th {\n        text-align: right;\n    }\n</style>\n<table border=\"1\" class=\"dataframe\">\n  <thead>\n    <tr style=\"text-align: right;\">\n      <th></th>\n      <th>mean</th>\n      <th>std</th>\n    </tr>\n    <tr>\n      <th>Date</th>\n      <th></th>\n      <th></th>\n    </tr>\n  </thead>\n  <tbody>\n    <tr>\n      <th>1975-12-31</th>\n      <td>0.076529</td>\n      <td>0.182985</td>\n    </tr>\n    <tr>\n      <th>1976-12-31</th>\n      <td>0.077649</td>\n      <td>0.183624</td>\n    </tr>\n    <tr>\n      <th>1977-12-31</th>\n      <td>0.068336</td>\n      <td>0.187369</td>\n    </tr>\n    <tr>\n      <th>1978-12-31</th>\n      <td>0.071410</td>\n      <td>0.185692</td>\n    </tr>\n    <tr>\n      <th>1979-12-31</th>\n      <td>0.058325</td>\n      <td>0.168628</td>\n    </tr>\n    <tr>\n      <th>1980-12-31</th>\n      <td>0.058073</td>\n      <td>0.168312</td>\n    </tr>\n    <tr>\n      <th>1981-12-31</th>\n      <td>0.053134</td>\n      <td>0.171076</td>\n    </tr>\n    <tr>\n      <th>1982-12-31</th>\n      <td>0.064764</td>\n      <td>0.167012</td>\n    </tr>\n    <tr>\n      <th>1983-12-31</th>\n      <td>0.056449</td>\n      <td>0.155404</td>\n    </tr>\n    <tr>\n      <th>1984-12-31</th>\n      <td>0.053618</td>\n      <td>0.155511</td>\n    </tr>\n    <tr>\n      <th>1985-12-31</th>\n      <td>0.065341</td>\n      <td>0.159949</td>\n    </tr>\n    <tr>\n      <th>1986-12-31</th>\n      <td>0.061937</td>\n      <td>0.157151</td>\n    </tr>\n    <tr>\n      <th>1987-12-31</th>\n      <td>0.067472</td>\n      <td>0.152926</td>\n    </tr>\n    <tr>\n      <th>1988-12-31</th>\n      <td>0.064876</td>\n      <td>0.151321</td>\n    </tr>\n    <tr>\n      <th>1989-12-31</th>\n      <td>0.070589</td>\n      <td>0.156478</td>\n    </tr>\n    <tr>\n      <th>1990-12-31</th>\n      <td>0.064340</td>\n      <td>0.158747</td>\n    </tr>\n    <tr>\n      <th>1991-12-31</th>\n      <td>0.080099</td>\n      <td>0.158111</td>\n    </tr>\n    <tr>\n      <th>1992-12-31</th>\n      <td>0.073848</td>\n      <td>0.156213</td>\n    </tr>\n    <tr>\n      <th>1993-12-31</th>\n      <td>0.073606</td>\n      <td>0.156213</td>\n    </tr>\n    <tr>\n      <th>1994-12-31</th>\n      <td>0.077535</td>\n      <td>0.152499</td>\n    </tr>\n    <tr>\n      <th>1995-12-31</th>\n      <td>0.091140</td>\n      <td>0.160355</td>\n    </tr>\n    <tr>\n      <th>1996-12-31</th>\n      <td>0.094931</td>\n      <td>0.161879</td>\n    </tr>\n    <tr>\n      <th>1997-12-31</th>\n      <td>0.101081</td>\n      <td>0.167144</td>\n    </tr>\n    <tr>\n      <th>1998-12-31</th>\n      <td>0.118694</td>\n      <td>0.160037</td>\n    </tr>\n    <tr>\n      <th>1999-12-31</th>\n      <td>0.138392</td>\n      <td>0.135076</td>\n    </tr>\n    <tr>\n      <th>2000-12-31</th>\n      <td>0.121717</td>\n      <td>0.138003</td>\n    </tr>\n    <tr>\n      <th>2001-12-31</th>\n      <td>0.108840</td>\n      <td>0.146007</td>\n    </tr>\n    <tr>\n      <th>2002-12-31</th>\n      <td>0.104095</td>\n      <td>0.155224</td>\n    </tr>\n    <tr>\n      <th>2003-12-31</th>\n      <td>0.114222</td>\n      <td>0.157119</td>\n    </tr>\n    <tr>\n      <th>2004-12-31</th>\n      <td>0.112896</td>\n      <td>0.157181</td>\n    </tr>\n    <tr>\n      <th>2005-12-31</th>\n      <td>0.103787</td>\n      <td>0.155021</td>\n    </tr>\n    <tr>\n      <th>2006-12-31</th>\n      <td>0.113127</td>\n      <td>0.149330</td>\n    </tr>\n    <tr>\n      <th>2007-12-31</th>\n      <td>0.108634</td>\n      <td>0.149938</td>\n    </tr>\n    <tr>\n      <th>2008-12-31</th>\n      <td>0.086331</td>\n      <td>0.178716</td>\n    </tr>\n    <tr>\n      <th>2009-12-31</th>\n      <td>0.095153</td>\n      <td>0.180432</td>\n    </tr>\n    <tr>\n      <th>2010-12-31</th>\n      <td>0.089732</td>\n      <td>0.177175</td>\n    </tr>\n    <tr>\n      <th>2011-12-31</th>\n      <td>0.083883</td>\n      <td>0.177646</td>\n    </tr>\n    <tr>\n      <th>2012-12-31</th>\n      <td>0.088434</td>\n      <td>0.177406</td>\n    </tr>\n    <tr>\n      <th>2013-12-31</th>\n      <td>0.095314</td>\n      <td>0.182116</td>\n    </tr>\n    <tr>\n      <th>2014-12-31</th>\n      <td>0.088971</td>\n      <td>0.178411</td>\n    </tr>\n    <tr>\n      <th>2015-12-31</th>\n      <td>0.091304</td>\n      <td>0.176679</td>\n    </tr>\n    <tr>\n      <th>2016-12-31</th>\n      <td>0.084595</td>\n      <td>0.173031</td>\n    </tr>\n    <tr>\n      <th>2017-12-31</th>\n      <td>0.090577</td>\n      <td>0.174174</td>\n    </tr>\n    <tr>\n      <th>2018-12-31</th>\n      <td>0.085260</td>\n      <td>0.176820</td>\n    </tr>\n    <tr>\n      <th>2019-12-31</th>\n      <td>0.097427</td>\n      <td>0.180041</td>\n    </tr>\n    <tr>\n      <th>2020-12-31</th>\n      <td>0.090286</td>\n      <td>0.173391</td>\n    </tr>\n    <tr>\n      <th>2021-12-31</th>\n      <td>0.092938</td>\n      <td>0.175673</td>\n    </tr>\n    <tr>\n      <th>2022-12-31</th>\n      <td>0.072758</td>\n      <td>0.178642</td>\n    </tr>\n    <tr>\n      <th>2023-12-31</th>\n      <td>0.065245</td>\n      <td>0.174036</td>\n    </tr>\n  </tbody>\n</table>\n</div>"
     },
     "execution_count": 9,
     "metadata": {},
     "output_type": "execute_result"
    }
   ],
   "source": [
    "return_params"
   ],
   "metadata": {
    "collapsed": false,
    "ExecuteTime": {
     "end_time": "2023-05-25T14:51:26.446431Z",
     "start_time": "2023-05-25T14:51:26.441838Z"
    }
   }
  },
  {
   "cell_type": "code",
   "execution_count": 3,
   "outputs": [],
   "source": [
    "# Compute the optimal position size\n",
    "\n",
    "# You only need two functions to get the optimal position size with the Kelly criterion.\n",
    "\n",
    "# Kelly defines the growth rate as the integral of the probability distribution of returns. The first function defines it.\n",
    "\n",
    "def norm_integral(f, mean, std):\n",
    "    val, er = quad(\n",
    "        lambda s: np.log(1 + f * s) * norm.pdf(s, mean, std),\n",
    "        mean - 3 * std,\n",
    "        mean + 3 * std,\n",
    "    )\n",
    "    return -val\n",
    "\n",
    "# This code integrates the function that Kelly defined as the probability distribution of returns. The function is integrated between -3 and 3 standard deviations. (The integral is the area under a function between two points.) Note this function returns the negative integral. That way you can optimize it by minimization in the next step."
   ],
   "metadata": {
    "collapsed": false,
    "ExecuteTime": {
     "end_time": "2023-05-25T14:47:42.426754Z",
     "start_time": "2023-05-25T14:47:42.424593Z"
    }
   }
  },
  {
   "cell_type": "code",
   "execution_count": 4,
   "outputs": [],
   "source": [
    "# Next, solve for the optimal value that maximizes the expected return using SciPy (by minimizing the negative integral).\n",
    "\n",
    "def get_kelly(data):\n",
    "    solution = minimize_scalar(\n",
    "        norm_integral,\n",
    "        args=(data[\"mean\"], data[\"std\"]),\n",
    "        bounds=[0, 2],\n",
    "        method=\"bounded\"\n",
    "    )\n",
    "    return solution.x\n",
    "# SciPy’s minimize_scalar function finds the value that minimizes the negative integral. You bound it between 0 and 2 so your smallest bet is 0 and your maximum bet is 2x. This means it’s best to use leverage and buy the S&P500 index on margin."
   ],
   "metadata": {
    "collapsed": false,
    "ExecuteTime": {
     "end_time": "2023-05-25T14:47:42.886106Z",
     "start_time": "2023-05-25T14:47:42.880701Z"
    }
   }
  },
  {
   "cell_type": "code",
   "execution_count": 5,
   "outputs": [
    {
     "data": {
      "text/plain": "<AxesSubplot:xlabel='Date'>"
     },
     "execution_count": 5,
     "metadata": {},
     "output_type": "execute_result"
    },
    {
     "data": {
      "text/plain": "<Figure size 432x288 with 1 Axes>",
      "image/png": "[encoded data removed]"
     },
     "metadata": {},
     "output_type": "display_data"
    }
   ],
   "source": [
    "# Analyze the results\n",
    "\n",
    "# Create the optimal Kelly value through time to see how well it performs against a single share in the S&P500 index.\n",
    "\n",
    "annual_returns['f'] = return_params.apply(get_kelly, axis=1)\n",
    "(\n",
    "    annual_returns[[\"^GSPC\"]]\n",
    "    .assign(kelly=annual_returns[\"^GSPC\"].mul(annual_returns.f.shift()))\n",
    "    .dropna()\n",
    "    .loc[\"1900\":]\n",
    "    .add(1)\n",
    "    .cumprod()\n",
    "    .sub(1)\n",
    "    .plot(lw=2)\n",
    ")"
   ],
   "metadata": {
    "collapsed": false,
    "ExecuteTime": {
     "end_time": "2023-05-25T14:48:00.940093Z",
     "start_time": "2023-05-25T14:47:58.438282Z"
    }
   }
  },
  {
   "cell_type": "markdown",
   "source": [
    "This chart shows how a portfolio performs over time by investing at the optimal position size described by the Kelly criterion. You can see it does pretty well!\n",
    "\n",
    "You can use the Kelly criterion to help find the optimal position size when trading and investing. Make sure to take other risk metrics into consideration, too. Historic drawdown, volatility, and macroeconomic conditions are all popular."
   ],
   "metadata": {
    "collapsed": false
   }
  },
  {
   "cell_type": "code",
   "execution_count": null,
   "outputs": [],
   "source": [],
   "metadata": {
    "collapsed": false
   }
  }
 ],
 "metadata": {
  "kernelspec": {
   "display_name": "Python 3",
   "language": "python",
   "name": "python3"
  },
  "language_info": {
   "codemirror_mode": {
    "name": "ipython",
    "version": 2
   },
   "file_extension": ".py",
   "mimetype": "text/x-python",
   "name": "python",
   "nbconvert_exporter": "python",
   "pygments_lexer": "ipython2",
   "version": "2.7.6"
  }
 },
 "nbformat": 4,
 "nbformat_minor": 0
}
