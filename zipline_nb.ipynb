{
 "cells": [
  {
   "cell_type": "code",
   "execution_count": 2,
   "metadata": {
    "collapsed": true,
    "ExecuteTime": {
     "end_time": "2023-05-27T15:59:39.221294Z",
     "start_time": "2023-05-27T15:59:39.215837Z"
    }
   },
   "outputs": [
    {
     "name": "stdout",
     "output_type": "stream",
     "text": [
      "The zipline extension is already loaded. To reload it, use:\n",
      "  %reload_ext zipline\n"
     ]
    }
   ],
   "source": [
    "# Imports and setup\n",
    "\n",
    "# Start with the imports.\n",
    "\n",
    "# You’ll use pandas_datareader to get data to compare your strategy with the S&P 500, matplotlib for charting, and PyFolio for performance analysis.\n",
    "\n",
    "import pandas as pd\n",
    "import pandas_datareader.data as web\n",
    "\n",
    "import matplotlib.pyplot as plt\n",
    "\n",
    "from zipline import run_algorithm\n",
    "from zipline.api import order_target, record, symbol\n",
    "from zipline.finance import commission, slippage\n",
    "\n",
    "\n",
    "import pyfolio as pf\n",
    "\n",
    "import warnings\n",
    "warnings.filterwarnings('ignore')\n",
    "# Since you’re building the backtest in Jupyter Notebook, you need to load the Zipline “magics.” Running this lets you run the Zipline command line right in your Notebook.\n",
    "\n",
    "%load_ext zipline"
   ]
  },
  {
   "cell_type": "code",
   "execution_count": null,
   "outputs": [
    {
     "name": "stdout",
     "output_type": "stream",
     "text": [
      "zsh:1: unknown file attribute: Q\r\n",
      "[2023-05-27T09:59:44-0600-INFO][zipline.data.bundles.core]\r\n",
      " Ingesting quandl\r\n",
      "[2023-05-27T09:59:44-0600-INFO][zipline.data.bundles.quandl]\r\n",
      " Downloading WIKI metadata.\r\n",
      "\u001B[?25lDownloading WIKI Prices table from Quandl  [------------------------------------]    0%  05:38:55"
     ]
    }
   ],
   "source": [
    "# Ingesting free price data\n",
    "\n",
    "# Zipline creates data “bundles” for backtesting. You can build custom bundles to ingest any data you want.\n",
    "\n",
    "# Today, you’ll use the pre-built Quandl bundle to ingest price data between 2000 and 2018 for free.\n",
    "! set QUANDL_API_KEY=os.getenv('QUANDL_API_KEY')\n",
    "! zipline ingest -b quandl\n",
    "# You will see Zipline working its magic to download the data and package it into highly efficient data stores."
   ],
   "metadata": {
    "collapsed": false,
    "is_executing": true,
    "ExecuteTime": {
     "start_time": "2023-05-27T15:59:43.123532Z"
    }
   }
  },
  {
   "cell_type": "code",
   "execution_count": 3,
   "outputs": [],
   "source": [
    "# Building the algorithm\n",
    "\n",
    "# Every Zipline strategy must have an initialize function. This is run at the beginning of the strategy.\n",
    "\n",
    "# Here, you set a counter to track the days, the symbol to trade, and set the commission and slippage models.\n",
    "\n",
    "def initialize(context):\n",
    "    context.i = 0\n",
    "    context.asset = symbol(\"AAPL\")\n",
    "\n",
    "    context.set_commission(commission.PerShare(cost=0.01))\n",
    "    context.set_slippage(slippage.FixedSlippage(spread=0.01))\n",
    "# Every Zipline strategy must also have a handle_data function.\n",
    "\n",
    "# This function is run at every “bar.” Depending on your data, it might run every minute or day. handle_data is where your strategy logic lives.\n",
    "\n",
    "# In today’s example, you will build a simple dual-moving average cross-over strategy.\n",
    "\n",
    "def handle_data(context, data):\n",
    "    # Skip first 50 days to get full windows\n",
    "    context.i += 1\n",
    "    if context.i < 50:\n",
    "        return\n",
    "\n",
    "    # Compute averages\n",
    "    # data.history() has to be called with the same params\n",
    "    # from above and returns a pandas dataframe.\n",
    "    short_mavg = data.history(\n",
    "        context.asset,\n",
    "        \"price\",\n",
    "        bar_count=14,\n",
    "        frequency=\"1d\"\n",
    "    ).mean()\n",
    "\n",
    "    long_mavg = data.history(\n",
    "        context.asset,\n",
    "        \"price\",\n",
    "        bar_count=50,\n",
    "        frequency=\"1d\"\n",
    "    ).mean()\n",
    "\n",
    "    # Trading logic\n",
    "    if short_mavg > long_mavg:\n",
    "        # order_target orders as many shares as needed to\n",
    "        # achieve the desired number of shares.\n",
    "        order_target(context.asset, 100)\n",
    "    elif short_mavg < long_mavg:\n",
    "        order_target(context.asset, 0)\n",
    "# Use the counter to make sure there is enough data to compute the moving averages. If not, skip processing for the day.\n",
    "\n",
    "# If there is enough data, get 14 and 50 days’ worth of prices and calculate the moving average.\n",
    "\n",
    "# Then, execute the trading logic.\n",
    "\n",
    "# When the 14-day moving average crosses over a 50-day moving average, the strategy buys 100 shares. When the 14-day moving average crosses under the 50-moving average, it sells them."
   ],
   "metadata": {
    "collapsed": false,
    "ExecuteTime": {
     "end_time": "2023-05-27T15:48:32.064216Z",
     "start_time": "2023-05-27T15:48:32.060830Z"
    }
   }
  },
  {
   "cell_type": "code",
   "execution_count": 4,
   "outputs": [
    {
     "ename": "ValueError",
     "evalue": "SQLite file '/Users/baslad01/.zipline/data/quandl/2023-05-27T15;44;29.025999/assets-7.sqlite' doesn't exist.",
     "output_type": "error",
     "traceback": [
      "\u001B[0;31m---------------------------------------------------------------------------\u001B[0m",
      "\u001B[0;31mValueError\u001B[0m                                Traceback (most recent call last)",
      "Cell \u001B[0;32mIn[4], line 13\u001B[0m\n\u001B[1;32m     10\u001B[0m benchmark_returns \u001B[38;5;241m=\u001B[39m sp500\u001B[38;5;241m.\u001B[39mpct_change()\n\u001B[1;32m     11\u001B[0m \u001B[38;5;66;03m# Finally, run the backtest.\u001B[39;00m\n\u001B[0;32m---> 13\u001B[0m perf \u001B[38;5;241m=\u001B[39m \u001B[43mrun_algorithm\u001B[49m\u001B[43m(\u001B[49m\n\u001B[1;32m     14\u001B[0m \u001B[43m    \u001B[49m\u001B[43mstart\u001B[49m\u001B[38;5;241;43m=\u001B[39;49m\u001B[43mstart\u001B[49m\u001B[43m,\u001B[49m\n\u001B[1;32m     15\u001B[0m \u001B[43m    \u001B[49m\u001B[43mend\u001B[49m\u001B[38;5;241;43m=\u001B[39;49m\u001B[43mend\u001B[49m\u001B[43m,\u001B[49m\n\u001B[1;32m     16\u001B[0m \u001B[43m    \u001B[49m\u001B[43minitialize\u001B[49m\u001B[38;5;241;43m=\u001B[39;49m\u001B[43minitialize\u001B[49m\u001B[43m,\u001B[49m\n\u001B[1;32m     17\u001B[0m \u001B[43m    \u001B[49m\u001B[43mhandle_data\u001B[49m\u001B[38;5;241;43m=\u001B[39;49m\u001B[43mhandle_data\u001B[49m\u001B[43m,\u001B[49m\n\u001B[1;32m     18\u001B[0m \u001B[43m    \u001B[49m\u001B[38;5;66;43;03m# analyze=analyze,\u001B[39;49;00m\n\u001B[1;32m     19\u001B[0m \u001B[43m    \u001B[49m\u001B[43mcapital_base\u001B[49m\u001B[38;5;241;43m=\u001B[39;49m\u001B[38;5;241;43m100000\u001B[39;49m\u001B[43m,\u001B[49m\n\u001B[1;32m     20\u001B[0m \u001B[43m    \u001B[49m\u001B[43mbenchmark_returns\u001B[49m\u001B[38;5;241;43m=\u001B[39;49m\u001B[43mbenchmark_returns\u001B[49m\u001B[43m,\u001B[49m\n\u001B[1;32m     21\u001B[0m \u001B[43m    \u001B[49m\u001B[43mbundle\u001B[49m\u001B[38;5;241;43m=\u001B[39;49m\u001B[38;5;124;43m\"\u001B[39;49m\u001B[38;5;124;43mquandl\u001B[39;49m\u001B[38;5;124;43m\"\u001B[39;49m\u001B[43m,\u001B[49m\n\u001B[1;32m     22\u001B[0m \u001B[43m    \u001B[49m\u001B[43mdata_frequency\u001B[49m\u001B[38;5;241;43m=\u001B[39;49m\u001B[38;5;124;43m\"\u001B[39;49m\u001B[38;5;124;43mdaily\u001B[39;49m\u001B[38;5;124;43m\"\u001B[39;49m\u001B[43m,\u001B[49m\n\u001B[1;32m     23\u001B[0m \u001B[43m)\u001B[49m\n",
      "File \u001B[0;32m/opt/homebrew/Caskroom/miniforge/base/envs/env_tf/lib/python3.9/site-packages/zipline/utils/run_algo.py:397\u001B[0m, in \u001B[0;36mrun_algorithm\u001B[0;34m(start, end, initialize, capital_base, handle_data, before_trading_start, analyze, data_frequency, bundle, bundle_timestamp, trading_calendar, metrics_set, benchmark_returns, default_extension, extensions, strict_extensions, environ, custom_loader, blotter)\u001B[0m\n\u001B[1;32m    393\u001B[0m load_extensions(default_extension, extensions, strict_extensions, environ)\n\u001B[1;32m    395\u001B[0m benchmark_spec \u001B[38;5;241m=\u001B[39m BenchmarkSpec\u001B[38;5;241m.\u001B[39mfrom_returns(benchmark_returns)\n\u001B[0;32m--> 397\u001B[0m \u001B[38;5;28;01mreturn\u001B[39;00m \u001B[43m_run\u001B[49m\u001B[43m(\u001B[49m\n\u001B[1;32m    398\u001B[0m \u001B[43m    \u001B[49m\u001B[43mhandle_data\u001B[49m\u001B[38;5;241;43m=\u001B[39;49m\u001B[43mhandle_data\u001B[49m\u001B[43m,\u001B[49m\n\u001B[1;32m    399\u001B[0m \u001B[43m    \u001B[49m\u001B[43minitialize\u001B[49m\u001B[38;5;241;43m=\u001B[39;49m\u001B[43minitialize\u001B[49m\u001B[43m,\u001B[49m\n\u001B[1;32m    400\u001B[0m \u001B[43m    \u001B[49m\u001B[43mbefore_trading_start\u001B[49m\u001B[38;5;241;43m=\u001B[39;49m\u001B[43mbefore_trading_start\u001B[49m\u001B[43m,\u001B[49m\n\u001B[1;32m    401\u001B[0m \u001B[43m    \u001B[49m\u001B[43manalyze\u001B[49m\u001B[38;5;241;43m=\u001B[39;49m\u001B[43manalyze\u001B[49m\u001B[43m,\u001B[49m\n\u001B[1;32m    402\u001B[0m \u001B[43m    \u001B[49m\u001B[43malgofile\u001B[49m\u001B[38;5;241;43m=\u001B[39;49m\u001B[38;5;28;43;01mNone\u001B[39;49;00m\u001B[43m,\u001B[49m\n\u001B[1;32m    403\u001B[0m \u001B[43m    \u001B[49m\u001B[43malgotext\u001B[49m\u001B[38;5;241;43m=\u001B[39;49m\u001B[38;5;28;43;01mNone\u001B[39;49;00m\u001B[43m,\u001B[49m\n\u001B[1;32m    404\u001B[0m \u001B[43m    \u001B[49m\u001B[43mdefines\u001B[49m\u001B[38;5;241;43m=\u001B[39;49m\u001B[43m(\u001B[49m\u001B[43m)\u001B[49m\u001B[43m,\u001B[49m\n\u001B[1;32m    405\u001B[0m \u001B[43m    \u001B[49m\u001B[43mdata_frequency\u001B[49m\u001B[38;5;241;43m=\u001B[39;49m\u001B[43mdata_frequency\u001B[49m\u001B[43m,\u001B[49m\n\u001B[1;32m    406\u001B[0m \u001B[43m    \u001B[49m\u001B[43mcapital_base\u001B[49m\u001B[38;5;241;43m=\u001B[39;49m\u001B[43mcapital_base\u001B[49m\u001B[43m,\u001B[49m\n\u001B[1;32m    407\u001B[0m \u001B[43m    \u001B[49m\u001B[43mbundle\u001B[49m\u001B[38;5;241;43m=\u001B[39;49m\u001B[43mbundle\u001B[49m\u001B[43m,\u001B[49m\n\u001B[1;32m    408\u001B[0m \u001B[43m    \u001B[49m\u001B[43mbundle_timestamp\u001B[49m\u001B[38;5;241;43m=\u001B[39;49m\u001B[43mbundle_timestamp\u001B[49m\u001B[43m,\u001B[49m\n\u001B[1;32m    409\u001B[0m \u001B[43m    \u001B[49m\u001B[43mstart\u001B[49m\u001B[38;5;241;43m=\u001B[39;49m\u001B[43mstart\u001B[49m\u001B[43m,\u001B[49m\n\u001B[1;32m    410\u001B[0m \u001B[43m    \u001B[49m\u001B[43mend\u001B[49m\u001B[38;5;241;43m=\u001B[39;49m\u001B[43mend\u001B[49m\u001B[43m,\u001B[49m\n\u001B[1;32m    411\u001B[0m \u001B[43m    \u001B[49m\u001B[43moutput\u001B[49m\u001B[38;5;241;43m=\u001B[39;49m\u001B[43mos\u001B[49m\u001B[38;5;241;43m.\u001B[39;49m\u001B[43mdevnull\u001B[49m\u001B[43m,\u001B[49m\n\u001B[1;32m    412\u001B[0m \u001B[43m    \u001B[49m\u001B[43mtrading_calendar\u001B[49m\u001B[38;5;241;43m=\u001B[39;49m\u001B[43mtrading_calendar\u001B[49m\u001B[43m,\u001B[49m\n\u001B[1;32m    413\u001B[0m \u001B[43m    \u001B[49m\u001B[43mprint_algo\u001B[49m\u001B[38;5;241;43m=\u001B[39;49m\u001B[38;5;28;43;01mFalse\u001B[39;49;00m\u001B[43m,\u001B[49m\n\u001B[1;32m    414\u001B[0m \u001B[43m    \u001B[49m\u001B[43mmetrics_set\u001B[49m\u001B[38;5;241;43m=\u001B[39;49m\u001B[43mmetrics_set\u001B[49m\u001B[43m,\u001B[49m\n\u001B[1;32m    415\u001B[0m \u001B[43m    \u001B[49m\u001B[43mlocal_namespace\u001B[49m\u001B[38;5;241;43m=\u001B[39;49m\u001B[38;5;28;43;01mFalse\u001B[39;49;00m\u001B[43m,\u001B[49m\n\u001B[1;32m    416\u001B[0m \u001B[43m    \u001B[49m\u001B[43menviron\u001B[49m\u001B[38;5;241;43m=\u001B[39;49m\u001B[43menviron\u001B[49m\u001B[43m,\u001B[49m\n\u001B[1;32m    417\u001B[0m \u001B[43m    \u001B[49m\u001B[43mblotter\u001B[49m\u001B[38;5;241;43m=\u001B[39;49m\u001B[43mblotter\u001B[49m\u001B[43m,\u001B[49m\n\u001B[1;32m    418\u001B[0m \u001B[43m    \u001B[49m\u001B[43mcustom_loader\u001B[49m\u001B[38;5;241;43m=\u001B[39;49m\u001B[43mcustom_loader\u001B[49m\u001B[43m,\u001B[49m\n\u001B[1;32m    419\u001B[0m \u001B[43m    \u001B[49m\u001B[43mbenchmark_spec\u001B[49m\u001B[38;5;241;43m=\u001B[39;49m\u001B[43mbenchmark_spec\u001B[49m\u001B[43m,\u001B[49m\n\u001B[1;32m    420\u001B[0m \u001B[43m\u001B[49m\u001B[43m)\u001B[49m\n",
      "File \u001B[0;32m/opt/homebrew/Caskroom/miniforge/base/envs/env_tf/lib/python3.9/site-packages/zipline/utils/run_algo.py:93\u001B[0m, in \u001B[0;36m_run\u001B[0;34m(handle_data, initialize, before_trading_start, analyze, algofile, algotext, defines, data_frequency, capital_base, bundle, bundle_timestamp, start, end, output, trading_calendar, print_algo, metrics_set, local_namespace, environ, blotter, custom_loader, benchmark_spec)\u001B[0m\n\u001B[1;32m     64\u001B[0m \u001B[38;5;28;01mdef\u001B[39;00m \u001B[38;5;21m_run\u001B[39m(\n\u001B[1;32m     65\u001B[0m     handle_data,\n\u001B[1;32m     66\u001B[0m     initialize,\n\u001B[0;32m   (...)\u001B[0m\n\u001B[1;32m     86\u001B[0m     benchmark_spec,\n\u001B[1;32m     87\u001B[0m ):\n\u001B[1;32m     88\u001B[0m     \u001B[38;5;124;03m\"\"\"Run a backtest for the given algorithm.\u001B[39;00m\n\u001B[1;32m     89\u001B[0m \n\u001B[1;32m     90\u001B[0m \u001B[38;5;124;03m    This is shared between the cli and :func:`zipline.run_algo`.\u001B[39;00m\n\u001B[1;32m     91\u001B[0m \u001B[38;5;124;03m    \"\"\"\u001B[39;00m\n\u001B[0;32m---> 93\u001B[0m     bundle_data \u001B[38;5;241m=\u001B[39m \u001B[43mbundles\u001B[49m\u001B[38;5;241;43m.\u001B[39;49m\u001B[43mload\u001B[49m\u001B[43m(\u001B[49m\n\u001B[1;32m     94\u001B[0m \u001B[43m        \u001B[49m\u001B[43mbundle\u001B[49m\u001B[43m,\u001B[49m\n\u001B[1;32m     95\u001B[0m \u001B[43m        \u001B[49m\u001B[43menviron\u001B[49m\u001B[43m,\u001B[49m\n\u001B[1;32m     96\u001B[0m \u001B[43m        \u001B[49m\u001B[43mbundle_timestamp\u001B[49m\u001B[43m,\u001B[49m\n\u001B[1;32m     97\u001B[0m \u001B[43m    \u001B[49m\u001B[43m)\u001B[49m\n\u001B[1;32m     99\u001B[0m     \u001B[38;5;28;01mif\u001B[39;00m trading_calendar \u001B[38;5;129;01mis\u001B[39;00m \u001B[38;5;28;01mNone\u001B[39;00m:\n\u001B[1;32m    100\u001B[0m         trading_calendar \u001B[38;5;241m=\u001B[39m get_calendar(\u001B[38;5;124m\"\u001B[39m\u001B[38;5;124mXNYS\u001B[39m\u001B[38;5;124m\"\u001B[39m)\n",
      "File \u001B[0;32m/opt/homebrew/Caskroom/miniforge/base/envs/env_tf/lib/python3.9/site-packages/zipline/data/bundles/core.py:534\u001B[0m, in \u001B[0;36m_make_bundle_core.<locals>.load\u001B[0;34m(name, environ, timestamp)\u001B[0m\n\u001B[1;32m    531\u001B[0m     timestamp \u001B[38;5;241m=\u001B[39m pd\u001B[38;5;241m.\u001B[39mTimestamp\u001B[38;5;241m.\u001B[39mutcnow()\n\u001B[1;32m    532\u001B[0m timestr \u001B[38;5;241m=\u001B[39m most_recent_data(name, timestamp, environ\u001B[38;5;241m=\u001B[39menviron)\n\u001B[1;32m    533\u001B[0m \u001B[38;5;28;01mreturn\u001B[39;00m BundleData(\n\u001B[0;32m--> 534\u001B[0m     asset_finder\u001B[38;5;241m=\u001B[39m\u001B[43mAssetFinder\u001B[49m\u001B[43m(\u001B[49m\n\u001B[1;32m    535\u001B[0m \u001B[43m        \u001B[49m\u001B[43masset_db_path\u001B[49m\u001B[43m(\u001B[49m\u001B[43mname\u001B[49m\u001B[43m,\u001B[49m\u001B[43m \u001B[49m\u001B[43mtimestr\u001B[49m\u001B[43m,\u001B[49m\u001B[43m \u001B[49m\u001B[43menviron\u001B[49m\u001B[38;5;241;43m=\u001B[39;49m\u001B[43menviron\u001B[49m\u001B[43m)\u001B[49m\u001B[43m,\u001B[49m\n\u001B[1;32m    536\u001B[0m \u001B[43m    \u001B[49m\u001B[43m)\u001B[49m,\n\u001B[1;32m    537\u001B[0m     equity_minute_bar_reader\u001B[38;5;241m=\u001B[39mBcolzMinuteBarReader(\n\u001B[1;32m    538\u001B[0m         minute_equity_path(name, timestr, environ\u001B[38;5;241m=\u001B[39menviron),\n\u001B[1;32m    539\u001B[0m     ),\n\u001B[1;32m    540\u001B[0m     equity_daily_bar_reader\u001B[38;5;241m=\u001B[39mBcolzDailyBarReader(\n\u001B[1;32m    541\u001B[0m         daily_equity_path(name, timestr, environ\u001B[38;5;241m=\u001B[39menviron),\n\u001B[1;32m    542\u001B[0m     ),\n\u001B[1;32m    543\u001B[0m     adjustment_reader\u001B[38;5;241m=\u001B[39mSQLiteAdjustmentReader(\n\u001B[1;32m    544\u001B[0m         adjustment_db_path(name, timestr, environ\u001B[38;5;241m=\u001B[39menviron),\n\u001B[1;32m    545\u001B[0m     ),\n\u001B[1;32m    546\u001B[0m )\n",
      "File \u001B[0;32m/opt/homebrew/Caskroom/miniforge/base/envs/env_tf/lib/python3.9/site-packages/zipline/assets/assets.py:3\u001B[0m, in \u001B[0;36m__init__\u001B[0;34m(self, engine, future_chain_predicates)\u001B[0m\n\u001B[1;32m      1\u001B[0m # Copyright 2016 Quantopian, Inc.\n\u001B[1;32m      2\u001B[0m #\n\u001B[0;32m----> 3\u001B[0m # Licensed under the Apache License, Version 2.0 (the \"License\");\n\u001B[1;32m      4\u001B[0m # you may not use this file except in compliance with the License.\n\u001B[1;32m      5\u001B[0m # You may obtain a copy of the License at\n\u001B[1;32m      6\u001B[0m #\n\u001B[1;32m      7\u001B[0m #     http://www.apache.org/licenses/LICENSE-2.0\n\u001B[1;32m      8\u001B[0m #\n\u001B[1;32m      9\u001B[0m # Unless required by applicable law or agreed to in writing, software\n\u001B[1;32m     10\u001B[0m # distributed under the License is distributed on an \"AS IS\" BASIS,\n\u001B[1;32m     11\u001B[0m # WITHOUT WARRANTIES OR CONDITIONS OF ANY KIND, either express or implied.\n\u001B[1;32m     12\u001B[0m # See the License for the specific language governing permissions and\n\u001B[1;32m     13\u001B[0m # limitations under the License.\n\u001B[1;32m     14\u001B[0m \n\u001B[1;32m     15\u001B[0m # import array\n\u001B[1;32m     16\u001B[0m # import binascii\n\u001B[1;32m     17\u001B[0m # import struct\n\u001B[1;32m     18\u001B[0m from abc import ABC\n\u001B[1;32m     19\u001B[0m from collections import deque, namedtuple\n",
      "File \u001B[0;32m/opt/homebrew/Caskroom/miniforge/base/envs/env_tf/lib/python3.9/site-packages/zipline/utils/input_validation.py:811\u001B[0m, in \u001B[0;36mcoerce.<locals>.preprocessor\u001B[0;34m(func, argname, arg)\u001B[0m\n\u001B[1;32m    809\u001B[0m \u001B[38;5;28;01mdef\u001B[39;00m \u001B[38;5;21mpreprocessor\u001B[39m(func, argname, arg):\n\u001B[1;32m    810\u001B[0m     \u001B[38;5;28;01mif\u001B[39;00m \u001B[38;5;28misinstance\u001B[39m(arg, from_):\n\u001B[0;32m--> 811\u001B[0m         \u001B[38;5;28;01mreturn\u001B[39;00m \u001B[43mto\u001B[49m\u001B[43m(\u001B[49m\u001B[43marg\u001B[49m\u001B[43m,\u001B[49m\u001B[43m \u001B[49m\u001B[38;5;241;43m*\u001B[39;49m\u001B[38;5;241;43m*\u001B[39;49m\u001B[43mto_kwargs\u001B[49m\u001B[43m)\u001B[49m\n\u001B[1;32m    812\u001B[0m     \u001B[38;5;28;01mreturn\u001B[39;00m arg\n",
      "File \u001B[0;32m/opt/homebrew/Caskroom/miniforge/base/envs/env_tf/lib/python3.9/site-packages/zipline/utils/sqlite_utils.py:44\u001B[0m, in \u001B[0;36mcheck_and_create_engine\u001B[0;34m(path, require_exists)\u001B[0m\n\u001B[1;32m     42\u001B[0m \u001B[38;5;28;01mdef\u001B[39;00m \u001B[38;5;21mcheck_and_create_engine\u001B[39m(path, require_exists):\n\u001B[1;32m     43\u001B[0m     \u001B[38;5;28;01mif\u001B[39;00m require_exists:\n\u001B[0;32m---> 44\u001B[0m         \u001B[43mverify_sqlite_path_exists\u001B[49m\u001B[43m(\u001B[49m\u001B[43mpath\u001B[49m\u001B[43m)\u001B[49m\n\u001B[1;32m     45\u001B[0m     \u001B[38;5;28;01mreturn\u001B[39;00m sa\u001B[38;5;241m.\u001B[39mcreate_engine(\u001B[38;5;124m\"\u001B[39m\u001B[38;5;124msqlite:///\u001B[39m\u001B[38;5;124m\"\u001B[39m \u001B[38;5;241m+\u001B[39m path, future\u001B[38;5;241m=\u001B[39m\u001B[38;5;28;01mFalse\u001B[39;00m)\n",
      "File \u001B[0;32m/opt/homebrew/Caskroom/miniforge/base/envs/env_tf/lib/python3.9/site-packages/zipline/utils/sqlite_utils.py:33\u001B[0m, in \u001B[0;36mverify_sqlite_path_exists\u001B[0;34m(path)\u001B[0m\n\u001B[1;32m     31\u001B[0m \u001B[38;5;28;01mdef\u001B[39;00m \u001B[38;5;21mverify_sqlite_path_exists\u001B[39m(path):\n\u001B[1;32m     32\u001B[0m     \u001B[38;5;28;01mif\u001B[39;00m path \u001B[38;5;241m!=\u001B[39m \u001B[38;5;124m\"\u001B[39m\u001B[38;5;124m:memory:\u001B[39m\u001B[38;5;124m\"\u001B[39m \u001B[38;5;129;01mand\u001B[39;00m \u001B[38;5;129;01mnot\u001B[39;00m os\u001B[38;5;241m.\u001B[39mpath\u001B[38;5;241m.\u001B[39mexists(path):\n\u001B[0;32m---> 33\u001B[0m         \u001B[38;5;28;01mraise\u001B[39;00m \u001B[38;5;167;01mValueError\u001B[39;00m(\u001B[38;5;124m\"\u001B[39m\u001B[38;5;124mSQLite file \u001B[39m\u001B[38;5;132;01m{!r}\u001B[39;00m\u001B[38;5;124m doesn\u001B[39m\u001B[38;5;124m'\u001B[39m\u001B[38;5;124mt exist.\u001B[39m\u001B[38;5;124m\"\u001B[39m\u001B[38;5;241m.\u001B[39mformat(path))\n",
      "\u001B[0;31mValueError\u001B[0m: SQLite file '/Users/baslad01/.zipline/data/quandl/2023-05-27T15;44;29.025999/assets-7.sqlite' doesn't exist."
     ]
    }
   ],
   "source": [
    "# Run the backtest\n",
    "\n",
    "# The first step is to define the start and end dates.\n",
    "\n",
    "start = pd.Timestamp('2000')\n",
    "end = pd.Timestamp('2018')\n",
    "# Then, get data to compare your strategy with the S&P 500.\n",
    "\n",
    "sp500 = web.DataReader('SP500', 'fred', start, end).SP500\n",
    "benchmark_returns = sp500.pct_change()\n",
    "# Finally, run the backtest.\n",
    "\n",
    "perf = run_algorithm(\n",
    "    start=start,\n",
    "    end=end,\n",
    "    initialize=initialize,\n",
    "    handle_data=handle_data,\n",
    "    # analyze=analyze,\n",
    "    capital_base=100000,\n",
    "    benchmark_returns=benchmark_returns,\n",
    "    bundle=\"quandl\",\n",
    "    data_frequency=\"daily\",\n",
    ")\n",
    "# Take a minute to explore the data in the perf DataFrame. There are 40 columns of rolling analytics! That’s the power of Zipline."
   ],
   "metadata": {
    "collapsed": false,
    "ExecuteTime": {
     "end_time": "2023-05-27T15:48:35.797368Z",
     "start_time": "2023-05-27T15:48:34.625806Z"
    }
   }
  },
  {
   "cell_type": "code",
   "execution_count": 5,
   "outputs": [
    {
     "ename": "NameError",
     "evalue": "name 'perf' is not defined",
     "output_type": "error",
     "traceback": [
      "\u001B[0;31m---------------------------------------------------------------------------\u001B[0m",
      "\u001B[0;31mNameError\u001B[0m                                 Traceback (most recent call last)",
      "Cell \u001B[0;32mIn[5], line 6\u001B[0m\n\u001B[1;32m      1\u001B[0m \u001B[38;5;66;03m# Analyze performance\u001B[39;00m\n\u001B[1;32m      2\u001B[0m \n\u001B[1;32m      3\u001B[0m \u001B[38;5;66;03m# Now that the backtest is finished, use PyFolio to get a breakdown of the results.\u001B[39;00m\n\u001B[1;32m      5\u001B[0m returns, positions, transactions \u001B[38;5;241m=\u001B[39m \\\n\u001B[0;32m----> 6\u001B[0m     pf\u001B[38;5;241m.\u001B[39mutils\u001B[38;5;241m.\u001B[39mextract_rets_pos_txn_from_zipline(\u001B[43mperf\u001B[49m)\n\u001B[1;32m      8\u001B[0m pf\u001B[38;5;241m.\u001B[39mcreate_full_tear_sheet(\n\u001B[1;32m      9\u001B[0m     returns,\n\u001B[1;32m     10\u001B[0m     positions\u001B[38;5;241m=\u001B[39mpositions,\n\u001B[0;32m   (...)\u001B[0m\n\u001B[1;32m     13\u001B[0m     round_trips\u001B[38;5;241m=\u001B[39m\u001B[38;5;28;01mTrue\u001B[39;00m,\n\u001B[1;32m     14\u001B[0m )\n",
      "\u001B[0;31mNameError\u001B[0m: name 'perf' is not defined"
     ]
    }
   ],
   "source": [
    "# Analyze performance\n",
    "\n",
    "# Now that the backtest is finished, use PyFolio to get a breakdown of the results.\n",
    "\n",
    "returns, positions, transactions = \\\n",
    "    pf.utils.extract_rets_pos_txn_from_zipline(perf)\n",
    "\n",
    "pf.create_full_tear_sheet(\n",
    "    returns,\n",
    "    positions=positions,\n",
    "    transactions=transactions,\n",
    "    live_start_date=\"2016-01-01\",\n",
    "    round_trips=True,\n",
    ")\n",
    "# This creates a full tear sheet based on your backtest results. There’s a ton of information here, but here are the highlights:"
   ],
   "metadata": {
    "collapsed": false,
    "ExecuteTime": {
     "end_time": "2023-05-27T15:48:44.714354Z",
     "start_time": "2023-05-27T15:48:44.705739Z"
    }
   }
  },
  {
   "cell_type": "code",
   "execution_count": null,
   "outputs": [],
   "source": [],
   "metadata": {
    "collapsed": false
   }
  }
 ],
 "metadata": {
  "kernelspec": {
   "display_name": "Python 3",
   "language": "python",
   "name": "python3"
  },
  "language_info": {
   "codemirror_mode": {
    "name": "ipython",
    "version": 2
   },
   "file_extension": ".py",
   "mimetype": "text/x-python",
   "name": "python",
   "nbconvert_exporter": "python",
   "pygments_lexer": "ipython2",
   "version": "2.7.6"
  }
 },
 "nbformat": 4,
 "nbformat_minor": 0
}
