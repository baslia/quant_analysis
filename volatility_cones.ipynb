{
 "cells": [
  {
   "cell_type": "code",
   "execution_count": 4,
   "metadata": {
    "collapsed": true,
    "ExecuteTime": {
     "start_time": "2023-04-07T07:54:45.590929Z",
     "end_time": "2023-04-07T07:54:45.598220Z"
    }
   },
   "outputs": [],
   "source": [
    "%matplotlib inline\n",
    "\n",
    "import math\n",
    "import yfinance as yf\n",
    "import numpy as np\n",
    "import matplotlib.pyplot as plt"
   ]
  },
  {
   "cell_type": "code",
   "execution_count": 5,
   "outputs": [
    {
     "name": "stdout",
     "output_type": "stream",
     "text": [
      "[*********************100%***********************]  1 of 1 completed\n"
     ]
    }
   ],
   "source": [
    "# Setup the variables\n",
    "windows = [30, 60, 90, 120]\n",
    "quantiles = [0.25, 0.75]\n",
    "\n",
    "min_ = []\n",
    "max_ = []\n",
    "median = []\n",
    "top_q = []\n",
    "bottom_q = []\n",
    "realized = []\n",
    "\n",
    "# Get some data\n",
    "data = yf.download(\"JPM\", start=\"2020-01-01\", end=\"2020-12-31\")\n"
   ],
   "metadata": {
    "collapsed": false,
    "ExecuteTime": {
     "start_time": "2023-04-07T07:54:46.364920Z",
     "end_time": "2023-04-07T07:54:47.008460Z"
    }
   }
  },
  {
   "cell_type": "markdown",
   "source": [
    "Realized volatility\n",
    "\n",
    "Realized volatility is a measurement of how much the price or returns of stock vary. It’s used to optimize portfolios, detect regime changes, and price derivatives. The most common way to measure realized volatility is the standard deviation."
   ],
   "metadata": {
    "collapsed": false
   }
  },
  {
   "cell_type": "code",
   "execution_count": 6,
   "outputs": [],
   "source": [
    "def realized_vol(price_data, window=30):\n",
    "\n",
    "    log_return = (price_data[\"Close\"] / price_data[\"Close\"].shift(1)).apply(np.log)\n",
    "\n",
    "    return log_return.rolling(window=window, center=False).std() * math.sqrt(252)"
   ],
   "metadata": {
    "collapsed": false,
    "ExecuteTime": {
     "start_time": "2023-04-07T07:54:48.254288Z",
     "end_time": "2023-04-07T07:54:48.260611Z"
    }
   }
  },
  {
   "cell_type": "code",
   "execution_count": 7,
   "outputs": [],
   "source": [
    "for window in windows:\n",
    "\n",
    "    # get a dataframe with realized volatility\n",
    "    estimator = realized_vol(window=window, price_data=data)\n",
    "\n",
    "    # append the summary stats to a list\n",
    "    min_.append(estimator.min())\n",
    "    max_.append(estimator.max())\n",
    "    median.append(estimator.median())\n",
    "    top_q.append(estimator.quantile(quantiles[1]))\n",
    "    bottom_q.append(estimator.quantile(quantiles[0]))\n",
    "    realized.append(estimator[-1])"
   ],
   "metadata": {
    "collapsed": false,
    "ExecuteTime": {
     "start_time": "2023-04-07T07:54:49.053685Z",
     "end_time": "2023-04-07T07:54:49.090809Z"
    }
   }
  },
  {
   "cell_type": "code",
   "execution_count": 8,
   "outputs": [
    {
     "data": {
      "text/plain": "<matplotlib.legend.Legend at 0x12e19cfd0>"
     },
     "execution_count": 8,
     "metadata": {},
     "output_type": "execute_result"
    },
    {
     "data": {
      "text/plain": "<Figure size 432x288 with 1 Axes>",
      "image/png": "[encoded data removed]"
     },
     "metadata": {
      "needs_background": "light"
     },
     "output_type": "display_data"
    }
   ],
   "source": [
    "# create the plots on the chart\n",
    "plt.plot(windows, min_, \"-o\", linewidth=1, label=\"Min\")\n",
    "plt.plot(windows, max_, \"-o\", linewidth=1, label=\"Max\")\n",
    "plt.plot(windows, median, \"-o\", linewidth=1, label=\"Median\")\n",
    "plt.plot(windows, top_q, \"-o\", linewidth=1, label=f\"{quantiles[1] * 100:.0f} Prctl\")\n",
    "plt.plot(windows, bottom_q, \"-o\", linewidth=1, label=f\"{quantiles[0] * 100:.0f} Prctl\")\n",
    "plt.plot(windows, realized, \"ro-.\", linewidth=1, label=\"Realized\")\n",
    "\n",
    "# set the x-axis labels\n",
    "plt.xticks(windows)\n",
    "\n",
    "# format the legend\n",
    "plt.legend(loc=\"upper center\", bbox_to_anchor=(0.5, -0.1), ncol=3)"
   ],
   "metadata": {
    "collapsed": false,
    "ExecuteTime": {
     "start_time": "2023-04-07T07:54:50.256258Z",
     "end_time": "2023-04-07T07:54:50.361064Z"
    }
   }
  },
  {
   "cell_type": "code",
   "execution_count": null,
   "outputs": [],
   "source": [],
   "metadata": {
    "collapsed": false
   }
  }
 ],
 "metadata": {
  "kernelspec": {
   "display_name": "Python 3",
   "language": "python",
   "name": "python3"
  },
  "language_info": {
   "codemirror_mode": {
    "name": "ipython",
    "version": 2
   },
   "file_extension": ".py",
   "mimetype": "text/x-python",
   "name": "python",
   "nbconvert_exporter": "python",
   "pygments_lexer": "ipython2",
   "version": "2.7.6"
  }
 },
 "nbformat": 4,
 "nbformat_minor": 0
}
