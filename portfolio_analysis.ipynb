{
 "cells": [
  {
   "cell_type": "markdown",
   "source": [
    "# How an old Nintendo baddie boosts portfolio analysis\n",
    "\n",
    "K-medoids is similar to k-means except k-means clusters data by assigning points to the nearest mean of a cluster, while k-medoids assigns points to the nearest actual data point. The data point is designated as the \"medoid\" of a cluster.\n",
    "\n",
    "In the context of clustering portfolio returns and volatility, k-medoids is more robust to outliers, since it uses actual portfolio feature values as cluster centers, whereas k-means can be influenced by extreme returns or volatilities. In the case of a portfolio of high-volatility tech stocks, this can be a problem.\n",
    "\n",
    "By understanding k-medoids and how it's used in practice, you can make more informed decisions about your investments."
   ],
   "metadata": {
    "collapsed": false
   },
   "id": "b49cf2b6c4a62e2f"
  },
  {
   "cell_type": "markdown",
   "source": [
    "## Imports and set up\n",
    "\n",
    "We’ll use the scikit-learn-extra module to run the k-medoids analysis. scikit-learn-extra is a module for machine learning that extends scikit-learn. It includes algorithms that are useful but do not satisfy the scikit-learn inclusion criteria."
   ],
   "metadata": {
    "collapsed": false
   },
   "id": "ffcadb112522c5ac"
  },
  {
   "cell_type": "code",
   "execution_count": null,
   "outputs": [],
   "source": [
    "import numpy as np\n",
    "import pandas as pd\n",
    "from sklearn_extra.cluster import KMedoids\n",
    "import matplotlib.pyplot as plt\n",
    "from openbb_terminal.sdk import openbb"
   ],
   "metadata": {
    "collapsed": false,
    "is_executing": true
   },
   "id": "7130a09a409f4415"
  },
  {
   "cell_type": "code",
   "execution_count": null,
   "outputs": [],
   "source": [],
   "metadata": {
    "collapsed": false
   },
   "id": "de444c215b89442d"
  }
 ],
 "metadata": {
  "kernelspec": {
   "display_name": "Python 3",
   "language": "python",
   "name": "python3"
  },
  "language_info": {
   "codemirror_mode": {
    "name": "ipython",
    "version": 2
   },
   "file_extension": ".py",
   "mimetype": "text/x-python",
   "name": "python",
   "nbconvert_exporter": "python",
   "pygments_lexer": "ipython2",
   "version": "2.7.6"
  }
 },
 "nbformat": 4,
 "nbformat_minor": 5
}
