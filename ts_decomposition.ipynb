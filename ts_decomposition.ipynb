{
 "cells": [
  {
   "cell_type": "markdown",
   "source": [
    "# Time series decomposition helps quants understand the data\n",
    "\n",
    "Most financial data is non-stationary so predictive models fit badly. Decomposing can help you remove components to make the time series more stationary. Once the stationary components are modeled, you can reassemble the time series.\n",
    "\n",
    "Unfortunately, most people forget about decomposition as a way to predict time series. Especially when it comes to macroeconomic data.\n",
    "\n",
    "The steps are:\n",
    "\n",
    "1. Get US unemployment data for free\n",
    "2. Decompose the time series with an additive model\n",
    "3 .Decompose the time series with LOESS"
   ],
   "metadata": {
    "collapsed": false
   }
  },
  {
   "cell_type": "code",
   "execution_count": 3,
   "outputs": [
    {
     "ename": "TypeError",
     "evalue": "'EconomyRoot' object is not callable",
     "output_type": "error",
     "traceback": [
      "\u001B[0;31m---------------------------------------------------------------------------\u001B[0m",
      "\u001B[0;31mTypeError\u001B[0m                                 Traceback (most recent call last)",
      "Cell \u001B[0;32mIn[3], line 12\u001B[0m\n\u001B[1;32m      8\u001B[0m \u001B[38;5;28;01mfrom\u001B[39;00m \u001B[38;5;21;01mopenbb_terminal\u001B[39;00m\u001B[38;5;21;01m.\u001B[39;00m\u001B[38;5;21;01msdk\u001B[39;00m \u001B[38;5;28;01mimport\u001B[39;00m openbb\n\u001B[1;32m      9\u001B[0m \u001B[38;5;66;03m# Use the OpenBB SDK to get the unemployment data.\u001B[39;00m\n\u001B[1;32m     10\u001B[0m \n\u001B[1;32m     11\u001B[0m \u001B[38;5;66;03m# df = openbb.economy.unemp(2010)\u001B[39;00m\n\u001B[0;32m---> 12\u001B[0m df \u001B[38;5;241m=\u001B[39m \u001B[43mopenbb\u001B[49m\u001B[38;5;241;43m.\u001B[39;49m\u001B[43meconomy\u001B[49m\u001B[43m(\u001B[49m\u001B[38;5;241;43m2010\u001B[39;49m\u001B[43m)\u001B[49m\n\u001B[1;32m     13\u001B[0m df \u001B[38;5;241m=\u001B[39m df\u001B[38;5;241m.\u001B[39mset_index(\u001B[38;5;124m\"\u001B[39m\u001B[38;5;124mdate\u001B[39m\u001B[38;5;124m\"\u001B[39m)[:\u001B[38;5;124m\"\u001B[39m\u001B[38;5;124m2019-12-31\u001B[39m\u001B[38;5;124m\"\u001B[39m]\u001B[38;5;241m.\u001B[39msort_index()\n",
      "\u001B[0;31mTypeError\u001B[0m: 'EconomyRoot' object is not callable"
     ]
    }
   ],
   "source": [
    "# Step 1: Import the libraries and get the data\n",
    "\n",
    "# First, import pandas for data manipulation, statsmodels for time series analysis, and the OpenBB SDK for data.\n",
    "\n",
    "import pandas as pd\n",
    "\n",
    "from statsmodels.tsa.seasonal import seasonal_decompose, STL\n",
    "from openbb_terminal.sdk import openbb\n",
    "# Use the OpenBB SDK to get the unemployment data.\n",
    "\n",
    "df = openbb.economy.unemp(2010)\n",
    "df = df.set_index(\"date\")[:\"2019-12-31\"].sort_index()\n",
    "# I use 20 years of unemployment data. You can use whatever time series you want."
   ],
   "metadata": {
    "collapsed": false,
    "ExecuteTime": {
     "end_time": "2023-05-16T21:22:29.325896Z",
     "start_time": "2023-05-16T21:22:29.313225Z"
    }
   }
  },
  {
   "cell_type": "code",
   "execution_count": null,
   "outputs": [],
   "source": [
    "# Step 2: Decompose the time series for seasonality and trend\n",
    "\n",
    "# Start with visualizing the data through time by plotting the time series.\n",
    "\n",
    "df[\"rolling_mean\"] = df[\"unemp\"].rolling(window=12).mean()\n",
    "df[\"rolling_std\"] = df[\"unemp\"].rolling(window=12).std()\n",
    "df.plot(title=\"Unemployment rate\")"
   ],
   "metadata": {
    "collapsed": false
   }
  },
  {
   "cell_type": "code",
   "execution_count": null,
   "outputs": [],
   "source": [
    "# There’s a clear downward trend in the unemployment rate. There also appears to be some consistent spikes. Time series decomposition should pick up these patterns.\n",
    "\n",
    "# Run the model and plot the results.\n",
    "\n",
    "decomposition_results = seasonal_decompose(\n",
    "    df[\"unemp\"],\n",
    "    model=\"additive\"\n",
    ").plot()"
   ],
   "metadata": {
    "collapsed": false
   }
  },
  {
   "cell_type": "code",
   "execution_count": null,
   "outputs": [],
   "source": [
    "# Step 3: Decompose the time series with LOESS\n",
    "\n",
    "# Seasonal-trend decomposition (STL) uses locally estimated scatterplot smoothing (LOESS) to extract seasonality and trend from a time series. It improves on the basic additive model by handling any kind of seasonality and being more robust to outliers.\n",
    "\n",
    "# Run the model and plot the results.\n",
    "\n",
    "stl_decomposition = STL(df[[\"unemp\"]]).fit()\n",
    "stl_decomposition.plot().suptitle(\"STL Decomposition\");"
   ],
   "metadata": {
    "collapsed": false
   }
  }
 ],
 "metadata": {
  "kernelspec": {
   "display_name": "Python 3",
   "language": "python",
   "name": "python3"
  },
  "language_info": {
   "codemirror_mode": {
    "name": "ipython",
    "version": 2
   },
   "file_extension": ".py",
   "mimetype": "text/x-python",
   "name": "python",
   "nbconvert_exporter": "python",
   "pygments_lexer": "ipython2",
   "version": "2.7.6"
  }
 },
 "nbformat": 4,
 "nbformat_minor": 0
}
