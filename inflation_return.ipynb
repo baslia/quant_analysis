{
 "cells": [
  {
   "cell_type": "markdown",
   "source": [
    "# How bad is inflation eating your returns?\n",
    "\n",
    "This example will show you how to easily integrate asset price data from a stock data provider and information about inflation from the Federal Reserve Economic Data (FRED) through the OpenBB Platform.\n",
    "\n",
    "With OpenBB Platform, fetching and harmonizing data from multiple sources has never been easier.\n",
    "\n",
    "We'll use OpenBB's Python API to pull the price for an asset from a data provider. Then, we'll obtain CPI growth information, and using this data, we'll calculate the inflation-adjusted returns on an asset.\n",
    "\n",
    "Here's what we'll use:\n",
    "\n",
    "• Asset: ADRs of BMW Group, the legendary German automaker with symbol: BMWYY.\n",
    "\n",
    "• Provider: Financial Modelling Prep, a financial market data provider\n",
    "\n",
    "Provider: FRED, the Federal Reserve Economic Data"
   ],
   "metadata": {
    "collapsed": false
   },
   "id": "302f1196c8c23a24"
  },
  {
   "cell_type": "code",
   "execution_count": 3,
   "outputs": [
    {
     "name": "stdout",
     "output_type": "stream",
     "text": [
      "Extensions to add: fixedincome@0.1.0a2, intrinio@0.1.0a2, forex@0.1.0a2, economy@0.1.0a2, fmp@0.1.0a2, polygon@0.1.0a2, fred@0.1.0a2, crypto@0.1.0a2, news@0.1.0a2, benzinga@0.1.0a2, stocks@0.1.0a2\n",
      "Extensions to remove: crypto@0.1.0a0, fred@0.1.0a0, news@0.1.0a0, forex@0.1.0a0, economy@0.1.0a0, benzinga@0.1.0a0, fmp@0.1.0a0, stocks@0.1.0a0, intrinio@0.1.0a0, polygon@0.1.0a0, fixedincome@0.1.0a0\n",
      "\n",
      "Building...\n"
     ]
    }
   ],
   "source": [
    "# Import the OpenBB Python API\n",
    "from openbb import obb\n",
    "\n"
   ],
   "metadata": {
    "collapsed": false,
    "ExecuteTime": {
     "end_time": "2023-09-24T02:22:24.196991Z",
     "start_time": "2023-09-24T02:22:17.916125Z"
    }
   },
   "id": "eaa13c4fd8658b8d"
  },
  {
   "cell_type": "code",
   "execution_count": 4,
   "outputs": [
    {
     "ename": "OpenBBError",
     "evalue": "Missing credential 'fmp_api_key'.",
     "output_type": "error",
     "traceback": [
      "\u001B[0;31m---------------------------------------------------------------------------\u001B[0m",
      "\u001B[0;31mProviderError\u001B[0m                             Traceback (most recent call last)",
      "File \u001B[0;32m/opt/homebrew/Caskroom/miniforge/base/envs/py310/lib/python3.10/site-packages/openbb_core/app/command_runner.py:311\u001B[0m, in \u001B[0;36mStaticCommandRunner.__execute_func\u001B[0;34m(cls, route, args, execution_context, func, kwargs)\u001B[0m\n\u001B[1;32m    310\u001B[0m \u001B[38;5;28;01mtry\u001B[39;00m:\n\u001B[0;32m--> 311\u001B[0m     obbject \u001B[38;5;241m=\u001B[39m \u001B[38;5;28;43mcls\u001B[39;49m\u001B[38;5;241;43m.\u001B[39;49m\u001B[43m__command\u001B[49m\u001B[43m(\u001B[49m\n\u001B[1;32m    312\u001B[0m \u001B[43m        \u001B[49m\u001B[43mfunc\u001B[49m\u001B[38;5;241;43m=\u001B[39;49m\u001B[43mfunc\u001B[49m\u001B[43m,\u001B[49m\n\u001B[1;32m    313\u001B[0m \u001B[43m        \u001B[49m\u001B[43mkwargs\u001B[49m\u001B[38;5;241;43m=\u001B[39;49m\u001B[43mkwargs\u001B[49m\u001B[43m,\u001B[49m\n\u001B[1;32m    314\u001B[0m \u001B[43m    \u001B[49m\u001B[43m)\u001B[49m\n\u001B[1;32m    316\u001B[0m     \u001B[38;5;28;01mif\u001B[39;00m chart \u001B[38;5;129;01mand\u001B[39;00m obbject\u001B[38;5;241m.\u001B[39mresults:\n",
      "File \u001B[0;32m/opt/homebrew/Caskroom/miniforge/base/envs/py310/lib/python3.10/site-packages/openbb_core/app/command_runner.py:244\u001B[0m, in \u001B[0;36mStaticCommandRunner.__command\u001B[0;34m(cls, func, kwargs)\u001B[0m\n\u001B[1;32m    243\u001B[0m \u001B[38;5;28;01mwith\u001B[39;00m context_manager \u001B[38;5;28;01mas\u001B[39;00m warning_list:\n\u001B[0;32m--> 244\u001B[0m     obbject \u001B[38;5;241m=\u001B[39m \u001B[43mfunc\u001B[49m\u001B[43m(\u001B[49m\u001B[38;5;241;43m*\u001B[39;49m\u001B[38;5;241;43m*\u001B[39;49m\u001B[43mkwargs\u001B[49m\u001B[43m)\u001B[49m\n\u001B[1;32m    246\u001B[0m     obbject\u001B[38;5;241m.\u001B[39mprovider \u001B[38;5;241m=\u001B[39m \u001B[38;5;28mgetattr\u001B[39m(\n\u001B[1;32m    247\u001B[0m         kwargs\u001B[38;5;241m.\u001B[39mget(\u001B[38;5;124m\"\u001B[39m\u001B[38;5;124mprovider_choices\u001B[39m\u001B[38;5;124m\"\u001B[39m, \u001B[38;5;28;01mNone\u001B[39;00m), \u001B[38;5;124m\"\u001B[39m\u001B[38;5;124mprovider\u001B[39m\u001B[38;5;124m\"\u001B[39m, \u001B[38;5;28;01mNone\u001B[39;00m\n\u001B[1;32m    248\u001B[0m     )\n",
      "File \u001B[0;32m/opt/homebrew/Caskroom/miniforge/base/envs/py310/lib/python3.10/site-packages/openbb_stocks/stocks_router.py:44\u001B[0m, in \u001B[0;36mload\u001B[0;34m(cc, provider_choices, standard_params, extra_params)\u001B[0m\n\u001B[1;32m     43\u001B[0m \u001B[38;5;250m\u001B[39m\u001B[38;5;124;03m\"\"\"Load stock data for a specific ticker.\"\"\"\u001B[39;00m\n\u001B[0;32m---> 44\u001B[0m \u001B[38;5;28;01mreturn\u001B[39;00m OBBject(results\u001B[38;5;241m=\u001B[39m\u001B[43mQuery\u001B[49m\u001B[43m(\u001B[49m\u001B[38;5;241;43m*\u001B[39;49m\u001B[38;5;241;43m*\u001B[39;49m\u001B[38;5;28;43mlocals\u001B[39;49m\u001B[43m(\u001B[49m\u001B[43m)\u001B[49m\u001B[43m)\u001B[49m\u001B[38;5;241;43m.\u001B[39;49m\u001B[43mexecute\u001B[49m\u001B[43m(\u001B[49m\u001B[43m)\u001B[49m)\n",
      "File \u001B[0;32m/opt/homebrew/Caskroom/miniforge/base/envs/py310/lib/python3.10/site-packages/openbb_core/app/query.py:72\u001B[0m, in \u001B[0;36mQuery.execute\u001B[0;34m(self)\u001B[0m\n\u001B[1;32m     70\u001B[0m query_executor \u001B[38;5;241m=\u001B[39m \u001B[38;5;28mself\u001B[39m\u001B[38;5;241m.\u001B[39mprovider_interface\u001B[38;5;241m.\u001B[39mcreate_executor()\n\u001B[0;32m---> 72\u001B[0m \u001B[38;5;28;01mreturn\u001B[39;00m \u001B[43mquery_executor\u001B[49m\u001B[38;5;241;43m.\u001B[39;49m\u001B[43mexecute\u001B[49m\u001B[43m(\u001B[49m\n\u001B[1;32m     73\u001B[0m \u001B[43m    \u001B[49m\u001B[43mprovider_name\u001B[49m\u001B[38;5;241;43m=\u001B[39;49m\u001B[38;5;28;43mself\u001B[39;49m\u001B[38;5;241;43m.\u001B[39;49m\u001B[43mprovider\u001B[49m\u001B[43m,\u001B[49m\n\u001B[1;32m     74\u001B[0m \u001B[43m    \u001B[49m\u001B[43mmodel_name\u001B[49m\u001B[38;5;241;43m=\u001B[39;49m\u001B[38;5;28;43mself\u001B[39;49m\u001B[38;5;241;43m.\u001B[39;49m\u001B[43mname\u001B[49m\u001B[43m,\u001B[49m\n\u001B[1;32m     75\u001B[0m \u001B[43m    \u001B[49m\u001B[43mparams\u001B[49m\u001B[38;5;241;43m=\u001B[39;49m\u001B[43m{\u001B[49m\u001B[38;5;241;43m*\u001B[39;49m\u001B[38;5;241;43m*\u001B[39;49m\u001B[43mstandard_dict\u001B[49m\u001B[43m,\u001B[49m\u001B[43m \u001B[49m\u001B[38;5;241;43m*\u001B[39;49m\u001B[38;5;241;43m*\u001B[39;49m\u001B[43mextra_dict\u001B[49m\u001B[43m}\u001B[49m\u001B[43m,\u001B[49m\n\u001B[1;32m     76\u001B[0m \u001B[43m    \u001B[49m\u001B[43mcredentials\u001B[49m\u001B[38;5;241;43m=\u001B[39;49m\u001B[38;5;28;43mself\u001B[39;49m\u001B[38;5;241;43m.\u001B[39;49m\u001B[43mcc\u001B[49m\u001B[38;5;241;43m.\u001B[39;49m\u001B[43muser_settings\u001B[49m\u001B[38;5;241;43m.\u001B[39;49m\u001B[43mcredentials\u001B[49m\u001B[38;5;241;43m.\u001B[39;49m\u001B[43mdict\u001B[49m\u001B[43m(\u001B[49m\u001B[43m)\u001B[49m\u001B[43m,\u001B[49m\n\u001B[1;32m     77\u001B[0m \u001B[43m    \u001B[49m\u001B[43mpreferences\u001B[49m\u001B[38;5;241;43m=\u001B[39;49m\u001B[38;5;28;43mself\u001B[39;49m\u001B[38;5;241;43m.\u001B[39;49m\u001B[43mcc\u001B[49m\u001B[38;5;241;43m.\u001B[39;49m\u001B[43muser_settings\u001B[49m\u001B[38;5;241;43m.\u001B[39;49m\u001B[43mpreferences\u001B[49m\u001B[38;5;241;43m.\u001B[39;49m\u001B[43mdict\u001B[49m\u001B[43m(\u001B[49m\u001B[43m)\u001B[49m\u001B[43m,\u001B[49m\n\u001B[1;32m     78\u001B[0m \u001B[43m\u001B[49m\u001B[43m)\u001B[49m\n",
      "File \u001B[0;32m/opt/homebrew/Caskroom/miniforge/base/envs/py310/lib/python3.10/site-packages/openbb_provider/query_executor.py:77\u001B[0m, in \u001B[0;36mQueryExecutor.execute\u001B[0;34m(self, provider_name, model_name, params, credentials, **kwargs)\u001B[0m\n\u001B[1;32m     76\u001B[0m provider \u001B[38;5;241m=\u001B[39m \u001B[38;5;28mself\u001B[39m\u001B[38;5;241m.\u001B[39mget_provider(provider_name)\n\u001B[0;32m---> 77\u001B[0m \u001B[38;5;28;43mself\u001B[39;49m\u001B[38;5;241;43m.\u001B[39;49m\u001B[43mverify_credentials\u001B[49m\u001B[43m(\u001B[49m\u001B[43mprovider\u001B[49m\u001B[43m,\u001B[49m\u001B[43m \u001B[49m\u001B[43mcredentials\u001B[49m\u001B[43m)\u001B[49m\n\u001B[1;32m     78\u001B[0m fetcher \u001B[38;5;241m=\u001B[39m \u001B[38;5;28mself\u001B[39m\u001B[38;5;241m.\u001B[39mget_fetcher(provider, model_name)\n",
      "File \u001B[0;32m/opt/homebrew/Caskroom/miniforge/base/envs/py310/lib/python3.10/site-packages/openbb_provider/query_executor.py:47\u001B[0m, in \u001B[0;36mQueryExecutor.verify_credentials\u001B[0;34m(provider, credentials)\u001B[0m\n\u001B[1;32m     46\u001B[0m \u001B[38;5;28;01mif\u001B[39;00m c \u001B[38;5;129;01mnot\u001B[39;00m \u001B[38;5;129;01min\u001B[39;00m credentials \u001B[38;5;129;01mor\u001B[39;00m credential_value \u001B[38;5;129;01mis\u001B[39;00m \u001B[38;5;28;01mNone\u001B[39;00m:\n\u001B[0;32m---> 47\u001B[0m     \u001B[38;5;28;01mraise\u001B[39;00m ProviderError(\u001B[38;5;124mf\u001B[39m\u001B[38;5;124m\"\u001B[39m\u001B[38;5;124mMissing credential \u001B[39m\u001B[38;5;124m'\u001B[39m\u001B[38;5;132;01m{\u001B[39;00mc\u001B[38;5;132;01m}\u001B[39;00m\u001B[38;5;124m'\u001B[39m\u001B[38;5;124m.\u001B[39m\u001B[38;5;124m\"\u001B[39m)\n",
      "\u001B[0;31mProviderError\u001B[0m: Missing credential 'fmp_api_key'.",
      "\nThe above exception was the direct cause of the following exception:\n",
      "\u001B[0;31mOpenBBError\u001B[0m                               Traceback (most recent call last)",
      "Cell \u001B[0;32mIn [4], line 3\u001B[0m\n\u001B[1;32m      1\u001B[0m \u001B[38;5;66;03m# Getting the data\u001B[39;00m\n\u001B[1;32m      2\u001B[0m \u001B[38;5;66;03m# Get the nominal price returns for 2022\u001B[39;00m\n\u001B[0;32m----> 3\u001B[0m stocks_dataframe \u001B[38;5;241m=\u001B[39m \u001B[43mobb\u001B[49m\u001B[38;5;241;43m.\u001B[39;49m\u001B[43mstocks\u001B[49m\u001B[38;5;241;43m.\u001B[39;49m\u001B[43mload\u001B[49m\u001B[43m(\u001B[49m\n\u001B[1;32m      4\u001B[0m \u001B[43m    \u001B[49m\u001B[38;5;124;43m\"\u001B[39;49m\u001B[38;5;124;43mBMWYY\u001B[39;49m\u001B[38;5;124;43m\"\u001B[39;49m\u001B[43m,\u001B[49m\n\u001B[1;32m      5\u001B[0m \u001B[43m    \u001B[49m\u001B[43mstart_date\u001B[49m\u001B[38;5;241;43m=\u001B[39;49m\u001B[38;5;124;43m\"\u001B[39;49m\u001B[38;5;124;43m2022-03-01\u001B[39;49m\u001B[38;5;124;43m\"\u001B[39;49m\u001B[43m,\u001B[49m\n\u001B[1;32m      6\u001B[0m \u001B[43m    \u001B[49m\u001B[43mend_date\u001B[49m\u001B[38;5;241;43m=\u001B[39;49m\u001B[38;5;124;43m\"\u001B[39;49m\u001B[38;5;124;43m2023-03-01\u001B[39;49m\u001B[38;5;124;43m\"\u001B[39;49m\n\u001B[1;32m      7\u001B[0m \u001B[43m)\u001B[49m\u001B[38;5;241m.\u001B[39mto_dataframe()\n\u001B[1;32m      8\u001B[0m price_start \u001B[38;5;241m=\u001B[39m stocks_dataframe[\u001B[38;5;124m\"\u001B[39m\u001B[38;5;124mclose\u001B[39m\u001B[38;5;124m\"\u001B[39m]\u001B[38;5;241m.\u001B[39miloc[\u001B[38;5;241m0\u001B[39m]\n\u001B[1;32m      9\u001B[0m price_end \u001B[38;5;241m=\u001B[39m stocks_dataframe[\u001B[38;5;124m\"\u001B[39m\u001B[38;5;124mclose\u001B[39m\u001B[38;5;124m\"\u001B[39m]\u001B[38;5;241m.\u001B[39miloc[\u001B[38;5;241m-\u001B[39m\u001B[38;5;241m1\u001B[39m]\n",
      "File \u001B[0;32m/opt/homebrew/Caskroom/miniforge/base/envs/py310/lib/python3.10/site-packages/pydantic/decorator.py:40\u001B[0m, in \u001B[0;36mpydantic.decorator.validate_arguments.validate.wrapper_function\u001B[0;34m()\u001B[0m\n",
      "File \u001B[0;32m/opt/homebrew/Caskroom/miniforge/base/envs/py310/lib/python3.10/site-packages/pydantic/decorator.py:134\u001B[0m, in \u001B[0;36mpydantic.decorator.ValidatedFunction.call\u001B[0;34m()\u001B[0m\n",
      "File \u001B[0;32m/opt/homebrew/Caskroom/miniforge/base/envs/py310/lib/python3.10/site-packages/pydantic/decorator.py:206\u001B[0m, in \u001B[0;36mpydantic.decorator.ValidatedFunction.execute\u001B[0;34m()\u001B[0m\n",
      "File \u001B[0;32m/opt/homebrew/Caskroom/miniforge/base/envs/py310/lib/python3.10/site-packages/openbb/package/stocks.py:137\u001B[0m, in \u001B[0;36mROUTER_stocks.load\u001B[0;34m(self, symbol, start_date, end_date, provider, **kwargs)\u001B[0m\n\u001B[1;32m     40\u001B[0m \u001B[38;5;250m        \u001B[39m\u001B[38;5;124;03m\"\"\"Load stock data for a specific ticker.\u001B[39;00m\n\u001B[1;32m     41\u001B[0m \n\u001B[1;32m     42\u001B[0m \u001B[38;5;124;03mParameters\u001B[39;00m\n\u001B[0;32m   (...)\u001B[0m\n\u001B[1;32m    128\u001B[0m \u001B[38;5;124;03m    Number of transactions for the symbol in the time period. (provider: polygon)\u001B[39;00m\n\u001B[1;32m    129\u001B[0m \u001B[38;5;124;03m\"\"\"\u001B[39;00m  \u001B[38;5;66;03m# noqa: E501\u001B[39;00m\n\u001B[1;32m    131\u001B[0m         inputs \u001B[38;5;241m=\u001B[39m filter_inputs(\n\u001B[1;32m    132\u001B[0m             provider_choices\u001B[38;5;241m=\u001B[39m{\u001B[38;5;124m\"\u001B[39m\u001B[38;5;124mprovider\u001B[39m\u001B[38;5;124m\"\u001B[39m: provider, },\n\u001B[1;32m    133\u001B[0m             standard_params\u001B[38;5;241m=\u001B[39m{\u001B[38;5;124m\"\u001B[39m\u001B[38;5;124msymbol\u001B[39m\u001B[38;5;124m\"\u001B[39m: \u001B[38;5;124m\"\u001B[39m\u001B[38;5;124m,\u001B[39m\u001B[38;5;124m\"\u001B[39m\u001B[38;5;241m.\u001B[39mjoin(symbol) \u001B[38;5;28;01mif\u001B[39;00m \u001B[38;5;28misinstance\u001B[39m(symbol, \u001B[38;5;28mlist\u001B[39m) \u001B[38;5;28;01melse\u001B[39;00m symbol, \u001B[38;5;124m\"\u001B[39m\u001B[38;5;124mstart_date\u001B[39m\u001B[38;5;124m\"\u001B[39m: start_date, \u001B[38;5;124m\"\u001B[39m\u001B[38;5;124mend_date\u001B[39m\u001B[38;5;124m\"\u001B[39m: end_date, },\n\u001B[1;32m    134\u001B[0m             extra_params\u001B[38;5;241m=\u001B[39mkwargs,\n\u001B[1;32m    135\u001B[0m         )\n\u001B[0;32m--> 137\u001B[0m         \u001B[38;5;28;01mreturn\u001B[39;00m \u001B[38;5;28;43mself\u001B[39;49m\u001B[38;5;241;43m.\u001B[39;49m\u001B[43m_command_runner\u001B[49m\u001B[38;5;241;43m.\u001B[39;49m\u001B[43mrun\u001B[49m\u001B[43m(\u001B[49m\n\u001B[1;32m    138\u001B[0m \u001B[43m            \u001B[49m\u001B[38;5;124;43m\"\u001B[39;49m\u001B[38;5;124;43m/stocks/load\u001B[39;49m\u001B[38;5;124;43m\"\u001B[39;49m\u001B[43m,\u001B[49m\n\u001B[1;32m    139\u001B[0m \u001B[43m            \u001B[49m\u001B[38;5;241;43m*\u001B[39;49m\u001B[38;5;241;43m*\u001B[39;49m\u001B[43minputs\u001B[49m\u001B[43m,\u001B[49m\n\u001B[1;32m    140\u001B[0m \u001B[43m        \u001B[49m\u001B[43m)\u001B[49m\n",
      "File \u001B[0;32m/opt/homebrew/Caskroom/miniforge/base/envs/py310/lib/python3.10/site-packages/openbb_core/app/command_runner.py:436\u001B[0m, in \u001B[0;36mCommandRunner.run\u001B[0;34m(self, route, user_settings, *args, **kwargs)\u001B[0m\n\u001B[1;32m    427\u001B[0m \u001B[38;5;28mself\u001B[39m\u001B[38;5;241m.\u001B[39m_user_settings \u001B[38;5;241m=\u001B[39m user_settings \u001B[38;5;129;01mor\u001B[39;00m \u001B[38;5;28mself\u001B[39m\u001B[38;5;241m.\u001B[39m_user_settings\n\u001B[1;32m    429\u001B[0m execution_context \u001B[38;5;241m=\u001B[39m ExecutionContext(\n\u001B[1;32m    430\u001B[0m     command_map\u001B[38;5;241m=\u001B[39m\u001B[38;5;28mself\u001B[39m\u001B[38;5;241m.\u001B[39m_command_map,\n\u001B[1;32m    431\u001B[0m     route\u001B[38;5;241m=\u001B[39mroute,\n\u001B[1;32m    432\u001B[0m     system_settings\u001B[38;5;241m=\u001B[39m\u001B[38;5;28mself\u001B[39m\u001B[38;5;241m.\u001B[39m_system_settings,\n\u001B[1;32m    433\u001B[0m     user_settings\u001B[38;5;241m=\u001B[39m\u001B[38;5;28mself\u001B[39m\u001B[38;5;241m.\u001B[39m_user_settings,\n\u001B[1;32m    434\u001B[0m )\n\u001B[0;32m--> 436\u001B[0m \u001B[38;5;28;01mreturn\u001B[39;00m \u001B[43mStaticCommandRunner\u001B[49m\u001B[38;5;241;43m.\u001B[39;49m\u001B[43mrun\u001B[49m\u001B[43m(\u001B[49m\n\u001B[1;32m    437\u001B[0m \u001B[43m    \u001B[49m\u001B[43mexecution_context\u001B[49m\u001B[43m,\u001B[49m\n\u001B[1;32m    438\u001B[0m \u001B[43m    \u001B[49m\u001B[38;5;241;43m*\u001B[39;49m\u001B[43margs\u001B[49m\u001B[43m,\u001B[49m\n\u001B[1;32m    439\u001B[0m \u001B[43m    \u001B[49m\u001B[38;5;241;43m*\u001B[39;49m\u001B[38;5;241;43m*\u001B[39;49m\u001B[43mkwargs\u001B[49m\u001B[43m,\u001B[49m\n\u001B[1;32m    440\u001B[0m \u001B[43m\u001B[49m\u001B[43m)\u001B[49m\n",
      "File \u001B[0;32m/opt/homebrew/Caskroom/miniforge/base/envs/py310/lib/python3.10/site-packages/openbb_core/app/command_runner.py:357\u001B[0m, in \u001B[0;36mStaticCommandRunner.run\u001B[0;34m(cls, execution_context, *args, **kwargs)\u001B[0m\n\u001B[1;32m    354\u001B[0m route \u001B[38;5;241m=\u001B[39m execution_context\u001B[38;5;241m.\u001B[39mroute\n\u001B[1;32m    356\u001B[0m \u001B[38;5;28;01mif\u001B[39;00m func \u001B[38;5;241m:=\u001B[39m command_map\u001B[38;5;241m.\u001B[39mget_command(route\u001B[38;5;241m=\u001B[39mroute):\n\u001B[0;32m--> 357\u001B[0m     obbject \u001B[38;5;241m=\u001B[39m \u001B[38;5;28;43mcls\u001B[39;49m\u001B[38;5;241;43m.\u001B[39;49m\u001B[43m__execute_func\u001B[49m\u001B[43m(\u001B[49m\n\u001B[1;32m    358\u001B[0m \u001B[43m        \u001B[49m\u001B[43mroute\u001B[49m\u001B[38;5;241;43m=\u001B[39;49m\u001B[43mroute\u001B[49m\u001B[43m,\u001B[49m\n\u001B[1;32m    359\u001B[0m \u001B[43m        \u001B[49m\u001B[43margs\u001B[49m\u001B[38;5;241;43m=\u001B[39;49m\u001B[43margs\u001B[49m\u001B[43m,\u001B[49m\u001B[43m  \u001B[49m\u001B[38;5;66;43;03m# type: ignore\u001B[39;49;00m\n\u001B[1;32m    360\u001B[0m \u001B[43m        \u001B[49m\u001B[43mexecution_context\u001B[49m\u001B[38;5;241;43m=\u001B[39;49m\u001B[43mexecution_context\u001B[49m\u001B[43m,\u001B[49m\n\u001B[1;32m    361\u001B[0m \u001B[43m        \u001B[49m\u001B[43mfunc\u001B[49m\u001B[38;5;241;43m=\u001B[39;49m\u001B[43mfunc\u001B[49m\u001B[43m,\u001B[49m\n\u001B[1;32m    362\u001B[0m \u001B[43m        \u001B[49m\u001B[43mkwargs\u001B[49m\u001B[38;5;241;43m=\u001B[39;49m\u001B[43mkwargs\u001B[49m\u001B[43m,\u001B[49m\n\u001B[1;32m    363\u001B[0m \u001B[43m    \u001B[49m\u001B[43m)\u001B[49m\n\u001B[1;32m    364\u001B[0m \u001B[38;5;28;01melse\u001B[39;00m:\n\u001B[1;32m    365\u001B[0m     \u001B[38;5;28;01mraise\u001B[39;00m \u001B[38;5;167;01mAttributeError\u001B[39;00m(\u001B[38;5;124mf\u001B[39m\u001B[38;5;124m\"\u001B[39m\u001B[38;5;124mInvalid command : route=\u001B[39m\u001B[38;5;132;01m{\u001B[39;00mroute\u001B[38;5;132;01m}\u001B[39;00m\u001B[38;5;124m\"\u001B[39m)\n",
      "File \u001B[0;32m/opt/homebrew/Caskroom/miniforge/base/envs/py310/lib/python3.10/site-packages/openbb_core/app/command_runner.py:326\u001B[0m, in \u001B[0;36mStaticCommandRunner.__execute_func\u001B[0;34m(cls, route, args, execution_context, func, kwargs)\u001B[0m\n\u001B[1;32m    317\u001B[0m         \u001B[38;5;28mcls\u001B[39m\u001B[38;5;241m.\u001B[39m__chart(\n\u001B[1;32m    318\u001B[0m             obbject\u001B[38;5;241m=\u001B[39mobbject,\n\u001B[1;32m    319\u001B[0m             user_settings\u001B[38;5;241m=\u001B[39muser_settings,\n\u001B[0;32m   (...)\u001B[0m\n\u001B[1;32m    322\u001B[0m             \u001B[38;5;241m*\u001B[39m\u001B[38;5;241m*\u001B[39mkwargs,\n\u001B[1;32m    323\u001B[0m         )\n\u001B[1;32m    325\u001B[0m \u001B[38;5;28;01mexcept\u001B[39;00m \u001B[38;5;167;01mException\u001B[39;00m \u001B[38;5;28;01mas\u001B[39;00m e:\n\u001B[0;32m--> 326\u001B[0m     \u001B[38;5;28;01mraise\u001B[39;00m OpenBBError(e) \u001B[38;5;28;01mfrom\u001B[39;00m \u001B[38;5;21;01me\u001B[39;00m\n\u001B[1;32m    327\u001B[0m \u001B[38;5;28;01mfinally\u001B[39;00m:\n\u001B[1;32m    328\u001B[0m     ls \u001B[38;5;241m=\u001B[39m LoggingService(\n\u001B[1;32m    329\u001B[0m         user_settings\u001B[38;5;241m=\u001B[39muser_settings, system_settings\u001B[38;5;241m=\u001B[39msystem_settings\n\u001B[1;32m    330\u001B[0m     )\n",
      "\u001B[0;31mOpenBBError\u001B[0m: Missing credential 'fmp_api_key'."
     ]
    }
   ],
   "source": [
    "# Getting the data\n",
    "# Get the nominal price returns for 2022\n",
    "stocks_dataframe = obb.stocks.load(\n",
    "    \"BMWYY\",\n",
    "    start_date=\"2022-03-01\",\n",
    "    end_date=\"2023-03-01\"\n",
    ").to_dataframe()\n",
    "price_start = stocks_dataframe[\"close\"].iloc[0]\n",
    "price_end = stocks_dataframe[\"close\"].iloc[-1]\n",
    "\n",
    "nominal_returns = (price_end - price_start) / price_start\n",
    "print(f\"Nominal price returns: {nominal_returns}\")"
   ],
   "metadata": {
    "collapsed": false,
    "ExecuteTime": {
     "end_time": "2023-09-24T02:22:39.496052Z",
     "start_time": "2023-09-24T02:22:39.406326Z"
    }
   },
   "id": "8d13183a13188a62"
  },
  {
   "cell_type": "code",
   "execution_count": 13,
   "outputs": [
    {
     "name": "stdout",
     "output_type": "stream",
     "text": [
      "Nominal price returns: 0.21921695077604178\n"
     ]
    }
   ],
   "source": [
    "# If openbb API doesn't work, use yfinance\n",
    "from yfinance import Ticker\n",
    "bmw = Ticker(\"BMWYY\")\n",
    "stocks_dataframe = bmw.history(start=\"2022-03-01\", end=\"2023-03-01\")\n",
    "price_start = stocks_dataframe[\"Close\"].iloc[0]\n",
    "price_end = stocks_dataframe[\"Close\"].iloc[-1]\n",
    "\n",
    "nominal_returns = (price_end - price_start) / price_start\n",
    "print(f\"Nominal price returns: {nominal_returns}\")"
   ],
   "metadata": {
    "collapsed": false,
    "ExecuteTime": {
     "end_time": "2023-09-24T02:32:43.756827Z",
     "start_time": "2023-09-24T02:32:43.564935Z"
    }
   },
   "id": "8e66c0db8dc87e27"
  },
  {
   "cell_type": "code",
   "execution_count": 14,
   "outputs": [
    {
     "ename": "OpenBBError",
     "evalue": "Missing credential 'fred_api_key'.",
     "output_type": "error",
     "traceback": [
      "\u001B[0;31m---------------------------------------------------------------------------\u001B[0m",
      "\u001B[0;31mProviderError\u001B[0m                             Traceback (most recent call last)",
      "File \u001B[0;32m/opt/homebrew/Caskroom/miniforge/base/envs/py310/lib/python3.10/site-packages/openbb_core/app/command_runner.py:311\u001B[0m, in \u001B[0;36mStaticCommandRunner.__execute_func\u001B[0;34m(cls, route, args, execution_context, func, kwargs)\u001B[0m\n\u001B[1;32m    310\u001B[0m \u001B[38;5;28;01mtry\u001B[39;00m:\n\u001B[0;32m--> 311\u001B[0m     obbject \u001B[38;5;241m=\u001B[39m \u001B[38;5;28;43mcls\u001B[39;49m\u001B[38;5;241;43m.\u001B[39;49m\u001B[43m__command\u001B[49m\u001B[43m(\u001B[49m\n\u001B[1;32m    312\u001B[0m \u001B[43m        \u001B[49m\u001B[43mfunc\u001B[49m\u001B[38;5;241;43m=\u001B[39;49m\u001B[43mfunc\u001B[49m\u001B[43m,\u001B[49m\n\u001B[1;32m    313\u001B[0m \u001B[43m        \u001B[49m\u001B[43mkwargs\u001B[49m\u001B[38;5;241;43m=\u001B[39;49m\u001B[43mkwargs\u001B[49m\u001B[43m,\u001B[49m\n\u001B[1;32m    314\u001B[0m \u001B[43m    \u001B[49m\u001B[43m)\u001B[49m\n\u001B[1;32m    316\u001B[0m     \u001B[38;5;28;01mif\u001B[39;00m chart \u001B[38;5;129;01mand\u001B[39;00m obbject\u001B[38;5;241m.\u001B[39mresults:\n",
      "File \u001B[0;32m/opt/homebrew/Caskroom/miniforge/base/envs/py310/lib/python3.10/site-packages/openbb_core/app/command_runner.py:244\u001B[0m, in \u001B[0;36mStaticCommandRunner.__command\u001B[0;34m(cls, func, kwargs)\u001B[0m\n\u001B[1;32m    243\u001B[0m \u001B[38;5;28;01mwith\u001B[39;00m context_manager \u001B[38;5;28;01mas\u001B[39;00m warning_list:\n\u001B[0;32m--> 244\u001B[0m     obbject \u001B[38;5;241m=\u001B[39m \u001B[43mfunc\u001B[49m\u001B[43m(\u001B[49m\u001B[38;5;241;43m*\u001B[39;49m\u001B[38;5;241;43m*\u001B[39;49m\u001B[43mkwargs\u001B[49m\u001B[43m)\u001B[49m\n\u001B[1;32m    246\u001B[0m     obbject\u001B[38;5;241m.\u001B[39mprovider \u001B[38;5;241m=\u001B[39m \u001B[38;5;28mgetattr\u001B[39m(\n\u001B[1;32m    247\u001B[0m         kwargs\u001B[38;5;241m.\u001B[39mget(\u001B[38;5;124m\"\u001B[39m\u001B[38;5;124mprovider_choices\u001B[39m\u001B[38;5;124m\"\u001B[39m, \u001B[38;5;28;01mNone\u001B[39;00m), \u001B[38;5;124m\"\u001B[39m\u001B[38;5;124mprovider\u001B[39m\u001B[38;5;124m\"\u001B[39m, \u001B[38;5;28;01mNone\u001B[39;00m\n\u001B[1;32m    248\u001B[0m     )\n",
      "File \u001B[0;32m/opt/homebrew/Caskroom/miniforge/base/envs/py310/lib/python3.10/site-packages/openbb_economy/economy_router.py:40\u001B[0m, in \u001B[0;36mcpi\u001B[0;34m(cc, provider_choices, standard_params, extra_params)\u001B[0m\n\u001B[1;32m     39\u001B[0m \u001B[38;5;250m\u001B[39m\u001B[38;5;124;03m\"\"\"CPI.\"\"\"\u001B[39;00m\n\u001B[0;32m---> 40\u001B[0m \u001B[38;5;28;01mreturn\u001B[39;00m OBBject(results\u001B[38;5;241m=\u001B[39m\u001B[43mQuery\u001B[49m\u001B[43m(\u001B[49m\u001B[38;5;241;43m*\u001B[39;49m\u001B[38;5;241;43m*\u001B[39;49m\u001B[38;5;28;43mlocals\u001B[39;49m\u001B[43m(\u001B[49m\u001B[43m)\u001B[49m\u001B[43m)\u001B[49m\u001B[38;5;241;43m.\u001B[39;49m\u001B[43mexecute\u001B[49m\u001B[43m(\u001B[49m\u001B[43m)\u001B[49m)\n",
      "File \u001B[0;32m/opt/homebrew/Caskroom/miniforge/base/envs/py310/lib/python3.10/site-packages/openbb_core/app/query.py:72\u001B[0m, in \u001B[0;36mQuery.execute\u001B[0;34m(self)\u001B[0m\n\u001B[1;32m     70\u001B[0m query_executor \u001B[38;5;241m=\u001B[39m \u001B[38;5;28mself\u001B[39m\u001B[38;5;241m.\u001B[39mprovider_interface\u001B[38;5;241m.\u001B[39mcreate_executor()\n\u001B[0;32m---> 72\u001B[0m \u001B[38;5;28;01mreturn\u001B[39;00m \u001B[43mquery_executor\u001B[49m\u001B[38;5;241;43m.\u001B[39;49m\u001B[43mexecute\u001B[49m\u001B[43m(\u001B[49m\n\u001B[1;32m     73\u001B[0m \u001B[43m    \u001B[49m\u001B[43mprovider_name\u001B[49m\u001B[38;5;241;43m=\u001B[39;49m\u001B[38;5;28;43mself\u001B[39;49m\u001B[38;5;241;43m.\u001B[39;49m\u001B[43mprovider\u001B[49m\u001B[43m,\u001B[49m\n\u001B[1;32m     74\u001B[0m \u001B[43m    \u001B[49m\u001B[43mmodel_name\u001B[49m\u001B[38;5;241;43m=\u001B[39;49m\u001B[38;5;28;43mself\u001B[39;49m\u001B[38;5;241;43m.\u001B[39;49m\u001B[43mname\u001B[49m\u001B[43m,\u001B[49m\n\u001B[1;32m     75\u001B[0m \u001B[43m    \u001B[49m\u001B[43mparams\u001B[49m\u001B[38;5;241;43m=\u001B[39;49m\u001B[43m{\u001B[49m\u001B[38;5;241;43m*\u001B[39;49m\u001B[38;5;241;43m*\u001B[39;49m\u001B[43mstandard_dict\u001B[49m\u001B[43m,\u001B[49m\u001B[43m \u001B[49m\u001B[38;5;241;43m*\u001B[39;49m\u001B[38;5;241;43m*\u001B[39;49m\u001B[43mextra_dict\u001B[49m\u001B[43m}\u001B[49m\u001B[43m,\u001B[49m\n\u001B[1;32m     76\u001B[0m \u001B[43m    \u001B[49m\u001B[43mcredentials\u001B[49m\u001B[38;5;241;43m=\u001B[39;49m\u001B[38;5;28;43mself\u001B[39;49m\u001B[38;5;241;43m.\u001B[39;49m\u001B[43mcc\u001B[49m\u001B[38;5;241;43m.\u001B[39;49m\u001B[43muser_settings\u001B[49m\u001B[38;5;241;43m.\u001B[39;49m\u001B[43mcredentials\u001B[49m\u001B[38;5;241;43m.\u001B[39;49m\u001B[43mdict\u001B[49m\u001B[43m(\u001B[49m\u001B[43m)\u001B[49m\u001B[43m,\u001B[49m\n\u001B[1;32m     77\u001B[0m \u001B[43m    \u001B[49m\u001B[43mpreferences\u001B[49m\u001B[38;5;241;43m=\u001B[39;49m\u001B[38;5;28;43mself\u001B[39;49m\u001B[38;5;241;43m.\u001B[39;49m\u001B[43mcc\u001B[49m\u001B[38;5;241;43m.\u001B[39;49m\u001B[43muser_settings\u001B[49m\u001B[38;5;241;43m.\u001B[39;49m\u001B[43mpreferences\u001B[49m\u001B[38;5;241;43m.\u001B[39;49m\u001B[43mdict\u001B[49m\u001B[43m(\u001B[49m\u001B[43m)\u001B[49m\u001B[43m,\u001B[49m\n\u001B[1;32m     78\u001B[0m \u001B[43m\u001B[49m\u001B[43m)\u001B[49m\n",
      "File \u001B[0;32m/opt/homebrew/Caskroom/miniforge/base/envs/py310/lib/python3.10/site-packages/openbb_provider/query_executor.py:77\u001B[0m, in \u001B[0;36mQueryExecutor.execute\u001B[0;34m(self, provider_name, model_name, params, credentials, **kwargs)\u001B[0m\n\u001B[1;32m     76\u001B[0m provider \u001B[38;5;241m=\u001B[39m \u001B[38;5;28mself\u001B[39m\u001B[38;5;241m.\u001B[39mget_provider(provider_name)\n\u001B[0;32m---> 77\u001B[0m \u001B[38;5;28;43mself\u001B[39;49m\u001B[38;5;241;43m.\u001B[39;49m\u001B[43mverify_credentials\u001B[49m\u001B[43m(\u001B[49m\u001B[43mprovider\u001B[49m\u001B[43m,\u001B[49m\u001B[43m \u001B[49m\u001B[43mcredentials\u001B[49m\u001B[43m)\u001B[49m\n\u001B[1;32m     78\u001B[0m fetcher \u001B[38;5;241m=\u001B[39m \u001B[38;5;28mself\u001B[39m\u001B[38;5;241m.\u001B[39mget_fetcher(provider, model_name)\n",
      "File \u001B[0;32m/opt/homebrew/Caskroom/miniforge/base/envs/py310/lib/python3.10/site-packages/openbb_provider/query_executor.py:47\u001B[0m, in \u001B[0;36mQueryExecutor.verify_credentials\u001B[0;34m(provider, credentials)\u001B[0m\n\u001B[1;32m     46\u001B[0m \u001B[38;5;28;01mif\u001B[39;00m c \u001B[38;5;129;01mnot\u001B[39;00m \u001B[38;5;129;01min\u001B[39;00m credentials \u001B[38;5;129;01mor\u001B[39;00m credential_value \u001B[38;5;129;01mis\u001B[39;00m \u001B[38;5;28;01mNone\u001B[39;00m:\n\u001B[0;32m---> 47\u001B[0m     \u001B[38;5;28;01mraise\u001B[39;00m ProviderError(\u001B[38;5;124mf\u001B[39m\u001B[38;5;124m\"\u001B[39m\u001B[38;5;124mMissing credential \u001B[39m\u001B[38;5;124m'\u001B[39m\u001B[38;5;132;01m{\u001B[39;00mc\u001B[38;5;132;01m}\u001B[39;00m\u001B[38;5;124m'\u001B[39m\u001B[38;5;124m.\u001B[39m\u001B[38;5;124m\"\u001B[39m)\n",
      "\u001B[0;31mProviderError\u001B[0m: Missing credential 'fred_api_key'.",
      "\nThe above exception was the direct cause of the following exception:\n",
      "\u001B[0;31mOpenBBError\u001B[0m                               Traceback (most recent call last)",
      "Cell \u001B[0;32mIn [14], line 2\u001B[0m\n\u001B[1;32m      1\u001B[0m \u001B[38;5;66;03m# Get the inflation rate in percentage points for 2022\u001B[39;00m\n\u001B[0;32m----> 2\u001B[0m inflation \u001B[38;5;241m=\u001B[39m \u001B[43mobb\u001B[49m\u001B[38;5;241;43m.\u001B[39;49m\u001B[43meconomy\u001B[49m\u001B[38;5;241;43m.\u001B[39;49m\u001B[43mcpi\u001B[49m\u001B[43m(\u001B[49m\n\u001B[1;32m      3\u001B[0m \u001B[43m    \u001B[49m\u001B[43m[\u001B[49m\u001B[38;5;124;43m\"\u001B[39;49m\u001B[38;5;124;43munited_states\u001B[39;49m\u001B[38;5;124;43m\"\u001B[39;49m\u001B[43m]\u001B[49m\u001B[43m,\u001B[49m\u001B[43m \u001B[49m\n\u001B[1;32m      4\u001B[0m \u001B[43m    \u001B[49m\u001B[43munits\u001B[49m\u001B[38;5;241;43m=\u001B[39;49m\u001B[38;5;124;43m\"\u001B[39;49m\u001B[38;5;124;43mgrowth_same\u001B[39;49m\u001B[38;5;124;43m\"\u001B[39;49m\u001B[43m,\u001B[49m\u001B[43m \u001B[49m\n\u001B[1;32m      5\u001B[0m \u001B[43m    \u001B[49m\u001B[43mstart_date\u001B[49m\u001B[38;5;241;43m=\u001B[39;49m\u001B[38;5;124;43m\"\u001B[39;49m\u001B[38;5;124;43m2022-03-01\u001B[39;49m\u001B[38;5;124;43m\"\u001B[39;49m\u001B[43m,\u001B[49m\u001B[43m \u001B[49m\n\u001B[1;32m      6\u001B[0m \u001B[43m    \u001B[49m\u001B[43mend_date\u001B[49m\u001B[38;5;241;43m=\u001B[39;49m\u001B[38;5;124;43m\"\u001B[39;49m\u001B[38;5;124;43m2023-03-01\u001B[39;49m\u001B[38;5;124;43m\"\u001B[39;49m\u001B[43m,\u001B[49m\u001B[43m \u001B[49m\n\u001B[1;32m      7\u001B[0m \u001B[43m    \u001B[49m\u001B[43mfrequency\u001B[49m\u001B[38;5;241;43m=\u001B[39;49m\u001B[38;5;124;43m\"\u001B[39;49m\u001B[38;5;124;43mmonthly\u001B[39;49m\u001B[38;5;124;43m\"\u001B[39;49m\n\u001B[1;32m      8\u001B[0m \u001B[43m)\u001B[49m\u001B[38;5;241m.\u001B[39mto_dataframe()\n\u001B[1;32m     10\u001B[0m \u001B[38;5;66;03m# We're only asking for one country, we can drop the country level index\u001B[39;00m\n\u001B[1;32m     11\u001B[0m inflation\u001B[38;5;241m.\u001B[39mcolumns \u001B[38;5;241m=\u001B[39m inflation\u001B[38;5;241m.\u001B[39mcolumns\u001B[38;5;241m.\u001B[39mdroplevel(\u001B[38;5;241m0\u001B[39m)\n",
      "File \u001B[0;32m/opt/homebrew/Caskroom/miniforge/base/envs/py310/lib/python3.10/site-packages/pydantic/decorator.py:40\u001B[0m, in \u001B[0;36mpydantic.decorator.validate_arguments.validate.wrapper_function\u001B[0;34m()\u001B[0m\n",
      "File \u001B[0;32m/opt/homebrew/Caskroom/miniforge/base/envs/py310/lib/python3.10/site-packages/pydantic/decorator.py:134\u001B[0m, in \u001B[0;36mpydantic.decorator.ValidatedFunction.call\u001B[0;34m()\u001B[0m\n",
      "File \u001B[0;32m/opt/homebrew/Caskroom/miniforge/base/envs/py310/lib/python3.10/site-packages/pydantic/decorator.py:206\u001B[0m, in \u001B[0;36mpydantic.decorator.ValidatedFunction.execute\u001B[0;34m()\u001B[0m\n",
      "File \u001B[0;32m/opt/homebrew/Caskroom/miniforge/base/envs/py310/lib/python3.10/site-packages/openbb/package/economy.py:183\u001B[0m, in \u001B[0;36mROUTER_economy.cpi\u001B[0;34m(self, countries, units, frequency, harmonized, start_date, end_date, provider, **kwargs)\u001B[0m\n\u001B[1;32m    134\u001B[0m \u001B[38;5;250m        \u001B[39m\u001B[38;5;124;03m\"\"\"CPI.\u001B[39;00m\n\u001B[1;32m    135\u001B[0m \n\u001B[1;32m    136\u001B[0m \u001B[38;5;124;03mParameters\u001B[39;00m\n\u001B[0;32m   (...)\u001B[0m\n\u001B[1;32m    174\u001B[0m \u001B[38;5;124;03m    CPI value on the date. \u001B[39;00m\n\u001B[1;32m    175\u001B[0m \u001B[38;5;124;03m\"\"\"\u001B[39;00m  \u001B[38;5;66;03m# noqa: E501\u001B[39;00m\n\u001B[1;32m    177\u001B[0m         inputs \u001B[38;5;241m=\u001B[39m filter_inputs(\n\u001B[1;32m    178\u001B[0m             provider_choices\u001B[38;5;241m=\u001B[39m{\u001B[38;5;124m\"\u001B[39m\u001B[38;5;124mprovider\u001B[39m\u001B[38;5;124m\"\u001B[39m: provider, },\n\u001B[1;32m    179\u001B[0m             standard_params\u001B[38;5;241m=\u001B[39m{\u001B[38;5;124m\"\u001B[39m\u001B[38;5;124mcountries\u001B[39m\u001B[38;5;124m\"\u001B[39m: countries, \u001B[38;5;124m\"\u001B[39m\u001B[38;5;124munits\u001B[39m\u001B[38;5;124m\"\u001B[39m: units, \u001B[38;5;124m\"\u001B[39m\u001B[38;5;124mfrequency\u001B[39m\u001B[38;5;124m\"\u001B[39m: frequency, \u001B[38;5;124m\"\u001B[39m\u001B[38;5;124mharmonized\u001B[39m\u001B[38;5;124m\"\u001B[39m: harmonized, \u001B[38;5;124m\"\u001B[39m\u001B[38;5;124mstart_date\u001B[39m\u001B[38;5;124m\"\u001B[39m: start_date, \u001B[38;5;124m\"\u001B[39m\u001B[38;5;124mend_date\u001B[39m\u001B[38;5;124m\"\u001B[39m: end_date, },\n\u001B[1;32m    180\u001B[0m             extra_params\u001B[38;5;241m=\u001B[39mkwargs,\n\u001B[1;32m    181\u001B[0m         )\n\u001B[0;32m--> 183\u001B[0m         \u001B[38;5;28;01mreturn\u001B[39;00m \u001B[38;5;28;43mself\u001B[39;49m\u001B[38;5;241;43m.\u001B[39;49m\u001B[43m_command_runner\u001B[49m\u001B[38;5;241;43m.\u001B[39;49m\u001B[43mrun\u001B[49m\u001B[43m(\u001B[49m\n\u001B[1;32m    184\u001B[0m \u001B[43m            \u001B[49m\u001B[38;5;124;43m\"\u001B[39;49m\u001B[38;5;124;43m/economy/cpi\u001B[39;49m\u001B[38;5;124;43m\"\u001B[39;49m\u001B[43m,\u001B[49m\n\u001B[1;32m    185\u001B[0m \u001B[43m            \u001B[49m\u001B[38;5;241;43m*\u001B[39;49m\u001B[38;5;241;43m*\u001B[39;49m\u001B[43minputs\u001B[49m\u001B[43m,\u001B[49m\n\u001B[1;32m    186\u001B[0m \u001B[43m        \u001B[49m\u001B[43m)\u001B[49m\n",
      "File \u001B[0;32m/opt/homebrew/Caskroom/miniforge/base/envs/py310/lib/python3.10/site-packages/openbb_core/app/command_runner.py:436\u001B[0m, in \u001B[0;36mCommandRunner.run\u001B[0;34m(self, route, user_settings, *args, **kwargs)\u001B[0m\n\u001B[1;32m    427\u001B[0m \u001B[38;5;28mself\u001B[39m\u001B[38;5;241m.\u001B[39m_user_settings \u001B[38;5;241m=\u001B[39m user_settings \u001B[38;5;129;01mor\u001B[39;00m \u001B[38;5;28mself\u001B[39m\u001B[38;5;241m.\u001B[39m_user_settings\n\u001B[1;32m    429\u001B[0m execution_context \u001B[38;5;241m=\u001B[39m ExecutionContext(\n\u001B[1;32m    430\u001B[0m     command_map\u001B[38;5;241m=\u001B[39m\u001B[38;5;28mself\u001B[39m\u001B[38;5;241m.\u001B[39m_command_map,\n\u001B[1;32m    431\u001B[0m     route\u001B[38;5;241m=\u001B[39mroute,\n\u001B[1;32m    432\u001B[0m     system_settings\u001B[38;5;241m=\u001B[39m\u001B[38;5;28mself\u001B[39m\u001B[38;5;241m.\u001B[39m_system_settings,\n\u001B[1;32m    433\u001B[0m     user_settings\u001B[38;5;241m=\u001B[39m\u001B[38;5;28mself\u001B[39m\u001B[38;5;241m.\u001B[39m_user_settings,\n\u001B[1;32m    434\u001B[0m )\n\u001B[0;32m--> 436\u001B[0m \u001B[38;5;28;01mreturn\u001B[39;00m \u001B[43mStaticCommandRunner\u001B[49m\u001B[38;5;241;43m.\u001B[39;49m\u001B[43mrun\u001B[49m\u001B[43m(\u001B[49m\n\u001B[1;32m    437\u001B[0m \u001B[43m    \u001B[49m\u001B[43mexecution_context\u001B[49m\u001B[43m,\u001B[49m\n\u001B[1;32m    438\u001B[0m \u001B[43m    \u001B[49m\u001B[38;5;241;43m*\u001B[39;49m\u001B[43margs\u001B[49m\u001B[43m,\u001B[49m\n\u001B[1;32m    439\u001B[0m \u001B[43m    \u001B[49m\u001B[38;5;241;43m*\u001B[39;49m\u001B[38;5;241;43m*\u001B[39;49m\u001B[43mkwargs\u001B[49m\u001B[43m,\u001B[49m\n\u001B[1;32m    440\u001B[0m \u001B[43m\u001B[49m\u001B[43m)\u001B[49m\n",
      "File \u001B[0;32m/opt/homebrew/Caskroom/miniforge/base/envs/py310/lib/python3.10/site-packages/openbb_core/app/command_runner.py:357\u001B[0m, in \u001B[0;36mStaticCommandRunner.run\u001B[0;34m(cls, execution_context, *args, **kwargs)\u001B[0m\n\u001B[1;32m    354\u001B[0m route \u001B[38;5;241m=\u001B[39m execution_context\u001B[38;5;241m.\u001B[39mroute\n\u001B[1;32m    356\u001B[0m \u001B[38;5;28;01mif\u001B[39;00m func \u001B[38;5;241m:=\u001B[39m command_map\u001B[38;5;241m.\u001B[39mget_command(route\u001B[38;5;241m=\u001B[39mroute):\n\u001B[0;32m--> 357\u001B[0m     obbject \u001B[38;5;241m=\u001B[39m \u001B[38;5;28;43mcls\u001B[39;49m\u001B[38;5;241;43m.\u001B[39;49m\u001B[43m__execute_func\u001B[49m\u001B[43m(\u001B[49m\n\u001B[1;32m    358\u001B[0m \u001B[43m        \u001B[49m\u001B[43mroute\u001B[49m\u001B[38;5;241;43m=\u001B[39;49m\u001B[43mroute\u001B[49m\u001B[43m,\u001B[49m\n\u001B[1;32m    359\u001B[0m \u001B[43m        \u001B[49m\u001B[43margs\u001B[49m\u001B[38;5;241;43m=\u001B[39;49m\u001B[43margs\u001B[49m\u001B[43m,\u001B[49m\u001B[43m  \u001B[49m\u001B[38;5;66;43;03m# type: ignore\u001B[39;49;00m\n\u001B[1;32m    360\u001B[0m \u001B[43m        \u001B[49m\u001B[43mexecution_context\u001B[49m\u001B[38;5;241;43m=\u001B[39;49m\u001B[43mexecution_context\u001B[49m\u001B[43m,\u001B[49m\n\u001B[1;32m    361\u001B[0m \u001B[43m        \u001B[49m\u001B[43mfunc\u001B[49m\u001B[38;5;241;43m=\u001B[39;49m\u001B[43mfunc\u001B[49m\u001B[43m,\u001B[49m\n\u001B[1;32m    362\u001B[0m \u001B[43m        \u001B[49m\u001B[43mkwargs\u001B[49m\u001B[38;5;241;43m=\u001B[39;49m\u001B[43mkwargs\u001B[49m\u001B[43m,\u001B[49m\n\u001B[1;32m    363\u001B[0m \u001B[43m    \u001B[49m\u001B[43m)\u001B[49m\n\u001B[1;32m    364\u001B[0m \u001B[38;5;28;01melse\u001B[39;00m:\n\u001B[1;32m    365\u001B[0m     \u001B[38;5;28;01mraise\u001B[39;00m \u001B[38;5;167;01mAttributeError\u001B[39;00m(\u001B[38;5;124mf\u001B[39m\u001B[38;5;124m\"\u001B[39m\u001B[38;5;124mInvalid command : route=\u001B[39m\u001B[38;5;132;01m{\u001B[39;00mroute\u001B[38;5;132;01m}\u001B[39;00m\u001B[38;5;124m\"\u001B[39m)\n",
      "File \u001B[0;32m/opt/homebrew/Caskroom/miniforge/base/envs/py310/lib/python3.10/site-packages/openbb_core/app/command_runner.py:326\u001B[0m, in \u001B[0;36mStaticCommandRunner.__execute_func\u001B[0;34m(cls, route, args, execution_context, func, kwargs)\u001B[0m\n\u001B[1;32m    317\u001B[0m         \u001B[38;5;28mcls\u001B[39m\u001B[38;5;241m.\u001B[39m__chart(\n\u001B[1;32m    318\u001B[0m             obbject\u001B[38;5;241m=\u001B[39mobbject,\n\u001B[1;32m    319\u001B[0m             user_settings\u001B[38;5;241m=\u001B[39muser_settings,\n\u001B[0;32m   (...)\u001B[0m\n\u001B[1;32m    322\u001B[0m             \u001B[38;5;241m*\u001B[39m\u001B[38;5;241m*\u001B[39mkwargs,\n\u001B[1;32m    323\u001B[0m         )\n\u001B[1;32m    325\u001B[0m \u001B[38;5;28;01mexcept\u001B[39;00m \u001B[38;5;167;01mException\u001B[39;00m \u001B[38;5;28;01mas\u001B[39;00m e:\n\u001B[0;32m--> 326\u001B[0m     \u001B[38;5;28;01mraise\u001B[39;00m OpenBBError(e) \u001B[38;5;28;01mfrom\u001B[39;00m \u001B[38;5;21;01me\u001B[39;00m\n\u001B[1;32m    327\u001B[0m \u001B[38;5;28;01mfinally\u001B[39;00m:\n\u001B[1;32m    328\u001B[0m     ls \u001B[38;5;241m=\u001B[39m LoggingService(\n\u001B[1;32m    329\u001B[0m         user_settings\u001B[38;5;241m=\u001B[39muser_settings, system_settings\u001B[38;5;241m=\u001B[39msystem_settings\n\u001B[1;32m    330\u001B[0m     )\n",
      "\u001B[0;31mOpenBBError\u001B[0m: Missing credential 'fred_api_key'."
     ]
    }
   ],
   "source": [
    "# Get the inflation rate in percentage points for 2022\n",
    "inflation = obb.economy.cpi(\n",
    "    [\"united_states\"], \n",
    "    units=\"growth_same\", \n",
    "    start_date=\"2022-03-01\", \n",
    "    end_date=\"2023-03-01\", \n",
    "    frequency=\"monthly\"\n",
    ").to_dataframe()\n",
    "\n",
    "# We're only asking for one country, we can drop the country level index\n",
    "inflation.columns = inflation.columns.droplevel(0)\n",
    "inflation = inflation[\"value\"].iloc[-1] / 100\n",
    "print(f\"Inflation: {inflation}\")"
   ],
   "metadata": {
    "collapsed": false,
    "ExecuteTime": {
     "end_time": "2023-09-24T02:33:05.724537Z",
     "start_time": "2023-09-24T02:33:05.651448Z"
    }
   },
   "id": "4f5b683f831fef08"
  },
  {
   "cell_type": "code",
   "execution_count": 23,
   "outputs": [
    {
     "name": "stdout",
     "output_type": "stream",
     "text": [
      "Inflation: 0.24649734497070314\n"
     ]
    }
   ],
   "source": [
    "cpi = Ticker(\"CPI\")\n",
    "inflation = cpi.history(start=\"2022-03-01\", end=\"2023-03-01\")\n",
    "inflation\n",
    "# inflation.columns = inflation.columns.droplevel(0)\n",
    "inflation = inflation[\"Open\"].iloc[-1] / 100\n",
    "print(f\"Inflation: {inflation}\")"
   ],
   "metadata": {
    "collapsed": false,
    "ExecuteTime": {
     "end_time": "2023-09-24T02:41:14.639843Z",
     "start_time": "2023-09-24T02:41:14.438615Z"
    }
   },
   "id": "a708087cd80f422e"
  },
  {
   "cell_type": "code",
   "execution_count": null,
   "outputs": [],
   "source": [],
   "metadata": {
    "collapsed": false
   },
   "id": "16ab1fb50a3b8b38"
  }
 ],
 "metadata": {
  "kernelspec": {
   "display_name": "Python 3",
   "language": "python",
   "name": "python3"
  },
  "language_info": {
   "codemirror_mode": {
    "name": "ipython",
    "version": 2
   },
   "file_extension": ".py",
   "mimetype": "text/x-python",
   "name": "python",
   "nbconvert_exporter": "python",
   "pygments_lexer": "ipython2",
   "version": "2.7.6"
  }
 },
 "nbformat": 4,
 "nbformat_minor": 5
}
