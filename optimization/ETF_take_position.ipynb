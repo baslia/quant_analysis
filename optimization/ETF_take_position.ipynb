{
 "cells": [
  {
   "metadata": {},
   "cell_type": "markdown",
   "source": "# What is the best day of the week to buy an ETF?",
   "id": "6aa69fb3003da8ba"
  },
  {
   "metadata": {
    "ExecuteTime": {
     "end_time": "2025-09-28T14:43:36.985939Z",
     "start_time": "2025-09-28T14:43:35.444240Z"
    }
   },
   "cell_type": "code",
   "source": [
    "import pandas as pd\n",
    "import numpy as np\n",
    "import yfinance as yf"
   ],
   "id": "556d8782a38ad5f7",
   "outputs": [],
   "execution_count": 1
  },
  {
   "metadata": {
    "ExecuteTime": {
     "end_time": "2025-09-28T14:44:19.671143Z",
     "start_time": "2025-09-28T14:44:18.728192Z"
    }
   },
   "cell_type": "code",
   "source": [
    "# Load the data\n",
    "etf_list = ['VXUS', 'VTI','DBC']\n",
    "results = pd.DataFrame()\n",
    "best_days_buy = []\n",
    "best_days_sell = []\n",
    "for etf in etf_list:\n",
    "    etf_data = yf.download(etf, period='90d')\n",
    "    etf_data['day_name'] = etf_data.index.day_name()\n",
    "    etf_data['evol'] = etf_data['Close']/etf_data['Open']\n",
    "    evol_by_day = etf_data.groupby('day_name').mean()['evol']\n",
    "    best_day_buy = evol_by_day.idxmax()\n",
    "    best_days_buy.append(best_day_buy)\n",
    "    best_day_sell = evol_by_day.idxmin()\n",
    "    best_days_sell.append(best_day_sell)\n",
    "    \n",
    "results['ETF'] = etf_list\n",
    "results['Best day buy'] = best_days_buy\n",
    "results['Best day sell'] = best_days_sell\n",
    "results"
   ],
   "id": "7a686bf89b43dd4c",
   "outputs": [
    {
     "name": "stderr",
     "output_type": "stream",
     "text": [
      "/var/folders/_n/nybmwjg90rxfzcynss3bqkr80000gp/T/ipykernel_33447/2154267223.py:7: FutureWarning: YF.download() has changed argument auto_adjust default to True\n",
      "  etf_data = yf.download(etf, period='90d')\n",
      "[*********************100%***********************]  1 of 1 completed\n",
      "/var/folders/_n/nybmwjg90rxfzcynss3bqkr80000gp/T/ipykernel_33447/2154267223.py:7: FutureWarning: YF.download() has changed argument auto_adjust default to True\n",
      "  etf_data = yf.download(etf, period='90d')\n",
      "[*********************100%***********************]  1 of 1 completed\n",
      "/var/folders/_n/nybmwjg90rxfzcynss3bqkr80000gp/T/ipykernel_33447/2154267223.py:7: FutureWarning: YF.download() has changed argument auto_adjust default to True\n",
      "  etf_data = yf.download(etf, period='90d')\n",
      "[*********************100%***********************]  1 of 1 completed\n"
     ]
    },
    {
     "data": {
      "text/plain": [
       "    ETF Best day buy Best day sell\n",
       "0  VXUS       Monday        Friday\n",
       "1   VTI       Monday     Wednesday\n",
       "2   DBC      Tuesday        Monday"
      ],
      "text/html": [
       "<div>\n",
       "<style scoped>\n",
       "    .dataframe tbody tr th:only-of-type {\n",
       "        vertical-align: middle;\n",
       "    }\n",
       "\n",
       "    .dataframe tbody tr th {\n",
       "        vertical-align: top;\n",
       "    }\n",
       "\n",
       "    .dataframe thead th {\n",
       "        text-align: right;\n",
       "    }\n",
       "</style>\n",
       "<table border=\"1\" class=\"dataframe\">\n",
       "  <thead>\n",
       "    <tr style=\"text-align: right;\">\n",
       "      <th></th>\n",
       "      <th>ETF</th>\n",
       "      <th>Best day buy</th>\n",
       "      <th>Best day sell</th>\n",
       "    </tr>\n",
       "  </thead>\n",
       "  <tbody>\n",
       "    <tr>\n",
       "      <th>0</th>\n",
       "      <td>VXUS</td>\n",
       "      <td>Monday</td>\n",
       "      <td>Friday</td>\n",
       "    </tr>\n",
       "    <tr>\n",
       "      <th>1</th>\n",
       "      <td>VTI</td>\n",
       "      <td>Monday</td>\n",
       "      <td>Wednesday</td>\n",
       "    </tr>\n",
       "    <tr>\n",
       "      <th>2</th>\n",
       "      <td>DBC</td>\n",
       "      <td>Tuesday</td>\n",
       "      <td>Monday</td>\n",
       "    </tr>\n",
       "  </tbody>\n",
       "</table>\n",
       "</div>"
      ]
     },
     "execution_count": 3,
     "metadata": {},
     "output_type": "execute_result"
    }
   ],
   "execution_count": 3
  },
  {
   "metadata": {
    "ExecuteTime": {
     "end_time": "2025-09-28T14:43:42.700390Z",
     "start_time": "2025-09-28T14:43:42.698888Z"
    }
   },
   "cell_type": "code",
   "source": "",
   "id": "e7ce7d140f0d0583",
   "outputs": [],
   "execution_count": null
  }
 ],
 "metadata": {
  "kernelspec": {
   "display_name": "Python 3",
   "language": "python",
   "name": "python3"
  },
  "language_info": {
   "codemirror_mode": {
    "name": "ipython",
    "version": 2
   },
   "file_extension": ".py",
   "mimetype": "text/x-python",
   "name": "python",
   "nbconvert_exporter": "python",
   "pygments_lexer": "ipython2",
   "version": "2.7.6"
  }
 },
 "nbformat": 4,
 "nbformat_minor": 5
}
