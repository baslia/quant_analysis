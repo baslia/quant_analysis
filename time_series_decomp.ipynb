{
 "cells": [
  {
   "cell_type": "code",
   "execution_count": 1,
   "id": "initial_id",
   "metadata": {
    "collapsed": true,
    "ExecuteTime": {
     "end_time": "2023-12-02T16:50:57.704912Z",
     "start_time": "2023-12-02T16:50:38.864404Z"
    }
   },
   "outputs": [],
   "source": [
    "import pandas as pd\n",
    "\n",
    "from statsmodels.tsa.seasonal import seasonal_decompose, STL\n",
    "from openbb_terminal.sdk import openbb"
   ]
  },
  {
   "cell_type": "code",
   "execution_count": 2,
   "outputs": [
    {
     "ename": "AttributeError",
     "evalue": "'EconomyRoot' object has no attribute 'unemp'",
     "output_type": "error",
     "traceback": [
      "\u001B[0;31m---------------------------------------------------------------------------\u001B[0m",
      "\u001B[0;31mAttributeError\u001B[0m                            Traceback (most recent call last)",
      "Cell \u001B[0;32mIn[2], line 1\u001B[0m\n\u001B[0;32m----> 1\u001B[0m df \u001B[38;5;241m=\u001B[39m \u001B[43mopenbb\u001B[49m\u001B[38;5;241;43m.\u001B[39;49m\u001B[43meconomy\u001B[49m\u001B[38;5;241;43m.\u001B[39;49m\u001B[43munemp\u001B[49m(\u001B[38;5;241m2010\u001B[39m)\n\u001B[1;32m      2\u001B[0m df \u001B[38;5;241m=\u001B[39m df\u001B[38;5;241m.\u001B[39mset_index(\u001B[38;5;124m\"\u001B[39m\u001B[38;5;124mdate\u001B[39m\u001B[38;5;124m\"\u001B[39m)[:\u001B[38;5;124m\"\u001B[39m\u001B[38;5;124m2019-12-31\u001B[39m\u001B[38;5;124m\"\u001B[39m]\u001B[38;5;241m.\u001B[39msort_index()\n",
      "File \u001B[0;32m/opt/homebrew/Caskroom/miniforge/base/envs/py310/lib/python3.10/site-packages/openbb_terminal/core/sdk/sdk_helpers.py:160\u001B[0m, in \u001B[0;36mCategory.__getattribute__\u001B[0;34m(self, name)\u001B[0m\n\u001B[1;32m    149\u001B[0m \u001B[38;5;28;01mdef\u001B[39;00m \u001B[38;5;21m__getattribute__\u001B[39m(\u001B[38;5;28mself\u001B[39m, name: \u001B[38;5;28mstr\u001B[39m):\n\u001B[1;32m    150\u001B[0m \u001B[38;5;250m    \u001B[39m\u001B[38;5;124;03m\"\"\"We override the __getattribute__ method and wrap all callable\u001B[39;00m\n\u001B[1;32m    151\u001B[0m \n\u001B[1;32m    152\u001B[0m \n\u001B[0;32m   (...)\u001B[0m\n\u001B[1;32m    157\u001B[0m \n\u001B[1;32m    158\u001B[0m \u001B[38;5;124;03m    \"\"\"\u001B[39;00m\n\u001B[0;32m--> 160\u001B[0m     attr \u001B[38;5;241m=\u001B[39m \u001B[38;5;28;43msuper\u001B[39;49m\u001B[43m(\u001B[49m\u001B[43m)\u001B[49m\u001B[38;5;241;43m.\u001B[39;49m\u001B[38;5;21;43m__getattribute__\u001B[39;49m\u001B[43m(\u001B[49m\u001B[43mname\u001B[49m\u001B[43m)\u001B[49m\n\u001B[1;32m    162\u001B[0m     \u001B[38;5;28;01mif\u001B[39;00m \u001B[38;5;28misinstance\u001B[39m(attr, Operation) \u001B[38;5;129;01mor\u001B[39;00m name\u001B[38;5;241m.\u001B[39mstartswith(\u001B[38;5;124m\"\u001B[39m\u001B[38;5;124m__\u001B[39m\u001B[38;5;124m\"\u001B[39m):\n\u001B[1;32m    163\u001B[0m         \u001B[38;5;28;01mreturn\u001B[39;00m attr\n",
      "\u001B[0;31mAttributeError\u001B[0m: 'EconomyRoot' object has no attribute 'unemp'"
     ]
    }
   ],
   "source": [
    "df = openbb.economy.unemp(2010)\n",
    "df = df.set_index(\"date\")[:\"2019-12-31\"].sort_index()"
   ],
   "metadata": {
    "collapsed": false,
    "ExecuteTime": {
     "end_time": "2023-12-02T16:51:12.118119Z",
     "start_time": "2023-12-02T16:51:11.649368Z"
    }
   },
   "id": "4a1fe821fcee656a"
  },
  {
   "cell_type": "code",
   "execution_count": 10,
   "outputs": [
    {
     "data": {
      "text/plain": "Use either PC_CHGPP (percentage change previous quarter), PC_CHGPY (percentage change from the same quarter of the previous year) or IDX (index with base at 2015) for units\n",
      "text/html": "<pre style=\"white-space:pre;overflow-x:auto;line-height:normal;font-family:Menlo,'DejaVu Sans Mono',consolas,'Courier New',monospace\">Use either PC_CHGPP (percentage change previous quarter), PC_CHGPY (percentage change from the same quarter of the previous year) or IDX (index with base at 2015) for units\n</pre>\n"
     },
     "metadata": {},
     "output_type": "display_data"
    }
   ],
   "source": [
    "df[\"rolling_mean\"] = df[\"unemp\"].rolling(window=12).mean()\n",
    "df[\"rolling_std\"] = df[\"unemp\"].rolling(window=12).std()\n",
    "df.plot(title=\"Unemployment rate\")"
   ],
   "metadata": {
    "collapsed": false,
    "ExecuteTime": {
     "end_time": "2023-12-02T16:56:20.334562Z",
     "start_time": "2023-12-02T16:56:20.325661Z"
    }
   },
   "id": "7600348d912495c1"
  },
  {
   "cell_type": "code",
   "execution_count": 12,
   "outputs": [
    {
     "data": {
      "text/plain": "\u001B[31mAPI_KEY_QUANDL not defined. Set the API key under keys menu.\u001B[0m\n",
      "text/html": "<pre style=\"white-space:pre;overflow-x:auto;line-height:normal;font-family:Menlo,'DejaVu Sans Mono',consolas,'Courier New',monospace\"><span style=\"color: #800000; text-decoration-color: #800000\">API_KEY_QUANDL not defined. Set the API key under keys menu.</span>\n</pre>\n"
     },
     "metadata": {},
     "output_type": "display_data"
    }
   ],
   "source": [
    "decomposition_results = seasonal_decompose(\n",
    "    df[\"unemp\"], \n",
    "    model=\"additive\"\n",
    ").plot()"
   ],
   "metadata": {
    "collapsed": false,
    "ExecuteTime": {
     "end_time": "2023-12-02T16:56:58.905687Z",
     "start_time": "2023-12-02T16:56:58.897910Z"
    }
   },
   "id": "8b3c68cea5e57f36"
  },
  {
   "cell_type": "code",
   "execution_count": null,
   "outputs": [],
   "source": [
    "stl_decomposition = STL(df[[\"unemp\"]]).fit()\n",
    "stl_decomposition.plot().suptitle(\"STL Decomposition\");"
   ],
   "metadata": {
    "collapsed": false
   },
   "id": "c587f5dab7f608a9"
  }
 ],
 "metadata": {
  "kernelspec": {
   "display_name": "Python 3",
   "language": "python",
   "name": "python3"
  },
  "language_info": {
   "codemirror_mode": {
    "name": "ipython",
    "version": 2
   },
   "file_extension": ".py",
   "mimetype": "text/x-python",
   "name": "python",
   "nbconvert_exporter": "python",
   "pygments_lexer": "ipython2",
   "version": "2.7.6"
  }
 },
 "nbformat": 4,
 "nbformat_minor": 5
}
